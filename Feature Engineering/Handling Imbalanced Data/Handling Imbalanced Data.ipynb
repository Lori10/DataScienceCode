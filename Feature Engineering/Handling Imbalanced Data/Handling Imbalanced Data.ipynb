{
 "cells": [
  {
   "cell_type": "markdown",
   "metadata": {},
   "source": [
    "# Techniques to handle imbalanced data"
   ]
  },
  {
   "cell_type": "markdown",
   "metadata": {},
   "source": [
    "1. Oversampling using SMOTE, RandomOverSampler, ADASYN etc.\n",
    "2. Undersampling using NearMiss, RandomUnderSampler, ENN, TomekLinks etc.\n",
    "3. Combination of Over- and undersampling using SMOTETomek, SMOTEENN\n",
    "3. Tuning XGBoost with scale_pos_weight attribute\n",
    "4. Tuning RandomForest with class_weight attribute\n",
    "5. Ensemble Methods : A) EasyEnsembleClassifier, B) Balanced Bagging Classifier, C) Balanced RandomForest Classifier, D) ROSBosstClassifier.\n",
    "6. Logistic Regression : tuning the threshold\n",
    "7. Selecting the right performance metrics like auc_score, f1_score, balanced accuracy, confusion matrix etc."
   ]
  },
  {
   "cell_type": "markdown",
   "metadata": {},
   "source": [
    "**Note:**<br>\n",
    "* Usually tuning these ensembling techniques does not improve model performance at all.\n",
    "* The metric we use in imbalanced data is not accuracy but roc_auc_score, f1_score, balanced accuracy, confusion matrix, recall , precision etc."
   ]
  },
  {
   "cell_type": "markdown",
   "metadata": {},
   "source": [
    "**Reference :** <br>\n",
    "https://www.analyticsvidhya.com/blog/2017/03/imbalanced-data-classification/ <br>\n",
    "https://towardsdatascience.com/handling-imbalanced-datasets-in-machine-learning-7a0e84220f28 <br>"
   ]
  },
  {
   "cell_type": "code",
   "execution_count": 1,
   "metadata": {},
   "outputs": [],
   "source": [
    "from sklearn.datasets import make_classification\n",
    "from sklearn.model_selection import train_test_split\n",
    "import pandas as pd\n",
    "import numpy as np\n",
    "\n",
    "X, y = make_classification(n_samples=3000, weights=[0.82, 0.18], flip_y=0, random_state=1)\n",
    "X_train, X_test, y_train, y_test = train_test_split(X, y, test_size=0.2, stratify=y, random_state=1)"
   ]
  },
  {
   "cell_type": "markdown",
   "metadata": {},
   "source": [
    "* These functions are needed to run the code."
   ]
  },
  {
   "cell_type": "code",
   "execution_count": 12,
   "metadata": {},
   "outputs": [],
   "source": [
    "from matplotlib.legend_handler import HandlerLine2D\n",
    "from sklearn.model_selection import cross_validate\n",
    "from sklearn.model_selection import cross_val_score\n",
    "import matplotlib.pyplot as plt\n",
    "import numpy as np\n",
    "import os\n",
    "import shutil\n",
    "\n",
    "def tuning_single_hyperparameter(model, path, X_train, y_train, hyperparameter_name, hyperparameter_space, scoring, \n",
    "                                 cv=5, verbose=False, graph=True):\n",
    "    try:\n",
    "        print('Entered function tuning_single_hyperparameter.')\n",
    "        \n",
    "        parent_path = 'Single_Hyperparameter_Tuning/'\n",
    "        if os.path.exists(parent_path) == False:\n",
    "            os.mkdir(parent_path)\n",
    "        \n",
    "        \n",
    "        model_path = parent_path + path \n",
    "        if os.path.exists(model_path) == False:\n",
    "            os.mkdir(model_path)\n",
    "            \n",
    "\n",
    "        \n",
    "        train_scores = []\n",
    "        validation_scores = []\n",
    "        \n",
    "\n",
    "        #max_depth = [3, 5, 7, 9, 11, 13, 15]\n",
    "        for x in hyperparameter_space:\n",
    "            dic = {hyperparameter_name : x}\n",
    "            model.set_params(**dic)\n",
    "            scores = cross_validate(model, X_train, y_train, scoring=scoring,\n",
    "                                  cv=cv, return_train_score=True, n_jobs=-1, verbose=verbose)\n",
    "    \n",
    "            train_scores.append(np.mean(scores['train_score']))\n",
    "            validation_scores.append(np.mean(scores['test_score']))\n",
    "        \n",
    "        \n",
    "            \n",
    "        if graph:\n",
    "        \n",
    "            line1, = plt.plot(hyperparameter_space, train_scores, 'b', label='Train AUC')\n",
    "            line2, = plt.plot(hyperparameter_space, validation_scores, 'r', label='Validation AUC')\n",
    "            plt.legend(handler_map={line1: HandlerLine2D(numpoints=2)})\n",
    "            plt.ylabel(scoring)\n",
    "            plt.xlabel(hyperparameter_name)\n",
    "            plt.savefig(model_path + hyperparameter_name + '_graph.jpg')\n",
    "            plt.show()\n",
    "        \n",
    "            print('Function tuning_single_hyperparameter Completed Successfully. Exited this function.')\n",
    "            return train_scores, validation_scores \n",
    "        else:\n",
    "            print('Function tuning_single_hyperparameter Completed Successfully. Exited this function.')\n",
    "            return train_scores, validation_scores\n",
    "        \n",
    "    except Exception as e:\n",
    "        print('Error occured in function tuning_single_hyperparameter. Error Message : ' + str(e))"
   ]
  },
  {
   "cell_type": "code",
   "execution_count": 13,
   "metadata": {},
   "outputs": [],
   "source": [
    "def train_model(model, X_train, y_train):\n",
    "    try:\n",
    "        print('Entered the function train_model')\n",
    "        model.fit(X_train, y_train)\n",
    "        \n",
    "        print('Function train_model Completed Successfully! Exited this function.')\n",
    "        return model\n",
    "    except Exception as e:\n",
    "        print('Error occured in function train_model. Error Messaeg : ' + str(e))"
   ]
  },
  {
   "cell_type": "code",
   "execution_count": 14,
   "metadata": {},
   "outputs": [],
   "source": [
    "from sklearn.metrics import roc_auc_score\n",
    "from sklearn.metrics import plot_confusion_matrix, classification_report\n",
    "import os\n",
    "import shutil\n",
    "import matplotlib.pyplot as plt\n",
    "\n",
    "def evaluate_model_classification(model, path, model_name, X, y):\n",
    "    try:\n",
    "        print('Entered function evaluate_model_classification.')\n",
    "        \n",
    "        pred = model.predict(X)\n",
    "        score = roc_auc_score(y, pred)  # scoring is chosen based on the problem statement. In this case we use auc score.\n",
    "            \n",
    "        parent_path = model_name + '_ConfusionMatrices/'\n",
    "        if os.path.exists(parent_path) == False:\n",
    "            os.mkdir(parent_path)\n",
    "        \n",
    "            \n",
    "        model_path = parent_path + path \n",
    "        if os.path.exists(model_path):\n",
    "            shutil.rmtree(model_path, ignore_errors=False, onerror=None)\n",
    "            os.mkdir(model_path)\n",
    "        else:\n",
    "            os.mkdir(model_path)\n",
    "            \n",
    "        print(classification_report(y, pred))\n",
    "        plt.figure(figsize=(15,12))\n",
    "        plot_confusion_matrix(model, X, y)\n",
    "        plt.savefig(model_path+'confusion_matrix.jpg')\n",
    "        \n",
    "        print('Function evaluate_model_classification Completed Successfully. Exited this function')\n",
    "        \n",
    "        return score\n",
    "    \n",
    "    except Exception as e:\n",
    "        print('Error occured in function evaluate_model_classification. Error Message : '+str(e))"
   ]
  },
  {
   "cell_type": "code",
   "execution_count": 15,
   "metadata": {},
   "outputs": [],
   "source": [
    "from sklearn.model_selection import cross_val_score\n",
    "\n",
    "def evaluate_model_cross_validation(model, X_train, y_train, scoring, cv=5, verbose=False):\n",
    "    try:\n",
    "        print('Entered function evaluate_model_cross_validation.')\n",
    "        scores = cross_val_score(model, X_train, y_train, scoring=scoring, cv=cv, n_jobs=-1, verbose=verbose)\n",
    "    \n",
    "        print('Function evaluate_model_cross_validation Completed Successfully.Exited this function.')\n",
    "        \n",
    "    except Exception as e:\n",
    "        print('Error occured in function evaluate_model_cross_validation. Error Message : '+str(e))\n",
    "    return scores"
   ]
  },
  {
   "cell_type": "code",
   "execution_count": 16,
   "metadata": {},
   "outputs": [],
   "source": [
    "from sklearn.model_selection import RandomizedSearchCV\n",
    "\n",
    "def HyperparameterTuning_RandomizedSearchCV(X_train, y_train, model, params, scoring, n_iter=20, cv=5, verbose=False):\n",
    "    try:\n",
    "        print('Entered the function HyperparameterTuning_RandomizedSearchCV.')\n",
    "        \n",
    "        search = RandomizedSearchCV(model, params, n_iter=n_iter, scoring=scoring, \n",
    "                                cv=cv, n_jobs=-1, verbose=verbose, random_state=1)\n",
    "    \n",
    "        \n",
    "        search.fit(X_train, y_train)\n",
    "        model.set_params(**search.best_params_)\n",
    "    \n",
    "        dic = {'tuned_model' : model,\n",
    "               'best_hyperparameters' : search.best_params_,\n",
    "               'best_cv_score' : search.best_score_}\n",
    "        \n",
    "        print('Function HyperparameterTuning_RandomizedSearchCV Completed Successfully! Exited this function.')\n",
    "        return dic\n",
    "    \n",
    "    except Exception as e:\n",
    "        print('Error occured in function HyperparameterTuning_RandomizedSearchCV. Error message : ' + str(e))"
   ]
  },
  {
   "cell_type": "code",
   "execution_count": 18,
   "metadata": {},
   "outputs": [],
   "source": [
    "from sklearn.base import clone\n",
    "import numpy as np\n",
    "from sklearn import tree\n",
    "import matplotlib.pyplot as plt\n",
    "import os\n",
    "import shutil\n",
    "\n",
    "def best_single_model_RandomizedSearchCV(X_train, y_train, X_test, y_test, model_name, defaultModel, params, \n",
    "                                         cv_scoring, cv_kfold=5, cv_n_iter=20):\n",
    "    \n",
    "    try:\n",
    "        print('Entered function best_single_model_RandomizedSearchCV. ')        \n",
    "            \n",
    "        # create copies of default model object to avoid unwanted changes\n",
    "        def_model = clone(defaultModel)\n",
    "        tun_model = clone(defaultModel)\n",
    "    \n",
    "        # 1. Default Model   \n",
    "        # A) Evaluate model using cross validation\n",
    "        default_model_cv_scores = evaluate_model_cross_validation(def_model, X_train, y_train, scoring=cv_scoring,\n",
    "                                                                 cv=cv_kfold)\n",
    "        default_model_cv_mean_score = np.mean(default_model_cv_scores)\n",
    "        \n",
    "        # B) Train KNN model with default hyperparameters\n",
    "        default_model = train_model(def_model, X_train, y_train)\n",
    "    \n",
    "        # C) evaluate the model on test set and training set\n",
    "        print(f'Default {model_name} Model Performance on TEST SET : ')\n",
    "        Path_DefaultModel_TestData = 'DefaultModel_TestData_ConfusionMatrix/'\n",
    "        default_model_test_score = evaluate_model_classification(default_model, Path_DefaultModel_TestData, model_name, X_test, y_test)\n",
    "        \n",
    "        print(f'Default {model_name} Model Performance on TRAINING SET : ')\n",
    "        Path_DefaultModel_TrainingData = 'DefaultModel_TrainingData_ConfusionMatrix/'\n",
    "        default_model_training_score = evaluate_model_classification(default_model, Path_DefaultModel_TrainingData, model_name,\n",
    "                                                      X_train, y_train)\n",
    "    \n",
    "        \n",
    "        # 2. Tuned Model\n",
    "        # If we want to use Optuna to tune Hyperparameters we call model_optuna function\n",
    "        # A) Tune the model\n",
    "        dic = HyperparameterTuning_RandomizedSearchCV(X_train=X_train, y_train=y_train, model=tun_model, \n",
    "                                       params=params, n_iter=cv_n_iter, scoring=cv_scoring, cv=cv_kfold)\n",
    "        tunedModel = dic['tuned_model']\n",
    "        best_params = dic['best_hyperparameters']\n",
    "        tuned_model_cv_mean_score = dic['best_cv_score']\n",
    "        \n",
    "        # B) Calculate the cross validation scores and mean on training set\n",
    "        tuned_model_cv_scores = evaluate_model_cross_validation(tunedModel, X_train, y_train, scoring=cv_scoring,\n",
    "                                                                cv=cv_kfold)\n",
    "        \n",
    "        # B) Train the tuned model on training set\n",
    "        tuned_model = train_model(tunedModel, X_train, y_train)\n",
    "        \n",
    "        # C) Evaluate the model on test set and training set\n",
    "        print(f'Tuned Model {model_name} Performance on TEST SET : ')\n",
    "        Path_TunedModel_TestData = 'TunedModel_TestData_ConfusionMatrix/'\n",
    "        tuned_model_test_score = evaluate_model_classification(tuned_model, Path_TunedModel_TestData, model_name, X_test, y_test)\n",
    "        \n",
    "        print(f'Tuned Model {model_name} Performance on TRAINING SET : ')\n",
    "        Path_TunedModel_TrainingData = 'TunedModel_TrainingData_ConfusionMatrix/'\n",
    "        tuned_model_training_score = evaluate_model_classification(tuned_model, Path_TunedModel_TrainingData,\n",
    "                                                    model_name, X_train, y_train)\n",
    "        \n",
    "        # Find the best model with best score\n",
    "        if tuned_model_test_score >= default_model_test_score:\n",
    "            best_model_name = 'Tuned Model'\n",
    "            best_model_object = tuned_model\n",
    "            \n",
    "        else:\n",
    "            best_model_name = 'Default Model'\n",
    "            best_model_object = default_model\n",
    "    \n",
    "        model_infos = {'Model Name' : model_name,\n",
    "                       'Default Model Object' : default_model,\n",
    "                       'Default Model Test Score' : default_model_test_score,\n",
    "                       'Default Model Training Score' : default_model_training_score,\n",
    "                       'Default Model CV Mean Score' : default_model_cv_mean_score,\n",
    "                       'Default Model CV Scores' : default_model_cv_scores,\n",
    "                       'Tuned Model Object' : tuned_model,\n",
    "                       'Best Hyperparameters' : best_params,\n",
    "                       'Tuned Model CV Mean Score' : tuned_model_cv_mean_score,\n",
    "                       'Tuned Model CV Scores' : tuned_model_cv_scores,\n",
    "                       'Tuned Model Test Score' : tuned_model_test_score,\n",
    "                       'Tuned Model Training Score' : tuned_model_training_score,\n",
    "                       'Final Best Model Name' : best_model_name,\n",
    "                       'Final Best Test Score' : max(tuned_model_test_score, default_model_test_score),\n",
    "                       'Final Best Model Object' : best_model_object}\n",
    "        \n",
    "        \n",
    "#         if model_name == 'DecisionTreeClassifier':\n",
    "#             # Show default DecisionTree\n",
    "#             plt.figure(figsize=(29,15))\n",
    "#             tree.plot_tree(default_model, filled=True)\n",
    "            \n",
    "#             path = 'DecisionTree/'\n",
    "#             if os.path.exists(path):\n",
    "#                 shutil.rmtree(path, ignore_errors=False, onerror=None)\n",
    "#                 os.mkdir(path)\n",
    "            \n",
    "#             # Save the default decision tree figure\n",
    "#             plt.savefig(path + 'default_decisiontree.jpg')\n",
    "            \n",
    "#             # Show Tuned Decision Tree\n",
    "#             plt.figure(figsize=(20,15))\n",
    "#             tree.plot_tree(tuned_model, filled=True)\n",
    "#             # Save tuned decision tree figure\n",
    "#             plt.savefig(path + 'tuned_decisiontree.jpg')\n",
    "                \n",
    "        \n",
    "        print('Function best_single_model_RandomizedSearchCV Completed Successfully. Exited this function.')\n",
    "        return model_infos\n",
    "    \n",
    "        \n",
    "    except Exception as e:\n",
    "        print('Error occured in function best_single_model_RandomizedSearchCV. Error message : ' + str(e))"
   ]
  },
  {
   "cell_type": "markdown",
   "metadata": {},
   "source": [
    "### 1. Oversampling using SMOTE, RandomOverSampler, ADASYN etc."
   ]
  },
  {
   "cell_type": "markdown",
   "metadata": {},
   "source": [
    " **How it works ?** <br>\n",
    "Oversampling is a technique that generates synthetic data points from minority class to balance the data. \n",
    "For example : SMOTE uses K nearest neighbor algorithm to create synthetic minority class data points."
   ]
  },
  {
   "cell_type": "markdown",
   "metadata": {},
   "source": [
    "**Advantages and Disadvantages** <br>\n",
    "* A advantage of oversampling is that unlike under sampling this method leads to no information loss und usually outperforms under sampling.\n",
    "* A disadvantage of oversampling is that we can overfit to the training set since it replicates the minority class events."
   ]
  },
  {
   "cell_type": "markdown",
   "metadata": {},
   "source": [
    "**Note:**<br>\n",
    "* We can use oversampling with any kind of ML algorithm.\n",
    "* SMOTE is not very effective for high dimensional data"
   ]
  },
  {
   "cell_type": "code",
   "execution_count": 19,
   "metadata": {},
   "outputs": [],
   "source": [
    "from xgboost import XGBClassifier\n",
    "from imblearn.pipeline import Pipeline\n",
    "from imblearn.over_sampling import SMOTE"
   ]
  },
  {
   "cell_type": "code",
   "execution_count": 20,
   "metadata": {},
   "outputs": [
    {
     "name": "stdout",
     "output_type": "stream",
     "text": [
      "Entered function tuning_single_hyperparameter.\n"
     ]
    },
    {
     "data": {
      "image/png": "[encoded data removed]",
      "text/plain": [
       "<Figure size 432x288 with 1 Axes>"
      ]
     },
     "metadata": {
      "needs_background": "light"
     },
     "output_type": "display_data"
    },
    {
     "name": "stdout",
     "output_type": "stream",
     "text": [
      "Function tuning_single_hyperparameter Completed Successfully. Exited this function.\n",
      "Sampling Strategy : 0.2 - Train Score : nan , Validation Score : nan\n",
      "Sampling Strategy : 0.36 - Train Score : 1.0 , Validation Score : 0.9923442119704461\n",
      "Sampling Strategy : 0.52 - Train Score : 1.0 , Validation Score : 0.9931575564272757\n",
      "Sampling Strategy : 0.6799999999999999 - Train Score : 1.0 , Validation Score : 0.9914198361727073\n",
      "Sampling Strategy : 0.8400000000000001 - Train Score : 1.0 , Validation Score : 0.991799009882062\n",
      "Sampling Strategy : 1.0 - Train Score : 1.0 , Validation Score : 0.9926328707210595\n"
     ]
    }
   ],
   "source": [
    "pipeline = Pipeline([('smote' , SMOTE(random_state=1)),\n",
    "                     ('estimator', XGBClassifier(random_state=1))])\n",
    "\n",
    "space = np.linspace(0.2, 1, 6)\n",
    "train_scores, val_scores = tuning_single_hyperparameter(pipeline, 'XGBoost/', X_train, y_train,\n",
    "                                                        'smote__sampling_strategy', space, 'roc_auc',  5)\n",
    "\n",
    "for x, train_score, val_score in zip(space, train_scores, val_scores):\n",
    "    print(f'Sampling Strategy : {x} - Train Score : {train_score} , Validation Score : {val_score}')"
   ]
  },
  {
   "cell_type": "code",
   "execution_count": 21,
   "metadata": {},
   "outputs": [
    {
     "name": "stdout",
     "output_type": "stream",
     "text": [
      "Entered function tuning_single_hyperparameter.\n"
     ]
    },
    {
     "data": {
      "image/png": "[encoded data removed]",
      "text/plain": [
       "<Figure size 432x288 with 1 Axes>"
      ]
     },
     "metadata": {
      "needs_background": "light"
     },
     "output_type": "display_data"
    },
    {
     "name": "stdout",
     "output_type": "stream",
     "text": [
      "Function tuning_single_hyperparameter Completed Successfully. Exited this function.\n",
      "Nr Estimators : 50 - Train Score : 1.0 , Validation Score : 0.992987179167012\n",
      "Nr Estimators : 100 - Train Score : 1.0 , Validation Score : 0.9926328707210595\n",
      "Nr Estimators : 300 - Train Score : 1.0 , Validation Score : 0.992303444197583\n",
      "Nr Estimators : 500 - Train Score : 1.0 , Validation Score : 0.9922386227948096\n",
      "Nr Estimators : 700 - Train Score : 1.0 , Validation Score : 0.9922211273154347\n",
      "Nr Estimators : 900 - Train Score : 1.0 , Validation Score : 0.9922447372788392\n"
     ]
    }
   ],
   "source": [
    "pipeline = Pipeline([('smote' , SMOTE(random_state=1)),\n",
    "                     ('estimator', XGBClassifier(random_state=1))])\n",
    "\n",
    "space = [50, 100, 300, 500, 700, 900]\n",
    "train_scores, val_scores = tuning_single_hyperparameter(pipeline, 'XGBoost/', X_train, y_train,\n",
    "                                                        'estimator__n_estimators', space, 'roc_auc',  5)\n",
    "\n",
    "for x, train_score, val_score in zip(space, train_scores, val_scores):\n",
    "    print(f'Nr Estimators : {x} - Train Score : {train_score} , Validation Score : {val_score}')"
   ]
  },
  {
   "cell_type": "code",
   "execution_count": 23,
   "metadata": {},
   "outputs": [
    {
     "name": "stdout",
     "output_type": "stream",
     "text": [
      "Entered function best_single_model_RandomizedSearchCV. \n",
      "Entered function evaluate_model_cross_validation.\n",
      "Function evaluate_model_cross_validation Completed Successfully.Exited this function.\n",
      "Entered the function train_model\n",
      "[00:14:46] WARNING: C:/Users/Administrator/workspace/xgboost-win64_release_1.4.0/src/learner.cc:1095: Starting in XGBoost 1.3.0, the default evaluation metric used with the objective 'binary:logistic' was changed from 'error' to 'logloss'. Explicitly set eval_metric if you'd like to restore the old behavior.\n"
     ]
    },
    {
     "name": "stderr",
     "output_type": "stream",
     "text": [
      "C:\\Anaconda3\\lib\\site-packages\\xgboost\\sklearn.py:1146: UserWarning: The use of label encoder in XGBClassifier is deprecated and will be removed in a future release. To remove this warning, do the following: 1) Pass option use_label_encoder=False when constructing XGBClassifier object; and 2) Encode your labels (y) as integers starting with 0, i.e. 0, 1, 2, ..., [num_class - 1].\n",
      "  warnings.warn(label_encoder_deprecation_msg, UserWarning)\n"
     ]
    },
    {
     "name": "stdout",
     "output_type": "stream",
     "text": [
      "Function train_model Completed Successfully! Exited this function.\n",
      "Default XGBoostClassifier Model Performance on TEST SET : \n",
      "Entered function evaluate_model_classification.\n",
      "              precision    recall  f1-score   support\n",
      "\n",
      "           0       0.99      0.98      0.98       492\n",
      "           1       0.90      0.94      0.92       108\n",
      "\n",
      "    accuracy                           0.97       600\n",
      "   macro avg       0.95      0.96      0.95       600\n",
      "weighted avg       0.97      0.97      0.97       600\n",
      "\n",
      "Function evaluate_model_classification Completed Successfully. Exited this function\n",
      "Default XGBoostClassifier Model Performance on TRAINING SET : \n",
      "Entered function evaluate_model_classification.\n",
      "              precision    recall  f1-score   support\n",
      "\n",
      "           0       1.00      1.00      1.00      1968\n",
      "           1       1.00      1.00      1.00       432\n",
      "\n",
      "    accuracy                           1.00      2400\n",
      "   macro avg       1.00      1.00      1.00      2400\n",
      "weighted avg       1.00      1.00      1.00      2400\n",
      "\n",
      "Function evaluate_model_classification Completed Successfully. Exited this function\n",
      "Entered the function HyperparameterTuning_RandomizedSearchCV.\n"
     ]
    },
    {
     "name": "stderr",
     "output_type": "stream",
     "text": [
      "C:\\Anaconda3\\lib\\site-packages\\xgboost\\sklearn.py:1146: UserWarning: The use of label encoder in XGBClassifier is deprecated and will be removed in a future release. To remove this warning, do the following: 1) Pass option use_label_encoder=False when constructing XGBClassifier object; and 2) Encode your labels (y) as integers starting with 0, i.e. 0, 1, 2, ..., [num_class - 1].\n",
      "  warnings.warn(label_encoder_deprecation_msg, UserWarning)\n"
     ]
    },
    {
     "name": "stdout",
     "output_type": "stream",
     "text": [
      "[00:14:53] WARNING: C:/Users/Administrator/workspace/xgboost-win64_release_1.4.0/src/learner.cc:1095: Starting in XGBoost 1.3.0, the default evaluation metric used with the objective 'binary:logistic' was changed from 'error' to 'logloss'. Explicitly set eval_metric if you'd like to restore the old behavior.\n",
      "Function HyperparameterTuning_RandomizedSearchCV Completed Successfully! Exited this function.\n",
      "Entered function evaluate_model_cross_validation.\n",
      "Function evaluate_model_cross_validation Completed Successfully.Exited this function.\n",
      "Entered the function train_model\n",
      "[00:14:54] WARNING: C:/Users/Administrator/workspace/xgboost-win64_release_1.4.0/src/learner.cc:1095: Starting in XGBoost 1.3.0, the default evaluation metric used with the objective 'binary:logistic' was changed from 'error' to 'logloss'. Explicitly set eval_metric if you'd like to restore the old behavior.\n"
     ]
    },
    {
     "name": "stderr",
     "output_type": "stream",
     "text": [
      "C:\\Anaconda3\\lib\\site-packages\\xgboost\\sklearn.py:1146: UserWarning: The use of label encoder in XGBClassifier is deprecated and will be removed in a future release. To remove this warning, do the following: 1) Pass option use_label_encoder=False when constructing XGBClassifier object; and 2) Encode your labels (y) as integers starting with 0, i.e. 0, 1, 2, ..., [num_class - 1].\n",
      "  warnings.warn(label_encoder_deprecation_msg, UserWarning)\n"
     ]
    },
    {
     "name": "stdout",
     "output_type": "stream",
     "text": [
      "Function train_model Completed Successfully! Exited this function.\n",
      "Tuned Model XGBoostClassifier Performance on TEST SET : \n",
      "Entered function evaluate_model_classification.\n",
      "              precision    recall  f1-score   support\n",
      "\n",
      "           0       0.98      0.98      0.98       492\n",
      "           1       0.91      0.92      0.91       108\n",
      "\n",
      "    accuracy                           0.97       600\n",
      "   macro avg       0.94      0.95      0.95       600\n",
      "weighted avg       0.97      0.97      0.97       600\n",
      "\n",
      "Function evaluate_model_classification Completed Successfully. Exited this function\n",
      "Tuned Model XGBoostClassifier Performance on TRAINING SET : \n",
      "Entered function evaluate_model_classification.\n",
      "              precision    recall  f1-score   support\n",
      "\n",
      "           0       1.00      1.00      1.00      1968\n",
      "           1       0.99      0.99      0.99       432\n",
      "\n",
      "    accuracy                           1.00      2400\n",
      "   macro avg       0.99      0.99      0.99      2400\n",
      "weighted avg       1.00      1.00      1.00      2400\n",
      "\n",
      "Function evaluate_model_classification Completed Successfully. Exited this function\n",
      "Function best_single_model_RandomizedSearchCV Completed Successfully. Exited this function.\n"
     ]
    },
    {
     "data": {
      "text/plain": [
       "{'Model Name': 'XGBoostClassifier',\n",
       " 'Default Model Object': Pipeline(steps=[('smote', SMOTE(random_state=1)),\n",
       "                 ('estimator',\n",
       "                  XGBClassifier(base_score=0.5, booster='gbtree',\n",
       "                                colsample_bylevel=1, colsample_bynode=1,\n",
       "                                colsample_bytree=1, gamma=0, gpu_id=-1,\n",
       "                                importance_type='gain',\n",
       "                                interaction_constraints='',\n",
       "                                learning_rate=0.300000012, max_delta_step=0,\n",
       "                                max_depth=6, min_child_weight=1, missing=nan,\n",
       "                                monotone_constraints='()', n_estimators=100,\n",
       "                                n_jobs=8, num_parallel_tree=1, random_state=1,\n",
       "                                reg_alpha=0, reg_lambda=1, scale_pos_weight=1,\n",
       "                                subsample=1, tree_method='exact',\n",
       "                                validate_parameters=1, verbosity=None))]),\n",
       " 'Default Model Test Score': 0.9610433604336044,\n",
       " 'Default Model Training Score': 1.0,\n",
       " 'Default Model CV Mean Score': 0.9926328707210595,\n",
       " 'Default Model CV Scores': array([0.99356628, 0.99483532, 0.98733916, 0.99306835, 0.99435524]),\n",
       " 'Tuned Model Object': Pipeline(steps=[('smote', SMOTE(random_state=1, sampling_strategy=0.3)),\n",
       "                 ('estimator',\n",
       "                  XGBClassifier(base_score=0.5, booster='gbtree',\n",
       "                                colsample_bylevel=1, colsample_bynode=1,\n",
       "                                colsample_bytree=0.6000000000000001, gamma=0,\n",
       "                                gpu_id=-1, importance_type='gain',\n",
       "                                interaction_constraints='', learning_rate=0.048,\n",
       "                                max_delta_step=0, max_depth=7,\n",
       "                                min_child_weight=1, missing=nan,\n",
       "                                monotone_constraints='()', n_estimators=100,\n",
       "                                n_jobs=8, num_parallel_tree=1, random_state=1,\n",
       "                                reg_alpha=0, reg_lambda=1, scale_pos_weight=1,\n",
       "                                subsample=0.8, tree_method='exact',\n",
       "                                validate_parameters=1, verbosity=None))]),\n",
       " 'Best Hyperparameters': {'smote__sampling_strategy': 0.3,\n",
       "  'estimator__subsample': 0.8,\n",
       "  'estimator__n_estimators': 100,\n",
       "  'estimator__min_child_weight': 1,\n",
       "  'estimator__max_depth': 7,\n",
       "  'estimator__learning_rate': 0.048,\n",
       "  'estimator__colsample_bytree': 0.6000000000000001},\n",
       " 'Tuned Model CV Mean Score': 0.9930242900575464,\n",
       " 'Tuned Model CV Scores': array([0.99536654, 0.99368433, 0.98967064, 0.99470621, 0.99169372]),\n",
       " 'Tuned Model Test Score': 0.948170731707317,\n",
       " 'Tuned Model Training Score': 0.9931967028003613,\n",
       " 'Final Best Model Name': 'Default Model',\n",
       " 'Final Best Test Score': 0.9610433604336044,\n",
       " 'Final Best Model Object': Pipeline(steps=[('smote', SMOTE(random_state=1)),\n",
       "                 ('estimator',\n",
       "                  XGBClassifier(base_score=0.5, booster='gbtree',\n",
       "                                colsample_bylevel=1, colsample_bynode=1,\n",
       "                                colsample_bytree=1, gamma=0, gpu_id=-1,\n",
       "                                importance_type='gain',\n",
       "                                interaction_constraints='',\n",
       "                                learning_rate=0.300000012, max_delta_step=0,\n",
       "                                max_depth=6, min_child_weight=1, missing=nan,\n",
       "                                monotone_constraints='()', n_estimators=100,\n",
       "                                n_jobs=8, num_parallel_tree=1, random_state=1,\n",
       "                                reg_alpha=0, reg_lambda=1, scale_pos_weight=1,\n",
       "                                subsample=1, tree_method='exact',\n",
       "                                validate_parameters=1, verbosity=None))])}"
      ]
     },
     "execution_count": 23,
     "metadata": {},
     "output_type": "execute_result"
    },
    {
     "data": {
      "text/plain": [
       "<Figure size 1080x864 with 0 Axes>"
      ]
     },
     "metadata": {},
     "output_type": "display_data"
    },
    {
     "data": {
      "image/png": "[encoded data removed]",
      "text/plain": [
       "<Figure size 432x288 with 2 Axes>"
      ]
     },
     "metadata": {
      "needs_background": "light"
     },
     "output_type": "display_data"
    },
    {
     "data": {
      "text/plain": [
       "<Figure size 1080x864 with 0 Axes>"
      ]
     },
     "metadata": {},
     "output_type": "display_data"
    },
    {
     "data": {
      "image/png": "[encoded data removed]",
      "text/plain": [
       "<Figure size 432x288 with 2 Axes>"
      ]
     },
     "metadata": {
      "needs_background": "light"
     },
     "output_type": "display_data"
    },
    {
     "data": {
      "text/plain": [
       "<Figure size 1080x864 with 0 Axes>"
      ]
     },
     "metadata": {},
     "output_type": "display_data"
    },
    {
     "data": {
      "image/png": "[encoded data removed]",
      "text/plain": [
       "<Figure size 432x288 with 2 Axes>"
      ]
     },
     "metadata": {
      "needs_background": "light"
     },
     "output_type": "display_data"
    },
    {
     "data": {
      "text/plain": [
       "<Figure size 1080x864 with 0 Axes>"
      ]
     },
     "metadata": {},
     "output_type": "display_data"
    },
    {
     "data": {
      "image/png": "[encoded data removed]",
      "text/plain": [
       "<Figure size 432x288 with 2 Axes>"
      ]
     },
     "metadata": {
      "needs_background": "light"
     },
     "output_type": "display_data"
    }
   ],
   "source": [
    "pipeline = Pipeline([('smote' , SMOTE(random_state=1)),\n",
    "                     ('estimator', XGBClassifier(random_state=1))])\n",
    "\n",
    "params = {'smote__sampling_strategy' : [0.3, 0.4, 0.6, 0.8, 1],\n",
    "          'estimator__n_estimators' : [25, 50, 75, 100],\n",
    "          'estimator__learning_rate' : np.linspace(0.01, 0.2, 6)[:-1][1:],\n",
    "          'estimator__max_depth' : [2, 5, 7, 10],\n",
    "          'estimator__subsample' : np.linspace(0, 1, 6)[:-1][1:],\n",
    "          'estimator__colsample_bytree' : np.linspace(0, 1, 6)[:-1][1:],\n",
    "          'estimator__min_child_weight' : [1, 5, 10, 15]}\n",
    "\n",
    "dic = best_single_model_RandomizedSearchCV(X_train, y_train, X_test, y_test, model_name='XGBoostClassifier',\n",
    "                        defaultModel=pipeline, params=params, cv_scoring='roc_auc', cv_kfold=5, cv_n_iter=30)\n",
    "dic"
   ]
  },
  {
   "cell_type": "markdown",
   "metadata": {},
   "source": [
    "### 2. Undersampling using NearMiss, RandomUnderSampler, ENN, TomekLinks etc."
   ]
  },
  {
   "cell_type": "markdown",
   "metadata": {},
   "source": [
    "**How it works ?**<br>\n",
    "Undersampling techniques refer to remove data points from majority class to balance the data. For example RandomUnderSampler randomly selects data points from majority class and removes them.\n"
   ]
  },
  {
   "cell_type": "markdown",
   "metadata": {},
   "source": [
    "**Advantages and Disadvantages**<br>\n",
    "* An advantage of using Undersampling is that it can help improve run time and storage problems by reducing the number of training data samples when the training data set is huge.\n",
    "* A disadvantage of using Undersampling is that It can discard potentially useful information which could be important for building rule classifiers."
   ]
  },
  {
   "cell_type": "code",
   "execution_count": 24,
   "metadata": {},
   "outputs": [],
   "source": [
    "from imblearn.under_sampling import NearMiss"
   ]
  },
  {
   "cell_type": "code",
   "execution_count": 25,
   "metadata": {},
   "outputs": [
    {
     "name": "stdout",
     "output_type": "stream",
     "text": [
      "Entered function tuning_single_hyperparameter.\n"
     ]
    },
    {
     "data": {
      "image/png": "[encoded data removed]",
      "text/plain": [
       "<Figure size 432x288 with 1 Axes>"
      ]
     },
     "metadata": {
      "needs_background": "light"
     },
     "output_type": "display_data"
    },
    {
     "name": "stdout",
     "output_type": "stream",
     "text": [
      "Function tuning_single_hyperparameter Completed Successfully. Exited this function.\n",
      "Sampling Strategy : 0.2 - Train Score : nan , Validation Score : nan\n",
      "Sampling Strategy : 0.36 - Train Score : 0.9997405072684517 , Validation Score : 0.9923140733767294\n",
      "Sampling Strategy : 0.52 - Train Score : 0.9996354710099856 , Validation Score : 0.9914448074326991\n",
      "Sampling Strategy : 0.6799999999999999 - Train Score : 0.9993416971069367 , Validation Score : 0.9915603133315802\n",
      "Sampling Strategy : 0.8400000000000001 - Train Score : 0.9993156364054492 , Validation Score : 0.9912197178059363\n",
      "Sampling Strategy : 1.0 - Train Score : 0.9990903426142083 , Validation Score : 0.9898138983356191\n"
     ]
    }
   ],
   "source": [
    "pipeline = Pipeline([('smote' , NearMiss()),\n",
    "                     ('estimator', XGBClassifier(random_state=1))])\n",
    "\n",
    "space = np.linspace(0.2, 1, 6)\n",
    "train_scores, val_scores = tuning_single_hyperparameter(pipeline, 'XGBoost/', X_train, y_train,\n",
    "                                                        'smote__sampling_strategy', space, 'roc_auc',  5)\n",
    "\n",
    "for x, train_score, val_score in zip(space, train_scores, val_scores):\n",
    "    print(f'Sampling Strategy : {x} - Train Score : {train_score} , Validation Score : {val_score}')"
   ]
  },
  {
   "cell_type": "code",
   "execution_count": 26,
   "metadata": {},
   "outputs": [
    {
     "name": "stdout",
     "output_type": "stream",
     "text": [
      "Entered function tuning_single_hyperparameter.\n"
     ]
    },
    {
     "data": {
      "image/png": "[encoded data removed]",
      "text/plain": [
       "<Figure size 432x288 with 1 Axes>"
      ]
     },
     "metadata": {
      "needs_background": "light"
     },
     "output_type": "display_data"
    },
    {
     "name": "stdout",
     "output_type": "stream",
     "text": [
      "Function tuning_single_hyperparameter Completed Successfully. Exited this function.\n",
      "Nr Estimators : 50 - Train Score : 0.9991909902744908 , Validation Score : 0.9898210197872463\n",
      "Nr Estimators : 100 - Train Score : 0.9990903426142083 , Validation Score : 0.9898138983356191\n",
      "Nr Estimators : 300 - Train Score : 0.99884576917423 , Validation Score : 0.9903719320534516\n",
      "Nr Estimators : 500 - Train Score : 0.9987684291664983 , Validation Score : 0.9903071636489731\n",
      "Nr Estimators : 700 - Train Score : 0.9987239790888545 , Validation Score : 0.9903075346370354\n"
     ]
    }
   ],
   "source": [
    "pipeline = Pipeline([('smote' , NearMiss()),\n",
    "                     ('estimator', XGBClassifier(random_state=1))])\n",
    "\n",
    "space = [50, 100, 300, 500, 700]\n",
    "train_scores, val_scores = tuning_single_hyperparameter(pipeline, 'XGBoost/', X_train, y_train,\n",
    "                                                        'estimator__n_estimators', space, 'roc_auc',  5)\n",
    "\n",
    "for x, train_score, val_score in zip(space, train_scores, val_scores):\n",
    "    print(f'Nr Estimators : {x} - Train Score : {train_score} , Validation Score : {val_score}')"
   ]
  },
  {
   "cell_type": "code",
   "execution_count": 27,
   "metadata": {},
   "outputs": [
    {
     "name": "stdout",
     "output_type": "stream",
     "text": [
      "Entered function best_single_model_RandomizedSearchCV. \n",
      "Entered function evaluate_model_cross_validation.\n",
      "Function evaluate_model_cross_validation Completed Successfully.Exited this function.\n",
      "Entered the function train_model\n",
      "[00:14:58] WARNING: C:/Users/Administrator/workspace/xgboost-win64_release_1.4.0/src/learner.cc:1095: Starting in XGBoost 1.3.0, the default evaluation metric used with the objective 'binary:logistic' was changed from 'error' to 'logloss'. Explicitly set eval_metric if you'd like to restore the old behavior.\n",
      "Function train_model Completed Successfully! Exited this function.\n",
      "Default XGBoostClassifier Model Performance on TEST SET : \n",
      "Entered function evaluate_model_classification.\n",
      "              precision    recall  f1-score   support\n",
      "\n",
      "           0       0.98      0.97      0.98       492\n",
      "           1       0.88      0.90      0.89       108\n",
      "\n",
      "    accuracy                           0.96       600\n",
      "   macro avg       0.93      0.94      0.93       600\n",
      "weighted avg       0.96      0.96      0.96       600\n",
      "\n",
      "Function evaluate_model_classification Completed Successfully. Exited this function\n",
      "Default XGBoostClassifier Model Performance on TRAINING SET : \n",
      "Entered function evaluate_model_classification.\n"
     ]
    },
    {
     "name": "stderr",
     "output_type": "stream",
     "text": [
      "C:\\Anaconda3\\lib\\site-packages\\xgboost\\sklearn.py:1146: UserWarning: The use of label encoder in XGBClassifier is deprecated and will be removed in a future release. To remove this warning, do the following: 1) Pass option use_label_encoder=False when constructing XGBClassifier object; and 2) Encode your labels (y) as integers starting with 0, i.e. 0, 1, 2, ..., [num_class - 1].\n",
      "  warnings.warn(label_encoder_deprecation_msg, UserWarning)\n"
     ]
    },
    {
     "name": "stdout",
     "output_type": "stream",
     "text": [
      "              precision    recall  f1-score   support\n",
      "\n",
      "           0       1.00      0.99      1.00      1968\n",
      "           1       0.96      1.00      0.98       432\n",
      "\n",
      "    accuracy                           0.99      2400\n",
      "   macro avg       0.98      1.00      0.99      2400\n",
      "weighted avg       0.99      0.99      0.99      2400\n",
      "\n",
      "Function evaluate_model_classification Completed Successfully. Exited this function\n",
      "Entered the function HyperparameterTuning_RandomizedSearchCV.\n"
     ]
    },
    {
     "name": "stderr",
     "output_type": "stream",
     "text": [
      "C:\\Anaconda3\\lib\\site-packages\\xgboost\\sklearn.py:1146: UserWarning: The use of label encoder in XGBClassifier is deprecated and will be removed in a future release. To remove this warning, do the following: 1) Pass option use_label_encoder=False when constructing XGBClassifier object; and 2) Encode your labels (y) as integers starting with 0, i.e. 0, 1, 2, ..., [num_class - 1].\n",
      "  warnings.warn(label_encoder_deprecation_msg, UserWarning)\n"
     ]
    },
    {
     "name": "stdout",
     "output_type": "stream",
     "text": [
      "[00:15:02] WARNING: C:/Users/Administrator/workspace/xgboost-win64_release_1.4.0/src/learner.cc:1095: Starting in XGBoost 1.3.0, the default evaluation metric used with the objective 'binary:logistic' was changed from 'error' to 'logloss'. Explicitly set eval_metric if you'd like to restore the old behavior.\n",
      "Function HyperparameterTuning_RandomizedSearchCV Completed Successfully! Exited this function.\n",
      "Entered function evaluate_model_cross_validation.\n",
      "Function evaluate_model_cross_validation Completed Successfully.Exited this function.\n",
      "Entered the function train_model\n",
      "[00:15:02] WARNING: C:/Users/Administrator/workspace/xgboost-win64_release_1.4.0/src/learner.cc:1095: Starting in XGBoost 1.3.0, the default evaluation metric used with the objective 'binary:logistic' was changed from 'error' to 'logloss'. Explicitly set eval_metric if you'd like to restore the old behavior.\n",
      "Function train_model Completed Successfully! Exited this function."
     ]
    },
    {
     "name": "stderr",
     "output_type": "stream",
     "text": [
      "C:\\Anaconda3\\lib\\site-packages\\xgboost\\sklearn.py:1146: UserWarning: The use of label encoder in XGBClassifier is deprecated and will be removed in a future release. To remove this warning, do the following: 1) Pass option use_label_encoder=False when constructing XGBClassifier object; and 2) Encode your labels (y) as integers starting with 0, i.e. 0, 1, 2, ..., [num_class - 1].\n",
      "  warnings.warn(label_encoder_deprecation_msg, UserWarning)\n"
     ]
    },
    {
     "name": "stdout",
     "output_type": "stream",
     "text": [
      "\n",
      "Tuned Model XGBoostClassifier Performance on TEST SET : \n",
      "Entered function evaluate_model_classification.\n",
      "              precision    recall  f1-score   support\n",
      "\n",
      "           0       0.98      0.98      0.98       492\n",
      "           1       0.91      0.91      0.91       108\n",
      "\n",
      "    accuracy                           0.97       600\n",
      "   macro avg       0.94      0.94      0.94       600\n",
      "weighted avg       0.97      0.97      0.97       600\n",
      "\n",
      "Function evaluate_model_classification Completed Successfully. Exited this function\n",
      "Tuned Model XGBoostClassifier Performance on TRAINING SET : \n",
      "Entered function evaluate_model_classification.\n",
      "              precision    recall  f1-score   support\n",
      "\n",
      "           0       1.00      1.00      1.00      1968\n",
      "           1       0.99      0.98      0.99       432\n",
      "\n",
      "    accuracy                           0.99      2400\n",
      "   macro avg       0.99      0.99      0.99      2400\n",
      "weighted avg       0.99      0.99      0.99      2400\n",
      "\n",
      "Function evaluate_model_classification Completed Successfully. Exited this function\n",
      "Function best_single_model_RandomizedSearchCV Completed Successfully. Exited this function.\n"
     ]
    },
    {
     "data": {
      "text/plain": [
       "{'Model Name': 'XGBoostClassifier',\n",
       " 'Default Model Object': Pipeline(steps=[('nearmiss', NearMiss()),\n",
       "                 ('estimator',\n",
       "                  XGBClassifier(base_score=0.5, booster='gbtree',\n",
       "                                colsample_bylevel=1, colsample_bynode=1,\n",
       "                                colsample_bytree=1, gamma=0, gpu_id=-1,\n",
       "                                importance_type='gain',\n",
       "                                interaction_constraints='',\n",
       "                                learning_rate=0.300000012, max_delta_step=0,\n",
       "                                max_depth=6, min_child_weight=1, missing=nan,\n",
       "                                monotone_constraints='()', n_estimators=100,\n",
       "                                n_jobs=8, num_parallel_tree=1, random_state=1,\n",
       "                                reg_alpha=0, reg_lambda=1, scale_pos_weight=1,\n",
       "                                subsample=1, tree_method='exact',\n",
       "                                validate_parameters=1, verbosity=None))]),\n",
       " 'Default Model Test Score': 0.935862691960253,\n",
       " 'Default Model Training Score': 0.995680894308943,\n",
       " 'Default Model CV Mean Score': 0.9898138983356191,\n",
       " 'Default Model CV Scores': array([0.98846063, 0.99306457, 0.98471255, 0.99280512, 0.99002662]),\n",
       " 'Tuned Model Object': Pipeline(steps=[('nearmiss', NearMiss(sampling_strategy=0.3)),\n",
       "                 ('estimator',\n",
       "                  XGBClassifier(base_score=0.5, booster='gbtree',\n",
       "                                colsample_bylevel=1, colsample_bynode=1,\n",
       "                                colsample_bytree=0.6000000000000001, gamma=0,\n",
       "                                gpu_id=-1, importance_type='gain',\n",
       "                                interaction_constraints='', learning_rate=0.048,\n",
       "                                max_delta_step=0, max_depth=7,\n",
       "                                min_child_weight=1, missing=nan,\n",
       "                                monotone_constraints='()', n_estimators=100,\n",
       "                                n_jobs=8, num_parallel_tree=1, random_state=1,\n",
       "                                reg_alpha=0, reg_lambda=1, scale_pos_weight=1,\n",
       "                                subsample=0.8, tree_method='exact',\n",
       "                                validate_parameters=1, verbosity=None))]),\n",
       " 'Best Hyperparameters': {'nearmiss__sampling_strategy': 0.3,\n",
       "  'estimator__subsample': 0.8,\n",
       "  'estimator__n_estimators': 100,\n",
       "  'estimator__min_child_weight': 1,\n",
       "  'estimator__max_depth': 7,\n",
       "  'estimator__learning_rate': 0.048,\n",
       "  'estimator__colsample_bytree': 0.6000000000000001},\n",
       " 'Tuned Model CV Mean Score': 0.992033095580912,\n",
       " 'Tuned Model CV Scores': array([0.99504191, 0.99055601, 0.98840161, 0.9937118 , 0.99245415]),\n",
       " 'Tuned Model Test Score': 0.9435411020776875,\n",
       " 'Tuned Model Training Score': 0.990627822944896,\n",
       " 'Final Best Model Name': 'Tuned Model',\n",
       " 'Final Best Test Score': 0.9435411020776875,\n",
       " 'Final Best Model Object': Pipeline(steps=[('nearmiss', NearMiss(sampling_strategy=0.3)),\n",
       "                 ('estimator',\n",
       "                  XGBClassifier(base_score=0.5, booster='gbtree',\n",
       "                                colsample_bylevel=1, colsample_bynode=1,\n",
       "                                colsample_bytree=0.6000000000000001, gamma=0,\n",
       "                                gpu_id=-1, importance_type='gain',\n",
       "                                interaction_constraints='', learning_rate=0.048,\n",
       "                                max_delta_step=0, max_depth=7,\n",
       "                                min_child_weight=1, missing=nan,\n",
       "                                monotone_constraints='()', n_estimators=100,\n",
       "                                n_jobs=8, num_parallel_tree=1, random_state=1,\n",
       "                                reg_alpha=0, reg_lambda=1, scale_pos_weight=1,\n",
       "                                subsample=0.8, tree_method='exact',\n",
       "                                validate_parameters=1, verbosity=None))])}"
      ]
     },
     "execution_count": 27,
     "metadata": {},
     "output_type": "execute_result"
    },
    {
     "data": {
      "text/plain": [
       "<Figure size 1080x864 with 0 Axes>"
      ]
     },
     "metadata": {},
     "output_type": "display_data"
    },
    {
     "data": {
      "image/png": "[encoded data removed]",
      "text/plain": [
       "<Figure size 432x288 with 2 Axes>"
      ]
     },
     "metadata": {
      "needs_background": "light"
     },
     "output_type": "display_data"
    },
    {
     "data": {
      "text/plain": [
       "<Figure size 1080x864 with 0 Axes>"
      ]
     },
     "metadata": {},
     "output_type": "display_data"
    },
    {
     "data": {
      "image/png": "[encoded data removed]",
      "text/plain": [
       "<Figure size 432x288 with 2 Axes>"
      ]
     },
     "metadata": {
      "needs_background": "light"
     },
     "output_type": "display_data"
    },
    {
     "data": {
      "text/plain": [
       "<Figure size 1080x864 with 0 Axes>"
      ]
     },
     "metadata": {},
     "output_type": "display_data"
    },
    {
     "data": {
      "image/png": "[encoded data removed]",
      "text/plain": [
       "<Figure size 432x288 with 2 Axes>"
      ]
     },
     "metadata": {
      "needs_background": "light"
     },
     "output_type": "display_data"
    },
    {
     "data": {
      "text/plain": [
       "<Figure size 1080x864 with 0 Axes>"
      ]
     },
     "metadata": {},
     "output_type": "display_data"
    },
    {
     "data": {
      "image/png": "[encoded data removed]",
      "text/plain": [
       "<Figure size 432x288 with 2 Axes>"
      ]
     },
     "metadata": {
      "needs_background": "light"
     },
     "output_type": "display_data"
    }
   ],
   "source": [
    "from imblearn.under_sampling import NearMiss\n",
    "pipeline = Pipeline([('nearmiss' , NearMiss()),\n",
    "                     ('estimator', XGBClassifier(random_state=1))])\n",
    "\n",
    "params = {'nearmiss__sampling_strategy' : [0.3, 0.4, 0.6, 0.8, 1],\n",
    "          'estimator__n_estimators' : [25, 50, 75, 100],\n",
    "          'estimator__learning_rate' : np.linspace(0.01, 0.2, 6)[:-1][1:],\n",
    "          'estimator__max_depth' : [2, 5, 7, 10],\n",
    "          'estimator__subsample' : np.linspace(0, 1, 6)[:-1][1:],\n",
    "          'estimator__colsample_bytree' : np.linspace(0, 1, 6)[:-1][1:],\n",
    "          'estimator__min_child_weight' : [1, 5, 10, 15]}\n",
    "\n",
    "dic = best_single_model_RandomizedSearchCV(X_train, y_train, X_test, y_test, model_name='XGBoostClassifier',\n",
    "                        defaultModel=pipeline, params=params, cv_scoring='roc_auc', cv_kfold=5, cv_n_iter=30)\n",
    "dic"
   ]
  },
  {
   "cell_type": "markdown",
   "metadata": {},
   "source": [
    "### 3. Combination of Over- and Undersampling using SMOTE with Tomek or ENN."
   ]
  },
  {
   "cell_type": "markdown",
   "metadata": {},
   "source": [
    "**How it works ?**<br>\n",
    "* This method uses SMOTE which is an oversampling technique that creates synthetic data points from minority class using K-Nearest Neighbors to balance the dataset and also Tomek which is an undersampling approach that identifies all the data points that are nearest to each other but belong to different classes (those points are called Tomek Links).\n",
    "Tomek Links points are present on the boundary of separation of the two classes. So removing the majority class of Tomek Link data points increases the class separation and also reduces the number of majority class points along the boundary which  may help ML Estimator to easier classify the data points. FIRST SMOTE is applied to create new synthetic minority samples to get balanced data and THEN TOMEK Links to remove samples close to the boundary of the two classes."
   ]
  },
  {
   "cell_type": "markdown",
   "metadata": {},
   "source": [
    "**Advantages and Disadvantages**<br>\n",
    "* An advantage of this technique is that it usually outperforms using only over- or undersampling and it avoids overfitting which occurs when exact replicas of minority instances are added to the main dataset.\n",
    "* While generating synthetic examples SMOTE does not take into consideration neighboring examples from other classes. This can result in increase in overlapping of classes and can introduce additional noise\n"
   ]
  },
  {
   "cell_type": "code",
   "execution_count": 28,
   "metadata": {},
   "outputs": [],
   "source": [
    "from imblearn.combine import SMOTETomek\n",
    "from sklearn.ensemble import RandomForestClassifier\n",
    "from imblearn.pipeline import Pipeline"
   ]
  },
  {
   "cell_type": "code",
   "execution_count": 29,
   "metadata": {},
   "outputs": [
    {
     "name": "stdout",
     "output_type": "stream",
     "text": [
      "Entered function tuning_single_hyperparameter.\n"
     ]
    },
    {
     "data": {
      "image/png": "[encoded data removed]",
      "text/plain": [
       "<Figure size 432x288 with 1 Axes>"
      ]
     },
     "metadata": {
      "needs_background": "light"
     },
     "output_type": "display_data"
    },
    {
     "name": "stdout",
     "output_type": "stream",
     "text": [
      "Function tuning_single_hyperparameter Completed Successfully. Exited this function.\n",
      "min_samples_split : 2 - Train Score : 1.0 , Validation Score : 0.9896852094993756\n",
      "min_samples_split : 25 - Train Score : 0.999386481199171 , Validation Score : 0.98912691079007\n",
      "min_samples_split : 50 - Train Score : 0.9985521244853519 , Validation Score : 0.9872784045059172\n",
      "min_samples_split : 100 - Train Score : 0.9962083206446533 , Validation Score : 0.985626714035196\n",
      "min_samples_split : 200 - Train Score : 0.9930629374184147 , Validation Score : 0.9830018878683076\n"
     ]
    }
   ],
   "source": [
    "pipeline = Pipeline([('smote', SMOTETomek(random_state=1, n_jobs=-1)),\n",
    "                     ('estimator', RandomForestClassifier(random_state=1, n_estimators=400))])\n",
    "\n",
    "space = [2, 25, 50, 100, 200]\n",
    "train_scores, val_scores = tuning_single_hyperparameter(pipeline, 'RandomForest/', X_train, y_train, \n",
    "                                                        hyperparameter_name='estimator__min_samples_split',\n",
    "                                                        hyperparameter_space=space,\n",
    "                                                        scoring='roc_auc', cv=5, verbose=False)\n",
    "\n",
    "for x, train_score, val_score in zip(space, train_scores, val_scores):\n",
    "    print(f'min_samples_split : {x} - Train Score : {train_score} , Validation Score : {val_score}')"
   ]
  },
  {
   "cell_type": "markdown",
   "metadata": {},
   "source": [
    "* A good space of min_samples_split would be 2-25."
   ]
  },
  {
   "cell_type": "code",
   "execution_count": 30,
   "metadata": {},
   "outputs": [
    {
     "name": "stdout",
     "output_type": "stream",
     "text": [
      "Entered function tuning_single_hyperparameter.\n"
     ]
    },
    {
     "data": {
      "image/png": "[encoded data removed]",
      "text/plain": [
       "<Figure size 432x288 with 1 Axes>"
      ]
     },
     "metadata": {
      "needs_background": "light"
     },
     "output_type": "display_data"
    },
    {
     "name": "stdout",
     "output_type": "stream",
     "text": [
      "Function tuning_single_hyperparameter Completed Successfully. Exited this function.\n",
      "min_samples_leaf : 1 - Train Score : 1.0 , Validation Score : 0.9896852094993756\n",
      "min_samples_leaf : 25 - Train Score : 0.995270427362499 , Validation Score : 0.9864314667261465\n",
      "min_samples_leaf : 50 - Train Score : 0.9922581924228815 , Validation Score : 0.9843306372876439\n",
      "min_samples_leaf : 100 - Train Score : 0.9883904137471206 , Validation Score : 0.9804171404964522\n",
      "min_samples_leaf : 200 - Train Score : 0.9843337644217698 , Validation Score : 0.9764684937516271\n"
     ]
    }
   ],
   "source": [
    "pipeline = Pipeline([('smote', SMOTETomek(random_state=1, n_jobs=-1)),\n",
    "                     ('estimator', RandomForestClassifier(random_state=1, n_estimators=400))])\n",
    "\n",
    "space = [1, 25, 50, 100, 200]\n",
    "\n",
    "train_scores, val_scores = tuning_single_hyperparameter(pipeline, 'RandomForest/', X_train, y_train, \n",
    "                                                        hyperparameter_name='estimator__min_samples_leaf',\n",
    "                                                        hyperparameter_space=space,\n",
    "                                                        scoring='roc_auc', cv=5, verbose=False)\n",
    "\n",
    "for x, train_score, val_score in zip(space, train_scores, val_scores):\n",
    "    print(f'min_samples_leaf : {x} - Train Score : {train_score} , Validation Score : {val_score}')"
   ]
  },
  {
   "cell_type": "markdown",
   "metadata": {},
   "source": [
    "* A good space of min_samples_leaf would be 1-25."
   ]
  },
  {
   "cell_type": "code",
   "execution_count": 31,
   "metadata": {},
   "outputs": [
    {
     "name": "stdout",
     "output_type": "stream",
     "text": [
      "Entered function best_single_model_RandomizedSearchCV. \n",
      "Entered function evaluate_model_cross_validation.\n",
      "Function evaluate_model_cross_validation Completed Successfully.Exited this function.\n",
      "Entered the function train_model\n",
      "Function train_model Completed Successfully! Exited this function.\n",
      "Default RandomForestClassifier Model Performance on TEST SET : \n",
      "Entered function evaluate_model_classification.\n",
      "              precision    recall  f1-score   support\n",
      "\n",
      "           0       0.99      0.98      0.98       492\n",
      "           1       0.90      0.94      0.92       108\n",
      "\n",
      "    accuracy                           0.97       600\n",
      "   macro avg       0.95      0.96      0.95       600\n",
      "weighted avg       0.97      0.97      0.97       600\n",
      "\n",
      "Function evaluate_model_classification Completed Successfully. Exited this function\n",
      "Default RandomForestClassifier Model Performance on TRAINING SET : \n",
      "Entered function evaluate_model_classification.\n",
      "              precision    recall  f1-score   support\n",
      "\n",
      "           0       1.00      1.00      1.00      1968\n",
      "           1       1.00      1.00      1.00       432\n",
      "\n",
      "    accuracy                           1.00      2400\n",
      "   macro avg       1.00      1.00      1.00      2400\n",
      "weighted avg       1.00      1.00      1.00      2400\n",
      "\n",
      "Function evaluate_model_classification Completed Successfully. Exited this function\n",
      "Entered the function HyperparameterTuning_RandomizedSearchCV.\n"
     ]
    },
    {
     "name": "stderr",
     "output_type": "stream",
     "text": [
      "C:\\Anaconda3\\lib\\site-packages\\sklearn\\model_selection\\_search.py:918: UserWarning: One or more of the test scores are non-finite: [0.98865895 0.98614407 0.98968563 0.98732794 0.98869133 0.98823641\n",
      " 0.98769674 0.9887202         nan        nan 0.98592663 0.9856525\n",
      " 0.99250579 0.98005581 0.98918732 0.99271566 0.98345154 0.99054149\n",
      " 0.99192509        nan        nan 0.98922895 0.98921608 0.98867415\n",
      " 0.98885239 0.98729775 0.98865895 0.98808464 0.98846918 0.98784317]\n",
      "  warnings.warn(\n"
     ]
    },
    {
     "name": "stdout",
     "output_type": "stream",
     "text": [
      "Function HyperparameterTuning_RandomizedSearchCV Completed Successfully! Exited this function.\n",
      "Entered function evaluate_model_cross_validation.\n",
      "Function evaluate_model_cross_validation Completed Successfully.Exited this function.\n",
      "Entered the function train_model\n",
      "Function train_model Completed Successfully! Exited this function.\n",
      "Tuned Model RandomForestClassifier Performance on TEST SET : \n",
      "Entered function evaluate_model_classification.\n",
      "              precision    recall  f1-score   support\n",
      "\n",
      "           0       0.98      0.98      0.98       492\n",
      "           1       0.90      0.92      0.91       108\n",
      "\n",
      "    accuracy                           0.97       600\n",
      "   macro avg       0.94      0.95      0.94       600\n",
      "weighted avg       0.97      0.97      0.97       600\n",
      "\n",
      "Function evaluate_model_classification Completed Successfully. Exited this function\n",
      "Tuned Model RandomForestClassifier Performance on TRAINING SET : \n",
      "Entered function evaluate_model_classification.\n",
      "              precision    recall  f1-score   support\n",
      "\n",
      "           0       0.99      0.98      0.99      1968\n",
      "           1       0.92      0.96      0.94       432\n",
      "\n",
      "    accuracy                           0.98      2400\n",
      "   macro avg       0.96      0.97      0.96      2400\n",
      "weighted avg       0.98      0.98      0.98      2400\n",
      "\n",
      "Function evaluate_model_classification Completed Successfully. Exited this function\n",
      "Function best_single_model_RandomizedSearchCV Completed Successfully. Exited this function.\n"
     ]
    },
    {
     "data": {
      "text/plain": [
       "{'Model Name': 'RandomForestClassifier',\n",
       " 'Default Model Object': Pipeline(steps=[('smote', SMOTETomek(n_jobs=-1, random_state=1)),\n",
       "                 ('estimator',\n",
       "                  RandomForestClassifier(n_estimators=400, random_state=1))]),\n",
       " 'Default Model Test Score': 0.9610433604336044,\n",
       " 'Default Model Training Score': 1.0,\n",
       " 'Default Model CV Mean Score': 0.9896852094993756,\n",
       " 'Default Model CV Scores': array([0.99101346, 0.98925747, 0.98596683, 0.98985113, 0.99233716]),\n",
       " 'Tuned Model Object': Pipeline(steps=[('smote',\n",
       "                  SMOTETomek(n_jobs=-1, random_state=1, sampling_strategy=0.28)),\n",
       "                 ('estimator',\n",
       "                  RandomForestClassifier(criterion='entropy', max_depth=9,\n",
       "                                         max_features=None, min_samples_leaf=20,\n",
       "                                         min_samples_split=20, n_estimators=400,\n",
       "                                         random_state=1))]),\n",
       " 'Best Hyperparameters': {'smote__sampling_strategy': 0.28,\n",
       "  'estimator__min_samples_split': 20,\n",
       "  'estimator__min_samples_leaf': 20,\n",
       "  'estimator__max_features': None,\n",
       "  'estimator__max_depth': 9,\n",
       "  'estimator__criterion': 'entropy'},\n",
       " 'Tuned Model CV Mean Score': 0.9927156645878595,\n",
       " 'Tuned Model CV Scores': array([0.99344824, 0.99262189, 0.99017235, 0.99350706, 0.99382879]),\n",
       " 'Tuned Model Test Score': 0.9471544715447153,\n",
       " 'Tuned Model Training Score': 0.9691169828364951,\n",
       " 'Final Best Model Name': 'Default Model',\n",
       " 'Final Best Test Score': 0.9610433604336044,\n",
       " 'Final Best Model Object': Pipeline(steps=[('smote', SMOTETomek(n_jobs=-1, random_state=1)),\n",
       "                 ('estimator',\n",
       "                  RandomForestClassifier(n_estimators=400, random_state=1))])}"
      ]
     },
     "execution_count": 31,
     "metadata": {},
     "output_type": "execute_result"
    },
    {
     "data": {
      "text/plain": [
       "<Figure size 1080x864 with 0 Axes>"
      ]
     },
     "metadata": {},
     "output_type": "display_data"
    },
    {
     "data": {
      "image/png": "[encoded data removed]",
      "text/plain": [
       "<Figure size 432x288 with 2 Axes>"
      ]
     },
     "metadata": {
      "needs_background": "light"
     },
     "output_type": "display_data"
    },
    {
     "data": {
      "text/plain": [
       "<Figure size 1080x864 with 0 Axes>"
      ]
     },
     "metadata": {},
     "output_type": "display_data"
    },
    {
     "data": {
      "image/png": "[encoded data removed]",
      "text/plain": [
       "<Figure size 432x288 with 2 Axes>"
      ]
     },
     "metadata": {
      "needs_background": "light"
     },
     "output_type": "display_data"
    },
    {
     "data": {
      "text/plain": [
       "<Figure size 1080x864 with 0 Axes>"
      ]
     },
     "metadata": {},
     "output_type": "display_data"
    },
    {
     "data": {
      "image/png": "[encoded data removed]",
      "text/plain": [
       "<Figure size 432x288 with 2 Axes>"
      ]
     },
     "metadata": {
      "needs_background": "light"
     },
     "output_type": "display_data"
    },
    {
     "data": {
      "text/plain": [
       "<Figure size 1080x864 with 0 Axes>"
      ]
     },
     "metadata": {},
     "output_type": "display_data"
    },
    {
     "data": {
      "image/png": "[encoded data removed]",
      "text/plain": [
       "<Figure size 432x288 with 2 Axes>"
      ]
     },
     "metadata": {
      "needs_background": "light"
     },
     "output_type": "display_data"
    }
   ],
   "source": [
    "pipeline = Pipeline([('smote', SMOTETomek(random_state=1, n_jobs=-1)),\n",
    "                     ('estimator', RandomForestClassifier(random_state=1, n_estimators=400))])\n",
    "\n",
    "params = {'smote__sampling_strategy' : np.linspace(0.1, 1, 6),\n",
    "             'estimator__max_depth' : [3, 6, 9, 12, 15],\n",
    "             'estimator__max_features' : ['log2', 'sqrt', None],\n",
    "             'estimator__min_samples_leaf' : [1, 10, 15, 20],\n",
    "             'estimator__min_samples_split' : [2, 10, 15, 20],\n",
    "             'estimator__criterion' : ['gini', 'entropy']}\n",
    "\n",
    "dic = best_single_model_RandomizedSearchCV(X_train, y_train, X_test, y_test, model_name='RandomForestClassifier',\n",
    "                        defaultModel=pipeline, params=params, cv_scoring='roc_auc', cv_kfold=5, cv_n_iter=30)\n",
    "dic"
   ]
  },
  {
   "cell_type": "code",
   "execution_count": 32,
   "metadata": {},
   "outputs": [
    {
     "data": {
      "text/plain": [
       "Pipeline(steps=[('smote', SMOTETomek(n_jobs=-1, random_state=1)),\n",
       "                ('estimator',\n",
       "                 RandomForestClassifier(n_estimators=400, random_state=1))])"
      ]
     },
     "execution_count": 32,
     "metadata": {},
     "output_type": "execute_result"
    }
   ],
   "source": [
    "dic['Final Best Model Object']"
   ]
  },
  {
   "cell_type": "markdown",
   "metadata": {},
   "source": [
    "### 4. Tuning XGBoost with scale_pos_weight attribute"
   ]
  },
  {
   "cell_type": "markdown",
   "metadata": {},
   "source": [
    "**Note:**<br>\n",
    "* scale_pos_weight = nr of negative instances / nr of positive instances. (we can also tune this hyperaparameter)\n",
    "* When tuning scale_pos_weight we must not use any resampling technique since the main aim of class_weight is to assign weights to unbalanced classes."
   ]
  },
  {
   "cell_type": "code",
   "execution_count": 33,
   "metadata": {},
   "outputs": [
    {
     "name": "stdout",
     "output_type": "stream",
     "text": [
      "Entered function tuning_single_hyperparameter.\n"
     ]
    },
    {
     "data": {
      "image/png": "[encoded data removed]",
      "text/plain": [
       "<Figure size 432x288 with 1 Axes>"
      ]
     },
     "metadata": {
      "needs_background": "light"
     },
     "output_type": "display_data"
    },
    {
     "name": "stdout",
     "output_type": "stream",
     "text": [
      "Function tuning_single_hyperparameter Completed Successfully. Exited this function.\n",
      "Nr Estimators : 25 - Train Score : 1.0 , Validation Score : 0.9929188235375722\n",
      "Nr Estimators : 100 - Train Score : 1.0 , Validation Score : 0.9924288274594115\n",
      "Nr Estimators : 300 - Train Score : 1.0 , Validation Score : 0.9922431374899263\n",
      "Nr Estimators : 500 - Train Score : 1.0 , Validation Score : 0.9922017140573793\n",
      "Nr Estimators : 700 - Train Score : 1.0 , Validation Score : 0.9922696192013145\n",
      "Nr Estimators : 900 - Train Score : 1.0 , Validation Score : 0.9922696721996092\n"
     ]
    }
   ],
   "source": [
    "from xgboost import XGBClassifier\n",
    "\n",
    "s = len(y_train[y_train == 0]) / len(y_train[y_train == 1])\n",
    "estimator = XGBClassifier(random_state=1, scale_pos_weight=s)\n",
    "\n",
    "space = [25, 100, 300, 500, 700, 900]\n",
    "train_scores, val_scores = tuning_single_hyperparameter(estimator, 'XGBoost/', X_train, y_train,\n",
    "                                                        'n_estimators', space, 'roc_auc',  5)\n",
    "\n",
    "for x, train_score, val_score in zip(space, train_scores, val_scores):\n",
    "    print(f'Nr Estimators : {x} - Train Score : {train_score} , Validation Score : {val_score}')"
   ]
  },
  {
   "cell_type": "code",
   "execution_count": 34,
   "metadata": {},
   "outputs": [
    {
     "name": "stdout",
     "output_type": "stream",
     "text": [
      "Entered function tuning_single_hyperparameter.\n"
     ]
    },
    {
     "data": {
      "image/png": "[encoded data removed]",
      "text/plain": [
       "<Figure size 432x288 with 1 Axes>"
      ]
     },
     "metadata": {
      "needs_background": "light"
     },
     "output_type": "display_data"
    },
    {
     "name": "stdout",
     "output_type": "stream",
     "text": [
      "Function tuning_single_hyperparameter Completed Successfully. Exited this function.\n",
      "Min Child Weight : 1 - Train Score : 1.0 , Validation Score : 0.9924288274594115\n",
      "Min Child Weight : 5 - Train Score : 1.0 , Validation Score : 0.991969917125272\n",
      "Min Child Weight : 15 - Train Score : 0.9997133058099674 , Validation Score : 0.9923010395941765\n",
      "Min Child Weight : 100 - Train Score : 0.9887139162385872 , Validation Score : 0.9869102211236971\n",
      "Min Child Weight : 200 - Train Score : 0.9728850617817926 , Validation Score : 0.9668388729723099\n"
     ]
    }
   ],
   "source": [
    "s = len(y_train[y_train == 0]) / len(y_train[y_train == 1])\n",
    "estimator = XGBClassifier(random_state=1, scale_pos_weight=s)\n",
    "\n",
    "space = [1, 5, 15, 100, 200]\n",
    "train_scores, val_scores = tuning_single_hyperparameter(estimator, 'XGBoost/', X_train, y_train,\n",
    "                                                        'min_child_weight', space, 'roc_auc',  5)\n",
    "\n",
    "for x, train_score, val_score in zip(space, train_scores, val_scores):\n",
    "    print(f'Min Child Weight : {x} - Train Score : {train_score} , Validation Score : {val_score}')"
   ]
  },
  {
   "cell_type": "code",
   "execution_count": 36,
   "metadata": {},
   "outputs": [
    {
     "name": "stdout",
     "output_type": "stream",
     "text": [
      "Entered function best_single_model_RandomizedSearchCV. \n",
      "Entered function evaluate_model_cross_validation.\n",
      "Function evaluate_model_cross_validation Completed Successfully.Exited this function.\n",
      "Entered the function train_model\n",
      "[00:20:18] WARNING: C:/Users/Administrator/workspace/xgboost-win64_release_1.4.0/src/learner.cc:1095: Starting in XGBoost 1.3.0, the default evaluation metric used with the objective 'binary:logistic' was changed from 'error' to 'logloss'. Explicitly set eval_metric if you'd like to restore the old behavior.\n",
      "Function train_model Completed Successfully! Exited this function."
     ]
    },
    {
     "name": "stderr",
     "output_type": "stream",
     "text": [
      "C:\\Anaconda3\\lib\\site-packages\\xgboost\\sklearn.py:1146: UserWarning: The use of label encoder in XGBClassifier is deprecated and will be removed in a future release. To remove this warning, do the following: 1) Pass option use_label_encoder=False when constructing XGBClassifier object; and 2) Encode your labels (y) as integers starting with 0, i.e. 0, 1, 2, ..., [num_class - 1].\n",
      "  warnings.warn(label_encoder_deprecation_msg, UserWarning)\n"
     ]
    },
    {
     "name": "stdout",
     "output_type": "stream",
     "text": [
      "\n",
      "Default XGBoostClassifier Model Performance on TEST SET : \n",
      "Entered function evaluate_model_classification.\n",
      "              precision    recall  f1-score   support\n",
      "\n",
      "           0       0.98      0.98      0.98       492\n",
      "           1       0.91      0.91      0.91       108\n",
      "\n",
      "    accuracy                           0.97       600\n",
      "   macro avg       0.94      0.94      0.94       600\n",
      "weighted avg       0.97      0.97      0.97       600\n",
      "\n",
      "Function evaluate_model_classification Completed Successfully. Exited this function\n",
      "Default XGBoostClassifier Model Performance on TRAINING SET : \n",
      "Entered function evaluate_model_classification.\n",
      "              precision    recall  f1-score   support\n",
      "\n",
      "           0       1.00      1.00      1.00      1968\n",
      "           1       1.00      1.00      1.00       432\n",
      "\n",
      "    accuracy                           1.00      2400\n",
      "   macro avg       1.00      1.00      1.00      2400\n",
      "weighted avg       1.00      1.00      1.00      2400\n",
      "\n",
      "Function evaluate_model_classification Completed Successfully. Exited this function\n",
      "Entered the function HyperparameterTuning_RandomizedSearchCV.\n"
     ]
    },
    {
     "name": "stderr",
     "output_type": "stream",
     "text": [
      "C:\\Anaconda3\\lib\\site-packages\\xgboost\\sklearn.py:1146: UserWarning: The use of label encoder in XGBClassifier is deprecated and will be removed in a future release. To remove this warning, do the following: 1) Pass option use_label_encoder=False when constructing XGBClassifier object; and 2) Encode your labels (y) as integers starting with 0, i.e. 0, 1, 2, ..., [num_class - 1].\n",
      "  warnings.warn(label_encoder_deprecation_msg, UserWarning)\n"
     ]
    },
    {
     "name": "stdout",
     "output_type": "stream",
     "text": [
      "[00:20:23] WARNING: C:/Users/Administrator/workspace/xgboost-win64_release_1.4.0/src/learner.cc:1095: Starting in XGBoost 1.3.0, the default evaluation metric used with the objective 'binary:logistic' was changed from 'error' to 'logloss'. Explicitly set eval_metric if you'd like to restore the old behavior.\n",
      "Function HyperparameterTuning_RandomizedSearchCV Completed Successfully! Exited this function.\n",
      "Entered function evaluate_model_cross_validation.\n",
      "Function evaluate_model_cross_validation Completed Successfully.Exited this function.\n",
      "Entered the function train_model\n",
      "[00:20:23] WARNING: C:/Users/Administrator/workspace/xgboost-win64_release_1.4.0/src/learner.cc:1095: Starting in XGBoost 1.3.0, the default evaluation metric used with the objective 'binary:logistic' was changed from 'error' to 'logloss'. Explicitly set eval_metric if you'd like to restore the old behavior.\n",
      "Function train_model Completed Successfully! Exited this function.\n",
      "Tuned Model XGBoostClassifier Performance on TEST SET : \n",
      "Entered function evaluate_model_classification.\n",
      "              precision    recall  f1-score   support\n",
      "\n",
      "           0       0.99      0.97      0.98       492\n",
      "           1       0.87      0.94      0.91       108\n",
      "\n",
      "    accuracy                           0.96       600\n",
      "   macro avg       0.93      0.96      0.94       600\n",
      "weighted avg       0.97      0.96      0.97       600\n",
      "\n"
     ]
    },
    {
     "name": "stderr",
     "output_type": "stream",
     "text": [
      "C:\\Anaconda3\\lib\\site-packages\\xgboost\\sklearn.py:1146: UserWarning: The use of label encoder in XGBClassifier is deprecated and will be removed in a future release. To remove this warning, do the following: 1) Pass option use_label_encoder=False when constructing XGBClassifier object; and 2) Encode your labels (y) as integers starting with 0, i.e. 0, 1, 2, ..., [num_class - 1].\n",
      "  warnings.warn(label_encoder_deprecation_msg, UserWarning)\n"
     ]
    },
    {
     "name": "stdout",
     "output_type": "stream",
     "text": [
      "Function evaluate_model_classification Completed Successfully. Exited this function\n",
      "Tuned Model XGBoostClassifier Performance on TRAINING SET : \n",
      "Entered function evaluate_model_classification.\n",
      "              precision    recall  f1-score   support\n",
      "\n",
      "           0       1.00      0.98      0.99      1968\n",
      "           1       0.92      0.99      0.95       432\n",
      "\n",
      "    accuracy                           0.98      2400\n",
      "   macro avg       0.96      0.99      0.97      2400\n",
      "weighted avg       0.98      0.98      0.98      2400\n",
      "\n",
      "Function evaluate_model_classification Completed Successfully. Exited this function\n",
      "Function best_single_model_RandomizedSearchCV Completed Successfully. Exited this function.\n"
     ]
    },
    {
     "data": {
      "text/plain": [
       "{'Model Name': 'XGBoostClassifier',\n",
       " 'Default Model Object': XGBClassifier(base_score=0.5, booster='gbtree', colsample_bylevel=1,\n",
       "               colsample_bynode=1, colsample_bytree=1, gamma=0, gpu_id=-1,\n",
       "               importance_type='gain', interaction_constraints='',\n",
       "               learning_rate=0.300000012, max_delta_step=0, max_depth=6,\n",
       "               min_child_weight=1, missing=nan, monotone_constraints='()',\n",
       "               n_estimators=100, n_jobs=8, num_parallel_tree=1, random_state=1,\n",
       "               reg_alpha=0, reg_lambda=1, scale_pos_weight=4.555555555555555,\n",
       "               subsample=1, tree_method='exact', validate_parameters=1,\n",
       "               verbosity=None),\n",
       " 'Default Model Test Score': 0.9435411020776875,\n",
       " 'Default Model Training Score': 1.0,\n",
       " 'Default Model CV Mean Score': 0.9924288274594115,\n",
       " 'Default Model CV Scores': array([0.99368433, 0.99356628, 0.9888738 , 0.99333158, 0.99268813]),\n",
       " 'Tuned Model Object': XGBClassifier(base_score=0.5, booster='gbtree', colsample_bylevel=1,\n",
       "               colsample_bynode=1, colsample_bytree=0.8, gamma=0, gpu_id=-1,\n",
       "               importance_type='gain', interaction_constraints='',\n",
       "               learning_rate=0.12399999999999999, max_delta_step=0, max_depth=5,\n",
       "               min_child_weight=15, missing=nan, monotone_constraints='()',\n",
       "               n_estimators=50, n_jobs=8, num_parallel_tree=1, random_state=1,\n",
       "               reg_alpha=0, reg_lambda=1, scale_pos_weight=4.555555555555555,\n",
       "               subsample=0.8, tree_method='exact', validate_parameters=1,\n",
       "               verbosity=None),\n",
       " 'Best Hyperparameters': {'subsample': 0.8,\n",
       "  'n_estimators': 50,\n",
       "  'min_child_weight': 15,\n",
       "  'max_depth': 5,\n",
       "  'learning_rate': 0.12399999999999999,\n",
       "  'colsample_bytree': 0.8},\n",
       " 'Tuned Model CV Mean Score': 0.9933343131630421,\n",
       " 'Tuned Model CV Scores': array([0.99353677, 0.99371385, 0.9914709 , 0.99432599, 0.99362405]),\n",
       " 'Tuned Model Test Score': 0.9569783197831978,\n",
       " 'Tuned Model Training Score': 0.9854618337850045,\n",
       " 'Final Best Model Name': 'Tuned Model',\n",
       " 'Final Best Test Score': 0.9569783197831978,\n",
       " 'Final Best Model Object': XGBClassifier(base_score=0.5, booster='gbtree', colsample_bylevel=1,\n",
       "               colsample_bynode=1, colsample_bytree=0.8, gamma=0, gpu_id=-1,\n",
       "               importance_type='gain', interaction_constraints='',\n",
       "               learning_rate=0.12399999999999999, max_delta_step=0, max_depth=5,\n",
       "               min_child_weight=15, missing=nan, monotone_constraints='()',\n",
       "               n_estimators=50, n_jobs=8, num_parallel_tree=1, random_state=1,\n",
       "               reg_alpha=0, reg_lambda=1, scale_pos_weight=4.555555555555555,\n",
       "               subsample=0.8, tree_method='exact', validate_parameters=1,\n",
       "               verbosity=None)}"
      ]
     },
     "execution_count": 36,
     "metadata": {},
     "output_type": "execute_result"
    },
    {
     "data": {
      "text/plain": [
       "<Figure size 1080x864 with 0 Axes>"
      ]
     },
     "metadata": {},
     "output_type": "display_data"
    },
    {
     "data": {
      "image/png": "[encoded data removed]",
      "text/plain": [
       "<Figure size 432x288 with 2 Axes>"
      ]
     },
     "metadata": {
      "needs_background": "light"
     },
     "output_type": "display_data"
    },
    {
     "data": {
      "text/plain": [
       "<Figure size 1080x864 with 0 Axes>"
      ]
     },
     "metadata": {},
     "output_type": "display_data"
    },
    {
     "data": {
      "image/png": "[encoded data removed]",
      "text/plain": [
       "<Figure size 432x288 with 2 Axes>"
      ]
     },
     "metadata": {
      "needs_background": "light"
     },
     "output_type": "display_data"
    },
    {
     "data": {
      "text/plain": [
       "<Figure size 1080x864 with 0 Axes>"
      ]
     },
     "metadata": {},
     "output_type": "display_data"
    },
    {
     "data": {
      "image/png": "[encoded data removed]",
      "text/plain": [
       "<Figure size 432x288 with 2 Axes>"
      ]
     },
     "metadata": {
      "needs_background": "light"
     },
     "output_type": "display_data"
    },
    {
     "data": {
      "text/plain": [
       "<Figure size 1080x864 with 0 Axes>"
      ]
     },
     "metadata": {},
     "output_type": "display_data"
    },
    {
     "data": {
      "image/png": "[encoded data removed]",
      "text/plain": [
       "<Figure size 432x288 with 2 Axes>"
      ]
     },
     "metadata": {
      "needs_background": "light"
     },
     "output_type": "display_data"
    }
   ],
   "source": [
    "estimator = XGBClassifier(random_state=1, scale_pos_weight=s)\n",
    "\n",
    "params = {'n_estimators' : [25, 50, 75, 100],\n",
    "          'learning_rate' : np.linspace(0.01, 0.2, 6)[:-1][1:],\n",
    "          'max_depth' : [2, 5, 7, 10],\n",
    "          'subsample' : np.linspace(0, 1, 6)[:-1][1:],\n",
    "          'colsample_bytree' : np.linspace(0, 1, 6)[:-1][1:],\n",
    "          'min_child_weight' : [15, 20, 50, 100]}\n",
    "\n",
    "dic = best_single_model_RandomizedSearchCV(X_train, y_train, X_test, y_test, model_name='XGBoostClassifier',\n",
    "                        defaultModel=estimator, params=params, cv_scoring='roc_auc', cv_kfold=5, cv_n_iter=30)\n",
    "dic"
   ]
  },
  {
   "cell_type": "markdown",
   "metadata": {},
   "source": [
    "### 5. Tuning Random Forest with class_weight attribute"
   ]
  },
  {
   "cell_type": "markdown",
   "metadata": {},
   "source": [
    "**How it works:**<br>\n",
    "RandomForest will assign weights to majority and minority class to the cost function (higher weight to minority and lower weight to majority), which means the error will be higher when we missclassify minority class and lower when we missclassify majority class. So we would end up choosing a model with lowest cost function which means model which has better predicted the minority class."
   ]
  },
  {
   "cell_type": "markdown",
   "metadata": {},
   "source": [
    "**Note :** <br>\n",
    "* Class Weight attribute can be used with different ML Estimators like RandomForest, LogisticRegression, SupportVectorMachine etc. \n",
    "* When tuning class_weight we must not use any resampling technique since the main aim of class_weight is to assign weights to unbalanced classes.\n",
    "* Since the weight of minority class must be higher than the weight of majority class (the sum must be 1) we can tune this hyperparameter for only these kind of values (for class 0 weights would range 0.5-0.45 and for class 1 weights would range 0.55-0.95"
   ]
  },
  {
   "cell_type": "code",
   "execution_count": 37,
   "metadata": {},
   "outputs": [],
   "source": [
    "from sklearn.ensemble import RandomForestClassifier"
   ]
  },
  {
   "cell_type": "code",
   "execution_count": 38,
   "metadata": {},
   "outputs": [
    {
     "name": "stdout",
     "output_type": "stream",
     "text": [
      "Entered function tuning_single_hyperparameter.\n"
     ]
    },
    {
     "data": {
      "image/png": "[encoded data removed]",
      "text/plain": [
       "<Figure size 432x288 with 1 Axes>"
      ]
     },
     "metadata": {
      "needs_background": "light"
     },
     "output_type": "display_data"
    },
    {
     "name": "stdout",
     "output_type": "stream",
     "text": [
      "Function tuning_single_hyperparameter Completed Successfully. Exited this function.\n",
      "Max Depth : 3 - Train Score : 0.9924600894292869 , Validation Score : 0.9840881188177985\n",
      "Max Depth : 5 - Train Score : 0.9965762004725004 , Validation Score : 0.9887795981190074\n",
      "Max Depth : 7 - Train Score : 0.9988252823190462 , Validation Score : 0.9908182227513214\n",
      "Max Depth : 9 - Train Score : 0.999668076400315 , Validation Score : 0.9906946944298042\n",
      "Max Depth : 11 - Train Score : 0.9999919149207394 , Validation Score : 0.9912056672157117\n",
      "Max Depth : 15 - Train Score : 1.0 , Validation Score : 0.9911040862303176\n"
     ]
    }
   ],
   "source": [
    "estimator = RandomForestClassifier(random_state=1, n_estimators=400)\n",
    "\n",
    "space = [3, 5, 7, 9, 11, 15]\n",
    "\n",
    "train_scores, val_scores = tuning_single_hyperparameter(estimator, 'RandomForest/', X_train, y_train,\n",
    "                                                        'max_depth', space, 'roc_auc',  5)\n",
    "\n",
    "for x, train_score, val_score in zip(space, train_scores, val_scores):\n",
    "    print(f'Max Depth : {x} - Train Score : {train_score} , Validation Score : {val_score}')"
   ]
  },
  {
   "cell_type": "code",
   "execution_count": 39,
   "metadata": {},
   "outputs": [
    {
     "name": "stdout",
     "output_type": "stream",
     "text": [
      "Entered function tuning_single_hyperparameter.\n"
     ]
    },
    {
     "data": {
      "image/png": "[encoded data removed]",
      "text/plain": [
       "<Figure size 432x288 with 1 Axes>"
      ]
     },
     "metadata": {
      "needs_background": "light"
     },
     "output_type": "display_data"
    },
    {
     "name": "stdout",
     "output_type": "stream",
     "text": [
      "Function tuning_single_hyperparameter Completed Successfully. Exited this function.\n",
      "min_samples_split : 2 - Train Score : 1.0 , Validation Score : 0.9912862419731363\n",
      "min_samples_split : 25 - Train Score : 0.9987700942557425 , Validation Score : 0.9896052578603367\n",
      "min_samples_split : 50 - Train Score : 0.9971892033533717 , Validation Score : 0.9884663951158347\n",
      "min_samples_split : 100 - Train Score : 0.995006335055766 , Validation Score : 0.9865423224130986\n",
      "min_samples_split : 200 - Train Score : 0.9913118129790254 , Validation Score : 0.9834780423283466\n"
     ]
    }
   ],
   "source": [
    "estimator = RandomForestClassifier(random_state=1, n_estimators=400)\n",
    "\n",
    "space = [2, 25, 50, 100, 200]\n",
    "\n",
    "train_scores, val_scores = tuning_single_hyperparameter(estimator, 'RandomForest/', X_train, y_train,\n",
    "                                                        'min_samples_split', space, 'roc_auc',  5)\n",
    "\n",
    "for x, train_score, val_score in zip(space, train_scores, val_scores):\n",
    "    print(f'min_samples_split : {x} - Train Score : {train_score} , Validation Score : {val_score}')"
   ]
  },
  {
   "cell_type": "code",
   "execution_count": 40,
   "metadata": {},
   "outputs": [
    {
     "ename": "SyntaxError",
     "evalue": "invalid syntax (<ipython-input-40-9926073f8992>, line 1)",
     "output_type": "error",
     "traceback": [
      "\u001b[1;36m  File \u001b[1;32m\"<ipython-input-40-9926073f8992>\"\u001b[1;36m, line \u001b[1;32m1\u001b[0m\n\u001b[1;33m    * A good space of min_samples_split would be\u001b[0m\n\u001b[1;37m        ^\u001b[0m\n\u001b[1;31mSyntaxError\u001b[0m\u001b[1;31m:\u001b[0m invalid syntax\n"
     ]
    }
   ],
   "source": [
    "* A good space of min_samples_split would be "
   ]
  },
  {
   "cell_type": "code",
   "execution_count": null,
   "metadata": {},
   "outputs": [],
   "source": [
    "estimator = RandomForestClassifier(random_state=1, n_estimators=400)\n",
    "\n",
    "space = [1, 25, 50, 100, 200]\n",
    "\n",
    "train_scores, val_scores = tuning_single_hyperparameter(estimator, 'RandomForest/', X_train, y_train,\n",
    "                                                        'min_samples_leaf', space, 'roc_auc',  5)\n",
    "\n",
    "for x, train_score, val_score in zip(space, train_scores, val_scores):\n",
    "    print(f'min_samples_leaf : {x} - Train Score : {train_score} , Validation Score : {val_score}')"
   ]
  },
  {
   "cell_type": "code",
   "execution_count": null,
   "metadata": {},
   "outputs": [],
   "source": [
    "estimator = RandomForestClassifier(random_state=1, n_estimators=400)\n",
    "\n",
    "# [:-1][1:] is used to not include 0.05 and 0.45\n",
    "weights = np.linspace(0.05, 0.45, 5)[:-1][1:]\n",
    "\n",
    "params = {'class_weight' : [{0:x, 1:1-x} for x in weights],\n",
    "          'max_depth' : [3, 5, 7, 9, 11],\n",
    "          'max_features' : ['sqrt', 'log2', None],\n",
    "          'min_samples_split' : [2, 5, 7, 10],\n",
    "          'min_samples_leaf' : [1, 3, 6, 10],\n",
    "          'criterion' : ['gini', 'entropy']}\n",
    "\n",
    "dic = best_single_model_RandomizedSearchCV(X_train, y_train, X_test, y_test, model_name='RandomForestClassifier',\n",
    "                        defaultModel=estimator, params=params, cv_scoring='roc_auc', cv_kfold=5, cv_n_iter=30)\n",
    "dic"
   ]
  },
  {
   "cell_type": "markdown",
   "metadata": {},
   "source": [
    "### 6. Ensemble Techniques   <br><br>A) Easy Ensemble Classifier"
   ]
  },
  {
   "cell_type": "markdown",
   "metadata": {},
   "source": [
    "**How it works ?**<br>\n",
    "Bag of balanced boosted learners also known as EasyEnsemble. The classifier is an ensemble of AdaBoost learners trained on different balanced boostrap samples. The balancing is achieved by random under-sampling."
   ]
  },
  {
   "cell_type": "markdown",
   "metadata": {},
   "source": [
    "Most important hyperparameters of EasyEnsembleClassifier are : <br>\n",
    "1. sampling_strategy : \n",
    "2. nr_estimators : nr of base estimators used in bagging. <br>\n",
    "   Note : No need to tune this hyperparameter. Usually a relative high nr works well always (not too large since it requires too much time for training and prediction) <br>\n",
    "3. base_estimator : base Estimator used in bagging. <br>\n",
    "   Note : Usually XGBoost and GradientBoosting  as base_estimator perform better than DecisionTree, AdaBoost, RandomForest so no need to tune this hyperparameter."
   ]
  },
  {
   "cell_type": "markdown",
   "metadata": {},
   "source": [
    "**Note :**<br>\n",
    "Usually tuning these ensembling techniques does not improve model performance at all."
   ]
  },
  {
   "cell_type": "code",
   "execution_count": null,
   "metadata": {},
   "outputs": [],
   "source": [
    "from imblearn.ensemble import EasyEnsembleClassifier"
   ]
  },
  {
   "cell_type": "code",
   "execution_count": null,
   "metadata": {},
   "outputs": [],
   "source": []
  },
  {
   "cell_type": "code",
   "execution_count": null,
   "metadata": {},
   "outputs": [],
   "source": [
    "best_easyensemble = dic['Final Best Model Object']\n",
    "best_easyensemble"
   ]
  },
  {
   "cell_type": "markdown",
   "metadata": {},
   "source": [
    "### B) Balanced Bagging Classifier"
   ]
  },
  {
   "cell_type": "code",
   "execution_count": 42,
   "metadata": {},
   "outputs": [],
   "source": [
    "from imblearn.ensemble import BalancedBaggingClassifier"
   ]
  },
  {
   "cell_type": "markdown",
   "metadata": {},
   "source": [
    "**How it works ?** <br>\n",
    "A Bagging classifier with additional balancing.\n",
    "\n",
    "This implementation of Bagging is similar to the scikit-learn implementation. It includes an additional step to balance the training set at fit time using random under-sampling."
   ]
  },
  {
   "cell_type": "markdown",
   "metadata": {},
   "source": [
    "**Note :**<br>\n",
    "Usually XGBoost and GradientBoosting  as base_estimator perform better than DecisionTree, AdaBoost, RandomForest"
   ]
  },
  {
   "cell_type": "code",
   "execution_count": 43,
   "metadata": {},
   "outputs": [
    {
     "ename": "NameError",
     "evalue": "name 'AdaBoostClassifier' is not defined",
     "output_type": "error",
     "traceback": [
      "\u001b[1;31m---------------------------------------------------------------------------\u001b[0m",
      "\u001b[1;31mNameError\u001b[0m                                 Traceback (most recent call last)",
      "\u001b[1;32m<ipython-input-43-2da7cd248e5a>\u001b[0m in \u001b[0;36m<module>\u001b[1;34m\u001b[0m\n\u001b[0;32m      1\u001b[0m \u001b[0mestimator\u001b[0m \u001b[1;33m=\u001b[0m \u001b[0mBalancedBaggingClassifier\u001b[0m\u001b[1;33m(\u001b[0m\u001b[0mrandom_state\u001b[0m\u001b[1;33m=\u001b[0m\u001b[1;36m1\u001b[0m\u001b[1;33m)\u001b[0m\u001b[1;33m\u001b[0m\u001b[1;33m\u001b[0m\u001b[0m\n\u001b[1;32m----> 2\u001b[1;33m space = [AdaBoostClassifier(), GradientBoostingClassifier(), XGBClassifier(), DecisionTreeClassifier(),\n\u001b[0m\u001b[0;32m      3\u001b[0m          RandomForestClassifier()]\n\u001b[0;32m      4\u001b[0m \u001b[1;33m\u001b[0m\u001b[0m\n\u001b[0;32m      5\u001b[0m train_scores, val_scores = tuning_single_hyperparameter(estimator, 'BalanedBaggingClassifier/', X_train, y_train,\n",
      "\u001b[1;31mNameError\u001b[0m: name 'AdaBoostClassifier' is not defined"
     ]
    }
   ],
   "source": [
    "estimator = BalancedBaggingClassifier(random_state=1)\n",
    "space = [AdaBoostClassifier(), GradientBoostingClassifier(), XGBClassifier(), DecisionTreeClassifier(),\n",
    "         RandomForestClassifier()]\n",
    "\n",
    "train_scores, val_scores = tuning_single_hyperparameter(estimator, 'BalanedBaggingClassifier/', X_train, y_train,\n",
    "                                                        'base_estimator', space, 'roc_auc',  5, graph=False)\n",
    "\n",
    "for x, train_score, val_score in zip(space, train_scores, val_scores):\n",
    "    print(f'Base Estimator : {x} - Train Score : {train_score} , Validation Score : {val_score}')"
   ]
  },
  {
   "cell_type": "code",
   "execution_count": 44,
   "metadata": {},
   "outputs": [
    {
     "name": "stdout",
     "output_type": "stream",
     "text": [
      "Entered function tuning_single_hyperparameter.\n"
     ]
    },
    {
     "data": {
      "image/png": "[encoded data removed]",
      "text/plain": [
       "<Figure size 432x288 with 1 Axes>"
      ]
     },
     "metadata": {
      "needs_background": "light"
     },
     "output_type": "display_data"
    },
    {
     "name": "stdout",
     "output_type": "stream",
     "text": [
      "Function tuning_single_hyperparameter Completed Successfully. Exited this function.\n",
      "N Estimators : 5 - Train Score : 0.9957278273050726 , Validation Score : 0.9810674941361185\n",
      "N Estimators : 10 - Train Score : 0.9983559544242544 , Validation Score : 0.985131945089444\n",
      "N Estimators : 20 - Train Score : 0.9992578112174899 , Validation Score : 0.9853537124827186\n",
      "N Estimators : 40 - Train Score : 0.9993839657600695 , Validation Score : 0.9856356010896187\n",
      "N Estimators : 60 - Train Score : 0.9993994014399604 , Validation Score : 0.9864559443424131\n",
      "N Estimators : 100 - Train Score : 0.99939866696133 , Validation Score : 0.9863620874700357\n",
      "N Estimators : 300 - Train Score : 0.999433724195421 , Validation Score : 0.9865668992069561\n",
      "N Estimators : 500 - Train Score : 0.9994241797110078 , Validation Score : 0.9866340358756194\n"
     ]
    }
   ],
   "source": [
    "estimator = BalancedBaggingClassifier(random_state=1)\n",
    "space = [5, 10, 20, 40, 60, 100, 300, 500]\n",
    "\n",
    "train_scores, val_scores = tuning_single_hyperparameter(estimator, 'BalanedBaggingClassifier/', X_train, y_train,\n",
    "                                                        'n_estimators', space, 'roc_auc',  5, graph=True)\n",
    "\n",
    "for x, train_score, val_score in zip(space, train_scores, val_scores):\n",
    "    print(f'N Estimators : {x} - Train Score : {train_score} , Validation Score : {val_score}')"
   ]
  },
  {
   "cell_type": "code",
   "execution_count": 45,
   "metadata": {},
   "outputs": [
    {
     "name": "stdout",
     "output_type": "stream",
     "text": [
      "Entered function tuning_single_hyperparameter.\n"
     ]
    },
    {
     "data": {
      "image/png": "[encoded data removed]",
      "text/plain": [
       "<Figure size 432x288 with 1 Axes>"
      ]
     },
     "metadata": {
      "needs_background": "light"
     },
     "output_type": "display_data"
    },
    {
     "name": "stdout",
     "output_type": "stream",
     "text": [
      "Function tuning_single_hyperparameter Completed Successfully. Exited this function.\n",
      "Sampling Strategy : 0.5 - Train Score : 0.9995615874346957 , Validation Score : 0.9826900295026487\n",
      "Sampling Strategy : 0.5102040816326531 - Train Score : 0.99950657385425 , Validation Score : 0.9826670820179269\n",
      "Sampling Strategy : 0.5204081632653061 - Train Score : 0.9994764137157915 , Validation Score : 0.9828571640268665\n",
      "Sampling Strategy : 0.5306122448979592 - Train Score : 0.9994394853991638 , Validation Score : 0.9824972877389039\n",
      "Sampling Strategy : 0.5408163265306123 - Train Score : 0.9994280739853046 , Validation Score : 0.982237091316728\n",
      "Sampling Strategy : 0.5510204081632653 - Train Score : 0.9993615193615198 , Validation Score : 0.9823398019253821\n",
      "Sampling Strategy : 0.5612244897959183 - Train Score : 0.9993472153018267 , Validation Score : 0.9820090141053182\n",
      "Sampling Strategy : 0.5714285714285714 - Train Score : 0.9993508955858506 , Validation Score : 0.9819985704202029\n",
      "Sampling Strategy : 0.5816326530612245 - Train Score : 0.9993293489589362 , Validation Score : 0.982093752249946\n",
      "Sampling Strategy : 0.5918367346938775 - Train Score : 0.9993308013038347 , Validation Score : 0.9817275063265548\n",
      "Sampling Strategy : 0.6020408163265306 - Train Score : 0.9992883099919927 , Validation Score : 0.9814613809143806\n",
      "Sampling Strategy : 0.6122448979591837 - Train Score : 0.999270413331541 , Validation Score : 0.981364440300841\n",
      "Sampling Strategy : 0.6224489795918368 - Train Score : 0.9992564391333477 , Validation Score : 0.9814641996640695\n",
      "Sampling Strategy : 0.6326530612244898 - Train Score : 0.9992700444309897 , Validation Score : 0.9818467652642797\n",
      "Sampling Strategy : 0.6428571428571428 - Train Score : 0.9992483212446717 , Validation Score : 0.9829085147995803\n",
      "Sampling Strategy : 0.6530612244897959 - Train Score : 0.9992177922056618 , Validation Score : 0.9829319392689537\n",
      "Sampling Strategy : 0.6632653061224489 - Train Score : 0.9991453962234859 , Validation Score : 0.9827941317049605\n",
      "Sampling Strategy : 0.673469387755102 - Train Score : 0.9991132146075576 , Validation Score : 0.9817417923880299\n",
      "Sampling Strategy : 0.6836734693877551 - Train Score : 0.9990985399860769 , Validation Score : 0.9817400964426021\n",
      "Sampling Strategy : 0.6938775510204082 - Train Score : 0.9990912018447183 , Validation Score : 0.9818454766461358\n",
      "Sampling Strategy : 0.7040816326530612 - Train Score : 0.9990493091523909 , Validation Score : 0.9822126863789041\n",
      "Sampling Strategy : 0.7142857142857143 - Train Score : 0.999047278538122 , Validation Score : 0.984363932300966\n",
      "Sampling Strategy : 0.7244897959183674 - Train Score : 0.9990256159869265 , Validation Score : 0.9846323366398089\n",
      "Sampling Strategy : 0.7346938775510203 - Train Score : 0.9990096560278425 , Validation Score : 0.9848249360677428\n",
      "Sampling Strategy : 0.7448979591836735 - Train Score : 0.9990454892714696 , Validation Score : 0.9842536497551801\n",
      "Sampling Strategy : 0.7551020408163265 - Train Score : 0.9990462233347909 , Validation Score : 0.9826888968583132\n",
      "Sampling Strategy : 0.7653061224489796 - Train Score : 0.999019225846108 , Validation Score : 0.9836269060789185\n",
      "Sampling Strategy : 0.7755102040816326 - Train Score : 0.9989997330907698 , Validation Score : 0.9829514252054523\n",
      "Sampling Strategy : 0.7857142857142857 - Train Score : 0.9990078318752295 , Validation Score : 0.983741093839433\n",
      "Sampling Strategy : 0.7959183673469388 - Train Score : 0.998930508895169 , Validation Score : 0.9833721086637951\n",
      "Sampling Strategy : 0.8061224489795917 - Train Score : 0.9988534410209782 , Validation Score : 0.9830688125437923\n",
      "Sampling Strategy : 0.8163265306122449 - Train Score : 0.9988444083564867 , Validation Score : 0.9826382918596472\n",
      "Sampling Strategy : 0.8265306122448979 - Train Score : 0.9988552244733038 , Validation Score : 0.9817549124870235\n",
      "Sampling Strategy : 0.8367346938775511 - Train Score : 0.9988508038963229 , Validation Score : 0.9840006542820735\n",
      "Sampling Strategy : 0.846938775510204 - Train Score : 0.9988673334032871 , Validation Score : 0.9853455977014912\n",
      "Sampling Strategy : 0.8571428571428571 - Train Score : 0.9988500706636196 , Validation Score : 0.986120983295072\n",
      "Sampling Strategy : 0.8673469387755102 - Train Score : 0.9987318944128187 , Validation Score : 0.9851642762933889\n",
      "Sampling Strategy : 0.8775510204081632 - Train Score : 0.9986028609296038 , Validation Score : 0.9850950196929406\n",
      "Sampling Strategy : 0.8877551020408163 - Train Score : 0.9985846705395403 , Validation Score : 0.9850860599600745\n",
      "Sampling Strategy : 0.8979591836734693 - Train Score : 0.9986384727604491 , Validation Score : 0.9861426058224285\n",
      "Sampling Strategy : 0.9081632653061225 - Train Score : 0.9986217853829888 , Validation Score : 0.9865283710004643\n",
      "Sampling Strategy : 0.9183673469387754 - Train Score : 0.9985419577618624 , Validation Score : 0.9863199985377303\n",
      "Sampling Strategy : 0.9285714285714286 - Train Score : 0.9985068673030468 , Validation Score : 0.9859606620727884\n",
      "Sampling Strategy : 0.9387755102040816 - Train Score : 0.9984953977459197 , Validation Score : 0.9857659593721426\n",
      "Sampling Strategy : 0.9489795918367346 - Train Score : 0.9984645471515909 , Validation Score : 0.9856155518520279\n",
      "Sampling Strategy : 0.9591836734693877 - Train Score : 0.9984516912837055 , Validation Score : 0.9852927432963794\n",
      "Sampling Strategy : 0.9693877551020408 - Train Score : 0.998460350063937 , Validation Score : 0.9856539710408547\n",
      "Sampling Strategy : 0.9795918367346939 - Train Score : 0.998316538494232 , Validation Score : 0.9856164528230362\n",
      "Sampling Strategy : 0.9897959183673469 - Train Score : 0.9983378142865865 , Validation Score : 0.985301474376994\n",
      "Sampling Strategy : 1.0 - Train Score : 0.9983559544242544 , Validation Score : 0.985131945089444\n"
     ]
    }
   ],
   "source": [
    "from imblearn.over_sampling import SMOTE\n",
    "from imblearn.under_sampling import RandomUnderSampler\n",
    "\n",
    "estimator = BalancedBaggingClassifier(random_state=1)\n",
    "space = np.linspace(0.5, 1)\n",
    "\n",
    "train_scores, val_scores = tuning_single_hyperparameter(estimator, 'BalanedBaggingClassifier/', X_train, y_train,\n",
    "                                                        'sampling_strategy', space, 'roc_auc',  5, graph=True)\n",
    "\n",
    "for x, train_score, val_score in zip(space, train_scores, val_scores):\n",
    "    print(f'Sampling Strategy : {x} - Train Score : {train_score} , Validation Score : {val_score}')"
   ]
  },
  {
   "cell_type": "code",
   "execution_count": 46,
   "metadata": {},
   "outputs": [
    {
     "name": "stdout",
     "output_type": "stream",
     "text": [
      "Entered function best_single_model_RandomizedSearchCV. \n",
      "Entered function evaluate_model_cross_validation.\n",
      "Function evaluate_model_cross_validation Completed Successfully.Exited this function.\n",
      "Entered the function train_model\n",
      "Function train_model Completed Successfully! Exited this function.\n",
      "Default BalancedBaggingClassifier Model Performance on TEST SET : \n",
      "Entered function evaluate_model_classification.\n",
      "              precision    recall  f1-score   support\n",
      "\n",
      "           0       0.99      0.97      0.98       492\n",
      "           1       0.88      0.94      0.91       108\n",
      "\n",
      "    accuracy                           0.97       600\n",
      "   macro avg       0.93      0.96      0.95       600\n",
      "weighted avg       0.97      0.97      0.97       600\n",
      "\n",
      "Function evaluate_model_classification Completed Successfully. Exited this function\n",
      "Default BalancedBaggingClassifier Model Performance on TRAINING SET : \n",
      "Entered function evaluate_model_classification.\n",
      "              precision    recall  f1-score   support\n",
      "\n",
      "           0       1.00      0.98      0.99      1968\n",
      "           1       0.90      1.00      0.95       432\n",
      "\n",
      "    accuracy                           0.98      2400\n",
      "   macro avg       0.95      0.99      0.97      2400\n",
      "weighted avg       0.98      0.98      0.98      2400\n",
      "\n",
      "Function evaluate_model_classification Completed Successfully. Exited this function\n",
      "Entered the function HyperparameterTuning_RandomizedSearchCV.\n"
     ]
    },
    {
     "name": "stderr",
     "output_type": "stream",
     "text": [
      "C:\\Anaconda3\\lib\\site-packages\\sklearn\\model_selection\\_search.py:285: UserWarning: The total space of parameters 3 is smaller than n_iter=30. Running 3 iterations. For exhaustive searches, use GridSearchCV.\n",
      "  warnings.warn(\n",
      "C:\\Anaconda3\\lib\\site-packages\\sklearn\\model_selection\\_search.py:918: UserWarning: One or more of the test scores are non-finite: [0.99208871 0.99034995        nan]\n",
      "  warnings.warn(\n"
     ]
    },
    {
     "name": "stdout",
     "output_type": "stream",
     "text": [
      "Function HyperparameterTuning_RandomizedSearchCV Completed Successfully! Exited this function.\n",
      "Entered function evaluate_model_cross_validation.\n",
      "Function evaluate_model_cross_validation Completed Successfully.Exited this function.\n",
      "Entered the function train_model\n",
      "Function train_model Completed Successfully! Exited this function.\n",
      "Tuned Model BalancedBaggingClassifier Performance on TEST SET : \n",
      "Entered function evaluate_model_classification.\n",
      "              precision    recall  f1-score   support\n",
      "\n",
      "           0       0.99      0.97      0.98       492\n",
      "           1       0.88      0.94      0.91       108\n",
      "\n",
      "    accuracy                           0.96       600\n",
      "   macro avg       0.93      0.95      0.94       600\n",
      "weighted avg       0.97      0.96      0.97       600\n",
      "\n",
      "Function evaluate_model_classification Completed Successfully. Exited this function\n",
      "Tuned Model BalancedBaggingClassifier Performance on TRAINING SET : \n",
      "Entered function evaluate_model_classification.\n",
      "              precision    recall  f1-score   support\n",
      "\n",
      "           0       1.00      0.98      0.99      1968\n",
      "           1       0.93      0.99      0.96       432\n",
      "\n",
      "    accuracy                           0.99      2400\n",
      "   macro avg       0.96      0.99      0.98      2400\n",
      "weighted avg       0.99      0.99      0.99      2400\n",
      "\n",
      "Function evaluate_model_classification Completed Successfully. Exited this function\n",
      "Function best_single_model_RandomizedSearchCV Completed Successfully. Exited this function.\n"
     ]
    },
    {
     "data": {
      "text/plain": [
       "{'Model Name': 'BalancedBaggingClassifier',\n",
       " 'Default Model Object': BalancedBaggingClassifier(base_estimator=XGBClassifier(base_score=None,\n",
       "                                                        booster=None,\n",
       "                                                        colsample_bylevel=None,\n",
       "                                                        colsample_bynode=None,\n",
       "                                                        colsample_bytree=None,\n",
       "                                                        gamma=None, gpu_id=None,\n",
       "                                                        importance_type='gain',\n",
       "                                                        interaction_constraints=None,\n",
       "                                                        learning_rate=None,\n",
       "                                                        max_delta_step=None,\n",
       "                                                        max_depth=None,\n",
       "                                                        min_child_weight=None,\n",
       "                                                        missing=nan,\n",
       "                                                        monotone_constraints=None,\n",
       "                                                        n_estimators=100,\n",
       "                                                        n_jobs=None,\n",
       "                                                        num_parallel_tree=None,\n",
       "                                                        random_state=1,\n",
       "                                                        reg_alpha=None,\n",
       "                                                        reg_lambda=None,\n",
       "                                                        scale_pos_weight=None,\n",
       "                                                        subsample=None,\n",
       "                                                        tree_method=None,\n",
       "                                                        validate_parameters=None,\n",
       "                                                        verbosity=None),\n",
       "                           n_jobs=-1, random_state=1),\n",
       " 'Default Model Test Score': 0.9579945799457995,\n",
       " 'Default Model Training Score': 0.9854900632339656,\n",
       " 'Default Model CV Mean Score': 0.9903499453570319,\n",
       " 'Default Model CV Scores': array([0.99179554, 0.99220871, 0.98757526, 0.98838876, 0.99178146]),\n",
       " 'Tuned Model Object': BalancedBaggingClassifier(base_estimator=XGBClassifier(base_score=None,\n",
       "                                                        booster=None,\n",
       "                                                        colsample_bylevel=None,\n",
       "                                                        colsample_bynode=None,\n",
       "                                                        colsample_bytree=None,\n",
       "                                                        gamma=None, gpu_id=None,\n",
       "                                                        importance_type='gain',\n",
       "                                                        interaction_constraints=None,\n",
       "                                                        learning_rate=None,\n",
       "                                                        max_delta_step=None,\n",
       "                                                        max_depth=None,\n",
       "                                                        min_child_weight=None,\n",
       "                                                        missing=nan,\n",
       "                                                        monotone_constraints=None,\n",
       "                                                        n_estimators=100,\n",
       "                                                        n_jobs=None,\n",
       "                                                        num_parallel_tree=None,\n",
       "                                                        random_state=1,\n",
       "                                                        reg_alpha=None,\n",
       "                                                        reg_lambda=None,\n",
       "                                                        scale_pos_weight=None,\n",
       "                                                        subsample=None,\n",
       "                                                        tree_method=None,\n",
       "                                                        validate_parameters=None,\n",
       "                                                        verbosity=None),\n",
       "                           n_jobs=-1, random_state=1, sampling_strategy=0.5),\n",
       " 'Best Hyperparameters': {'sampling_strategy': 0.5},\n",
       " 'Tuned Model CV Mean Score': 0.9920887089184195,\n",
       " 'Tuned Model CV Scores': array([0.99327116, 0.99400897, 0.98837209, 0.99268813, 0.99210319]),\n",
       " 'Tuned Model Test Score': 0.9533649503161697,\n",
       " 'Tuned Model Training Score': 0.9883976964769647,\n",
       " 'Final Best Model Name': 'Default Model',\n",
       " 'Final Best Test Score': 0.9579945799457995,\n",
       " 'Final Best Model Object': BalancedBaggingClassifier(base_estimator=XGBClassifier(base_score=None,\n",
       "                                                        booster=None,\n",
       "                                                        colsample_bylevel=None,\n",
       "                                                        colsample_bynode=None,\n",
       "                                                        colsample_bytree=None,\n",
       "                                                        gamma=None, gpu_id=None,\n",
       "                                                        importance_type='gain',\n",
       "                                                        interaction_constraints=None,\n",
       "                                                        learning_rate=None,\n",
       "                                                        max_delta_step=None,\n",
       "                                                        max_depth=None,\n",
       "                                                        min_child_weight=None,\n",
       "                                                        missing=nan,\n",
       "                                                        monotone_constraints=None,\n",
       "                                                        n_estimators=100,\n",
       "                                                        n_jobs=None,\n",
       "                                                        num_parallel_tree=None,\n",
       "                                                        random_state=1,\n",
       "                                                        reg_alpha=None,\n",
       "                                                        reg_lambda=None,\n",
       "                                                        scale_pos_weight=None,\n",
       "                                                        subsample=None,\n",
       "                                                        tree_method=None,\n",
       "                                                        validate_parameters=None,\n",
       "                                                        verbosity=None),\n",
       "                           n_jobs=-1, random_state=1)}"
      ]
     },
     "execution_count": 46,
     "metadata": {},
     "output_type": "execute_result"
    },
    {
     "data": {
      "text/plain": [
       "<Figure size 1080x864 with 0 Axes>"
      ]
     },
     "metadata": {},
     "output_type": "display_data"
    },
    {
     "data": {
      "image/png": "[encoded data removed]",
      "text/plain": [
       "<Figure size 432x288 with 2 Axes>"
      ]
     },
     "metadata": {
      "needs_background": "light"
     },
     "output_type": "display_data"
    },
    {
     "data": {
      "text/plain": [
       "<Figure size 1080x864 with 0 Axes>"
      ]
     },
     "metadata": {},
     "output_type": "display_data"
    },
    {
     "data": {
      "image/png": "[encoded data removed]",
      "text/plain": [
       "<Figure size 432x288 with 2 Axes>"
      ]
     },
     "metadata": {
      "needs_background": "light"
     },
     "output_type": "display_data"
    },
    {
     "data": {
      "text/plain": [
       "<Figure size 1080x864 with 0 Axes>"
      ]
     },
     "metadata": {},
     "output_type": "display_data"
    },
    {
     "data": {
      "image/png": "[encoded data removed]",
      "text/plain": [
       "<Figure size 432x288 with 2 Axes>"
      ]
     },
     "metadata": {
      "needs_background": "light"
     },
     "output_type": "display_data"
    },
    {
     "data": {
      "text/plain": [
       "<Figure size 1080x864 with 0 Axes>"
      ]
     },
     "metadata": {},
     "output_type": "display_data"
    },
    {
     "data": {
      "image/png": "[encoded data removed]",
      "text/plain": [
       "<Figure size 432x288 with 2 Axes>"
      ]
     },
     "metadata": {
      "needs_background": "light"
     },
     "output_type": "display_data"
    }
   ],
   "source": [
    "estimator = BalancedBaggingClassifier(random_state=1, base_estimator=XGBClassifier(random_state=1),\n",
    "                                   n_jobs=-1)\n",
    "\n",
    "params = {'sampling_strategy' : [0.5, 1, 6]}\n",
    "\n",
    "dic = best_single_model_RandomizedSearchCV(X_train, y_train, X_test, y_test, model_name='BalancedBaggingClassifier',\n",
    "                        defaultModel=estimator, params=params, cv_scoring='roc_auc', cv_kfold=5, cv_n_iter=30)\n",
    "dic"
   ]
  },
  {
   "cell_type": "markdown",
   "metadata": {},
   "source": [
    "### C) Balanced RandomForest Classifier"
   ]
  },
  {
   "cell_type": "markdown",
   "metadata": {},
   "source": [
    "**How it works ?**<br>\n",
    "A balanced random forest classifier.A balanced random forest randomly under-samples each boostrap sample to balance it."
   ]
  },
  {
   "cell_type": "code",
   "execution_count": 47,
   "metadata": {},
   "outputs": [],
   "source": [
    "from imblearn.ensemble import BalancedRandomForestClassifier"
   ]
  },
  {
   "cell_type": "code",
   "execution_count": 48,
   "metadata": {},
   "outputs": [
    {
     "name": "stdout",
     "output_type": "stream",
     "text": [
      "Entered function tuning_single_hyperparameter.\n"
     ]
    },
    {
     "data": {
      "image/png": "[encoded data removed]",
      "text/plain": [
       "<Figure size 432x288 with 1 Axes>"
      ]
     },
     "metadata": {
      "needs_background": "light"
     },
     "output_type": "display_data"
    },
    {
     "name": "stdout",
     "output_type": "stream",
     "text": [
      "Function tuning_single_hyperparameter Completed Successfully. Exited this function.\n",
      "Sampling Strategy : 0.5 - Train Score : 0.9999336726033239 , Validation Score : 0.9903272128865639\n",
      "Sampling Strategy : 0.5102040816326531 - Train Score : 0.9999180175871963 , Validation Score : 0.9901254750507317\n",
      "Sampling Strategy : 0.5204081632653061 - Train Score : 0.9999066298459536 , Validation Score : 0.989083384084811\n",
      "Sampling Strategy : 0.5306122448979592 - Train Score : 0.9998850994160925 , Validation Score : 0.9877998641351601\n",
      "Sampling Strategy : 0.5408163265306123 - Train Score : 0.9999101360624282 , Validation Score : 0.9892079723722205\n",
      "Sampling Strategy : 0.5510204081632653 - Train Score : 0.9999132484598079 , Validation Score : 0.9901934066938145\n",
      "Sampling Strategy : 0.5612244897959183 - Train Score : 0.9998862430802529 , Validation Score : 0.9884009672537486\n",
      "Sampling Strategy : 0.5714285714285714 - Train Score : 0.9998746654897166 , Validation Score : 0.9882597019394554\n",
      "Sampling Strategy : 0.5816326530612245 - Train Score : 0.9998722967077665 , Validation Score : 0.9900492726526131\n",
      "Sampling Strategy : 0.5918367346938775 - Train Score : 0.9998638472963541 , Validation Score : 0.9897293986833173\n",
      "Sampling Strategy : 0.6020408163265306 - Train Score : 0.9998366030610368 , Validation Score : 0.9894871315669475\n",
      "Sampling Strategy : 0.6122448979591837 - Train Score : 0.9998158079404241 , Validation Score : 0.9884637118829576\n",
      "Sampling Strategy : 0.6224489795918368 - Train Score : 0.9998463880624484 , Validation Score : 0.987940934115348\n",
      "Sampling Strategy : 0.6326530612244898 - Train Score : 0.9998365644372946 , Validation Score : 0.9895773020367736\n",
      "Sampling Strategy : 0.6428571428571428 - Train Score : 0.9998501797023538 , Validation Score : 0.9879842919856486\n",
      "Sampling Strategy : 0.6530612244897959 - Train Score : 0.9998586760436897 , Validation Score : 0.9906007943992066\n",
      "Sampling Strategy : 0.6632653061224489 - Train Score : 0.9998079650393983 , Validation Score : 0.9897771485930725\n",
      "Sampling Strategy : 0.673469387755102 - Train Score : 0.999758164657832 , Validation Score : 0.988933542886864\n",
      "Sampling Strategy : 0.6836734693877551 - Train Score : 0.9998017024515148 , Validation Score : 0.989492212584232\n",
      "Sampling Strategy : 0.6938775510204082 - Train Score : 0.9998175082778843 , Validation Score : 0.988471211141646\n",
      "Sampling Strategy : 0.7040816326530612 - Train Score : 0.9998119747696131 , Validation Score : 0.9889339668732209\n",
      "Sampling Strategy : 0.7142857142857143 - Train Score : 0.9998223089687611 , Validation Score : 0.9885127935690772\n",
      "Sampling Strategy : 0.7244897959183674 - Train Score : 0.9997432599020794 , Validation Score : 0.9883958567162413\n",
      "Sampling Strategy : 0.7346938775510203 - Train Score : 0.9997724616572713 , Validation Score : 0.988175228786301\n",
      "Sampling Strategy : 0.7448979591836735 - Train Score : 0.9997937627834785 , Validation Score : 0.989800245232604\n",
      "Sampling Strategy : 0.7551020408163265 - Train Score : 0.9997640562686192 , Validation Score : 0.988427826772198\n",
      "Sampling Strategy : 0.7653061224489796 - Train Score : 0.999776477617122 , Validation Score : 0.9892156238067938\n",
      "Sampling Strategy : 0.7755102040816326 - Train Score : 0.9996915784705589 , Validation Score : 0.9891599673110661\n",
      "Sampling Strategy : 0.7857142857142857 - Train Score : 0.9997184467450706 , Validation Score : 0.9891757206657175\n",
      "Sampling Strategy : 0.7959183673469388 - Train Score : 0.9996714417739649 , Validation Score : 0.9879160423527982\n",
      "Sampling Strategy : 0.8061224489795917 - Train Score : 0.9996244875236183 , Validation Score : 0.9873959939973613\n",
      "Sampling Strategy : 0.8163265306122449 - Train Score : 0.9996948653507969 , Validation Score : 0.989067736726749\n",
      "Sampling Strategy : 0.8265306122448979 - Train Score : 0.9996136568709841 , Validation Score : 0.9880894071977092\n",
      "Sampling Strategy : 0.8367346938775511 - Train Score : 0.999601722423859 , Validation Score : 0.9883650556438418\n",
      "Sampling Strategy : 0.846938775510204 - Train Score : 0.9996586852179984 , Validation Score : 0.9886749629126739\n",
      "Sampling Strategy : 0.8571428571428571 - Train Score : 0.9996399211269639 , Validation Score : 0.9891491859560346\n",
      "Sampling Strategy : 0.8673469387755102 - Train Score : 0.9995921804313005 , Validation Score : 0.9875002052173378\n",
      "Sampling Strategy : 0.8775510204081632 - Train Score : 0.999583693226764 , Validation Score : 0.9872623134813496\n",
      "Sampling Strategy : 0.8877551020408163 - Train Score : 0.9996041140478074 , Validation Score : 0.9881895012097784\n",
      "Sampling Strategy : 0.8979591836734693 - Train Score : 0.9996156185439495 , Validation Score : 0.9878967880896266\n",
      "Sampling Strategy : 0.9081632653061225 - Train Score : 0.9996086538715419 , Validation Score : 0.9878732379435154\n",
      "Sampling Strategy : 0.9183673469387754 - Train Score : 0.9995890294101784 , Validation Score : 0.9879085037338127\n",
      "Sampling Strategy : 0.9285714285714286 - Train Score : 0.9995223023800806 , Validation Score : 0.9886454504584183\n",
      "Sampling Strategy : 0.9387755102040816 - Train Score : 0.9995614432693986 , Validation Score : 0.9877826003291122\n",
      "Sampling Strategy : 0.9489795918367346 - Train Score : 0.9995327072348225 , Validation Score : 0.9889479447850025\n",
      "Sampling Strategy : 0.9591836734693877 - Train Score : 0.9995294589783269 , Validation Score : 0.9868134660041887\n",
      "Sampling Strategy : 0.9693877551020408 - Train Score : 0.9996191924558004 , Validation Score : 0.9884677564124216\n",
      "Sampling Strategy : 0.9795918367346939 - Train Score : 0.9994986195973427 , Validation Score : 0.9882487282713941\n",
      "Sampling Strategy : 0.9897959183673469 - Train Score : 0.9995097763736952 , Validation Score : 0.9880194487582811\n",
      "Sampling Strategy : 1.0 - Train Score : 0.9995066702059514 , Validation Score : 0.9888328628724782\n"
     ]
    }
   ],
   "source": [
    "estimator = BalancedRandomForestClassifier(random_state=1)\n",
    "space = np.linspace(0.5, 1)\n",
    "\n",
    "train_scores, val_scores = tuning_single_hyperparameter(estimator, 'BalanedRandomForestClassifier/', X_train, y_train,\n",
    "                                                        'sampling_strategy', space, 'roc_auc',  5, graph=True)\n",
    "\n",
    "for x, train_score, val_score in zip(space, train_scores, val_scores):\n",
    "    print(f'Sampling Strategy : {x} - Train Score : {train_score} , Validation Score : {val_score}')"
   ]
  },
  {
   "cell_type": "code",
   "execution_count": 50,
   "metadata": {},
   "outputs": [
    {
     "name": "stdout",
     "output_type": "stream",
     "text": [
      "Entered function best_single_model_RandomizedSearchCV. \n",
      "Entered function evaluate_model_cross_validation.\n",
      "Function evaluate_model_cross_validation Completed Successfully.Exited this function.\n",
      "Entered the function train_model\n",
      "Function train_model Completed Successfully! Exited this function.\n",
      "Default BalancedRandomForestClassifier Model Performance on TEST SET : \n",
      "Entered function evaluate_model_classification.\n",
      "              precision    recall  f1-score   support\n",
      "\n",
      "           0       0.99      0.96      0.98       492\n",
      "           1       0.85      0.94      0.89       108\n",
      "\n",
      "    accuracy                           0.96       600\n",
      "   macro avg       0.92      0.95      0.94       600\n",
      "weighted avg       0.96      0.96      0.96       600\n",
      "\n",
      "Function evaluate_model_classification Completed Successfully. Exited this function\n",
      "Default BalancedRandomForestClassifier Model Performance on TRAINING SET : \n",
      "Entered function evaluate_model_classification.\n",
      "              precision    recall  f1-score   support\n",
      "\n",
      "           0       1.00      0.97      0.99      1968\n",
      "           1       0.89      1.00      0.94       432\n",
      "\n",
      "    accuracy                           0.98      2400\n",
      "   macro avg       0.94      0.99      0.96      2400\n",
      "weighted avg       0.98      0.98      0.98      2400\n",
      "\n",
      "Function evaluate_model_classification Completed Successfully. Exited this function\n",
      "Entered the function HyperparameterTuning_RandomizedSearchCV.\n"
     ]
    },
    {
     "name": "stderr",
     "output_type": "stream",
     "text": [
      "C:\\Anaconda3\\lib\\site-packages\\sklearn\\model_selection\\_search.py:285: UserWarning: The total space of parameters 3 is smaller than n_iter=30. Running 3 iterations. For exhaustive searches, use GridSearchCV.\n",
      "  warnings.warn(\n",
      "C:\\Anaconda3\\lib\\site-packages\\sklearn\\model_selection\\_search.py:918: UserWarning: One or more of the test scores are non-finite: [0.99032721 0.98883286        nan]\n",
      "  warnings.warn(\n"
     ]
    },
    {
     "name": "stdout",
     "output_type": "stream",
     "text": [
      "Function HyperparameterTuning_RandomizedSearchCV Completed Successfully! Exited this function.\n",
      "Entered function evaluate_model_cross_validation.\n",
      "Function evaluate_model_cross_validation Completed Successfully.Exited this function.\n",
      "Entered the function train_model\n",
      "Function train_model Completed Successfully! Exited this function.\n",
      "Tuned Model BalancedRandomForestClassifier Performance on TEST SET : \n",
      "Entered function evaluate_model_classification.\n",
      "              precision    recall  f1-score   support\n",
      "\n",
      "           0       0.99      0.98      0.98       492\n",
      "           1       0.89      0.94      0.91       108\n",
      "\n",
      "    accuracy                           0.97       600\n",
      "   macro avg       0.94      0.96      0.95       600\n",
      "weighted avg       0.97      0.97      0.97       600\n",
      "\n",
      "Function evaluate_model_classification Completed Successfully. Exited this function\n",
      "Tuned Model BalancedRandomForestClassifier Performance on TRAINING SET : \n",
      "Entered function evaluate_model_classification.\n",
      "              precision    recall  f1-score   support\n",
      "\n",
      "           0       1.00      0.99      0.99      1968\n",
      "           1       0.94      1.00      0.97       432\n",
      "\n",
      "    accuracy                           0.99      2400\n",
      "   macro avg       0.97      0.99      0.98      2400\n",
      "weighted avg       0.99      0.99      0.99      2400\n",
      "\n",
      "Function evaluate_model_classification Completed Successfully. Exited this function\n",
      "Function best_single_model_RandomizedSearchCV Completed Successfully. Exited this function.\n"
     ]
    },
    {
     "data": {
      "text/plain": [
       "{'Model Name': 'BalancedRandomForestClassifier',\n",
       " 'Default Model Object': BalancedRandomForestClassifier(n_jobs=-1, random_state=1),\n",
       " 'Default Model Test Score': 0.9539295392953928,\n",
       " 'Default Model Training Score': 0.9857723577235773,\n",
       " 'Default Model CV Mean Score': 0.9888328628724782,\n",
       " 'Default Model CV Scores': array([0.991707  , 0.98983296, 0.98400425, 0.98647305, 0.99214706]),\n",
       " 'Tuned Model Object': BalancedRandomForestClassifier(n_jobs=-1, random_state=1, sampling_strategy=0.5),\n",
       " 'Best Hyperparameters': {'sampling_strategy': 0.5},\n",
       " 'Tuned Model CV Mean Score': 0.9903272128865639,\n",
       " 'Tuned Model CV Scores': array([0.99091016, 0.98930174, 0.9868522 , 0.99052382, 0.99404814]),\n",
       " 'Tuned Model Test Score': 0.955397470641373,\n",
       " 'Tuned Model Training Score': 0.9928861788617885,\n",
       " 'Final Best Model Name': 'Tuned Model',\n",
       " 'Final Best Test Score': 0.955397470641373,\n",
       " 'Final Best Model Object': BalancedRandomForestClassifier(n_jobs=-1, random_state=1, sampling_strategy=0.5)}"
      ]
     },
     "execution_count": 50,
     "metadata": {},
     "output_type": "execute_result"
    },
    {
     "data": {
      "text/plain": [
       "<Figure size 1080x864 with 0 Axes>"
      ]
     },
     "metadata": {},
     "output_type": "display_data"
    },
    {
     "data": {
      "image/png": "[encoded data removed]",
      "text/plain": [
       "<Figure size 432x288 with 2 Axes>"
      ]
     },
     "metadata": {
      "needs_background": "light"
     },
     "output_type": "display_data"
    },
    {
     "data": {
      "text/plain": [
       "<Figure size 1080x864 with 0 Axes>"
      ]
     },
     "metadata": {},
     "output_type": "display_data"
    },
    {
     "data": {
      "image/png": "[encoded data removed]",
      "text/plain": [
       "<Figure size 432x288 with 2 Axes>"
      ]
     },
     "metadata": {
      "needs_background": "light"
     },
     "output_type": "display_data"
    },
    {
     "data": {
      "text/plain": [
       "<Figure size 1080x864 with 0 Axes>"
      ]
     },
     "metadata": {},
     "output_type": "display_data"
    },
    {
     "data": {
      "image/png": "[encoded data removed]",
      "text/plain": [
       "<Figure size 432x288 with 2 Axes>"
      ]
     },
     "metadata": {
      "needs_background": "light"
     },
     "output_type": "display_data"
    },
    {
     "data": {
      "text/plain": [
       "<Figure size 1080x864 with 0 Axes>"
      ]
     },
     "metadata": {},
     "output_type": "display_data"
    },
    {
     "data": {
      "image/png": "[encoded data removed]",
      "text/plain": [
       "<Figure size 432x288 with 2 Axes>"
      ]
     },
     "metadata": {
      "needs_background": "light"
     },
     "output_type": "display_data"
    }
   ],
   "source": [
    "estimator = BalancedRandomForestClassifier(random_state=1,\n",
    "                                   n_jobs=-1)\n",
    "\n",
    "params = {'sampling_strategy' : [0.5, 1, 6]}\n",
    "\n",
    "dic = best_single_model_RandomizedSearchCV(X_train, y_train, X_test, y_test, model_name='BalancedRandomForestClassifier',\n",
    "                        defaultModel=estimator, params=params, cv_scoring='roc_auc', cv_kfold=5, cv_n_iter=30)\n",
    "dic"
   ]
  },
  {
   "cell_type": "markdown",
   "metadata": {},
   "source": [
    "### D) RUSBoostClassifier"
   ]
  },
  {
   "cell_type": "code",
   "execution_count": null,
   "metadata": {},
   "outputs": [],
   "source": []
  }
 ],
 "metadata": {
  "kernelspec": {
   "display_name": "Python 3 (ipykernel)",
   "language": "python",
   "name": "python3"
  },
  "language_info": {
   "codemirror_mode": {
    "name": "ipython",
    "version": 3
   },
   "file_extension": ".py",
   "mimetype": "text/x-python",
   "name": "python",
   "nbconvert_exporter": "python",
   "pygments_lexer": "ipython3",
   "version": "3.9.7"
  }
 },
 "nbformat": 4,
 "nbformat_minor": 4
}
