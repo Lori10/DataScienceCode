{
 "cells": [
  {
   "cell_type": "markdown",
   "metadata": {},
   "source": [
    "### What is Feature Scaling ?"
   ]
  },
  {
   "cell_type": "markdown",
   "metadata": {},
   "source": [
    "Feature scaling means changing the scale of features when they have large differences between their ranges, or simply when they are measured in different measurement units (e.g., Pounds, Meters, Miles … etc) without changing the meaning/shape/distribution of the data or distorting differences in ranges of values."
   ]
  },
  {
   "cell_type": "markdown",
   "metadata": {},
   "source": [
    "### Why to do Feature Scaling ?\n",
    "1. To bring all the features (that may be in different scale) to the same scale \n",
    "2. To avoid numerical instabilities potentially caused by too large numbers when features are in wide and different ranges, \n",
    "3. To speed up optimization algorithms like Gradient Descent, \n",
    "4. to avoid the impact of feature with high magnitude in prediction. <br>\n",
    "\n",
    "Example 1 : In Linear Regression if we have feature f1 that ranges 10k-100k and feature f2 that ranges 1-10, feature f1 would have a much more higher impact on prediction only because of its magnitude even though it may have a lower weight than feature f2.(pred = weight_1 * f_1 + weight_2 * f_2) We dont want our prediction to get impacted by the magnitude of the features but should treat all the independet features equally.\n",
    "\n",
    "Example 2 :Yes because the distance calculation done in KNN uses feature values. When the one feature values are large than other, that feature will dominate the distance hence the outcome of the KNN. For example if we have feature x1 in range 1-10 and feature x2 in range 10k-100k. If we calculate the euclidean distance between 2 particular points it will be a huge value because of the high magnitude of feature x2 even though they might be similar points. This will impact the performance of all distance based model as it will give higher weightage/distance to variables which have higher magnitude. <br>\n",
    "\n",
    "Example 3 : Gradient descent converges much faster with feature scaling than without it. If we would have features in different magnitudes that would impact the calculation of cost function which might be too high because of the high magnitude. So we would end up starting with a very huge value of cost function and then trying to decrease it using weights updation. This would make the Gradient Descent converge much slowly. <br>It's also important to apply feature scaling if regularization is used as part of the loss function (so that coefficients are penalized appropriately)."
   ]
  },
  {
   "cell_type": "markdown",
   "metadata": {},
   "source": [
    "### Which ML Algorithms require feature scaling/transformation?\n",
    "\n",
    "Logistic Regression, ANN, CNN, RNN because they use Gradient Descent. <br>\n",
    "KNN, KMeans,Hierarichal Clustering, SVM, PCA because they use euclidean distance.\n"
   ]
  },
  {
   "cell_type": "markdown",
   "metadata": {},
   "source": [
    "### Types Of Transformations :\n",
    "1. Standardization (StandardScaler)\n",
    "2. Normalization (MinMaxScaler)\n",
    "3. Robust Scaler (Scaling To Median And Quantiles) \n",
    "4. MaxAbsScaler <br>\n",
    "4. Guassian Transformation : A) Logarithmic Transformation, B) Reciprocal Trnasformation, C) Square Root Transformation, D)Exponential Trnasformation, E) Box Cox Transformation"
   ]
  },
  {
   "cell_type": "markdown",
   "metadata": {},
   "source": [
    "**Note:**<br>\n",
    "Sometimes we should scale one hot encoded features but in some cases we dont have to scale them since they are already scaled.(values between 0 and 1). We should try both approaches and choose the one with better performance."
   ]
  },
  {
   "cell_type": "code",
   "execution_count": 2,
   "metadata": {},
   "outputs": [],
   "source": [
    "import pandas as pd\n",
    "import numpy as np"
   ]
  },
  {
   "cell_type": "markdown",
   "metadata": {},
   "source": [
    "### 1. Standardization\n",
    "\n",
    "**How it works?**<br>\n",
    "Standardization comes into picture when features of input data set have large differences between their ranges, or simply when they are measured in different measurement units (e.g., Pounds, Meters, Miles … etc).\n",
    "\n",
    "We try to bring all the variables or features to a similar scale. Standarisation means centering the variable at zero.\n",
    "For each feature we apploy z=(x-x_mean)/std and after standardization we have all values of that feature with mean=0 and std=1"
   ]
  },
  {
   "cell_type": "markdown",
   "metadata": {},
   "source": [
    "**When to use?**<br>\n",
    "* We use standardization when the feature does not contain outliers when calculating the mean and std since mean is affected by outliers. Wee can first remove the outliers for example using Gaussian Transformations like Log Transformation and then apply StandardScaler. If feature has outliers and we apply StandardScaler after scaling outliers will be close to the mean which means this will change shape/meaning of data which we dont want."
   ]
  },
  {
   "cell_type": "code",
   "execution_count": 3,
   "metadata": {},
   "outputs": [],
   "source": [
    "from sklearn.model_selection import train_test_split\n",
    "\n",
    "df=pd.read_csv('titanic.csv', usecols=['Pclass','Age','Fare','Survived'])\n",
    "df['Age'].fillna(df.Age.median(),inplace=True)\n",
    "X=df.iloc[:,1:]\n",
    "y=df.iloc[:,0]\n",
    "X_train, X_test, y_train, y_test = train_test_split(X, y, test_size=0.33, random_state=42)"
   ]
  },
  {
   "cell_type": "code",
   "execution_count": 4,
   "metadata": {},
   "outputs": [],
   "source": [
    "\n",
    "from sklearn.preprocessing import StandardScaler\n",
    "\n",
    "def standardization(X_train, X_test, cols_to_scale, one_hot_cols):\n",
    "    try:\n",
    "        print('Entered function feature_scaling.')\n",
    "\n",
    "        # scaling training features\n",
    "        X_train_cols_to_scale = X_train[cols_to_scale]\n",
    "        cols = X_train_cols_to_scale.columns\n",
    "        scaler = StandardScaler()\n",
    "        X_train_scaled = scaler.fit_transform(X_train_cols_to_scale)\n",
    "        X_train = pd.DataFrame(data=X_train_scaled, columns=cols)\n",
    "        \n",
    "        # scaling test features\n",
    "        X_test_cols_to_scale = X_test[cols_to_scale]\n",
    "        cols = X_test_cols_to_scale.columns\n",
    "        X_test_scaled = scaler.transform(X_test_cols_to_scale)\n",
    "        X_test = pd.DataFrame(data=X_test_scaled, columns=cols)\n",
    "        \n",
    "        if one_hot_cols != []:\n",
    "        \n",
    "            X_train_one_hot_cols = X_train[one_hot_cols]\n",
    "            X_train = pd.concat([X_train, X_train_one_hot_cols.reset_index()], axis=1)\n",
    "        \n",
    "            X_test_one_hot_cols = X_test[one_hot_cols]\n",
    "            X_test = pd.concat([X_test, X_test_one_hot_cols.reset_index()], axis=1)\n",
    "\n",
    "        print('Function feature_scaling Completed Succesfully. Exited this function.')\n",
    "        return X_train, X_test\n",
    "\n",
    "    except Exception as e:\n",
    "        print('Error occured in function feature_scaling. Error Message:' + str(e))"
   ]
  },
  {
   "cell_type": "code",
   "execution_count": 5,
   "metadata": {},
   "outputs": [
    {
     "name": "stdout",
     "output_type": "stream",
     "text": [
      "Entered function feature_scaling.\n",
      "Function feature_scaling Completed Succesfully. Exited this function.\n"
     ]
    }
   ],
   "source": [
    "cols = X_train.columns\n",
    "X_train, X_test = standardization(X_train, X_test, cols, [])"
   ]
  },
  {
   "cell_type": "code",
   "execution_count": 6,
   "metadata": {},
   "outputs": [
    {
     "data": {
      "text/html": [
       "<div>\n",
       "<style scoped>\n",
       "    .dataframe tbody tr th:only-of-type {\n",
       "        vertical-align: middle;\n",
       "    }\n",
       "\n",
       "    .dataframe tbody tr th {\n",
       "        vertical-align: top;\n",
       "    }\n",
       "\n",
       "    .dataframe thead th {\n",
       "        text-align: right;\n",
       "    }\n",
       "</style>\n",
       "<table border=\"1\" class=\"dataframe\">\n",
       "  <thead>\n",
       "    <tr style=\"text-align: right;\">\n",
       "      <th></th>\n",
       "      <th>Pclass</th>\n",
       "      <th>Age</th>\n",
       "      <th>Fare</th>\n",
       "    </tr>\n",
       "  </thead>\n",
       "  <tbody>\n",
       "    <tr>\n",
       "      <th>0</th>\n",
       "      <td>-1.625803</td>\n",
       "      <td>1.913493</td>\n",
       "      <td>0.387842</td>\n",
       "    </tr>\n",
       "    <tr>\n",
       "      <th>1</th>\n",
       "      <td>0.805762</td>\n",
       "      <td>-0.094520</td>\n",
       "      <td>-0.319081</td>\n",
       "    </tr>\n",
       "    <tr>\n",
       "      <th>2</th>\n",
       "      <td>-0.410021</td>\n",
       "      <td>-0.326214</td>\n",
       "      <td>0.187924</td>\n",
       "    </tr>\n",
       "    <tr>\n",
       "      <th>3</th>\n",
       "      <td>0.805762</td>\n",
       "      <td>-0.248983</td>\n",
       "      <td>-0.339412</td>\n",
       "    </tr>\n",
       "    <tr>\n",
       "      <th>4</th>\n",
       "      <td>0.805762</td>\n",
       "      <td>-0.557908</td>\n",
       "      <td>-0.415961</td>\n",
       "    </tr>\n",
       "    <tr>\n",
       "      <th>...</th>\n",
       "      <td>...</td>\n",
       "      <td>...</td>\n",
       "      <td>...</td>\n",
       "    </tr>\n",
       "    <tr>\n",
       "      <th>591</th>\n",
       "      <td>0.805762</td>\n",
       "      <td>-0.635139</td>\n",
       "      <td>-0.471692</td>\n",
       "    </tr>\n",
       "    <tr>\n",
       "      <th>592</th>\n",
       "      <td>-1.625803</td>\n",
       "      <td>-0.094520</td>\n",
       "      <td>-0.017745</td>\n",
       "    </tr>\n",
       "    <tr>\n",
       "      <th>593</th>\n",
       "      <td>0.805762</td>\n",
       "      <td>0.909486</td>\n",
       "      <td>-0.346137</td>\n",
       "    </tr>\n",
       "    <tr>\n",
       "      <th>594</th>\n",
       "      <td>-1.625803</td>\n",
       "      <td>-1.175758</td>\n",
       "      <td>1.712501</td>\n",
       "    </tr>\n",
       "    <tr>\n",
       "      <th>595</th>\n",
       "      <td>-1.625803</td>\n",
       "      <td>-0.635139</td>\n",
       "      <td>0.882129</td>\n",
       "    </tr>\n",
       "  </tbody>\n",
       "</table>\n",
       "<p>596 rows × 3 columns</p>\n",
       "</div>"
      ],
      "text/plain": [
       "       Pclass       Age      Fare\n",
       "0   -1.625803  1.913493  0.387842\n",
       "1    0.805762 -0.094520 -0.319081\n",
       "2   -0.410021 -0.326214  0.187924\n",
       "3    0.805762 -0.248983 -0.339412\n",
       "4    0.805762 -0.557908 -0.415961\n",
       "..        ...       ...       ...\n",
       "591  0.805762 -0.635139 -0.471692\n",
       "592 -1.625803 -0.094520 -0.017745\n",
       "593  0.805762  0.909486 -0.346137\n",
       "594 -1.625803 -1.175758  1.712501\n",
       "595 -1.625803 -0.635139  0.882129\n",
       "\n",
       "[596 rows x 3 columns]"
      ]
     },
     "execution_count": 6,
     "metadata": {},
     "output_type": "execute_result"
    }
   ],
   "source": [
    "X_train"
   ]
  },
  {
   "cell_type": "code",
   "execution_count": 7,
   "metadata": {},
   "outputs": [
    {
     "data": {
      "text/html": [
       "<div>\n",
       "<style scoped>\n",
       "    .dataframe tbody tr th:only-of-type {\n",
       "        vertical-align: middle;\n",
       "    }\n",
       "\n",
       "    .dataframe tbody tr th {\n",
       "        vertical-align: top;\n",
       "    }\n",
       "\n",
       "    .dataframe thead th {\n",
       "        text-align: right;\n",
       "    }\n",
       "</style>\n",
       "<table border=\"1\" class=\"dataframe\">\n",
       "  <thead>\n",
       "    <tr style=\"text-align: right;\">\n",
       "      <th></th>\n",
       "      <th>Pclass</th>\n",
       "      <th>Age</th>\n",
       "      <th>Fare</th>\n",
       "    </tr>\n",
       "  </thead>\n",
       "  <tbody>\n",
       "    <tr>\n",
       "      <th>0</th>\n",
       "      <td>0.805762</td>\n",
       "      <td>-0.094520</td>\n",
       "      <td>-0.324022</td>\n",
       "    </tr>\n",
       "    <tr>\n",
       "      <th>1</th>\n",
       "      <td>-0.410021</td>\n",
       "      <td>0.137174</td>\n",
       "      <td>-0.416285</td>\n",
       "    </tr>\n",
       "    <tr>\n",
       "      <th>2</th>\n",
       "      <td>0.805762</td>\n",
       "      <td>-0.712370</td>\n",
       "      <td>-0.466346</td>\n",
       "    </tr>\n",
       "    <tr>\n",
       "      <th>3</th>\n",
       "      <td>-0.410021</td>\n",
       "      <td>-1.793608</td>\n",
       "      <td>0.021136</td>\n",
       "    </tr>\n",
       "    <tr>\n",
       "      <th>4</th>\n",
       "      <td>0.805762</td>\n",
       "      <td>-1.175758</td>\n",
       "      <td>-0.401866</td>\n",
       "    </tr>\n",
       "    <tr>\n",
       "      <th>...</th>\n",
       "      <td>...</td>\n",
       "      <td>...</td>\n",
       "      <td>...</td>\n",
       "    </tr>\n",
       "    <tr>\n",
       "      <th>290</th>\n",
       "      <td>0.805762</td>\n",
       "      <td>-0.789602</td>\n",
       "      <td>-0.471692</td>\n",
       "    </tr>\n",
       "    <tr>\n",
       "      <th>291</th>\n",
       "      <td>0.805762</td>\n",
       "      <td>0.870871</td>\n",
       "      <td>-0.469748</td>\n",
       "    </tr>\n",
       "    <tr>\n",
       "      <th>292</th>\n",
       "      <td>0.805762</td>\n",
       "      <td>-2.179765</td>\n",
       "      <td>-0.314382</td>\n",
       "    </tr>\n",
       "    <tr>\n",
       "      <th>293</th>\n",
       "      <td>0.805762</td>\n",
       "      <td>-0.094520</td>\n",
       "      <td>-0.324022</td>\n",
       "    </tr>\n",
       "    <tr>\n",
       "      <th>294</th>\n",
       "      <td>0.805762</td>\n",
       "      <td>-0.635139</td>\n",
       "      <td>-0.466346</td>\n",
       "    </tr>\n",
       "  </tbody>\n",
       "</table>\n",
       "<p>295 rows × 3 columns</p>\n",
       "</div>"
      ],
      "text/plain": [
       "       Pclass       Age      Fare\n",
       "0    0.805762 -0.094520 -0.324022\n",
       "1   -0.410021  0.137174 -0.416285\n",
       "2    0.805762 -0.712370 -0.466346\n",
       "3   -0.410021 -1.793608  0.021136\n",
       "4    0.805762 -1.175758 -0.401866\n",
       "..        ...       ...       ...\n",
       "290  0.805762 -0.789602 -0.471692\n",
       "291  0.805762  0.870871 -0.469748\n",
       "292  0.805762 -2.179765 -0.314382\n",
       "293  0.805762 -0.094520 -0.324022\n",
       "294  0.805762 -0.635139 -0.466346\n",
       "\n",
       "[295 rows x 3 columns]"
      ]
     },
     "execution_count": 7,
     "metadata": {},
     "output_type": "execute_result"
    }
   ],
   "source": [
    "X_test"
   ]
  },
  {
   "cell_type": "markdown",
   "metadata": {},
   "source": [
    "### 2. Normalization (Min Max Scaling)\n",
    "\n",
    "**How it works?** <br>\n",
    "Min Max Scaling scales the values between 0 to 1. or between any range that we specify. <br>\n",
    "For each feature we apply : X_scaled = (X - X.min / (X.max - X.min)"
   ]
  },
  {
   "cell_type": "markdown",
   "metadata": {},
   "source": [
    "**When to use?**<br>\n",
    "Scaling is calculated with minimum and maximum points, therefore data can be affected by outliers. It is not suitable for outliers. Before implementing MinMaxScaler, it is good to handle outliers."
   ]
  },
  {
   "cell_type": "code",
   "execution_count": 8,
   "metadata": {},
   "outputs": [],
   "source": [
    "from sklearn.model_selection import train_test_split\n",
    "\n",
    "df=pd.read_csv('titanic.csv', usecols=['Pclass','Age','Fare','Survived'])\n",
    "df['Age'].fillna(df.Age.median(),inplace=True)\n",
    "X=df.iloc[:,1:]\n",
    "y=df.iloc[:,0]\n",
    "X_train, X_test, y_train, y_test = train_test_split(X, y, test_size=0.33, random_state=42)"
   ]
  },
  {
   "cell_type": "code",
   "execution_count": 9,
   "metadata": {},
   "outputs": [],
   "source": [
    "from sklearn.preprocessing import MinMaxScaler\n",
    "\n",
    "def normalization(X_train, X_test, cols_to_scale, one_hot_cols):\n",
    "    try:\n",
    "        print('Entered function feature_scaling.')\n",
    "\n",
    "        # scaling training features\n",
    "        X_train_cols_to_scale = X_train[cols_to_scale]\n",
    "        cols = X_train_cols_to_scale.columns\n",
    "        scaler = MinMaxScaler()\n",
    "        X_train_scaled = scaler.fit_transform(X_train_cols_to_scale)\n",
    "        X_train = pd.DataFrame(data=X_train_scaled, columns=cols)\n",
    "        \n",
    "        # scaling test features\n",
    "        X_test_cols_to_scale = X_test[cols_to_scale]\n",
    "        cols = X_test_cols_to_scale.columns\n",
    "        X_test_scaled = scaler.transform(X_test_cols_to_scale)\n",
    "        X_test = pd.DataFrame(data=X_test_scaled, columns=cols)\n",
    "        \n",
    "        if one_hot_cols != []:\n",
    "        \n",
    "            X_train_one_hot_cols = X_train[one_hot_cols]\n",
    "            X_train = pd.concat([X_train, X_train_one_hot_cols.reset_index()], axis=1)\n",
    "        \n",
    "            X_test_one_hot_cols = X_test[one_hot_cols]\n",
    "            X_test = pd.concat([X_test, X_test_one_hot_cols.reset_index()], axis=1)\n",
    "\n",
    "        print('Function feature_scaling Completed Succesfully. Exited this function.')\n",
    "        return X_train, X_test\n",
    "\n",
    "    except Exception as e:\n",
    "        print('Error occured in function feature_scaling. Error Message:' + str(e))"
   ]
  },
  {
   "cell_type": "code",
   "execution_count": 10,
   "metadata": {},
   "outputs": [
    {
     "name": "stdout",
     "output_type": "stream",
     "text": [
      "Entered function feature_scaling.\n",
      "Function feature_scaling Completed Succesfully. Exited this function.\n"
     ]
    }
   ],
   "source": [
    "cols = X_train.columns\n",
    "scaled_X_train, scaled_X_test = normalization(X_train, X_test, cols, [])"
   ]
  },
  {
   "cell_type": "code",
   "execution_count": 11,
   "metadata": {},
   "outputs": [
    {
     "data": {
      "text/html": [
       "<div>\n",
       "<style scoped>\n",
       "    .dataframe tbody tr th:only-of-type {\n",
       "        vertical-align: middle;\n",
       "    }\n",
       "\n",
       "    .dataframe tbody tr th {\n",
       "        vertical-align: top;\n",
       "    }\n",
       "\n",
       "    .dataframe thead th {\n",
       "        text-align: right;\n",
       "    }\n",
       "</style>\n",
       "<table border=\"1\" class=\"dataframe\">\n",
       "  <thead>\n",
       "    <tr style=\"text-align: right;\">\n",
       "      <th></th>\n",
       "      <th>Pclass</th>\n",
       "      <th>Age</th>\n",
       "      <th>Fare</th>\n",
       "    </tr>\n",
       "  </thead>\n",
       "  <tbody>\n",
       "    <tr>\n",
       "      <th>0</th>\n",
       "      <td>0.0</td>\n",
       "      <td>0.673285</td>\n",
       "      <td>0.101229</td>\n",
       "    </tr>\n",
       "    <tr>\n",
       "      <th>1</th>\n",
       "      <td>1.0</td>\n",
       "      <td>0.346569</td>\n",
       "      <td>0.030254</td>\n",
       "    </tr>\n",
       "    <tr>\n",
       "      <th>2</th>\n",
       "      <td>0.5</td>\n",
       "      <td>0.308872</td>\n",
       "      <td>0.081157</td>\n",
       "    </tr>\n",
       "    <tr>\n",
       "      <th>3</th>\n",
       "      <td>1.0</td>\n",
       "      <td>0.321438</td>\n",
       "      <td>0.028213</td>\n",
       "    </tr>\n",
       "    <tr>\n",
       "      <th>4</th>\n",
       "      <td>1.0</td>\n",
       "      <td>0.271174</td>\n",
       "      <td>0.020527</td>\n",
       "    </tr>\n",
       "    <tr>\n",
       "      <th>...</th>\n",
       "      <td>...</td>\n",
       "      <td>...</td>\n",
       "      <td>...</td>\n",
       "    </tr>\n",
       "    <tr>\n",
       "      <th>591</th>\n",
       "      <td>1.0</td>\n",
       "      <td>0.258608</td>\n",
       "      <td>0.014932</td>\n",
       "    </tr>\n",
       "    <tr>\n",
       "      <th>592</th>\n",
       "      <td>0.0</td>\n",
       "      <td>0.346569</td>\n",
       "      <td>0.060508</td>\n",
       "    </tr>\n",
       "    <tr>\n",
       "      <th>593</th>\n",
       "      <td>1.0</td>\n",
       "      <td>0.509927</td>\n",
       "      <td>0.027538</td>\n",
       "    </tr>\n",
       "    <tr>\n",
       "      <th>594</th>\n",
       "      <td>0.0</td>\n",
       "      <td>0.170646</td>\n",
       "      <td>0.234224</td>\n",
       "    </tr>\n",
       "    <tr>\n",
       "      <th>595</th>\n",
       "      <td>0.0</td>\n",
       "      <td>0.258608</td>\n",
       "      <td>0.150855</td>\n",
       "    </tr>\n",
       "  </tbody>\n",
       "</table>\n",
       "<p>596 rows × 3 columns</p>\n",
       "</div>"
      ],
      "text/plain": [
       "     Pclass       Age      Fare\n",
       "0       0.0  0.673285  0.101229\n",
       "1       1.0  0.346569  0.030254\n",
       "2       0.5  0.308872  0.081157\n",
       "3       1.0  0.321438  0.028213\n",
       "4       1.0  0.271174  0.020527\n",
       "..      ...       ...       ...\n",
       "591     1.0  0.258608  0.014932\n",
       "592     0.0  0.346569  0.060508\n",
       "593     1.0  0.509927  0.027538\n",
       "594     0.0  0.170646  0.234224\n",
       "595     0.0  0.258608  0.150855\n",
       "\n",
       "[596 rows x 3 columns]"
      ]
     },
     "execution_count": 11,
     "metadata": {},
     "output_type": "execute_result"
    }
   ],
   "source": [
    "scaled_X_train"
   ]
  },
  {
   "cell_type": "code",
   "execution_count": 12,
   "metadata": {},
   "outputs": [
    {
     "data": {
      "text/html": [
       "<div>\n",
       "<style scoped>\n",
       "    .dataframe tbody tr th:only-of-type {\n",
       "        vertical-align: middle;\n",
       "    }\n",
       "\n",
       "    .dataframe tbody tr th {\n",
       "        vertical-align: top;\n",
       "    }\n",
       "\n",
       "    .dataframe thead th {\n",
       "        text-align: right;\n",
       "    }\n",
       "</style>\n",
       "<table border=\"1\" class=\"dataframe\">\n",
       "  <thead>\n",
       "    <tr style=\"text-align: right;\">\n",
       "      <th></th>\n",
       "      <th>Pclass</th>\n",
       "      <th>Age</th>\n",
       "      <th>Fare</th>\n",
       "    </tr>\n",
       "  </thead>\n",
       "  <tbody>\n",
       "    <tr>\n",
       "      <th>0</th>\n",
       "      <td>1.0</td>\n",
       "      <td>0.346569</td>\n",
       "      <td>0.029758</td>\n",
       "    </tr>\n",
       "    <tr>\n",
       "      <th>1</th>\n",
       "      <td>0.5</td>\n",
       "      <td>0.384267</td>\n",
       "      <td>0.020495</td>\n",
       "    </tr>\n",
       "    <tr>\n",
       "      <th>2</th>\n",
       "      <td>1.0</td>\n",
       "      <td>0.246042</td>\n",
       "      <td>0.015469</td>\n",
       "    </tr>\n",
       "    <tr>\n",
       "      <th>3</th>\n",
       "      <td>0.5</td>\n",
       "      <td>0.070118</td>\n",
       "      <td>0.064412</td>\n",
       "    </tr>\n",
       "    <tr>\n",
       "      <th>4</th>\n",
       "      <td>1.0</td>\n",
       "      <td>0.170646</td>\n",
       "      <td>0.021942</td>\n",
       "    </tr>\n",
       "    <tr>\n",
       "      <th>...</th>\n",
       "      <td>...</td>\n",
       "      <td>...</td>\n",
       "      <td>...</td>\n",
       "    </tr>\n",
       "    <tr>\n",
       "      <th>290</th>\n",
       "      <td>1.0</td>\n",
       "      <td>0.233476</td>\n",
       "      <td>0.014932</td>\n",
       "    </tr>\n",
       "    <tr>\n",
       "      <th>291</th>\n",
       "      <td>1.0</td>\n",
       "      <td>0.503644</td>\n",
       "      <td>0.015127</td>\n",
       "    </tr>\n",
       "    <tr>\n",
       "      <th>292</th>\n",
       "      <td>1.0</td>\n",
       "      <td>0.007288</td>\n",
       "      <td>0.030726</td>\n",
       "    </tr>\n",
       "    <tr>\n",
       "      <th>293</th>\n",
       "      <td>1.0</td>\n",
       "      <td>0.346569</td>\n",
       "      <td>0.029758</td>\n",
       "    </tr>\n",
       "    <tr>\n",
       "      <th>294</th>\n",
       "      <td>1.0</td>\n",
       "      <td>0.258608</td>\n",
       "      <td>0.015469</td>\n",
       "    </tr>\n",
       "  </tbody>\n",
       "</table>\n",
       "<p>295 rows × 3 columns</p>\n",
       "</div>"
      ],
      "text/plain": [
       "     Pclass       Age      Fare\n",
       "0       1.0  0.346569  0.029758\n",
       "1       0.5  0.384267  0.020495\n",
       "2       1.0  0.246042  0.015469\n",
       "3       0.5  0.070118  0.064412\n",
       "4       1.0  0.170646  0.021942\n",
       "..      ...       ...       ...\n",
       "290     1.0  0.233476  0.014932\n",
       "291     1.0  0.503644  0.015127\n",
       "292     1.0  0.007288  0.030726\n",
       "293     1.0  0.346569  0.029758\n",
       "294     1.0  0.258608  0.015469\n",
       "\n",
       "[295 rows x 3 columns]"
      ]
     },
     "execution_count": 12,
     "metadata": {},
     "output_type": "execute_result"
    }
   ],
   "source": [
    "scaled_X_test"
   ]
  },
  {
   "cell_type": "markdown",
   "metadata": {},
   "source": [
    "### 3. Robust Scaler\n",
    "\n",
    "**How it works?**<br>\n",
    "One approach to standardizing input variables in the presence of outliers is to ignore the outliers from the calculation of the mean and standard deviation, then use the calculated values to scale the variable. This is called robust standardization or robust data scaling. <br>\n",
    "It is used to scale the feature to median and quantiles. Scaling using median and quantiles consists of substracting the median to all the observations, and then dividing by the interquantile difference. The interquantile difference is the difference between the 75th and 25th quantile:\n",
    "\n",
    "IQR = 75th quantile - 25th quantile\n",
    "\n",
    "X_scaled = (X - X.median) / IQR"
   ]
  },
  {
   "cell_type": "markdown",
   "metadata": {},
   "source": [
    "**When to use?**<br>\n",
    "Robust Scaler can be used when the data has outliers since it uses median and quantiles which are not affected by outliers.\n",
    "RobustScaler keeps outliers where they should be away from the data mean."
   ]
  },
  {
   "cell_type": "code",
   "execution_count": 13,
   "metadata": {},
   "outputs": [],
   "source": [
    "from sklearn.model_selection import train_test_split\n",
    "\n",
    "df=pd.read_csv('titanic.csv', usecols=['Pclass','Age','Fare','Survived'])\n",
    "df['Age'].fillna(df.Age.median(),inplace=True)\n",
    "X=df.iloc[:,1:]\n",
    "y=df.iloc[:,0]\n",
    "X_train, X_test, y_train, y_test = train_test_split(X, y, test_size=0.33, random_state=42)"
   ]
  },
  {
   "cell_type": "code",
   "execution_count": 14,
   "metadata": {},
   "outputs": [],
   "source": [
    "from sklearn.preprocessing import RobustScaler\n",
    "\n",
    "def robust_scaler(X_train, X_test, cols_to_scale, one_hot_cols):\n",
    "    try:\n",
    "        print('Entered function feature_scaling.')\n",
    "\n",
    "        # scaling training features\n",
    "        X_train_cols_to_scale = X_train[cols_to_scale]\n",
    "        cols = X_train_cols_to_scale.columns\n",
    "        scaler = RobustScaler()\n",
    "        X_train_scaled = scaler.fit_transform(X_train_cols_to_scale)\n",
    "        X_train = pd.DataFrame(data=X_train_scaled, columns=cols)\n",
    "        \n",
    "        # scaling test features\n",
    "        X_test_cols_to_scale = X_test[cols_to_scale]\n",
    "        cols = X_test_cols_to_scale.columns\n",
    "        X_test_scaled = scaler.transform(X_test_cols_to_scale)\n",
    "        X_test = pd.DataFrame(data=X_test_scaled, columns=cols)\n",
    "        \n",
    "        if one_hot_cols != []:\n",
    "        \n",
    "            X_train_one_hot_cols = X_train[one_hot_cols]\n",
    "            X_train = pd.concat([X_train, X_train_one_hot_cols.reset_index()], axis=1)\n",
    "        \n",
    "            X_test_one_hot_cols = X_test[one_hot_cols]\n",
    "            X_test = pd.concat([X_test, X_test_one_hot_cols.reset_index()], axis=1)\n",
    "\n",
    "        print('Function feature_scaling Completed Succesfully. Exited this function.')\n",
    "        return X_train, X_test\n",
    "\n",
    "    except Exception as e:\n",
    "        print('Error occured in function feature_scaling. Error Message:' + str(e))"
   ]
  },
  {
   "cell_type": "code",
   "execution_count": 15,
   "metadata": {},
   "outputs": [
    {
     "name": "stdout",
     "output_type": "stream",
     "text": [
      "Entered function feature_scaling.\n",
      "Function feature_scaling Completed Succesfully. Exited this function.\n"
     ]
    }
   ],
   "source": [
    "cols = X_train.columns\n",
    "scaled_X_train, scaled_X_test = robust_scaler(X_train, X_test, cols, [])"
   ]
  },
  {
   "cell_type": "code",
   "execution_count": 16,
   "metadata": {},
   "outputs": [
    {
     "data": {
      "text/html": [
       "<div>\n",
       "<style scoped>\n",
       "    .dataframe tbody tr th:only-of-type {\n",
       "        vertical-align: middle;\n",
       "    }\n",
       "\n",
       "    .dataframe tbody tr th {\n",
       "        vertical-align: top;\n",
       "    }\n",
       "\n",
       "    .dataframe thead th {\n",
       "        text-align: right;\n",
       "    }\n",
       "</style>\n",
       "<table border=\"1\" class=\"dataframe\">\n",
       "  <thead>\n",
       "    <tr style=\"text-align: right;\">\n",
       "      <th></th>\n",
       "      <th>Pclass</th>\n",
       "      <th>Age</th>\n",
       "      <th>Fare</th>\n",
       "    </tr>\n",
       "  </thead>\n",
       "  <tbody>\n",
       "    <tr>\n",
       "      <th>0</th>\n",
       "      <td>-2.0</td>\n",
       "      <td>2.000000</td>\n",
       "      <td>1.602069</td>\n",
       "    </tr>\n",
       "    <tr>\n",
       "      <th>1</th>\n",
       "      <td>0.0</td>\n",
       "      <td>0.000000</td>\n",
       "      <td>0.044788</td>\n",
       "    </tr>\n",
       "    <tr>\n",
       "      <th>2</th>\n",
       "      <td>-1.0</td>\n",
       "      <td>-0.230769</td>\n",
       "      <td>1.161670</td>\n",
       "    </tr>\n",
       "    <tr>\n",
       "      <th>3</th>\n",
       "      <td>0.0</td>\n",
       "      <td>-0.153846</td>\n",
       "      <td>0.000000</td>\n",
       "    </tr>\n",
       "    <tr>\n",
       "      <th>4</th>\n",
       "      <td>0.0</td>\n",
       "      <td>-0.461538</td>\n",
       "      <td>-0.168630</td>\n",
       "    </tr>\n",
       "    <tr>\n",
       "      <th>...</th>\n",
       "      <td>...</td>\n",
       "      <td>...</td>\n",
       "      <td>...</td>\n",
       "    </tr>\n",
       "    <tr>\n",
       "      <th>591</th>\n",
       "      <td>0.0</td>\n",
       "      <td>-0.538462</td>\n",
       "      <td>-0.291400</td>\n",
       "    </tr>\n",
       "    <tr>\n",
       "      <th>592</th>\n",
       "      <td>-2.0</td>\n",
       "      <td>0.000000</td>\n",
       "      <td>0.708600</td>\n",
       "    </tr>\n",
       "    <tr>\n",
       "      <th>593</th>\n",
       "      <td>0.0</td>\n",
       "      <td>1.000000</td>\n",
       "      <td>-0.014814</td>\n",
       "    </tr>\n",
       "    <tr>\n",
       "      <th>594</th>\n",
       "      <td>-2.0</td>\n",
       "      <td>-1.076923</td>\n",
       "      <td>4.520163</td>\n",
       "    </tr>\n",
       "    <tr>\n",
       "      <th>595</th>\n",
       "      <td>-2.0</td>\n",
       "      <td>-0.538462</td>\n",
       "      <td>2.690934</td>\n",
       "    </tr>\n",
       "  </tbody>\n",
       "</table>\n",
       "<p>596 rows × 3 columns</p>\n",
       "</div>"
      ],
      "text/plain": [
       "     Pclass       Age      Fare\n",
       "0      -2.0  2.000000  1.602069\n",
       "1       0.0  0.000000  0.044788\n",
       "2      -1.0 -0.230769  1.161670\n",
       "3       0.0 -0.153846  0.000000\n",
       "4       0.0 -0.461538 -0.168630\n",
       "..      ...       ...       ...\n",
       "591     0.0 -0.538462 -0.291400\n",
       "592    -2.0  0.000000  0.708600\n",
       "593     0.0  1.000000 -0.014814\n",
       "594    -2.0 -1.076923  4.520163\n",
       "595    -2.0 -0.538462  2.690934\n",
       "\n",
       "[596 rows x 3 columns]"
      ]
     },
     "execution_count": 16,
     "metadata": {},
     "output_type": "execute_result"
    }
   ],
   "source": [
    "scaled_X_train"
   ]
  },
  {
   "cell_type": "code",
   "execution_count": 17,
   "metadata": {},
   "outputs": [
    {
     "data": {
      "text/html": [
       "<div>\n",
       "<style scoped>\n",
       "    .dataframe tbody tr th:only-of-type {\n",
       "        vertical-align: middle;\n",
       "    }\n",
       "\n",
       "    .dataframe tbody tr th {\n",
       "        vertical-align: top;\n",
       "    }\n",
       "\n",
       "    .dataframe thead th {\n",
       "        text-align: right;\n",
       "    }\n",
       "</style>\n",
       "<table border=\"1\" class=\"dataframe\">\n",
       "  <thead>\n",
       "    <tr style=\"text-align: right;\">\n",
       "      <th></th>\n",
       "      <th>Pclass</th>\n",
       "      <th>Age</th>\n",
       "      <th>Fare</th>\n",
       "    </tr>\n",
       "  </thead>\n",
       "  <tbody>\n",
       "    <tr>\n",
       "      <th>0</th>\n",
       "      <td>0.0</td>\n",
       "      <td>0.000000</td>\n",
       "      <td>0.033901</td>\n",
       "    </tr>\n",
       "    <tr>\n",
       "      <th>1</th>\n",
       "      <td>-1.0</td>\n",
       "      <td>0.230769</td>\n",
       "      <td>-0.169345</td>\n",
       "    </tr>\n",
       "    <tr>\n",
       "      <th>2</th>\n",
       "      <td>0.0</td>\n",
       "      <td>-0.615385</td>\n",
       "      <td>-0.279623</td>\n",
       "    </tr>\n",
       "    <tr>\n",
       "      <th>3</th>\n",
       "      <td>-1.0</td>\n",
       "      <td>-1.692308</td>\n",
       "      <td>0.794253</td>\n",
       "    </tr>\n",
       "    <tr>\n",
       "      <th>4</th>\n",
       "      <td>0.0</td>\n",
       "      <td>-1.076923</td>\n",
       "      <td>-0.137580</td>\n",
       "    </tr>\n",
       "    <tr>\n",
       "      <th>...</th>\n",
       "      <td>...</td>\n",
       "      <td>...</td>\n",
       "      <td>...</td>\n",
       "    </tr>\n",
       "    <tr>\n",
       "      <th>290</th>\n",
       "      <td>0.0</td>\n",
       "      <td>-0.692308</td>\n",
       "      <td>-0.291400</td>\n",
       "    </tr>\n",
       "    <tr>\n",
       "      <th>291</th>\n",
       "      <td>0.0</td>\n",
       "      <td>0.961538</td>\n",
       "      <td>-0.287118</td>\n",
       "    </tr>\n",
       "    <tr>\n",
       "      <th>292</th>\n",
       "      <td>0.0</td>\n",
       "      <td>-2.076923</td>\n",
       "      <td>0.055139</td>\n",
       "    </tr>\n",
       "    <tr>\n",
       "      <th>293</th>\n",
       "      <td>0.0</td>\n",
       "      <td>0.000000</td>\n",
       "      <td>0.033901</td>\n",
       "    </tr>\n",
       "    <tr>\n",
       "      <th>294</th>\n",
       "      <td>0.0</td>\n",
       "      <td>-0.538462</td>\n",
       "      <td>-0.279623</td>\n",
       "    </tr>\n",
       "  </tbody>\n",
       "</table>\n",
       "<p>295 rows × 3 columns</p>\n",
       "</div>"
      ],
      "text/plain": [
       "     Pclass       Age      Fare\n",
       "0       0.0  0.000000  0.033901\n",
       "1      -1.0  0.230769 -0.169345\n",
       "2       0.0 -0.615385 -0.279623\n",
       "3      -1.0 -1.692308  0.794253\n",
       "4       0.0 -1.076923 -0.137580\n",
       "..      ...       ...       ...\n",
       "290     0.0 -0.692308 -0.291400\n",
       "291     0.0  0.961538 -0.287118\n",
       "292     0.0 -2.076923  0.055139\n",
       "293     0.0  0.000000  0.033901\n",
       "294     0.0 -0.538462 -0.279623\n",
       "\n",
       "[295 rows x 3 columns]"
      ]
     },
     "execution_count": 17,
     "metadata": {},
     "output_type": "execute_result"
    }
   ],
   "source": [
    "scaled_X_test"
   ]
  },
  {
   "cell_type": "markdown",
   "metadata": {},
   "source": [
    "### 4. MaxAbsScaler\n",
    "\n",
    "**How it works?**<br>\n",
    "This estimator scales and translates each feature individually such that the maximal absolute value of each feature in the training set will be 1.0 which means after scaling all values will be between -1 and 1. It does not shift/center the data, and thus does not destroy any sparsity. <br>\n",
    "The formula of MaxAbsScaler is scaled_X = Xi /|Xmax|"
   ]
  },
  {
   "cell_type": "markdown",
   "metadata": {},
   "source": [
    "**When to use?**<br>\n",
    "It scales data according to the absolute maximum, so it is not suitable when the feature has outliers. It needs pre-processing like handling with outliers before applying it."
   ]
  },
  {
   "cell_type": "code",
   "execution_count": 40,
   "metadata": {},
   "outputs": [],
   "source": [
    "from sklearn.model_selection import train_test_split\n",
    "\n",
    "df=pd.read_csv('titanic.csv', usecols=['Pclass','Age','Fare','Survived'])\n",
    "df['Age'].fillna(df.Age.median(),inplace=True)\n",
    "X=df.iloc[:,1:]\n",
    "y=df.iloc[:,0]\n",
    "X_train, X_test, y_train, y_test = train_test_split(X, y, test_size=0.33, random_state=42)"
   ]
  },
  {
   "cell_type": "code",
   "execution_count": 41,
   "metadata": {},
   "outputs": [],
   "source": [
    "from sklearn.preprocessing import MaxAbsScaler\n",
    "\n",
    "def max_abs_scaler(X_train, X_test, cols_to_scale, one_hot_cols):\n",
    "    try:\n",
    "        print('Entered function feature_scaling.')\n",
    "\n",
    "        # scaling training features\n",
    "        X_train_cols_to_scale = X_train[cols_to_scale]\n",
    "        cols = X_train_cols_to_scale.columns\n",
    "        scaler = MaxAbsScaler()\n",
    "        X_train_scaled = scaler.fit_transform(X_train_cols_to_scale)\n",
    "        X_train = pd.DataFrame(data=X_train_scaled, columns=cols)\n",
    "        \n",
    "        # scaling test features\n",
    "        X_test_cols_to_scale = X_test[cols_to_scale]\n",
    "        cols = X_test_cols_to_scale.columns\n",
    "        X_test_scaled = scaler.transform(X_test_cols_to_scale)\n",
    "        X_test = pd.DataFrame(data=X_test_scaled, columns=cols)\n",
    "        \n",
    "        if one_hot_cols != []:\n",
    "        \n",
    "            X_train_one_hot_cols = X_train[one_hot_cols]\n",
    "            X_train = pd.concat([X_train, X_train_one_hot_cols.reset_index()], axis=1)\n",
    "        \n",
    "            X_test_one_hot_cols = X_test[one_hot_cols]\n",
    "            X_test = pd.concat([X_test, X_test_one_hot_cols.reset_index()], axis=1)\n",
    "\n",
    "        print('Function feature_scaling Completed Succesfully. Exited this function.')\n",
    "        return X_train, X_test\n",
    "\n",
    "    except Exception as e:\n",
    "        print('Error occured in function feature_scaling. Error Message:' + str(e))"
   ]
  },
  {
   "cell_type": "code",
   "execution_count": 42,
   "metadata": {},
   "outputs": [
    {
     "name": "stdout",
     "output_type": "stream",
     "text": [
      "Entered function feature_scaling.\n",
      "Function feature_scaling Completed Succesfully. Exited this function.\n"
     ]
    }
   ],
   "source": [
    "cols_to_scale = X_train.columns\n",
    "scaled_X_train, scaled_X_test = max_abs_scaler(X_train, X_test, cols_to_scale, [])"
   ]
  },
  {
   "cell_type": "code",
   "execution_count": 43,
   "metadata": {},
   "outputs": [
    {
     "data": {
      "text/html": [
       "<div>\n",
       "<style scoped>\n",
       "    .dataframe tbody tr th:only-of-type {\n",
       "        vertical-align: middle;\n",
       "    }\n",
       "\n",
       "    .dataframe tbody tr th {\n",
       "        vertical-align: top;\n",
       "    }\n",
       "\n",
       "    .dataframe thead th {\n",
       "        text-align: right;\n",
       "    }\n",
       "</style>\n",
       "<table border=\"1\" class=\"dataframe\">\n",
       "  <thead>\n",
       "    <tr style=\"text-align: right;\">\n",
       "      <th></th>\n",
       "      <th>Pclass</th>\n",
       "      <th>Age</th>\n",
       "      <th>Fare</th>\n",
       "    </tr>\n",
       "  </thead>\n",
       "  <tbody>\n",
       "    <tr>\n",
       "      <th>0</th>\n",
       "      <td>0.333333</td>\n",
       "      <td>0.6750</td>\n",
       "      <td>0.101229</td>\n",
       "    </tr>\n",
       "    <tr>\n",
       "      <th>1</th>\n",
       "      <td>1.000000</td>\n",
       "      <td>0.3500</td>\n",
       "      <td>0.030254</td>\n",
       "    </tr>\n",
       "    <tr>\n",
       "      <th>2</th>\n",
       "      <td>0.666667</td>\n",
       "      <td>0.3125</td>\n",
       "      <td>0.081157</td>\n",
       "    </tr>\n",
       "    <tr>\n",
       "      <th>3</th>\n",
       "      <td>1.000000</td>\n",
       "      <td>0.3250</td>\n",
       "      <td>0.028213</td>\n",
       "    </tr>\n",
       "    <tr>\n",
       "      <th>4</th>\n",
       "      <td>1.000000</td>\n",
       "      <td>0.2750</td>\n",
       "      <td>0.020527</td>\n",
       "    </tr>\n",
       "    <tr>\n",
       "      <th>...</th>\n",
       "      <td>...</td>\n",
       "      <td>...</td>\n",
       "      <td>...</td>\n",
       "    </tr>\n",
       "    <tr>\n",
       "      <th>591</th>\n",
       "      <td>1.000000</td>\n",
       "      <td>0.2625</td>\n",
       "      <td>0.014932</td>\n",
       "    </tr>\n",
       "    <tr>\n",
       "      <th>592</th>\n",
       "      <td>0.333333</td>\n",
       "      <td>0.3500</td>\n",
       "      <td>0.060508</td>\n",
       "    </tr>\n",
       "    <tr>\n",
       "      <th>593</th>\n",
       "      <td>1.000000</td>\n",
       "      <td>0.5125</td>\n",
       "      <td>0.027538</td>\n",
       "    </tr>\n",
       "    <tr>\n",
       "      <th>594</th>\n",
       "      <td>0.333333</td>\n",
       "      <td>0.1750</td>\n",
       "      <td>0.234224</td>\n",
       "    </tr>\n",
       "    <tr>\n",
       "      <th>595</th>\n",
       "      <td>0.333333</td>\n",
       "      <td>0.2625</td>\n",
       "      <td>0.150855</td>\n",
       "    </tr>\n",
       "  </tbody>\n",
       "</table>\n",
       "<p>596 rows × 3 columns</p>\n",
       "</div>"
      ],
      "text/plain": [
       "       Pclass     Age      Fare\n",
       "0    0.333333  0.6750  0.101229\n",
       "1    1.000000  0.3500  0.030254\n",
       "2    0.666667  0.3125  0.081157\n",
       "3    1.000000  0.3250  0.028213\n",
       "4    1.000000  0.2750  0.020527\n",
       "..        ...     ...       ...\n",
       "591  1.000000  0.2625  0.014932\n",
       "592  0.333333  0.3500  0.060508\n",
       "593  1.000000  0.5125  0.027538\n",
       "594  0.333333  0.1750  0.234224\n",
       "595  0.333333  0.2625  0.150855\n",
       "\n",
       "[596 rows x 3 columns]"
      ]
     },
     "execution_count": 43,
     "metadata": {},
     "output_type": "execute_result"
    }
   ],
   "source": [
    "scaled_X_train"
   ]
  },
  {
   "cell_type": "code",
   "execution_count": 44,
   "metadata": {},
   "outputs": [
    {
     "data": {
      "text/html": [
       "<div>\n",
       "<style scoped>\n",
       "    .dataframe tbody tr th:only-of-type {\n",
       "        vertical-align: middle;\n",
       "    }\n",
       "\n",
       "    .dataframe tbody tr th {\n",
       "        vertical-align: top;\n",
       "    }\n",
       "\n",
       "    .dataframe thead th {\n",
       "        text-align: right;\n",
       "    }\n",
       "</style>\n",
       "<table border=\"1\" class=\"dataframe\">\n",
       "  <thead>\n",
       "    <tr style=\"text-align: right;\">\n",
       "      <th></th>\n",
       "      <th>Pclass</th>\n",
       "      <th>Age</th>\n",
       "      <th>Fare</th>\n",
       "    </tr>\n",
       "  </thead>\n",
       "  <tbody>\n",
       "    <tr>\n",
       "      <th>0</th>\n",
       "      <td>1.000000</td>\n",
       "      <td>0.35000</td>\n",
       "      <td>0.029758</td>\n",
       "    </tr>\n",
       "    <tr>\n",
       "      <th>1</th>\n",
       "      <td>0.666667</td>\n",
       "      <td>0.38750</td>\n",
       "      <td>0.020495</td>\n",
       "    </tr>\n",
       "    <tr>\n",
       "      <th>2</th>\n",
       "      <td>1.000000</td>\n",
       "      <td>0.25000</td>\n",
       "      <td>0.015469</td>\n",
       "    </tr>\n",
       "    <tr>\n",
       "      <th>3</th>\n",
       "      <td>0.666667</td>\n",
       "      <td>0.07500</td>\n",
       "      <td>0.064412</td>\n",
       "    </tr>\n",
       "    <tr>\n",
       "      <th>4</th>\n",
       "      <td>1.000000</td>\n",
       "      <td>0.17500</td>\n",
       "      <td>0.021942</td>\n",
       "    </tr>\n",
       "    <tr>\n",
       "      <th>...</th>\n",
       "      <td>...</td>\n",
       "      <td>...</td>\n",
       "      <td>...</td>\n",
       "    </tr>\n",
       "    <tr>\n",
       "      <th>290</th>\n",
       "      <td>1.000000</td>\n",
       "      <td>0.23750</td>\n",
       "      <td>0.014932</td>\n",
       "    </tr>\n",
       "    <tr>\n",
       "      <th>291</th>\n",
       "      <td>1.000000</td>\n",
       "      <td>0.50625</td>\n",
       "      <td>0.015127</td>\n",
       "    </tr>\n",
       "    <tr>\n",
       "      <th>292</th>\n",
       "      <td>1.000000</td>\n",
       "      <td>0.01250</td>\n",
       "      <td>0.030726</td>\n",
       "    </tr>\n",
       "    <tr>\n",
       "      <th>293</th>\n",
       "      <td>1.000000</td>\n",
       "      <td>0.35000</td>\n",
       "      <td>0.029758</td>\n",
       "    </tr>\n",
       "    <tr>\n",
       "      <th>294</th>\n",
       "      <td>1.000000</td>\n",
       "      <td>0.26250</td>\n",
       "      <td>0.015469</td>\n",
       "    </tr>\n",
       "  </tbody>\n",
       "</table>\n",
       "<p>295 rows × 3 columns</p>\n",
       "</div>"
      ],
      "text/plain": [
       "       Pclass      Age      Fare\n",
       "0    1.000000  0.35000  0.029758\n",
       "1    0.666667  0.38750  0.020495\n",
       "2    1.000000  0.25000  0.015469\n",
       "3    0.666667  0.07500  0.064412\n",
       "4    1.000000  0.17500  0.021942\n",
       "..        ...      ...       ...\n",
       "290  1.000000  0.23750  0.014932\n",
       "291  1.000000  0.50625  0.015127\n",
       "292  1.000000  0.01250  0.030726\n",
       "293  1.000000  0.35000  0.029758\n",
       "294  1.000000  0.26250  0.015469\n",
       "\n",
       "[295 rows x 3 columns]"
      ]
     },
     "execution_count": 44,
     "metadata": {},
     "output_type": "execute_result"
    }
   ],
   "source": [
    "scaled_X_test"
   ]
  },
  {
   "cell_type": "markdown",
   "metadata": {},
   "source": [
    "### 5. Guassian (Normal Distribution) Transformation\n",
    "\n",
    "Some machine learning algorithms like linear and logistic assume that the features are normally distributed\n",
    "Types of Gaussian Transformations : \n",
    "- logarithmic transformation\n",
    "- reciprocal transformation\n",
    "- square root transformation\n",
    "- exponential transformation (more general, you can use any exponent)\n",
    "- boxcox transformation"
   ]
  },
  {
   "cell_type": "markdown",
   "metadata": {},
   "source": [
    "* The aim is to transform features that are not normally distributed (have right or left skewness mostly caused by differnet outliers) to Normally Distributed Data (removing the skewness/outliers).\n",
    "* In all plots below we have : On the left side we have the distribution of the feature Age. On the right side we can check if the distribution of feature follows the Gaussian Distribution. If the points follow the lines, it means that the data follows more the Gaussian Distribution.\n",
    "* We must choose the transformation that transforms the feature into normally distributed in the best form."
   ]
  },
  {
   "cell_type": "code",
   "execution_count": 27,
   "metadata": {},
   "outputs": [],
   "source": [
    "import scipy.stats as stat\n",
    "import pylab \n",
    "import matplotlib.pyplot as plt\n",
    "\n",
    "df=pd.read_csv('titanic.csv',usecols=['Age','Fare','Survived'])\n",
    "df['Age']=df['Age'].fillna(df['Age'].median())"
   ]
  },
  {
   "cell_type": "markdown",
   "metadata": {},
   "source": [
    "* If you want to check whether feature is guassian or normal distributed using Q-Q plot"
   ]
  },
  {
   "cell_type": "code",
   "execution_count": 28,
   "metadata": {},
   "outputs": [],
   "source": [
    "def plot_data(df,feature):\n",
    "    plt.figure(figsize=(10,6))\n",
    "    plt.subplot(1,2,1)\n",
    "    df[feature].hist()\n",
    "    plt.title(feature)\n",
    "    plt.subplot(1,2,2)\n",
    "    stat.probplot(df[feature],dist='norm',plot=pylab)\n",
    "    plt.title(feature)\n",
    "    plt.show()"
   ]
  },
  {
   "cell_type": "code",
   "execution_count": 35,
   "metadata": {},
   "outputs": [],
   "source": [
    "def transformation_plot(df, features):\n",
    "    for var in features:\n",
    "        print(f'Data Transformation of Feature : {var}')\n",
    "        \n",
    "        # real distribution of feature\n",
    "        print('Real Distribution')\n",
    "        plot_data(df, var)\n",
    "    \n",
    "        # log transformation\n",
    "        # log0 in undefined. If feature contains 0 i will add 1 to each value to avoid log0\n",
    "        print('Log Transformation')\n",
    "        if 0 in df[var].unique():\n",
    "            df[var] = df[var] + 1\n",
    "            \n",
    "        df[var+'_log']=np.log(df[var])\n",
    "        plot_data(df, var+'_log' )\n",
    "\n",
    "        # reciprocal transformation\n",
    "        print('Reciprocal Transformation')\n",
    "        df[var + '_reciprocal'] = 1/df[var]\n",
    "        plot_data(df, var + '_reciprocal')\n",
    "\n",
    "        # square root transformation\n",
    "        print('Square root transformation')\n",
    "        df[var+'_square'] = df[var]**(1/2)\n",
    "        plot_data(df, var+'_square')\n",
    "\n",
    "        # exponential transformation\n",
    "        print('Exponential Tranformation')\n",
    "        df[var+'_exponential'] = df[var]**(1/1.2)\n",
    "        plot_data(df, var+'_exponential')\n",
    "\n",
    "        # boxcox transformation\n",
    "        print('Boxcox Transformation')\n",
    "        df[var+'_Boxcox'],parameters=stat.boxcox(df[var])\n",
    "        plot_data(df, var+'_Boxcox')"
   ]
  },
  {
   "cell_type": "code",
   "execution_count": 36,
   "metadata": {},
   "outputs": [
    {
     "name": "stdout",
     "output_type": "stream",
     "text": [
      "Data Transformation of Feature : Age\n",
      "Real Distribution\n"
     ]
    },
    {
     "data": {
      "image/png": "[encoded data removed]",
      "text/plain": [
       "<Figure size 720x432 with 2 Axes>"
      ]
     },
     "metadata": {
      "needs_background": "light"
     },
     "output_type": "display_data"
    },
    {
     "name": "stdout",
     "output_type": "stream",
     "text": [
      "Log Transformation\n"
     ]
    },
    {
     "name": "stderr",
     "output_type": "stream",
     "text": [
      "<ipython-input-35-7f3551c828e6>:15: SettingWithCopyWarning: \n",
      "A value is trying to be set on a copy of a slice from a DataFrame.\n",
      "Try using .loc[row_indexer,col_indexer] = value instead\n",
      "\n",
      "See the caveats in the documentation: https://pandas.pydata.org/pandas-docs/stable/user_guide/indexing.html#returning-a-view-versus-a-copy\n",
      "  df[var+'_log']=np.log(df[var])\n"
     ]
    },
    {
     "data": {
      "image/png": "[encoded data removed]",
      "text/plain": [
       "<Figure size 720x432 with 2 Axes>"
      ]
     },
     "metadata": {
      "needs_background": "light"
     },
     "output_type": "display_data"
    },
    {
     "name": "stdout",
     "output_type": "stream",
     "text": [
      "Reciprocal Transformation\n"
     ]
    },
    {
     "name": "stderr",
     "output_type": "stream",
     "text": [
      "<ipython-input-35-7f3551c828e6>:20: SettingWithCopyWarning: \n",
      "A value is trying to be set on a copy of a slice from a DataFrame.\n",
      "Try using .loc[row_indexer,col_indexer] = value instead\n",
      "\n",
      "See the caveats in the documentation: https://pandas.pydata.org/pandas-docs/stable/user_guide/indexing.html#returning-a-view-versus-a-copy\n",
      "  df[var + '_reciprocal'] = 1/df[var]\n"
     ]
    },
    {
     "data": {
      "image/png": "[encoded data removed]",
      "text/plain": [
       "<Figure size 720x432 with 2 Axes>"
      ]
     },
     "metadata": {
      "needs_background": "light"
     },
     "output_type": "display_data"
    },
    {
     "name": "stdout",
     "output_type": "stream",
     "text": [
      "Square root transformation\n"
     ]
    },
    {
     "name": "stderr",
     "output_type": "stream",
     "text": [
      "<ipython-input-35-7f3551c828e6>:25: SettingWithCopyWarning: \n",
      "A value is trying to be set on a copy of a slice from a DataFrame.\n",
      "Try using .loc[row_indexer,col_indexer] = value instead\n",
      "\n",
      "See the caveats in the documentation: https://pandas.pydata.org/pandas-docs/stable/user_guide/indexing.html#returning-a-view-versus-a-copy\n",
      "  df[var+'_square'] = df[var]**(1/2)\n"
     ]
    },
    {
     "data": {
      "image/png": "[encoded data removed]",
      "text/plain": [
       "<Figure size 720x432 with 2 Axes>"
      ]
     },
     "metadata": {
      "needs_background": "light"
     },
     "output_type": "display_data"
    },
    {
     "name": "stderr",
     "output_type": "stream",
     "text": [
      "<ipython-input-35-7f3551c828e6>:30: SettingWithCopyWarning: \n",
      "A value is trying to be set on a copy of a slice from a DataFrame.\n",
      "Try using .loc[row_indexer,col_indexer] = value instead\n",
      "\n",
      "See the caveats in the documentation: https://pandas.pydata.org/pandas-docs/stable/user_guide/indexing.html#returning-a-view-versus-a-copy\n",
      "  df[var+'_exponential'] = df[var]**(1/1.2)\n"
     ]
    },
    {
     "name": "stdout",
     "output_type": "stream",
     "text": [
      "Exponential Tranformation\n"
     ]
    },
    {
     "data": {
      "image/png": "[encoded data removed]",
      "text/plain": [
       "<Figure size 720x432 with 2 Axes>"
      ]
     },
     "metadata": {
      "needs_background": "light"
     },
     "output_type": "display_data"
    },
    {
     "name": "stdout",
     "output_type": "stream",
     "text": [
      "Boxcox Transformation\n"
     ]
    },
    {
     "name": "stderr",
     "output_type": "stream",
     "text": [
      "<ipython-input-35-7f3551c828e6>:35: SettingWithCopyWarning: \n",
      "A value is trying to be set on a copy of a slice from a DataFrame.\n",
      "Try using .loc[row_indexer,col_indexer] = value instead\n",
      "\n",
      "See the caveats in the documentation: https://pandas.pydata.org/pandas-docs/stable/user_guide/indexing.html#returning-a-view-versus-a-copy\n",
      "  df[var+'_Boxcox'],parameters=stat.boxcox(df[var])\n"
     ]
    },
    {
     "data": {
      "image/png": "[encoded data removed]",
      "text/plain": [
       "<Figure size 720x432 with 2 Axes>"
      ]
     },
     "metadata": {
      "needs_background": "light"
     },
     "output_type": "display_data"
    }
   ],
   "source": [
    "transformation_plot(X_train, ['Age'])"
   ]
  },
  {
   "cell_type": "code",
   "execution_count": null,
   "metadata": {},
   "outputs": [],
   "source": []
  },
  {
   "cell_type": "markdown",
   "metadata": {},
   "source": [
    "* We see that Age is not completely normally distributed. So we will try with different transformation to convert it to normal distribution data\n"
   ]
  },
  {
   "cell_type": "code",
   "execution_count": 20,
   "metadata": {},
   "outputs": [
    {
     "data": {
      "image/png": "[encoded data removed]",
      "text/plain": [
       "<Figure size 720x432 with 2 Axes>"
      ]
     },
     "metadata": {
      "needs_background": "light"
     },
     "output_type": "display_data"
    }
   ],
   "source": [
    "plot_data(df,'Age')"
   ]
  },
  {
   "cell_type": "markdown",
   "metadata": {},
   "source": [
    "#### A) Logarithmic Transformation"
   ]
  },
  {
   "cell_type": "markdown",
   "metadata": {},
   "source": [
    "**How it works?**<br>\n",
    "Applying log transformation to any feature means taking the log(x) for each value of x of that feature.\n",
    "**In which cases do we also perform log transformation?**<br>\n",
    "1.As we said we applying log transformation to features before using for example Linear Regression model to convert them to Normally Distributed Data (remove skewness).\n",
    "2. When dealing with Linear Regression we could also apply log to any feature/target and have a better linear relationship betweeen the transformed features and then use LinearRegression to fit the best line to the data. (it increases the performance of LinearRegression model); but remember how to interpret the result of the model.\n",
    "Example A) log(y) = 0.02x + 5\n",
    "Example B) log(y) = 0.02log(x) + 5\n",
    "Example C) y = 0.02log(x) + 5"
   ]
  },
  {
   "cell_type": "code",
   "execution_count": 21,
   "metadata": {},
   "outputs": [
    {
     "data": {
      "image/png": "[encoded data removed]",
      "text/plain": [
       "<Figure size 720x432 with 2 Axes>"
      ]
     },
     "metadata": {
      "needs_background": "light"
     },
     "output_type": "display_data"
    }
   ],
   "source": [
    "import numpy as np\n",
    "df['Age_log']=np.log(df['Age'])\n",
    "plot_data(df,'Age_log')"
   ]
  },
  {
   "cell_type": "markdown",
   "metadata": {},
   "source": [
    "* In all plots below we have : On the left side we have the distribution of the feature Age. On the right side we can check if the distribution of feature follows the Gaussian Distribution. If the points follow the lines, it means that the data follows more the Gaussian Distribution.\n",
    "* We must choose the transformation that transforms the feature into normally distributed in the best form."
   ]
  },
  {
   "cell_type": "markdown",
   "metadata": {},
   "source": [
    "#### B) Reciprocal Trnasformation "
   ]
  },
  {
   "cell_type": "markdown",
   "metadata": {},
   "source": [
    "**How it works?**<br>\n",
    "We take the inverse of each value."
   ]
  },
  {
   "cell_type": "code",
   "execution_count": 22,
   "metadata": {},
   "outputs": [
    {
     "data": {
      "image/png": "[encoded data removed]",
      "text/plain": [
       "<Figure size 720x432 with 2 Axes>"
      ]
     },
     "metadata": {
      "needs_background": "light"
     },
     "output_type": "display_data"
    }
   ],
   "source": [
    "df['Age_reciprocal']=1/df.Age\n",
    "plot_data(df,'Age_reciprocal')"
   ]
  },
  {
   "cell_type": "markdown",
   "metadata": {},
   "source": [
    "#### C) Square Root Transformation"
   ]
  },
  {
   "cell_type": "markdown",
   "metadata": {},
   "source": [
    "**How it works?**<br>\n",
    "We take the square root of each value in the feature."
   ]
  },
  {
   "cell_type": "code",
   "execution_count": 23,
   "metadata": {},
   "outputs": [
    {
     "data": {
      "image/png": "[encoded data removed]",
      "text/plain": [
       "<Figure size 720x432 with 2 Axes>"
      ]
     },
     "metadata": {
      "needs_background": "light"
     },
     "output_type": "display_data"
    }
   ],
   "source": [
    "df['Age_sqaure']=df.Age**(1/2)\n",
    "plot_data(df,'Age_sqaure')"
   ]
  },
  {
   "cell_type": "markdown",
   "metadata": {},
   "source": [
    "#### D) Exponential Transdormation"
   ]
  },
  {
   "cell_type": "markdown",
   "metadata": {},
   "source": [
    "**How it works?**<br>\n",
    "We take the e to the power of each value in that feature."
   ]
  },
  {
   "cell_type": "code",
   "execution_count": 24,
   "metadata": {},
   "outputs": [
    {
     "data": {
      "image/png": "[encoded data removed]",
      "text/plain": [
       "<Figure size 720x432 with 2 Axes>"
      ]
     },
     "metadata": {
      "needs_background": "light"
     },
     "output_type": "display_data"
    }
   ],
   "source": [
    "df['Age_exponential']=df.Age**(1/1.2)\n",
    "plot_data(df,'Age_exponential')"
   ]
  },
  {
   "cell_type": "markdown",
   "metadata": {},
   "source": [
    "#### E) BoxCOx Transformation"
   ]
  },
  {
   "cell_type": "markdown",
   "metadata": {},
   "source": [
    "**How it works?** <br>\n",
    "The Box-Cox transformation is defined as: \n",
    "\n",
    "T(Y)=(Y exp(λ)−1)/λ\n",
    "\n",
    "where Y is the response variable and λ is the transformation parameter. λ varies from -5 to 5. In the transformation, all values of λ  are considered and the optimal value for a given variable is selected."
   ]
  },
  {
   "cell_type": "code",
   "execution_count": 25,
   "metadata": {},
   "outputs": [
    {
     "name": "stdout",
     "output_type": "stream",
     "text": [
      "0.7964531473656952\n"
     ]
    }
   ],
   "source": [
    "df['Age_Boxcox'],parameters=stat.boxcox(df['Age'])\n",
    "print(parameters)"
   ]
  },
  {
   "cell_type": "code",
   "execution_count": 26,
   "metadata": {},
   "outputs": [
    {
     "data": {
      "image/png": "[encoded data removed]",
      "text/plain": [
       "<Figure size 720x432 with 2 Axes>"
      ]
     },
     "metadata": {
      "needs_background": "light"
     },
     "output_type": "display_data"
    }
   ],
   "source": [
    "plot_data(df,'Age_Boxcox')"
   ]
  },
  {
   "cell_type": "code",
   "execution_count": null,
   "metadata": {},
   "outputs": [],
   "source": []
  }
 ],
 "metadata": {
  "kernelspec": {
   "display_name": "Python 3 (ipykernel)",
   "language": "python",
   "name": "python3"
  },
  "language_info": {
   "codemirror_mode": {
    "name": "ipython",
    "version": 3
   },
   "file_extension": ".py",
   "mimetype": "text/x-python",
   "name": "python",
   "nbconvert_exporter": "python",
   "pygments_lexer": "ipython3",
   "version": "3.9.7"
  }
 },
 "nbformat": 4,
 "nbformat_minor": 4
}
