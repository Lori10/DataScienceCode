{
 "cells": [
  {
   "cell_type": "markdown",
   "id": "f2ac23d0",
   "metadata": {},
   "source": [
    "* There are Python String methods and Pandas String methods. Pandas String methods are applied across each string/element of a Pandas Series (like apply). Use str.function_name  for example (str.contains) to use Pandas String methods.\n",
    "* We can use Apply to Pandas Series, Pandas DataFrame (to each row or each column), or to groupby Object (to each dataframe group)\n",
    "* We can use GroupBy to a particular column, several columns, or only to the hour/minutes for example if we have a datatime column (datecolumn.dt.hour). We can either compute statistics on each groups using functions like count, mean, sum etc or agg function to compute several statistics OR modify/transform each group for example in each group normalize only numerical features. This is done using transform function and applying a lambda (or normal function) which transforms the data to each group. Note using GroupBy instead of conventional coding is much more faster and efficient.\n",
    "* For plotting we usually use .plot() method to a groupby or value_counts result for example. X Axis would contains the group names/unique values and Y the values/the frequencies. \n",
    "* We can use functions like value_counts() or unique() to columns (pandas series) or to hour/minutes if its a datetime column.\n",
    "* To modify a Pandas DataFrame/Series use loc instead of '=' operator. For example df.loc[df['col1'] == 'val', 'col2']= np.nan\n",
    "* Difference between loc and iloc. Using loc we can access elements by their index/columns by their names. We can also specify conditions for rows/columns using loc. Using iloc we access element by their positions.\n",
    "* Working with dictionaries in Python is very efficient compared to lists.\n",
    "* To iterate through Pandas DataFrame or Series use iterrows() or apply() or vectorization (like sum or mean function in Pandas) or normal for loop using indices. Always use vectorization methods (like sum or mean for pandas dataframe and series) instead of general for loop since they are much faster and optimized.\n",
    "* If speed is the highest priority NumpyArrays are much faster than operations in Pandas since numpy ndarrays leave out many operations like indexing, check data types etc."
   ]
  },
  {
   "cell_type": "code",
   "execution_count": null,
   "id": "845570ef",
   "metadata": {},
   "outputs": [],
   "source": []
  }
 ],
 "metadata": {
  "kernelspec": {
   "display_name": "Python 3",
   "language": "python",
   "name": "python3"
  },
  "language_info": {
   "codemirror_mode": {
    "name": "ipython",
    "version": 3
   },
   "file_extension": ".py",
   "mimetype": "text/x-python",
   "name": "python",
   "nbconvert_exporter": "python",
   "pygments_lexer": "ipython3",
   "version": "3.8.8"
  }
 },
 "nbformat": 4,
 "nbformat_minor": 5
}
