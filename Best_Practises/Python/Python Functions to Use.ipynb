{
 "cells": [
  {
   "cell_type": "markdown",
   "id": "ee32e66c",
   "metadata": {},
   "source": [
    "##  **args, ***kargs"
   ]
  },
  {
   "cell_type": "markdown",
   "id": "5938cbf4",
   "metadata": {},
   "source": [
    "* Using *args we can pass as many values as we want. *args is an iterable."
   ]
  },
  {
   "cell_type": "code",
   "execution_count": 1,
   "id": "71ca5168",
   "metadata": {},
   "outputs": [],
   "source": [
    "def add(*args):\n",
    "    total = 0\n",
    "    for n in args:\n",
    "        total += n\n",
    "        \n",
    "    return total"
   ]
  },
  {
   "cell_type": "code",
   "execution_count": 6,
   "id": "2ba6b904",
   "metadata": {},
   "outputs": [
    {
     "name": "stdout",
     "output_type": "stream",
     "text": [
      "0\n",
      "7\n",
      "73\n"
     ]
    }
   ],
   "source": [
    "print(add())\n",
    "print(add(2,1,4))\n",
    "print(add(3, 10, 20, 40))"
   ]
  },
  {
   "cell_type": "markdown",
   "id": "f57d8699",
   "metadata": {},
   "source": [
    "* Using ** kargs we can pass as many values as we want. **kargs accepts an iterable of key value pairs (it is a dictionary)."
   ]
  },
  {
   "cell_type": "code",
   "execution_count": 17,
   "id": "84678123",
   "metadata": {},
   "outputs": [],
   "source": [
    "def printer(**kwargs):\n",
    "    for key,value in kwargs.items():\n",
    "        print(f'{key} - {value}')"
   ]
  },
  {
   "cell_type": "code",
   "execution_count": 19,
   "id": "9e38650b",
   "metadata": {},
   "outputs": [
    {
     "name": "stdout",
     "output_type": "stream",
     "text": [
      "lori - value1\n"
     ]
    }
   ],
   "source": [
    "printer(lori='value1')"
   ]
  },
  {
   "cell_type": "code",
   "execution_count": 20,
   "id": "75a38263",
   "metadata": {},
   "outputs": [
    {
     "name": "stdout",
     "output_type": "stream",
     "text": [
      "lori - value1\n",
      "mira - value2\n"
     ]
    }
   ],
   "source": [
    "printer(lori='value1', mira='value2')"
   ]
  },
  {
   "cell_type": "markdown",
   "id": "15da9345",
   "metadata": {},
   "source": [
    "* We usually use ** kargs to pass arguments to a function using a dictionary. The keys should match the function's paramater names."
   ]
  },
  {
   "cell_type": "code",
   "execution_count": 22,
   "id": "41556529",
   "metadata": {},
   "outputs": [
    {
     "data": {
      "text/plain": [
       "GridSearchCV(estimator=DecisionTreeClassifier(),\n",
       "             param_grid={'max_depth': [2, 4]}, scoring='accuracy')"
      ]
     },
     "execution_count": 22,
     "metadata": {},
     "output_type": "execute_result"
    }
   ],
   "source": [
    "from sklearn.model_selection import GridSearchCV\n",
    "from sklearn.tree import DecisionTreeClassifier\n",
    "\n",
    "args = {'estimator' : DecisionTreeClassifier(),\n",
    "        'param_grid' : {'max_depth' : [2, 4]},\n",
    "        'scoring' : 'accuracy'}\n",
    "\n",
    "search = GridSearchCV(**args)\n",
    "search"
   ]
  },
  {
   "cell_type": "markdown",
   "id": "5b1eb455",
   "metadata": {},
   "source": [
    "## Set Operations"
   ]
  },
  {
   "cell_type": "code",
   "execution_count": 24,
   "id": "1ab598c6",
   "metadata": {},
   "outputs": [
    {
     "data": {
      "text/plain": [
       "{2, 4, 10, 13}"
      ]
     },
     "execution_count": 24,
     "metadata": {},
     "output_type": "execute_result"
    }
   ],
   "source": [
    "A = {2, 10, 13, 4, 4}\n",
    "B = {4, 3, 20, 2}\n",
    "A"
   ]
  },
  {
   "cell_type": "code",
   "execution_count": 27,
   "id": "6c50f5ec",
   "metadata": {},
   "outputs": [
    {
     "name": "stdout",
     "output_type": "stream",
     "text": [
      "{10, 13}\n",
      "{2, 4}\n",
      "{2, 3, 4, 10, 13, 20}\n"
     ]
    }
   ],
   "source": [
    "# difference\n",
    "print(A - B)\n",
    "\n",
    "# intersection\n",
    "print(A & B)\n",
    "\n",
    "# union\n",
    "print(A | B)"
   ]
  },
  {
   "cell_type": "code",
   "execution_count": 28,
   "id": "d22d2594",
   "metadata": {},
   "outputs": [
    {
     "data": {
      "text/plain": [
       "{1, 2, 5}"
      ]
     },
     "execution_count": 28,
     "metadata": {},
     "output_type": "execute_result"
    }
   ],
   "source": [
    "# use set function to get unique values\n",
    "l = [1, 2, 5, 2, 1, 5]\n",
    "set(l)"
   ]
  },
  {
   "cell_type": "markdown",
   "id": "f8ac7d81",
   "metadata": {},
   "source": [
    "## Ternary Operator If Else"
   ]
  },
  {
   "cell_type": "markdown",
   "id": "843d85b0",
   "metadata": {},
   "source": [
    "* Instead of using if else statement in many code lines use it on one single line."
   ]
  },
  {
   "cell_type": "code",
   "execution_count": 29,
   "id": "ac659d93",
   "metadata": {},
   "outputs": [
    {
     "data": {
      "text/plain": [
       "'even'"
      ]
     },
     "execution_count": 29,
     "metadata": {},
     "output_type": "execute_result"
    }
   ],
   "source": [
    "number = 4\n",
    "result = 'even' if number%2 == 0 else 'odd'\n",
    "result"
   ]
  },
  {
   "cell_type": "markdown",
   "id": "310c0326",
   "metadata": {},
   "source": [
    "## All, Any Functions"
   ]
  },
  {
   "cell_type": "markdown",
   "id": "172d3bc4",
   "metadata": {},
   "source": [
    "* All returns True if all values in the boolean list are True. Any returns True if at least one value in the list is True."
   ]
  },
  {
   "cell_type": "code",
   "execution_count": 31,
   "id": "f7bd1422",
   "metadata": {},
   "outputs": [
    {
     "name": "stdout",
     "output_type": "stream",
     "text": [
      "False\n",
      "True\n"
     ]
    }
   ],
   "source": [
    "bool_li = [True, False, True]\n",
    "print(all(bool_li))\n",
    "print(any(bool_li))"
   ]
  },
  {
   "cell_type": "code",
   "execution_count": 38,
   "id": "0f63cdbe",
   "metadata": {},
   "outputs": [
    {
     "name": "stdout",
     "output_type": "stream",
     "text": [
      "False\n",
      "True\n"
     ]
    }
   ],
   "source": [
    "# check if all elements in the list are even or at least 1 is even.\n",
    "li = [2, 3, 4, 5, 8]\n",
    "\n",
    "print(all([el%2==0 for el in li]))\n",
    "print(any([el%2==0 for el in li]))"
   ]
  },
  {
   "cell_type": "markdown",
   "id": "83793f71",
   "metadata": {},
   "source": [
    "## Enumerate, Zip Functions"
   ]
  },
  {
   "cell_type": "markdown",
   "id": "be0b4ea4",
   "metadata": {},
   "source": [
    "* Enumerate returns each value and its index."
   ]
  },
  {
   "cell_type": "code",
   "execution_count": 42,
   "id": "a4ff6ecb",
   "metadata": {},
   "outputs": [
    {
     "name": "stdout",
     "output_type": "stream",
     "text": [
      "Idx : 0 - El : 2\n",
      "Idx : 1 - El : 1\n",
      "Idx : 2 - El : 5\n",
      "Idx : 3 - El : 10\n",
      "Idx : 4 - El : 0\n"
     ]
    }
   ],
   "source": [
    "li = [2, 1, 5, 10, 0]\n",
    "\n",
    "for idx, el in enumerate(li):\n",
    "    print(f'Idx : {idx} - El : {el}')"
   ]
  },
  {
   "cell_type": "markdown",
   "id": "1310810e",
   "metadata": {},
   "source": [
    "* Zip is used to iterate through several lists."
   ]
  },
  {
   "cell_type": "code",
   "execution_count": 46,
   "id": "2ab55c2a",
   "metadata": {},
   "outputs": [
    {
     "data": {
      "text/plain": [
       "[('Lori', 2), ('Mira', 4), ('eli', 3)]"
      ]
     },
     "execution_count": 46,
     "metadata": {},
     "output_type": "execute_result"
    }
   ],
   "source": [
    "name = ['Lori', 'Mira', 'eli']\n",
    "li = [2, 4, 3]\n",
    "\n",
    "list(zip(name, li))"
   ]
  },
  {
   "cell_type": "code",
   "execution_count": 44,
   "id": "719d613c",
   "metadata": {},
   "outputs": [
    {
     "name": "stdout",
     "output_type": "stream",
     "text": [
      "<zip object at 0x0000013DA1586D80>\n",
      "Lori - 2\n",
      "Mira - 4\n",
      "eli - 3\n"
     ]
    }
   ],
   "source": [
    "for el1, el2 in zip(name, li):\n",
    "    print(f'{el1} - {el2}')"
   ]
  },
  {
   "cell_type": "markdown",
   "id": "c3ece8fb",
   "metadata": {},
   "source": [
    "## Dir, Help"
   ]
  },
  {
   "cell_type": "markdown",
   "id": "d9628fe2",
   "metadata": {},
   "source": [
    "* Use Dir to get all attributes and functions of a specific Python data structure/type for example python list, numpy array etc and help to get a description of a specific function"
   ]
  },
  {
   "cell_type": "code",
   "execution_count": 47,
   "id": "b22da131",
   "metadata": {},
   "outputs": [
    {
     "data": {
      "text/plain": [
       "['__add__',\n",
       " '__class__',\n",
       " '__contains__',\n",
       " '__delattr__',\n",
       " '__delitem__',\n",
       " '__dir__',\n",
       " '__doc__',\n",
       " '__eq__',\n",
       " '__format__',\n",
       " '__ge__',\n",
       " '__getattribute__',\n",
       " '__getitem__',\n",
       " '__gt__',\n",
       " '__hash__',\n",
       " '__iadd__',\n",
       " '__imul__',\n",
       " '__init__',\n",
       " '__init_subclass__',\n",
       " '__iter__',\n",
       " '__le__',\n",
       " '__len__',\n",
       " '__lt__',\n",
       " '__mul__',\n",
       " '__ne__',\n",
       " '__new__',\n",
       " '__reduce__',\n",
       " '__reduce_ex__',\n",
       " '__repr__',\n",
       " '__reversed__',\n",
       " '__rmul__',\n",
       " '__setattr__',\n",
       " '__setitem__',\n",
       " '__sizeof__',\n",
       " '__str__',\n",
       " '__subclasshook__',\n",
       " 'append',\n",
       " 'clear',\n",
       " 'copy',\n",
       " 'count',\n",
       " 'extend',\n",
       " 'index',\n",
       " 'insert',\n",
       " 'pop',\n",
       " 'remove',\n",
       " 'reverse',\n",
       " 'sort']"
      ]
     },
     "execution_count": 47,
     "metadata": {},
     "output_type": "execute_result"
    }
   ],
   "source": [
    "li = [1, 2, 4]\n",
    "dir(li)"
   ]
  },
  {
   "cell_type": "code",
   "execution_count": 48,
   "id": "c536d26d",
   "metadata": {},
   "outputs": [
    {
     "data": {
      "text/plain": [
       "['__doc__',\n",
       " '__loader__',\n",
       " '__name__',\n",
       " '__package__',\n",
       " '__spec__',\n",
       " 'acos',\n",
       " 'acosh',\n",
       " 'asin',\n",
       " 'asinh',\n",
       " 'atan',\n",
       " 'atan2',\n",
       " 'atanh',\n",
       " 'ceil',\n",
       " 'comb',\n",
       " 'copysign',\n",
       " 'cos',\n",
       " 'cosh',\n",
       " 'degrees',\n",
       " 'dist',\n",
       " 'e',\n",
       " 'erf',\n",
       " 'erfc',\n",
       " 'exp',\n",
       " 'expm1',\n",
       " 'fabs',\n",
       " 'factorial',\n",
       " 'floor',\n",
       " 'fmod',\n",
       " 'frexp',\n",
       " 'fsum',\n",
       " 'gamma',\n",
       " 'gcd',\n",
       " 'hypot',\n",
       " 'inf',\n",
       " 'isclose',\n",
       " 'isfinite',\n",
       " 'isinf',\n",
       " 'isnan',\n",
       " 'isqrt',\n",
       " 'ldexp',\n",
       " 'lgamma',\n",
       " 'log',\n",
       " 'log10',\n",
       " 'log1p',\n",
       " 'log2',\n",
       " 'modf',\n",
       " 'nan',\n",
       " 'perm',\n",
       " 'pi',\n",
       " 'pow',\n",
       " 'prod',\n",
       " 'radians',\n",
       " 'remainder',\n",
       " 'sin',\n",
       " 'sinh',\n",
       " 'sqrt',\n",
       " 'tan',\n",
       " 'tanh',\n",
       " 'tau',\n",
       " 'trunc']"
      ]
     },
     "execution_count": 48,
     "metadata": {},
     "output_type": "execute_result"
    }
   ],
   "source": [
    "import math\n",
    "\n",
    "dir(math)"
   ]
  },
  {
   "cell_type": "code",
   "execution_count": 50,
   "id": "7c2c0bce",
   "metadata": {},
   "outputs": [
    {
     "name": "stdout",
     "output_type": "stream",
     "text": [
      "Help on built-in function sqrt in module math:\n",
      "\n",
      "sqrt(x, /)\n",
      "    Return the square root of x.\n",
      "\n"
     ]
    }
   ],
   "source": [
    "help(math.sqrt)"
   ]
  },
  {
   "cell_type": "markdown",
   "id": "4e6f0c11",
   "metadata": {},
   "source": [
    "## Map, Filter"
   ]
  },
  {
   "cell_type": "code",
   "execution_count": null,
   "id": "0e55303a",
   "metadata": {},
   "outputs": [],
   "source": []
  },
  {
   "cell_type": "code",
   "execution_count": null,
   "id": "5d48284c",
   "metadata": {},
   "outputs": [],
   "source": []
  },
  {
   "cell_type": "code",
   "execution_count": null,
   "id": "d2151651",
   "metadata": {},
   "outputs": [],
   "source": []
  },
  {
   "cell_type": "code",
   "execution_count": null,
   "id": "68de7c79",
   "metadata": {},
   "outputs": [],
   "source": []
  }
 ],
 "metadata": {
  "kernelspec": {
   "display_name": "Python 3",
   "language": "python",
   "name": "python3"
  },
  "language_info": {
   "codemirror_mode": {
    "name": "ipython",
    "version": 3
   },
   "file_extension": ".py",
   "mimetype": "text/x-python",
   "name": "python",
   "nbconvert_exporter": "python",
   "pygments_lexer": "ipython3",
   "version": "3.8.8"
  }
 },
 "nbformat": 4,
 "nbformat_minor": 5
}
