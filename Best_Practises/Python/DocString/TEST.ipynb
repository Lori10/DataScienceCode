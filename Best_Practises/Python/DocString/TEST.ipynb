{
 "cells": [
  {
   "cell_type": "code",
   "execution_count": 1,
   "id": "f1a8e2b6",
   "metadata": {},
   "outputs": [
    {
     "name": "stdout",
     "output_type": "stream",
     "text": [
      "Args :\n",
      "        file_loc (str) : the file location of the spreadsheet\n",
      "        print_cols (bool) : A flag used to print ...\n",
      "        \n",
      "       Returns:\n",
      "           list (list) : a list of strings representing the header columns\n"
     ]
    },
    {
     "data": {
      "text/plain": [
       "'This is the module docstring.'"
      ]
     },
     "execution_count": 1,
     "metadata": {},
     "output_type": "execute_result"
    }
   ],
   "source": [
    "import myfile\n",
    "myfile.__doc__"
   ]
  },
  {
   "cell_type": "code",
   "execution_count": 2,
   "id": "0b988538",
   "metadata": {},
   "outputs": [
    {
     "data": {
      "text/plain": [
       "'Args :\\n        file_loc (str) : the file location of the spreadsheet\\n        print_cols (bool) : A flag used to print ...\\n        \\n       Returns:\\n           list (list) : a list of strings representing the header columns'"
      ]
     },
     "execution_count": 2,
     "metadata": {},
     "output_type": "execute_result"
    }
   ],
   "source": [
    "myfile.f.__doc__"
   ]
  },
  {
   "cell_type": "markdown",
   "id": "26527380",
   "metadata": {},
   "source": [
    "* We can multiline comments for the module and functions. We must write them in the beginning of the module or the function. If we mouse over the function name it will show the function's doc (only in Visual Studio)."
   ]
  },
  {
   "cell_type": "code",
   "execution_count": 3,
   "id": "cbf2cd56",
   "metadata": {},
   "outputs": [
    {
     "data": {
      "text/plain": [
       "'This module provides access to the mathematical functions\\ndefined by the C standard.'"
      ]
     },
     "execution_count": 3,
     "metadata": {},
     "output_type": "execute_result"
    }
   ],
   "source": [
    "import math\n",
    "\n",
    "math.__doc__"
   ]
  },
  {
   "cell_type": "code",
   "execution_count": 4,
   "id": "5541d380",
   "metadata": {},
   "outputs": [
    {
     "data": {
      "text/plain": [
       "'Return the square root of x.'"
      ]
     },
     "execution_count": 4,
     "metadata": {},
     "output_type": "execute_result"
    }
   ],
   "source": [
    "math.sqrt.__doc__"
   ]
  },
  {
   "cell_type": "markdown",
   "id": "ba790ea4",
   "metadata": {},
   "source": [
    "* Built-in function have also doc."
   ]
  },
  {
   "cell_type": "code",
   "execution_count": null,
   "id": "a2739db1",
   "metadata": {},
   "outputs": [],
   "source": []
  }
 ],
 "metadata": {
  "kernelspec": {
   "display_name": "Python 3",
   "language": "python",
   "name": "python3"
  },
  "language_info": {
   "codemirror_mode": {
    "name": "ipython",
    "version": 3
   },
   "file_extension": ".py",
   "mimetype": "text/x-python",
   "name": "python",
   "nbconvert_exporter": "python",
   "pygments_lexer": "ipython3",
   "version": "3.8.8"
  },
  "vscode": {
   "interpreter": {
    "hash": "ad2bdc8ecc057115af97d19610ffacc2b4e99fae6737bb82f5d7fb13d2f2c186"
   }
  }
 },
 "nbformat": 4,
 "nbformat_minor": 5
}
