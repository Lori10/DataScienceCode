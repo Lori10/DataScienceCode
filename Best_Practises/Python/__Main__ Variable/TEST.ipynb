{
 "cells": [
  {
   "cell_type": "code",
   "execution_count": 24,
   "id": "9367ce1b",
   "metadata": {},
   "outputs": [],
   "source": [
    "# this code can also be executed in Terminal using Python Interpreter"
   ]
  },
  {
   "cell_type": "code",
   "execution_count": 26,
   "id": "15982ec3",
   "metadata": {},
   "outputs": [
    {
     "name": "stdout",
     "output_type": "stream",
     "text": [
      "Some info outside other functions\n"
     ]
    }
   ],
   "source": [
    "# run python as a script\n",
    "!python first_file.py"
   ]
  },
  {
   "cell_type": "code",
   "execution_count": 27,
   "id": "eb95dbf0",
   "metadata": {},
   "outputs": [
    {
     "name": "stdout",
     "output_type": "stream",
     "text": [
      "Some info outside other functions\n"
     ]
    }
   ],
   "source": [
    "# import it as a module\n",
    "\n",
    "import first_file"
   ]
  },
  {
   "cell_type": "markdown",
   "id": "aebd90cf",
   "metadata": {},
   "source": [
    "* Both ways will print this message"
   ]
  },
  {
   "cell_type": "code",
   "execution_count": 28,
   "id": "f3e68c95",
   "metadata": {},
   "outputs": [
    {
     "name": "stdout",
     "output_type": "stream",
     "text": [
      "Some info outside other functions\n",
      "my data from the web\n",
      "Beginning data processing\n",
      "Data processing finished\n",
      "my data from the web is modified\n"
     ]
    }
   ],
   "source": [
    "!python second_file.py"
   ]
  },
  {
   "cell_type": "code",
   "execution_count": 29,
   "id": "29d096a8",
   "metadata": {},
   "outputs": [
    {
     "name": "stdout",
     "output_type": "stream",
     "text": [
      "Some info outside other functions\n"
     ]
    }
   ],
   "source": [
    "import second_file"
   ]
  },
  {
   "cell_type": "markdown",
   "id": "78e5917d",
   "metadata": {},
   "source": [
    "* __name__ variable will have the value __main__ only when we run the file as a python script. If we import it as a module it as the name of the module. Thats why we should check if this variable has the value main to avoid running functions when we only want to import it as a module and avoid running the entire script line by line. If we set a condition we run only the code and specify the workflow of our code will be run."
   ]
  },
  {
   "cell_type": "markdown",
   "id": "652b0ba5",
   "metadata": {},
   "source": [
    "### Tips \n",
    "1. Put most code into a function or class. (avoid this line print(\"some info outside function\") to avoid printing code that we do not want.\n",
    "2. Use _name_ to control execution of your code.\n",
    "3. Create a function called main() (it can have any other name but usually is called main to denote the starting point of the program) to contain the code you want to run.\n",
    "4. Call other functions from main()."
   ]
  },
  {
   "cell_type": "code",
   "execution_count": null,
   "id": "8d694e00",
   "metadata": {},
   "outputs": [],
   "source": []
  }
 ],
 "metadata": {
  "kernelspec": {
   "display_name": "Python 3",
   "language": "python",
   "name": "python3"
  },
  "language_info": {
   "codemirror_mode": {
    "name": "ipython",
    "version": 3
   },
   "file_extension": ".py",
   "mimetype": "text/x-python",
   "name": "python",
   "nbconvert_exporter": "python",
   "pygments_lexer": "ipython3",
   "version": "3.8.8"
  }
 },
 "nbformat": 4,
 "nbformat_minor": 5
}
