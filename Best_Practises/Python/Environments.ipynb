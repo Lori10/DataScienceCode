{
 "cells": [
  {
   "cell_type": "markdown",
   "id": "77d82b72",
   "metadata": {},
   "source": [
    "## Pyenv vs Virtualenv vs Anaconda Environment\n",
    "\n",
    "https://stackoverflow.com/questions/38217545/what-is-the-difference-between-pyenv-virtualenv-anaconda"
   ]
  },
  {
   "cell_type": "markdown",
   "id": "d896fdf3",
   "metadata": {},
   "source": [
    "* We usually create an evironment using conda or virtualenv module and activate it. We deactivate it to use another environment.\n",
    "* Use pip list to get the packages installed in the current environment.\n",
    "* If we use python3 we can use the python3 built-in virtual environment named venv. venv is simple and easy to use. I would recommend you to read its official docs. The doc is short and concise"
   ]
  },
  {
   "cell_type": "markdown",
   "id": "08255a08",
   "metadata": {},
   "source": [
    "How to create and activate Virtualenv Environment ?\n",
    "\n",
    "https://www.tutorialspoint.com/how-to-create-a-virtual-environment-in-python"
   ]
  },
  {
   "cell_type": "code",
   "execution_count": null,
   "id": "3fa77ddf",
   "metadata": {},
   "outputs": [],
   "source": []
  }
 ],
 "metadata": {
  "kernelspec": {
   "display_name": "Python 3",
   "language": "python",
   "name": "python3"
  },
  "language_info": {
   "codemirror_mode": {
    "name": "ipython",
    "version": 3
   },
   "file_extension": ".py",
   "mimetype": "text/x-python",
   "name": "python",
   "nbconvert_exporter": "python",
   "pygments_lexer": "ipython3",
   "version": "3.8.8"
  }
 },
 "nbformat": 4,
 "nbformat_minor": 5
}
