{
 "cells": [
  {
   "cell_type": "markdown",
   "metadata": {},
   "source": [
    "## Feature Selection General approach\n",
    "\n",
    "A)\n",
    "1. Choose a classifier that you think might work well in that particular case and very loosely optimize hyperparameters, just to make sure you don't assign extremely bad values to some hyperparameters. This can often just be done by hand if you have a good intuitive understanding of your hyperparameters, or done with a very brief hyperparameter optimization procedure using just a bunch of features that you know to be decently good otherwise.\n",
    "\n",
    "2. Feature selection, with hyperparameters that are maybe not 100% optimized but at least not extremely terrible either. If you have at least a somewhat decently configured machine learning algorithm already, having good features will be significantly more important for your performance than micro-optimizing hyperparameters. Extreme examples: If you have no features, you can't predict anything. If you have a cheating feature that contains the class label, you can perfectly classify everything.\n",
    "\n",
    "3. Optimize hyperparameters with the features selected in the step above. This should be a good feature set now, where it actually may be worth optimizing hyperparams a bit.\n",
    "\n",
    "The disadvantage of this approach is that we might have data leakage.\n",
    "\n",
    "B) If we have time to optimize our model we can include feature selection in the cross validation process. This would be a better aproach as it would avoid data leakage."
   ]
  },
  {
   "cell_type": "markdown",
   "metadata": {},
   "source": [
    "## Feature Selection Techniques\n",
    "1. Recursive Elemination with Cross Validation\n",
    "2. Univariate Selection (SelectKBest commonly used)\n",
    "3. SelectFromModel\n",
    "4. Sequential Features Selection (Forward or Backward)\n",
    "5. Feature Selection Tuning with Hyperparameters using Pipelines (best approach)"
   ]
  },
  {
   "cell_type": "code",
   "execution_count": 10,
   "metadata": {},
   "outputs": [
    {
     "data": {
      "text/plain": [
       "(1500, 20)"
      ]
     },
     "execution_count": 10,
     "metadata": {},
     "output_type": "execute_result"
    }
   ],
   "source": [
    "import pandas as pd\n",
    "from sklearn.model_selection import train_test_split\n",
    "df=pd.read_csv('mobile_dataset.csv')\n",
    "X=df.iloc[:,:-1]\n",
    "y=df['price_range']\n",
    "X_train, X_test, y_train, y_test = train_test_split(X, y, random_state=1)\n",
    "X_train.shape # 20 total features"
   ]
  },
  {
   "cell_type": "markdown",
   "metadata": {},
   "source": [
    "### 1. Recursive Elemination with Cross Validation"
   ]
  },
  {
   "cell_type": "markdown",
   "metadata": {},
   "source": [
    "Using the feature_importance of the estimator that we specify it will rank the features from the most important to the least important. In each step it will decrease the nr of features by a specified value and perform cross validation. If the score of Cross Validation decreases it will stop decreasing the nr of features."
   ]
  },
  {
   "cell_type": "code",
   "execution_count": 20,
   "metadata": {},
   "outputs": [
    {
     "name": "stdout",
     "output_type": "stream",
     "text": [
      "['battery_power', 'px_height', 'px_width', 'ram', 'pc', 'talk_time', 'sc_h', 'mobile_wt', 'int_memory', 'sc_w', 'n_cores', 'fc', 'm_dep', 'touch_screen', 'wifi', 'clock_speed', 'four_g', 'three_g', 'blue', 'dual_sim']\n"
     ]
    }
   ],
   "source": [
    "dic = {'battery_power': 1, 'px_height': 1, 'px_width': 1, 'ram': 1, 'pc': 2, 'talk_time': 3, 'sc_h': 4, 'mobile_wt': 5, 'int_memory': 6, 'sc_w': 7, 'n_cores': 8, 'fc': 9, 'm_dep': 10, 'touch_screen': 11, 'wifi': 12, 'clock_speed': 13, 'four_g': 14, 'three_g': 15, 'blue': 16, 'dual_sim': 17}\n",
    "print(list(dic.keys()))\n",
    "#plt.barh(width=ranking , y=feature_names)"
   ]
  },
  {
   "cell_type": "code",
   "execution_count": 21,
   "metadata": {},
   "outputs": [],
   "source": [
    "# DYNAMIC\n",
    "\n",
    "from sklearn.feature_selection import RFECV\n",
    "from xgboost import XGBRegressor\n",
    "import matplotlib.pyplot as plt\n",
    "\n",
    "def feature_selection_recursive_elemination_cv(model, X_train, y_train, X_test, scoring, step=1, min_features_to_select=1, \n",
    "                                               cv_kfold=5, verbose=False):\n",
    "    try:\n",
    "        print('Entered function feature_selection_recursive_elemination_cv.')\n",
    "\n",
    "        total_nr_features = X_train.shape[1]\n",
    "        selector = RFECV(model, step=step, min_features_to_select=min_features_to_select, cv=cv_kfold, scoring=scoring, \n",
    "                         n_jobs=-1, verbose=verbose)\n",
    "        selector.fit(X_train, y_train)\n",
    "        nr_features_selected = selector.n_features_\n",
    "        \n",
    "        dicti = {}\n",
    "        for col, ranking in zip(X_train.columns, selector.ranking_):\n",
    "            dicti[col] = ranking\n",
    "        \n",
    "        \n",
    "        sorted_keys = sorted(dicti, key=dicti.get)\n",
    "        sorted_dicti = {key: dicti[key] for key in sorted_keys}\n",
    "        print('Features Ranking starting from the most important feature : ' + str(sorted_dicti))\n",
    "        \n",
    "        ranking = sorted_dicti.values()\n",
    "        feature_names = list(sorted_dicti.keys())\n",
    "        \n",
    "        plt.barh(width=ranking, y=feature_names)\n",
    "        plt.title(\"Feature Ranking (Rank 1 means Best Feature)\")\n",
    "        plt.xlabel('Ranking (Rank 1 means best feature)')\n",
    "        plt.ylabel('Feature Names')\n",
    "        plt.savefig('Feature_Importance.jpg')\n",
    "        plt.show()\n",
    "        \n",
    "        \n",
    "        cols_selected = X_train.columns[selector.support_]\n",
    "        cols_removed = [col for col in X_train.columns if col not in cols_selected]\n",
    "        print('Features Selected : ')\n",
    "        print(cols_selected)\n",
    "        print('Features Removed : ')\n",
    "        print(cols_removed)\n",
    "        \n",
    "        new_X_train = X_train[cols_selected]\n",
    "        new_X_test = X_test[cols_selected]\n",
    "        \n",
    "        \n",
    "        print('Function feature_selection_recursive_elemination_cv Completed Successfully. Exited this function.')\n",
    "        return new_X_train, new_X_test\n",
    "    \n",
    "    except Exception as e:\n",
    "        print('Error occured in function feature_selection_recursive_elemination_cv. Error Message : ' + str(e))\n",
    "\n"
   ]
  },
  {
   "cell_type": "code",
   "execution_count": 22,
   "metadata": {},
   "outputs": [
    {
     "name": "stdout",
     "output_type": "stream",
     "text": [
      "Entered function feature_selection_recursive_elemination_cv.\n",
      "Features Ranking starting from the most important feature : {'battery_power': 1, 'px_height': 1, 'px_width': 1, 'ram': 1, 'pc': 2, 'talk_time': 3, 'sc_h': 4, 'mobile_wt': 5, 'int_memory': 6, 'sc_w': 7, 'n_cores': 8, 'fc': 9, 'm_dep': 10, 'touch_screen': 11, 'wifi': 12, 'clock_speed': 13, 'four_g': 14, 'three_g': 15, 'blue': 16, 'dual_sim': 17}\n"
     ]
    },
    {
     "data": {
      "image/png": "[encoded data removed]",
      "text/plain": [
       "<Figure size 432x288 with 1 Axes>"
      ]
     },
     "metadata": {
      "needs_background": "light"
     },
     "output_type": "display_data"
    },
    {
     "name": "stdout",
     "output_type": "stream",
     "text": [
      "Features Selected : \n",
      "Index(['battery_power', 'px_height', 'px_width', 'ram'], dtype='object')\n",
      "Features Removed : \n",
      "['blue', 'clock_speed', 'dual_sim', 'fc', 'four_g', 'int_memory', 'm_dep', 'mobile_wt', 'n_cores', 'pc', 'sc_h', 'sc_w', 'talk_time', 'three_g', 'touch_screen', 'wifi']\n",
      "Function feature_selection_recursive_elemination_cv Completed Successfully. Exited this function.\n"
     ]
    },
    {
     "data": {
      "text/html": [
       "<div>\n",
       "<style scoped>\n",
       "    .dataframe tbody tr th:only-of-type {\n",
       "        vertical-align: middle;\n",
       "    }\n",
       "\n",
       "    .dataframe tbody tr th {\n",
       "        vertical-align: top;\n",
       "    }\n",
       "\n",
       "    .dataframe thead th {\n",
       "        text-align: right;\n",
       "    }\n",
       "</style>\n",
       "<table border=\"1\" class=\"dataframe\">\n",
       "  <thead>\n",
       "    <tr style=\"text-align: right;\">\n",
       "      <th></th>\n",
       "      <th>battery_power</th>\n",
       "      <th>px_height</th>\n",
       "      <th>px_width</th>\n",
       "      <th>ram</th>\n",
       "    </tr>\n",
       "  </thead>\n",
       "  <tbody>\n",
       "    <tr>\n",
       "      <th>650</th>\n",
       "      <td>1315</td>\n",
       "      <td>59</td>\n",
       "      <td>575</td>\n",
       "      <td>3278</td>\n",
       "    </tr>\n",
       "    <tr>\n",
       "      <th>1104</th>\n",
       "      <td>989</td>\n",
       "      <td>46</td>\n",
       "      <td>1069</td>\n",
       "      <td>1737</td>\n",
       "    </tr>\n",
       "    <tr>\n",
       "      <th>561</th>\n",
       "      <td>1229</td>\n",
       "      <td>120</td>\n",
       "      <td>1878</td>\n",
       "      <td>1667</td>\n",
       "    </tr>\n",
       "    <tr>\n",
       "      <th>643</th>\n",
       "      <td>920</td>\n",
       "      <td>1058</td>\n",
       "      <td>1421</td>\n",
       "      <td>2608</td>\n",
       "    </tr>\n",
       "    <tr>\n",
       "      <th>441</th>\n",
       "      <td>1654</td>\n",
       "      <td>1184</td>\n",
       "      <td>1719</td>\n",
       "      <td>1070</td>\n",
       "    </tr>\n",
       "  </tbody>\n",
       "</table>\n",
       "</div>"
      ],
      "text/plain": [
       "      battery_power  px_height  px_width   ram\n",
       "650            1315         59       575  3278\n",
       "1104            989         46      1069  1737\n",
       "561            1229        120      1878  1667\n",
       "643             920       1058      1421  2608\n",
       "441            1654       1184      1719  1070"
      ]
     },
     "execution_count": 22,
     "metadata": {},
     "output_type": "execute_result"
    }
   ],
   "source": [
    "# Testing the function\n",
    "\n",
    "new_X_train, new_X_test = feature_selection_recursive_elemination_cv(model=XGBRegressor(random_state=1), X_train=X_train, \n",
    "                                                                     y_train=y_train, X_test=X_test, \n",
    "                                                                     scoring='neg_mean_squared_error')\n",
    "\n",
    "new_X_train.head()"
   ]
  },
  {
   "cell_type": "markdown",
   "metadata": {},
   "source": [
    "### 2. Univariate Selection (SelectKBest commonly used)\n",
    "\n",
    "Univariate feature selection works by selecting the best features based on univariate statistical tests. It will measure how strong is the relationship between independent and target feature and rank the features based on their score.\n",
    "\n",
    "A) SelectKBest removes all but the  highest scoring features (select the top k most important features)\n",
    "\n",
    "B) SelectPercentile removes all but a user-specified highest scoring percentage of features using common univariate statistical tests for each feature: false positive rate SelectFpr, false discovery rate SelectFdr, or family wise error SelectFwe.\n",
    "\n",
    "C) GenericUnivariateSelect allows to perform univariate feature selection with a configurable strategy. This allows to select the best univariate selection strategy with hyper-parameter search estimator."
   ]
  },
  {
   "cell_type": "markdown",
   "metadata": {},
   "source": [
    "These objects take as input a scoring function that returns univariate scores and p-values (or only scores for SelectKBest and SelectPercentile):\n",
    "\n",
    "Statistical test For regression: f_regression, mutual_info_regression\n",
    "\n",
    "Statistical test For classification: chi2, f_classif, mutual_info_classif"
   ]
  },
  {
   "cell_type": "markdown",
   "metadata": {},
   "source": [
    "* In this example i will use SelectKBest which is more common."
   ]
  },
  {
   "cell_type": "code",
   "execution_count": 12,
   "metadata": {},
   "outputs": [],
   "source": [
    "# DYNAMIC\n",
    "\n",
    "from sklearn.feature_selection import SelectKBest\n",
    "from sklearn.feature_selection import chi2\n",
    "\n",
    "def feature_selection_univariate_selection(X_train, y_train, X_test, nr_features_to_select, score_func=chi2):\n",
    "    try:\n",
    "        print('Entered function feature_selection_univariate_selection.')\n",
    "        total_nr_features = X_train.shape[1]\n",
    "        print(total_nr_features)\n",
    "        selector = SelectKBest(score_func=score_func, k=nr_features_to_select)\n",
    "        ordered_feature = selector.fit(X_train, y_train)\n",
    "    \n",
    "        indices_of_selected_features = ordered_feature.get_support(indices=True)\n",
    "        cols_selected = X_train.columns[indices_of_selected_features]\n",
    "        nr_features_selected = len(cols_selected)\n",
    "        print(cols_selected)\n",
    "        \n",
    "    \n",
    "        new_X_train = pd.DataFrame(data=selector.transform(X_train), columns=cols_selected)\n",
    "        new_X_test = pd.DataFrame(data=selector.transform(X_test), columns=cols_selected)\n",
    "    \n",
    "        dfscores=pd.DataFrame(ordered_feature.scores_,columns=[\"Score\"])\n",
    "        dfcolumns=pd.DataFrame(X_train.columns)\n",
    "        features_rank=pd.concat([dfcolumns,dfscores],axis=1)\n",
    "        features_rank.columns=['Features','Score']\n",
    "        new_features_rank = features_rank.sort_values(by=['Score'], axis=0, ascending=False)\n",
    "        new_features_rank.to_csv('Features_Ranking.csv', index=False)\n",
    "  \n",
    "        print('Function feature_selection_univariate_selection Completed Successfully. Exited this function.')\n",
    "        return new_X_train, new_X_test \n",
    "    \n",
    "    except Exception as e:\n",
    "        print('Error occured in function feature_selection_univariate_selection. Error Message : ' + str(e))"
   ]
  },
  {
   "cell_type": "code",
   "execution_count": 13,
   "metadata": {},
   "outputs": [
    {
     "name": "stdout",
     "output_type": "stream",
     "text": [
      "Entered function feature_selection_univariate_selection.\n",
      "20\n",
      "Index(['battery_power', 'mobile_wt', 'px_height', 'px_width', 'ram'], dtype='object')\n",
      "Function feature_selection_univariate_selection Completed Successfully. Exited this function.\n"
     ]
    },
    {
     "data": {
      "text/html": [
       "<div>\n",
       "<style scoped>\n",
       "    .dataframe tbody tr th:only-of-type {\n",
       "        vertical-align: middle;\n",
       "    }\n",
       "\n",
       "    .dataframe tbody tr th {\n",
       "        vertical-align: top;\n",
       "    }\n",
       "\n",
       "    .dataframe thead th {\n",
       "        text-align: right;\n",
       "    }\n",
       "</style>\n",
       "<table border=\"1\" class=\"dataframe\">\n",
       "  <thead>\n",
       "    <tr style=\"text-align: right;\">\n",
       "      <th></th>\n",
       "      <th>battery_power</th>\n",
       "      <th>mobile_wt</th>\n",
       "      <th>px_height</th>\n",
       "      <th>px_width</th>\n",
       "      <th>ram</th>\n",
       "    </tr>\n",
       "  </thead>\n",
       "  <tbody>\n",
       "    <tr>\n",
       "      <th>0</th>\n",
       "      <td>1315.0</td>\n",
       "      <td>128.0</td>\n",
       "      <td>59.0</td>\n",
       "      <td>575.0</td>\n",
       "      <td>3278.0</td>\n",
       "    </tr>\n",
       "    <tr>\n",
       "      <th>1</th>\n",
       "      <td>989.0</td>\n",
       "      <td>124.0</td>\n",
       "      <td>46.0</td>\n",
       "      <td>1069.0</td>\n",
       "      <td>1737.0</td>\n",
       "    </tr>\n",
       "    <tr>\n",
       "      <th>2</th>\n",
       "      <td>1229.0</td>\n",
       "      <td>191.0</td>\n",
       "      <td>120.0</td>\n",
       "      <td>1878.0</td>\n",
       "      <td>1667.0</td>\n",
       "    </tr>\n",
       "    <tr>\n",
       "      <th>3</th>\n",
       "      <td>920.0</td>\n",
       "      <td>149.0</td>\n",
       "      <td>1058.0</td>\n",
       "      <td>1421.0</td>\n",
       "      <td>2608.0</td>\n",
       "    </tr>\n",
       "    <tr>\n",
       "      <th>4</th>\n",
       "      <td>1654.0</td>\n",
       "      <td>146.0</td>\n",
       "      <td>1184.0</td>\n",
       "      <td>1719.0</td>\n",
       "      <td>1070.0</td>\n",
       "    </tr>\n",
       "  </tbody>\n",
       "</table>\n",
       "</div>"
      ],
      "text/plain": [
       "   battery_power  mobile_wt  px_height  px_width     ram\n",
       "0         1315.0      128.0       59.0     575.0  3278.0\n",
       "1          989.0      124.0       46.0    1069.0  1737.0\n",
       "2         1229.0      191.0      120.0    1878.0  1667.0\n",
       "3          920.0      149.0     1058.0    1421.0  2608.0\n",
       "4         1654.0      146.0     1184.0    1719.0  1070.0"
      ]
     },
     "execution_count": 13,
     "metadata": {},
     "output_type": "execute_result"
    }
   ],
   "source": [
    "# Testin the function\n",
    "\n",
    "new_X_train, new_X_test = feature_selection_univariate_selection(X_train, y_train, X_test, nr_features_to_select=5, score_func=chi2)\n",
    "new_X_train.head()"
   ]
  },
  {
   "cell_type": "markdown",
   "metadata": {},
   "source": [
    "### 3. SelectFromModel\n",
    "SelectFromModel is a meta-transformer that can be used alongside any estimator that assigns importance to each feature through a specific attribute (such as coef_, feature_importances_) or via an importance_getter callable after fitting. If the feature_importance is lower than the feature_importance threshold we specify, it is discarded, otherwise it will be selected.  <br>\n",
    "It can be used with any ML Estimators that calculate coef_ like Lasso, or feature_importances_ like ExtraTreeClassifier, XGBoost etc."
   ]
  },
  {
   "cell_type": "markdown",
   "metadata": {},
   "source": [
    "We can perform Regularization using 3 different ML Estimators. <br>\n",
    "A) Regularization with Linear Regression we use Lasso or ElasticNet. <br>\n",
    "B) Regularization with Logistic Regression we use LogisticRegression(penalty='l1'). <br>\n",
    "C) Regularization with Support Vector Machine we use LinearSCV(penalty='l1'). <br>\n",
    "\n",
    "penalty : possible values 'l1', 'l2', 'elasticnet'. Usually for feature selection 'l1' and elastic net are used. <br>\n",
    "solver : the algorithm to use in the optimization : possible values : ‘newton-cg’, ‘lbfgs’, ‘liblinear’, ‘sag’, ‘saga’. Check sklearn documentation"
   ]
  },
  {
   "cell_type": "code",
   "execution_count": 20,
   "metadata": {},
   "outputs": [],
   "source": [
    "# DYNAMIC \n",
    "\n",
    "from sklearn.ensemble import ExtraTreesClassifier\n",
    "from sklearn.tree import ExtraTreeRegressor\n",
    "import matplotlib.pyplot as plt\n",
    "from sklearn.feature_selection import SelectFromModel\n",
    "\n",
    "\n",
    "def feature_selection_SelectFromModel(X_train, y_train, X_test, model, threshold=None):\n",
    "    try:\n",
    "        print('Entered function feature_selection_SelectFromModel.')\n",
    "        \n",
    "        nr_total_features = X_train.shape[1]\n",
    "\n",
    "        model.fit(X_train, y_train)\n",
    "\n",
    "        selector = SelectFromModel(model, prefit=True, threshold=threshold)\n",
    "        indices_selected_cols = list(selector.get_support(indices=True))\n",
    "        cols_selected = X_train.columns[indices_selected_cols]\n",
    "        nr_features_selected = len(cols_selected)\n",
    "        print(cols_selected)\n",
    "\n",
    "        new_X_train = pd.DataFrame(data=selector.transform(X_train), columns=cols_selected)\n",
    "        new_X_test = pd.DataFrame(data=selector.transform(X_test), columns=cols_selected)\n",
    "        \n",
    "        # If estimator measures the feature importance feature_importance use this code to plot the feature importances \n",
    "        # if it uses other measurement like coef_ or others using this code will not work\n",
    "        \n",
    "        #ranked_features=pd.Series(model.feature_importances_,index=X_train.columns)\n",
    "        #ranked_features.nlargest(10).plot(kind='barh')\n",
    "        #plt.savefig('Feature_Ranking.jpg')\n",
    "        #plt.show()\n",
    "        \n",
    "        print('Function feature_selection_SelectFromModel Completed Successfully. Exited this function')\n",
    "        return new_X_train, new_X_test\n",
    "    \n",
    "    except Exception as e:\n",
    "        print('Error occured in function feature_selection_SelectFromModel. Error Message : ' + str(e))"
   ]
  },
  {
   "cell_type": "code",
   "execution_count": 19,
   "metadata": {},
   "outputs": [
    {
     "name": "stdout",
     "output_type": "stream",
     "text": [
      "(1500, 20)\n",
      "Entered function feature_selection_SelectFromModel.\n",
      "Index(['battery_power', 'ram'], dtype='object')\n",
      "Function feature_selection_SelectFromModel Completed Successfully. Exited this function\n",
      "(1500, 2)\n"
     ]
    }
   ],
   "source": [
    "# Testing the function using ExtraTreesClassifier\n",
    "# threshold will have default value\n",
    "\n",
    "print(X_train.shape)\n",
    "new_X_train, new_X_test = feature_selection_SelectFromModel(X_train, y_train, X_test, ExtraTreesClassifier())\n",
    "print(new_X_train.shape)"
   ]
  },
  {
   "cell_type": "code",
   "execution_count": 21,
   "metadata": {},
   "outputs": [
    {
     "name": "stdout",
     "output_type": "stream",
     "text": [
      "(1500, 20)\n",
      "Entered function feature_selection_SelectFromModel.\n",
      "Index(['battery_power', 'clock_speed', 'dual_sim', 'fc', 'int_memory',\n",
      "       'mobile_wt', 'n_cores', 'pc', 'px_height', 'px_width', 'ram', 'sc_h',\n",
      "       'sc_w', 'talk_time'],\n",
      "      dtype='object')\n",
      "Function feature_selection_SelectFromModel Completed Successfully. Exited this function\n",
      "(1500, 14)\n"
     ]
    }
   ],
   "source": [
    "# Testing the function using LinearSCV with L1 Regularization estimator\n",
    "\n",
    "from sklearn.svm import LinearSVC\n",
    "\n",
    "print(X_train.shape)\n",
    "estimator = LinearSVC(C=0.01, penalty='l1', dual=False)\n",
    "new_X_train, new_X_test = feature_selection_SelectFromModel(X_train, y_train, X_test, estimator)\n",
    "print(new_X_train.shape)"
   ]
  },
  {
   "cell_type": "code",
   "execution_count": 22,
   "metadata": {},
   "outputs": [
    {
     "name": "stdout",
     "output_type": "stream",
     "text": [
      "(1500, 20)\n",
      "Entered function feature_selection_SelectFromModel.\n",
      "Index(['battery_power', 'int_memory', 'mobile_wt', 'n_cores', 'pc',\n",
      "       'px_height', 'px_width', 'ram', 'sc_h', 'talk_time'],\n",
      "      dtype='object')\n",
      "Function feature_selection_SelectFromModel Completed Successfully. Exited this function\n",
      "(1500, 10)\n"
     ]
    }
   ],
   "source": [
    "# Testing the function using LogisticRegression with L1 Regularization estimator\n",
    "# in case of regression we can use Linear Regression we use Lasso or ElasticNet\n",
    "\n",
    "from sklearn.linear_model import LogisticRegression\n",
    "\n",
    "print(X_train.shape)\n",
    "estimator=LogisticRegression(penalty='l1', C=0.01, solver='liblinear')\n",
    "new_X_train, new_X_test = feature_selection_SelectFromModel(X_train, y_train, X_test, estimator)\n",
    "print(new_X_train.shape)"
   ]
  },
  {
   "cell_type": "markdown",
   "metadata": {},
   "source": [
    "### 4. Sequential Feature Selector (SFS)\n",
    "\n",
    "Sequential Feature Selection [sfs] (SFS) is available in the SequentialFeatureSelector transformer. SFS can be either forward or backward:\n",
    "\n",
    "Forward-SFS is a greedy procedure that iteratively finds the best new feature to add to the set of selected features. Concretely, we initially start with zero feature and find the one feature (best feature) that maximizes a cross-validated score when an estimator is trained on this single feature (we train an ML Estimator using each single independent feature and select the one with highest cross validation score). Once that first feature is selected, we repeat the procedure by adding a new feature to the set of selected features. The procedure stops when the desired number of selected features is reached, as determined by the n_features_to_select parameter.\n",
    "\n",
    "Backward-SFS follows the same idea but works in the opposite direction: instead of starting with no feature and greedily adding features, we start with all the features and greedily remove features from the set. The direction parameter controls whether forward or backward SFS is used."
   ]
  },
  {
   "cell_type": "code",
   "execution_count": 33,
   "metadata": {},
   "outputs": [],
   "source": [
    "from sklearn.feature_selection import SequentialFeatureSelector\n",
    "\n",
    "def feature_selection_SFS(X_train, y_train, X_test, model, direction='forward', n_features_to_select=None,\n",
    "                                      scoring=None, cv=None):\n",
    "    try:\n",
    "        print('Entered function feature_selection_SFS.')\n",
    "        \n",
    "        nr_total_features = X_train.shape[1]\n",
    "\n",
    "        selector = SequentialFeatureSelector(estimator=model, n_features_to_select=n_features_to_select, direction=direction, \n",
    "                                             scoring=scoring, cv=cv, n_jobs=-1)\n",
    "        \n",
    "        selector.fit(X_train, y_train)\n",
    "        \n",
    "        indices_selected_cols = list(selector.get_support(indices=True))\n",
    "        cols_selected = X_train.columns[indices_selected_cols]\n",
    "        nr_features_selected = len(cols_selected)\n",
    "        print(cols_selected)\n",
    "\n",
    "        new_X_train = pd.DataFrame(data=selector.transform(X_train), columns=cols_selected)\n",
    "        new_X_test = pd.DataFrame(data=selector.transform(X_test), columns=cols_selected)\n",
    "        \n",
    "        # If estimator has feature_importance use this code to plot the feature importances \n",
    "        \n",
    "        #ranked_features=pd.Series(model.feature_importances_,index=X_train.columns)\n",
    "        #ranked_features.nlargest(10).plot(kind='barh')\n",
    "        #plt.savefig('Feature_Ranking.jpg')\n",
    "        #plt.show()\n",
    "        \n",
    "        print('Function feature_selection_SFS Completed Successfully. Exited this function')\n",
    "        return new_X_train, new_X_test\n",
    "    \n",
    "    except Exception as e:\n",
    "        print('Error occured in function feature_selection_SFS. Error Message : ' + str(e))\n"
   ]
  },
  {
   "cell_type": "code",
   "execution_count": 36,
   "metadata": {},
   "outputs": [
    {
     "name": "stdout",
     "output_type": "stream",
     "text": [
      "(1500, 20)\n",
      "Entered function feature_selection_SFS.\n",
      "Index(['battery_power', 'blue', 'clock_speed', 'dual_sim', 'fc', 'four_g',\n",
      "       'int_memory'],\n",
      "      dtype='object')\n",
      "Function feature_selection_SFS Completed Successfully. Exited this function\n",
      "(1500, 7)\n"
     ]
    }
   ],
   "source": [
    "# Testing function using forward SFS\n",
    "print(X_train.shape)\n",
    "new_X_train, new_X_test = feature_selection_SFS(X_train, y_train, X_test, LogisticRegression(), direction='forward',\n",
    "                                                n_features_to_select=7, scoring='roc_auc')\n",
    "print(new_X_train.shape)"
   ]
  },
  {
   "cell_type": "code",
   "execution_count": 37,
   "metadata": {},
   "outputs": [
    {
     "name": "stdout",
     "output_type": "stream",
     "text": [
      "(1500, 20)\n",
      "Entered function feature_selection_SFS.\n",
      "Index(['ram', 'sc_h', 'sc_w', 'talk_time', 'three_g', 'touch_screen', 'wifi'], dtype='object')\n",
      "Function feature_selection_SFS Completed Successfully. Exited this function\n",
      "(1500, 7)\n"
     ]
    }
   ],
   "source": [
    "# Testing function using backward SFS\n",
    "print(X_train.shape)\n",
    "new_X_train, new_X_test = feature_selection_SFS(X_train, y_train, X_test, LogisticRegression(), direction='backward',\n",
    "                                                n_features_to_select=7, scoring='roc_auc')\n",
    "print(new_X_train.shape)"
   ]
  },
  {
   "cell_type": "code",
   "execution_count": null,
   "metadata": {},
   "outputs": [],
   "source": []
  },
  {
   "cell_type": "markdown",
   "metadata": {},
   "source": [
    "### 5. Feature Selection Tuning with Hyperparameters using Pipelines (best approach)"
   ]
  },
  {
   "cell_type": "markdown",
   "metadata": {},
   "source": [
    "* Tuning Feature Selection and Hyperparameters at the same time. We will perform CV on all possible combinations of nr of features and hyperparameters and find best model.\n",
    "* Advantage of this approach is that we are going to find the model with highest performance but the disadvantage is that it requires too much time for the tuning."
   ]
  },
  {
   "cell_type": "markdown",
   "metadata": {},
   "source": [
    "Like you already observed yourself, your choice of features (feature selection) may have an impact on which hyperparameters for your algorithm are optimal, and which hyperparameters you select for your algorithm may have an impact on which choice of features would be optimal.\n",
    "\n",
    "So, yes, if you really really care about squeezing every single percent of performance out of your model, and you can afford the required amount of computation, the best solution is probably to do feature selection and hyperparamter tuning \"at the same time\". That's probably not easy (depending on how you do feature selection) though. The way I imagine it working would be like having different sets of features as candidates, and treating the selection of one set of features out of all those candidate sets as an additional hyperparameter.\n",
    "\n"
   ]
  },
  {
   "cell_type": "code",
   "execution_count": 23,
   "metadata": {},
   "outputs": [],
   "source": [
    "from sklearn.datasets import make_regression\n",
    "from sklearn.model_selection import train_test_split\n",
    "\n",
    "X, y= make_regression(n_samples=2000, n_features=20)\n",
    "X_train, X_test, y_train, y_test = train_test_split(X, y, random_state=1)"
   ]
  },
  {
   "cell_type": "code",
   "execution_count": 27,
   "metadata": {},
   "outputs": [],
   "source": [
    "from sklearn.feature_selection import SelectKBest\n",
    "from sklearn.feature_selection import f_regression\n",
    "from sklearn.model_selection import RandomizedSearchCV\n",
    "\n",
    "def feature_selection_hyperparameter_tuning(X_train, y_train, pipeline, params, scoring, cv=5, n_iter=20, verbose=False):\n",
    "    try:\n",
    "        print('Entered function feature_selection_hyperparameter_tuning.')\n",
    "        \n",
    "        infos = {}\n",
    "    \n",
    "        search = RandomizedSearchCV(pipeline, params, scoring=scoring, n_jobs=-1, n_iter=n_iter, cv=cv, verbose=verbose,\n",
    "                                random_state=1)\n",
    "        search.fit(X_train, y_train)\n",
    "    \n",
    "        infos['tuned_model'] = search.best_estimator_\n",
    "        infos['best_cv_score'] = search.best_score_\n",
    "        infos['best_hyperparameters_nr_features_selected'] = search.best_params_\n",
    "    \n",
    "        print('Function feature_selection_hyperparameter_tuning Completed Successfylly. Exited this function.')\n",
    "        return infos\n",
    "    \n",
    "    except Exception as e:\n",
    "        print('Error occured in function feature_selection_hyperparameter_tuning. Error Message : ' + str(e))\n",
    "    "
   ]
  },
  {
   "cell_type": "code",
   "execution_count": 28,
   "metadata": {},
   "outputs": [
    {
     "name": "stdout",
     "output_type": "stream",
     "text": [
      "Entered function feature_selection_hyperparameter_tuning.\n"
     ]
    },
    {
     "name": "stderr",
     "output_type": "stream",
     "text": [
      "C:\\Anaconda3\\lib\\site-packages\\sklearn\\model_selection\\_search.py:285: UserWarning: The total space of parameters 16 is smaller than n_iter=20. Running 16 iterations. For exhaustive searches, use GridSearchCV.\n",
      "  warnings.warn(\n"
     ]
    },
    {
     "name": "stdout",
     "output_type": "stream",
     "text": [
      "Function feature_selection_hyperparameter_tuning Completed Successfylly. Exited this function.\n"
     ]
    },
    {
     "data": {
      "text/plain": [
       "{'tuned_model': Pipeline(steps=[('feature_selector',\n",
       "                  SelectKBest(k=8,\n",
       "                              score_func=<function f_regression at 0x000001481530C9D0>)),\n",
       "                 ('estimator',\n",
       "                  RandomForestRegressor(max_depth=10, n_estimators=300,\n",
       "                                        random_state=1))]),\n",
       " 'best_cv_score': 0.8219013932421891,\n",
       " 'best_hyperparameters_nr_features_selected': {'feature_selector__k': 8,\n",
       "  'estimator__n_estimators': 300,\n",
       "  'estimator__max_depth': 10}}"
      ]
     },
     "execution_count": 28,
     "metadata": {},
     "output_type": "execute_result"
    }
   ],
   "source": [
    "# Testing the function\n",
    "\n",
    "from sklearn.ensemble import RandomForestRegressor\n",
    "from sklearn.feature_selection import f_regression\n",
    "from sklearn.metrics import r2_score\n",
    "from sklearn.pipeline import Pipeline\n",
    "\n",
    "# k=10 by default; k is the nr features selected\n",
    "pipeline = Pipeline([('feature_selector', SelectKBest(score_func=f_regression, k=10)),\n",
    "                     ('estimator', RandomForestRegressor(random_state=1))])\n",
    "\n",
    "params = {'feature_selector__k' : [6, 8, 9, 11],\n",
    "          'estimator__n_estimators' : [100, 300],\n",
    "          'estimator__max_depth' : [6, 10]}\n",
    "\n",
    "dic = feature_selection_hyperparameter_tuning(X_train, y_train, pipeline, params, scoring='r2')\n",
    "dic"
   ]
  },
  {
   "cell_type": "markdown",
   "metadata": {},
   "source": [
    "### Comparisons\n",
    "\n",
    "1. The advantage of RECV over SFS, SelectFromModel, SElectKBest is that they automatically select the top k best features for our model while for SFS, SelectFromModel, SelectKBest we have to specify the threshold/nr features we want to select which always seem to be a difficult decision.\n",
    "2. SelectFromModel and SelectKBest is significantly faster than SFS and RECV. Indeed, SelectFromModel and SelectKBest only needs to fit a model once, while SFS and RECV needs to cross-validate many different models for each of the iterations. \n",
    "3. SFS and RECV however works with any model, while SelectFromModel requires the underlying estimator to expose a coef_ attribute or a feature_importances_ attribute. \n",
    "4. Comparison between Forward SFS and Backward SFS : The forward SFS is faster than the backward SFS if the nr of features is low, otherwise it is lower than the backward SFS. Suppose if we have total nr of features 20 and the top features that give best performance are 4. In this case forward SFS is faster because it will perform only 4 time CV while backward SFS would perform it 16 times. If top features that give best performance is 17, backward SFS is faster because it will perform cross validation only 3 times while forward SFS would perform it 17 times. So if we think we have more than 50% of features important we should better go for backward SFS to save some time, otherwise use Forward SFS."
   ]
  },
  {
   "cell_type": "code",
   "execution_count": null,
   "metadata": {},
   "outputs": [],
   "source": []
  }
 ],
 "metadata": {
  "kernelspec": {
   "display_name": "Python 3 (ipykernel)",
   "language": "python",
   "name": "python3"
  },
  "language_info": {
   "codemirror_mode": {
    "name": "ipython",
    "version": 3
   },
   "file_extension": ".py",
   "mimetype": "text/x-python",
   "name": "python",
   "nbconvert_exporter": "python",
   "pygments_lexer": "ipython3",
   "version": "3.9.7"
  }
 },
 "nbformat": 4,
 "nbformat_minor": 4
}
