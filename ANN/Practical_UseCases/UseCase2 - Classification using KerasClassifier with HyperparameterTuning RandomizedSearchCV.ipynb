{
 "cells": [
  {
   "cell_type": "code",
   "execution_count": 60,
   "metadata": {},
   "outputs": [],
   "source": [
    "import numpy as np\n",
    "import matplotlib.pyplot as plt\n",
    "import pandas as pd\n",
    "\n",
    "from keras.models import Sequential\n",
    "from keras.layers import Dense, Activation, Embedding, Flatten, LeakyReLU, BatchNormalization, Dropout\n",
    "from keras.activations import relu, sigmoid\n",
    "from keras.layers import LeakyReLU\n",
    "from keras.wrappers.scikit_learn import KerasClassifier\n",
    "from sklearn.model_selection import GridSearchCV, RandomizedSearchCV\n",
    "from sklearn.preprocessing import StandardScaler"
   ]
  },
  {
   "cell_type": "code",
   "execution_count": 2,
   "metadata": {},
   "outputs": [
    {
     "data": {
      "text/html": [
       "<div>\n",
       "<style scoped>\n",
       "    .dataframe tbody tr th:only-of-type {\n",
       "        vertical-align: middle;\n",
       "    }\n",
       "\n",
       "    .dataframe tbody tr th {\n",
       "        vertical-align: top;\n",
       "    }\n",
       "\n",
       "    .dataframe thead th {\n",
       "        text-align: right;\n",
       "    }\n",
       "</style>\n",
       "<table border=\"1\" class=\"dataframe\">\n",
       "  <thead>\n",
       "    <tr style=\"text-align: right;\">\n",
       "      <th></th>\n",
       "      <th>CreditScore</th>\n",
       "      <th>Geography</th>\n",
       "      <th>Gender</th>\n",
       "      <th>Age</th>\n",
       "      <th>Tenure</th>\n",
       "      <th>Balance</th>\n",
       "      <th>NumOfProducts</th>\n",
       "      <th>HasCrCard</th>\n",
       "      <th>IsActiveMember</th>\n",
       "      <th>EstimatedSalary</th>\n",
       "    </tr>\n",
       "  </thead>\n",
       "  <tbody>\n",
       "    <tr>\n",
       "      <th>0</th>\n",
       "      <td>619</td>\n",
       "      <td>France</td>\n",
       "      <td>Female</td>\n",
       "      <td>42</td>\n",
       "      <td>2</td>\n",
       "      <td>0.00</td>\n",
       "      <td>1</td>\n",
       "      <td>1</td>\n",
       "      <td>1</td>\n",
       "      <td>101348.88</td>\n",
       "    </tr>\n",
       "    <tr>\n",
       "      <th>1</th>\n",
       "      <td>608</td>\n",
       "      <td>Spain</td>\n",
       "      <td>Female</td>\n",
       "      <td>41</td>\n",
       "      <td>1</td>\n",
       "      <td>83807.86</td>\n",
       "      <td>1</td>\n",
       "      <td>0</td>\n",
       "      <td>1</td>\n",
       "      <td>112542.58</td>\n",
       "    </tr>\n",
       "    <tr>\n",
       "      <th>2</th>\n",
       "      <td>502</td>\n",
       "      <td>France</td>\n",
       "      <td>Female</td>\n",
       "      <td>42</td>\n",
       "      <td>8</td>\n",
       "      <td>159660.80</td>\n",
       "      <td>3</td>\n",
       "      <td>1</td>\n",
       "      <td>0</td>\n",
       "      <td>113931.57</td>\n",
       "    </tr>\n",
       "    <tr>\n",
       "      <th>3</th>\n",
       "      <td>699</td>\n",
       "      <td>France</td>\n",
       "      <td>Female</td>\n",
       "      <td>39</td>\n",
       "      <td>1</td>\n",
       "      <td>0.00</td>\n",
       "      <td>2</td>\n",
       "      <td>0</td>\n",
       "      <td>0</td>\n",
       "      <td>93826.63</td>\n",
       "    </tr>\n",
       "    <tr>\n",
       "      <th>4</th>\n",
       "      <td>850</td>\n",
       "      <td>Spain</td>\n",
       "      <td>Female</td>\n",
       "      <td>43</td>\n",
       "      <td>2</td>\n",
       "      <td>125510.82</td>\n",
       "      <td>1</td>\n",
       "      <td>1</td>\n",
       "      <td>1</td>\n",
       "      <td>79084.10</td>\n",
       "    </tr>\n",
       "  </tbody>\n",
       "</table>\n",
       "</div>"
      ],
      "text/plain": [
       "   CreditScore Geography  Gender  Age  Tenure    Balance  NumOfProducts  \\\n",
       "0          619    France  Female   42       2       0.00              1   \n",
       "1          608     Spain  Female   41       1   83807.86              1   \n",
       "2          502    France  Female   42       8  159660.80              3   \n",
       "3          699    France  Female   39       1       0.00              2   \n",
       "4          850     Spain  Female   43       2  125510.82              1   \n",
       "\n",
       "   HasCrCard  IsActiveMember  EstimatedSalary  \n",
       "0          1               1        101348.88  \n",
       "1          0               1        112542.58  \n",
       "2          1               0        113931.57  \n",
       "3          0               0         93826.63  \n",
       "4          1               1         79084.10  "
      ]
     },
     "execution_count": 2,
     "metadata": {},
     "output_type": "execute_result"
    }
   ],
   "source": [
    "dataset = pd.read_csv('datasets/Churn_Modelling.csv')\n",
    "X = dataset.iloc[:, 3:13]\n",
    "y = dataset.iloc[:, 13]\n",
    "X.head()"
   ]
  },
  {
   "cell_type": "code",
   "execution_count": 3,
   "metadata": {},
   "outputs": [
    {
     "data": {
      "text/plain": [
       "0       1\n",
       "1       0\n",
       "2       1\n",
       "3       0\n",
       "4       0\n",
       "       ..\n",
       "9995    0\n",
       "9996    0\n",
       "9997    1\n",
       "9998    1\n",
       "9999    0\n",
       "Name: Exited, Length: 10000, dtype: int64"
      ]
     },
     "execution_count": 3,
     "metadata": {},
     "output_type": "execute_result"
    }
   ],
   "source": [
    "y"
   ]
  },
  {
   "cell_type": "markdown",
   "metadata": {},
   "source": [
    "## Step 1 : Train Test Split"
   ]
  },
  {
   "cell_type": "code",
   "execution_count": 4,
   "metadata": {},
   "outputs": [],
   "source": [
    "from sklearn.model_selection import train_test_split\n",
    "X_train, X_test, y_train, y_test = train_test_split(X, y, test_size = 0.2, random_state = 0)"
   ]
  },
  {
   "cell_type": "markdown",
   "metadata": {},
   "source": [
    "## Step 2 : Data Preprocessing "
   ]
  },
  {
   "cell_type": "code",
   "execution_count": 5,
   "metadata": {},
   "outputs": [],
   "source": [
    "# Encoding categorical features\n",
    "X_train = pd.get_dummies(X_train, columns=['Gender', 'Geography'])\n",
    "X_test = pd.get_dummies(X_test, columns=['Gender', 'Geography'])"
   ]
  },
  {
   "cell_type": "code",
   "execution_count": 6,
   "metadata": {},
   "outputs": [
    {
     "name": "stdout",
     "output_type": "stream",
     "text": [
      "(8000, 13)\n",
      "(2000, 13)\n"
     ]
    }
   ],
   "source": [
    "# check that we have same nr of features in train and test set after one-hot encoding\n",
    "print(X_train.shape)\n",
    "print(X_test.shape)"
   ]
  },
  {
   "cell_type": "code",
   "execution_count": 7,
   "metadata": {},
   "outputs": [],
   "source": [
    "# Feature Scaling\n",
    "\n",
    "from sklearn.preprocessing import StandardScaler\n",
    "sc = StandardScaler()\n",
    "\n",
    "X_train = sc.fit_transform(X_train)\n",
    "X_test = sc.transform(X_test)"
   ]
  },
  {
   "cell_type": "markdown",
   "metadata": {},
   "source": [
    "## Step 3 : Create a base model using KerasClassifier from Tensorflow Scikitlearn"
   ]
  },
  {
   "cell_type": "code",
   "execution_count": 84,
   "metadata": {},
   "outputs": [],
   "source": [
    "def create_model(layers = [4,5,3], optimizer='adam', activation='relu', kernel_init='glorot_uniform', bias_init='zeros', loss='binary_crossentropy',\n",
    "                 metrics=['accuracy']):\n",
    "    \n",
    "    model = Sequential()\n",
    "    for i, node in enumerate(layers):\n",
    "        if i==0:\n",
    "            model.add(Dense(node, kernel_initializer=kernel_init, bias_initializer=bias_init,\n",
    "                            input_dim=X_train.shape[1]))\n",
    "            model.add(Activation(activation))\n",
    "        else:\n",
    "            model.add(Dense(node, kernel_initializer=kernel_init, bias_initializer=bias_init))\n",
    "            model.add(Activation(activation))\n",
    "            \n",
    "    model.add(Dense(1))\n",
    "    model.add(Activation('sigmoid'))\n",
    "    \n",
    "    model.compile(optimizer=optimizer, loss=loss, metrics=metrics)\n",
    "    return model"
   ]
  },
  {
   "cell_type": "code",
   "execution_count": 85,
   "metadata": {},
   "outputs": [
    {
     "data": {
      "text/plain": [
       "<tensorflow.python.keras.wrappers.scikit_learn.KerasClassifier at 0x278040e4dc0>"
      ]
     },
     "execution_count": 85,
     "metadata": {},
     "output_type": "execute_result"
    }
   ],
   "source": [
    "base_model = KerasClassifier(build_fn=create_model, verbose=0)\n",
    "base_model"
   ]
  },
  {
   "cell_type": "code",
   "execution_count": 86,
   "metadata": {},
   "outputs": [
    {
     "name": "stdout",
     "output_type": "stream",
     "text": [
      "Epoch 1/100\n",
      "250/250 [==============================] - 0s 986us/step - loss: 0.5982 - accuracy: 0.7834 - val_loss: 0.5240 - val_accuracy: 0.7975\n",
      "Epoch 2/100\n",
      "250/250 [==============================] - 0s 609us/step - loss: 0.4934 - accuracy: 0.7960 - val_loss: 0.4669 - val_accuracy: 0.7975\n",
      "Epoch 3/100\n",
      "250/250 [==============================] - 0s 658us/step - loss: 0.4536 - accuracy: 0.7961 - val_loss: 0.4399 - val_accuracy: 0.7975\n",
      "Epoch 4/100\n",
      "250/250 [==============================] - 0s 613us/step - loss: 0.4361 - accuracy: 0.8018 - val_loss: 0.4267 - val_accuracy: 0.8200\n",
      "Epoch 5/100\n",
      "250/250 [==============================] - 0s 612us/step - loss: 0.4266 - accuracy: 0.8156 - val_loss: 0.4178 - val_accuracy: 0.8245\n",
      "Epoch 6/100\n",
      "250/250 [==============================] - 0s 632us/step - loss: 0.4208 - accuracy: 0.8223 - val_loss: 0.4130 - val_accuracy: 0.8245\n",
      "Epoch 7/100\n",
      "250/250 [==============================] - 0s 620us/step - loss: 0.4168 - accuracy: 0.8246 - val_loss: 0.4078 - val_accuracy: 0.8295\n",
      "Epoch 8/100\n",
      "250/250 [==============================] - 0s 632us/step - loss: 0.4131 - accuracy: 0.8270 - val_loss: 0.4045 - val_accuracy: 0.8350\n",
      "Epoch 9/100\n",
      "250/250 [==============================] - 0s 640us/step - loss: 0.4103 - accuracy: 0.8270 - val_loss: 0.4029 - val_accuracy: 0.8365\n",
      "Epoch 10/100\n",
      "250/250 [==============================] - 0s 616us/step - loss: 0.4084 - accuracy: 0.8288 - val_loss: 0.4040 - val_accuracy: 0.8345\n",
      "Epoch 11/100\n",
      "250/250 [==============================] - 0s 624us/step - loss: 0.4066 - accuracy: 0.8291 - val_loss: 0.4015 - val_accuracy: 0.8385\n",
      "Epoch 12/100\n",
      "250/250 [==============================] - 0s 624us/step - loss: 0.4048 - accuracy: 0.8311 - val_loss: 0.4005 - val_accuracy: 0.8390\n",
      "Epoch 13/100\n",
      "250/250 [==============================] - 0s 609us/step - loss: 0.4038 - accuracy: 0.8310 - val_loss: 0.4006 - val_accuracy: 0.8415\n",
      "Epoch 14/100\n",
      "250/250 [==============================] - 0s 615us/step - loss: 0.4027 - accuracy: 0.8329 - val_loss: 0.4000 - val_accuracy: 0.8380\n",
      "Epoch 15/100\n",
      "250/250 [==============================] - 0s 639us/step - loss: 0.4012 - accuracy: 0.8335 - val_loss: 0.3997 - val_accuracy: 0.8395\n",
      "Epoch 16/100\n",
      "250/250 [==============================] - 0s 644us/step - loss: 0.4005 - accuracy: 0.8336 - val_loss: 0.3996 - val_accuracy: 0.8400\n",
      "Epoch 17/100\n",
      "250/250 [==============================] - 0s 653us/step - loss: 0.3994 - accuracy: 0.8331 - val_loss: 0.3977 - val_accuracy: 0.8385\n",
      "Epoch 18/100\n",
      "250/250 [==============================] - 0s 644us/step - loss: 0.3976 - accuracy: 0.8344 - val_loss: 0.3962 - val_accuracy: 0.8380\n",
      "Epoch 19/100\n",
      "250/250 [==============================] - 0s 628us/step - loss: 0.3955 - accuracy: 0.8328 - val_loss: 0.3938 - val_accuracy: 0.8410\n",
      "Epoch 20/100\n",
      "250/250 [==============================] - 0s 628us/step - loss: 0.3930 - accuracy: 0.8360 - val_loss: 0.3912 - val_accuracy: 0.8395\n",
      "Epoch 21/100\n",
      "250/250 [==============================] - 0s 625us/step - loss: 0.3901 - accuracy: 0.8367 - val_loss: 0.3876 - val_accuracy: 0.8425\n",
      "Epoch 22/100\n",
      "250/250 [==============================] - 0s 640us/step - loss: 0.3864 - accuracy: 0.8378 - val_loss: 0.3837 - val_accuracy: 0.8430\n",
      "Epoch 23/100\n",
      "250/250 [==============================] - 0s 633us/step - loss: 0.3808 - accuracy: 0.8414 - val_loss: 0.3755 - val_accuracy: 0.8480\n",
      "Epoch 24/100\n",
      "250/250 [==============================] - 0s 626us/step - loss: 0.3733 - accuracy: 0.8444 - val_loss: 0.3673 - val_accuracy: 0.8510\n",
      "Epoch 25/100\n",
      "250/250 [==============================] - 0s 639us/step - loss: 0.3658 - accuracy: 0.8491 - val_loss: 0.3594 - val_accuracy: 0.8510\n",
      "Epoch 26/100\n",
      "250/250 [==============================] - 0s 640us/step - loss: 0.3597 - accuracy: 0.8530 - val_loss: 0.3512 - val_accuracy: 0.8585\n",
      "Epoch 27/100\n",
      "250/250 [==============================] - 0s 640us/step - loss: 0.3552 - accuracy: 0.8546 - val_loss: 0.3452 - val_accuracy: 0.8605\n",
      "Epoch 28/100\n",
      "250/250 [==============================] - 0s 632us/step - loss: 0.3520 - accuracy: 0.8530 - val_loss: 0.3444 - val_accuracy: 0.8605\n",
      "Epoch 29/100\n",
      "250/250 [==============================] - 0s 631us/step - loss: 0.3492 - accuracy: 0.8569 - val_loss: 0.3428 - val_accuracy: 0.8580\n",
      "Epoch 30/100\n",
      "250/250 [==============================] - 0s 616us/step - loss: 0.3474 - accuracy: 0.8585 - val_loss: 0.3404 - val_accuracy: 0.8595\n",
      "Epoch 31/100\n",
      "250/250 [==============================] - 0s 637us/step - loss: 0.3453 - accuracy: 0.8600 - val_loss: 0.3368 - val_accuracy: 0.8625\n",
      "Epoch 32/100\n",
      "250/250 [==============================] - 0s 612us/step - loss: 0.3449 - accuracy: 0.8608 - val_loss: 0.3371 - val_accuracy: 0.8600\n",
      "Epoch 33/100\n",
      "250/250 [==============================] - 0s 616us/step - loss: 0.3438 - accuracy: 0.8611 - val_loss: 0.3354 - val_accuracy: 0.8610\n",
      "Epoch 34/100\n",
      "250/250 [==============================] - 0s 626us/step - loss: 0.3432 - accuracy: 0.8614 - val_loss: 0.3367 - val_accuracy: 0.8625\n",
      "Epoch 35/100\n",
      "250/250 [==============================] - 0s 612us/step - loss: 0.3430 - accuracy: 0.8615 - val_loss: 0.3342 - val_accuracy: 0.8645\n",
      "Epoch 36/100\n",
      "250/250 [==============================] - 0s 646us/step - loss: 0.3425 - accuracy: 0.8608 - val_loss: 0.3368 - val_accuracy: 0.8620\n",
      "Epoch 37/100\n",
      "250/250 [==============================] - 0s 636us/step - loss: 0.3420 - accuracy: 0.8618 - val_loss: 0.3358 - val_accuracy: 0.8630\n",
      "Epoch 38/100\n",
      "250/250 [==============================] - 0s 613us/step - loss: 0.3418 - accuracy: 0.8611 - val_loss: 0.3355 - val_accuracy: 0.8615\n",
      "Epoch 39/100\n",
      "250/250 [==============================] - 0s 628us/step - loss: 0.3414 - accuracy: 0.8630 - val_loss: 0.3348 - val_accuracy: 0.8595\n",
      "Epoch 40/100\n",
      "250/250 [==============================] - 0s 624us/step - loss: 0.3414 - accuracy: 0.8627 - val_loss: 0.3368 - val_accuracy: 0.8620\n",
      "Epoch 41/100\n",
      "250/250 [==============================] - 0s 630us/step - loss: 0.3414 - accuracy: 0.8634 - val_loss: 0.3349 - val_accuracy: 0.8615\n",
      "Epoch 42/100\n",
      "250/250 [==============================] - 0s 645us/step - loss: 0.3404 - accuracy: 0.8635 - val_loss: 0.3339 - val_accuracy: 0.8615\n",
      "Epoch 43/100\n",
      "250/250 [==============================] - 0s 633us/step - loss: 0.3407 - accuracy: 0.8622 - val_loss: 0.3359 - val_accuracy: 0.8605\n",
      "Epoch 44/100\n",
      "250/250 [==============================] - 0s 620us/step - loss: 0.3409 - accuracy: 0.8610 - val_loss: 0.3331 - val_accuracy: 0.8625\n",
      "Epoch 45/100\n",
      "250/250 [==============================] - 0s 632us/step - loss: 0.3406 - accuracy: 0.8615 - val_loss: 0.3356 - val_accuracy: 0.8600\n",
      "Epoch 46/100\n",
      "250/250 [==============================] - 0s 616us/step - loss: 0.3401 - accuracy: 0.8609 - val_loss: 0.3348 - val_accuracy: 0.8600\n",
      "Epoch 47/100\n",
      "250/250 [==============================] - 0s 632us/step - loss: 0.3405 - accuracy: 0.8619 - val_loss: 0.3354 - val_accuracy: 0.8600\n",
      "Epoch 48/100\n",
      "250/250 [==============================] - 0s 632us/step - loss: 0.3403 - accuracy: 0.8625 - val_loss: 0.3331 - val_accuracy: 0.8590\n",
      "Epoch 49/100\n",
      "250/250 [==============================] - 0s 640us/step - loss: 0.3402 - accuracy: 0.8634 - val_loss: 0.3337 - val_accuracy: 0.8610\n",
      "Epoch 50/100\n",
      "250/250 [==============================] - 0s 623us/step - loss: 0.3402 - accuracy: 0.8631 - val_loss: 0.3334 - val_accuracy: 0.8595\n",
      "Epoch 51/100\n",
      "250/250 [==============================] - 0s 620us/step - loss: 0.3403 - accuracy: 0.8630 - val_loss: 0.3346 - val_accuracy: 0.8600\n",
      "Epoch 52/100\n",
      "250/250 [==============================] - 0s 628us/step - loss: 0.3398 - accuracy: 0.8636 - val_loss: 0.3323 - val_accuracy: 0.8625\n",
      "Epoch 53/100\n",
      "250/250 [==============================] - 0s 634us/step - loss: 0.3396 - accuracy: 0.8626 - val_loss: 0.3329 - val_accuracy: 0.8640\n",
      "Epoch 54/100\n",
      "250/250 [==============================] - 0s 636us/step - loss: 0.3398 - accuracy: 0.8622 - val_loss: 0.3320 - val_accuracy: 0.8630\n",
      "Epoch 55/100\n",
      "250/250 [==============================] - 0s 636us/step - loss: 0.3399 - accuracy: 0.8620 - val_loss: 0.3335 - val_accuracy: 0.8620\n",
      "Epoch 56/100\n",
      "250/250 [==============================] - 0s 645us/step - loss: 0.3397 - accuracy: 0.8618 - val_loss: 0.3331 - val_accuracy: 0.8610\n",
      "Epoch 57/100\n",
      "250/250 [==============================] - 0s 644us/step - loss: 0.3402 - accuracy: 0.8610 - val_loss: 0.3335 - val_accuracy: 0.8590\n",
      "Epoch 58/100\n",
      "250/250 [==============================] - 0s 622us/step - loss: 0.3397 - accuracy: 0.8612 - val_loss: 0.3320 - val_accuracy: 0.8635\n",
      "Epoch 59/100\n",
      "250/250 [==============================] - 0s 628us/step - loss: 0.3399 - accuracy: 0.8636 - val_loss: 0.3333 - val_accuracy: 0.8605\n",
      "Epoch 60/100\n",
      "250/250 [==============================] - 0s 642us/step - loss: 0.3395 - accuracy: 0.8629 - val_loss: 0.3340 - val_accuracy: 0.8605\n",
      "Epoch 61/100\n",
      "250/250 [==============================] - 0s 616us/step - loss: 0.3395 - accuracy: 0.8627 - val_loss: 0.3326 - val_accuracy: 0.8600\n",
      "Epoch 62/100\n",
      "250/250 [==============================] - 0s 639us/step - loss: 0.3392 - accuracy: 0.8622 - val_loss: 0.3322 - val_accuracy: 0.8610\n",
      "Epoch 63/100\n",
      "250/250 [==============================] - 0s 624us/step - loss: 0.3394 - accuracy: 0.8622 - val_loss: 0.3330 - val_accuracy: 0.8595\n",
      "Epoch 64/100\n",
      "250/250 [==============================] - 0s 620us/step - loss: 0.3392 - accuracy: 0.8621 - val_loss: 0.3320 - val_accuracy: 0.8635\n",
      "Epoch 65/100\n",
      "250/250 [==============================] - 0s 628us/step - loss: 0.3392 - accuracy: 0.8641 - val_loss: 0.3323 - val_accuracy: 0.8640\n",
      "Epoch 66/100\n",
      "250/250 [==============================] - 0s 620us/step - loss: 0.3391 - accuracy: 0.8634 - val_loss: 0.3359 - val_accuracy: 0.8585\n",
      "Epoch 67/100\n",
      "250/250 [==============================] - 0s 611us/step - loss: 0.3393 - accuracy: 0.8615 - val_loss: 0.3324 - val_accuracy: 0.8605\n",
      "Epoch 68/100\n",
      "250/250 [==============================] - 0s 632us/step - loss: 0.3389 - accuracy: 0.8620 - val_loss: 0.3349 - val_accuracy: 0.8575\n",
      "Epoch 69/100\n",
      "250/250 [==============================] - 0s 619us/step - loss: 0.3388 - accuracy: 0.8635 - val_loss: 0.3319 - val_accuracy: 0.8615\n",
      "Epoch 70/100\n",
      "250/250 [==============================] - 0s 632us/step - loss: 0.3391 - accuracy: 0.8618 - val_loss: 0.3331 - val_accuracy: 0.8605\n",
      "Epoch 71/100\n",
      "250/250 [==============================] - 0s 612us/step - loss: 0.3388 - accuracy: 0.8639 - val_loss: 0.3332 - val_accuracy: 0.8635\n",
      "Epoch 72/100\n",
      "250/250 [==============================] - 0s 623us/step - loss: 0.3388 - accuracy: 0.8624 - val_loss: 0.3329 - val_accuracy: 0.8600\n",
      "Epoch 73/100\n",
      "250/250 [==============================] - 0s 636us/step - loss: 0.3385 - accuracy: 0.8625 - val_loss: 0.3325 - val_accuracy: 0.8635\n",
      "Epoch 74/100\n",
      "250/250 [==============================] - 0s 624us/step - loss: 0.3381 - accuracy: 0.8627 - val_loss: 0.3334 - val_accuracy: 0.8610\n",
      "Epoch 75/100\n",
      "250/250 [==============================] - 0s 632us/step - loss: 0.3386 - accuracy: 0.8620 - val_loss: 0.3317 - val_accuracy: 0.8615\n",
      "Epoch 76/100\n",
      "250/250 [==============================] - 0s 640us/step - loss: 0.3384 - accuracy: 0.8611 - val_loss: 0.3322 - val_accuracy: 0.8630\n",
      "Epoch 77/100\n",
      "250/250 [==============================] - 0s 628us/step - loss: 0.3385 - accuracy: 0.8631 - val_loss: 0.3318 - val_accuracy: 0.8630\n",
      "Epoch 78/100\n",
      "250/250 [==============================] - 0s 628us/step - loss: 0.3383 - accuracy: 0.8627 - val_loss: 0.3329 - val_accuracy: 0.8635\n",
      "Epoch 79/100\n",
      "250/250 [==============================] - 0s 625us/step - loss: 0.3384 - accuracy: 0.8620 - val_loss: 0.3380 - val_accuracy: 0.8590\n",
      "Epoch 80/100\n",
      "250/250 [==============================] - 0s 624us/step - loss: 0.3382 - accuracy: 0.8625 - val_loss: 0.3318 - val_accuracy: 0.8645\n",
      "Epoch 81/100\n",
      "250/250 [==============================] - 0s 629us/step - loss: 0.3382 - accuracy: 0.8624 - val_loss: 0.3346 - val_accuracy: 0.8610\n",
      "Epoch 82/100\n",
      "250/250 [==============================] - 0s 624us/step - loss: 0.3381 - accuracy: 0.8633 - val_loss: 0.3345 - val_accuracy: 0.8605\n",
      "Epoch 83/100\n",
      "250/250 [==============================] - 0s 620us/step - loss: 0.3379 - accuracy: 0.8622 - val_loss: 0.3385 - val_accuracy: 0.8580\n",
      "Epoch 84/100\n",
      "250/250 [==============================] - 0s 626us/step - loss: 0.3379 - accuracy: 0.8639 - val_loss: 0.3351 - val_accuracy: 0.8605\n",
      "Epoch 85/100\n",
      "250/250 [==============================] - 0s 632us/step - loss: 0.3378 - accuracy: 0.8636 - val_loss: 0.3333 - val_accuracy: 0.8605\n",
      "Epoch 86/100\n",
      "250/250 [==============================] - 0s 601us/step - loss: 0.3377 - accuracy: 0.8610 - val_loss: 0.3330 - val_accuracy: 0.8625\n",
      "Epoch 87/100\n",
      "250/250 [==============================] - 0s 652us/step - loss: 0.3378 - accuracy: 0.8633 - val_loss: 0.3344 - val_accuracy: 0.8620\n",
      "Epoch 88/100\n",
      "250/250 [==============================] - 0s 618us/step - loss: 0.3379 - accuracy: 0.8616 - val_loss: 0.3329 - val_accuracy: 0.8615\n",
      "Epoch 89/100\n",
      "250/250 [==============================] - 0s 648us/step - loss: 0.3377 - accuracy: 0.8648 - val_loss: 0.3320 - val_accuracy: 0.8620\n",
      "Epoch 90/100\n",
      "250/250 [==============================] - 0s 620us/step - loss: 0.3375 - accuracy: 0.8640 - val_loss: 0.3390 - val_accuracy: 0.8575\n",
      "Epoch 91/100\n",
      "250/250 [==============================] - 0s 635us/step - loss: 0.3370 - accuracy: 0.8635 - val_loss: 0.3346 - val_accuracy: 0.8605\n",
      "Epoch 92/100\n",
      "250/250 [==============================] - 0s 623us/step - loss: 0.3375 - accuracy: 0.8620 - val_loss: 0.3318 - val_accuracy: 0.8630\n",
      "Epoch 93/100\n",
      "250/250 [==============================] - 0s 667us/step - loss: 0.3376 - accuracy: 0.8626 - val_loss: 0.3319 - val_accuracy: 0.8620\n",
      "Epoch 94/100\n",
      "250/250 [==============================] - 0s 625us/step - loss: 0.3381 - accuracy: 0.8614 - val_loss: 0.3344 - val_accuracy: 0.8640\n",
      "Epoch 95/100\n",
      "250/250 [==============================] - 0s 644us/step - loss: 0.3376 - accuracy: 0.8627 - val_loss: 0.3322 - val_accuracy: 0.8605\n",
      "Epoch 96/100\n",
      "250/250 [==============================] - 0s 641us/step - loss: 0.3375 - accuracy: 0.8627 - val_loss: 0.3328 - val_accuracy: 0.8620\n",
      "Epoch 97/100\n",
      "250/250 [==============================] - 0s 628us/step - loss: 0.3376 - accuracy: 0.8624 - val_loss: 0.3351 - val_accuracy: 0.8600\n",
      "Epoch 98/100\n",
      "250/250 [==============================] - 0s 629us/step - loss: 0.3370 - accuracy: 0.8627 - val_loss: 0.3345 - val_accuracy: 0.8600\n",
      "Epoch 99/100\n",
      "250/250 [==============================] - 0s 628us/step - loss: 0.3373 - accuracy: 0.8630 - val_loss: 0.3328 - val_accuracy: 0.8620\n",
      "Epoch 100/100\n",
      "250/250 [==============================] - 0s 629us/step - loss: 0.3370 - accuracy: 0.8635 - val_loss: 0.3359 - val_accuracy: 0.8585\n"
     ]
    }
   ],
   "source": [
    "base_model_history = base_model.fit(X_train, y_train, validation_data=(X_test, y_test), batch_size=32, epochs=100, verbose=True)"
   ]
  },
  {
   "cell_type": "code",
   "execution_count": 87,
   "metadata": {},
   "outputs": [
    {
     "name": "stdout",
     "output_type": "stream",
     "text": [
      "dict_keys(['loss', 'accuracy', 'val_loss', 'val_accuracy'])\n"
     ]
    },
    {
     "data": {
      "image/png": "[encoded data removed]",
      "text/plain": [
       "<Figure size 432x288 with 1 Axes>"
      ]
     },
     "metadata": {
      "needs_background": "light"
     },
     "output_type": "display_data"
    },
    {
     "data": {
      "image/png": "[encoded data removed]",
      "text/plain": [
       "<Figure size 432x288 with 1 Axes>"
      ]
     },
     "metadata": {
      "needs_background": "light"
     },
     "output_type": "display_data"
    }
   ],
   "source": [
    "# list all data in history\n",
    "\n",
    "print(base_model_history.history.keys())\n",
    "# summarize history for accuracy\n",
    "plt.plot(base_model_history.history['accuracy'])\n",
    "plt.plot(base_model_history.history['val_accuracy'])\n",
    "plt.title('model accuracy')\n",
    "plt.ylabel('accuracy')\n",
    "plt.xlabel('epoch')\n",
    "plt.legend(['train', 'test'], loc='upper left')\n",
    "plt.show()\n",
    "\n",
    "# summarize history for loss\n",
    "plt.plot(base_model_history.history['loss'])\n",
    "plt.plot(base_model_history.history['val_loss'])\n",
    "plt.title('model loss')\n",
    "plt.ylabel('loss')\n",
    "plt.xlabel('epoch')\n",
    "plt.legend(['train', 'test'], loc='upper left')\n",
    "plt.show()"
   ]
  },
  {
   "cell_type": "code",
   "execution_count": 88,
   "metadata": {},
   "outputs": [],
   "source": [
    "from sklearn.metrics import classification_report"
   ]
  },
  {
   "cell_type": "code",
   "execution_count": 89,
   "metadata": {},
   "outputs": [
    {
     "data": {
      "text/plain": [
       "0.8585000038146973"
      ]
     },
     "execution_count": 89,
     "metadata": {},
     "output_type": "execute_result"
    }
   ],
   "source": [
    "# score returns the accuracy\n",
    "base_model.score(X_test, y_test)"
   ]
  },
  {
   "cell_type": "code",
   "execution_count": 90,
   "metadata": {},
   "outputs": [
    {
     "name": "stdout",
     "output_type": "stream",
     "text": [
      ".\n",
      "              precision    recall  f1-score   support\n",
      "\n",
      "           0       0.89      0.94      0.91      1595\n",
      "           1       0.69      0.56      0.61       405\n",
      "\n",
      "    accuracy                           0.86      2000\n",
      "   macro avg       0.79      0.75      0.76      2000\n",
      "weighted avg       0.85      0.86      0.85      2000\n",
      "\n"
     ]
    }
   ],
   "source": [
    "# Model Performance on TEST SET\n",
    "\n",
    "print('.')\n",
    "test_pred_prob = base_model.predict_proba(X_test)[:, 1]\n",
    "test_pred = np.where(test_pred_prob > 0.5, 1, 0)\n",
    "print(classification_report(y_test, test_pred))"
   ]
  },
  {
   "cell_type": "code",
   "execution_count": 91,
   "metadata": {},
   "outputs": [
    {
     "name": "stdout",
     "output_type": "stream",
     "text": [
      "              precision    recall  f1-score   support\n",
      "\n",
      "           0       0.89      0.95      0.92      6368\n",
      "           1       0.73      0.52      0.61      1632\n",
      "\n",
      "    accuracy                           0.86      8000\n",
      "   macro avg       0.81      0.74      0.76      8000\n",
      "weighted avg       0.85      0.86      0.85      8000\n",
      "\n"
     ]
    }
   ],
   "source": [
    "# Model Performance on TRAINING SET\n",
    "\n",
    "train_pred_prob = base_model.predict_proba(X_train)[:, 1]\n",
    "train_pred = np.where(train_pred_prob > 0.5, 1, 0)\n",
    "print(classification_report(y_train, train_pred))"
   ]
  },
  {
   "cell_type": "markdown",
   "metadata": {},
   "source": [
    "## Step 4 : Hyperparameter Tuning using RandomizedSearchCV "
   ]
  },
  {
   "cell_type": "markdown",
   "metadata": {},
   "source": [
    "* create_model is a function that design a NN model which will be used for hyperparameter tuning"
   ]
  },
  {
   "cell_type": "code",
   "execution_count": 92,
   "metadata": {},
   "outputs": [],
   "source": [
    "def create_model(layers=[4,5,3], activation='relu', optimizer='adam', kernel_init='glorot_uniform', bias_init='zeros',\n",
    "                 loss='binary_crossentropy', metrics=['accuracy']):\n",
    "    \n",
    "    model = Sequential()\n",
    "    for i, node in enumerate(layers):\n",
    "        if i==0:\n",
    "            model.add(Dense(node, kernel_initializer=kernel_init, bias_initializer=bias_init,\n",
    "                            input_dim=X_train.shape[1]))\n",
    "            model.add(Activation(activation))\n",
    "        else:\n",
    "            model.add(Dense(node, kernel_initializer=kernel_init, bias_initializer=bias_init))\n",
    "            model.add(Activation(activation))\n",
    "    model.add(Dense(1)) # Note: no activation beyond this point\n",
    "    \n",
    "    model.compile(optimizer=optimizer, loss=loss, metrics=metrics)\n",
    "    return model"
   ]
  },
  {
   "cell_type": "code",
   "execution_count": 93,
   "metadata": {},
   "outputs": [
    {
     "data": {
      "text/plain": [
       "<tensorflow.python.keras.wrappers.scikit_learn.KerasClassifier at 0x27808da4f70>"
      ]
     },
     "execution_count": 93,
     "metadata": {},
     "output_type": "execute_result"
    }
   ],
   "source": [
    "model = KerasClassifier(build_fn=create_model, verbose=0)\n",
    "model"
   ]
  },
  {
   "cell_type": "code",
   "execution_count": 95,
   "metadata": {},
   "outputs": [
    {
     "data": {
      "text/plain": [
       "RandomizedSearchCV(cv=5,\n",
       "                   estimator=<tensorflow.python.keras.wrappers.scikit_learn.KerasClassifier object at 0x0000027808DA4F70>,\n",
       "                   n_jobs=-1,\n",
       "                   param_distributions={'activation': ['relu', 'sigmoid'],\n",
       "                                        'batch_size': [128, 256],\n",
       "                                        'epochs': [30, 60],\n",
       "                                        'layers': [(20,), (40, 20),\n",
       "                                                   (45, 30, 15)]},\n",
       "                   scoring='accuracy')"
      ]
     },
     "execution_count": 95,
     "metadata": {},
     "output_type": "execute_result"
    }
   ],
   "source": [
    "# [20] means one layer with 20 neurons, [40,20] means 2 layers with 40 and 20 neurons etc.\n",
    "\n",
    "layers = [(20,), (40, 20), (45, 30, 15)]\n",
    "activations = ['relu', 'sigmoid']\n",
    "batch_sizes = [128, 256]\n",
    "epochs = [30, 60]\n",
    "param_grid = dict(layers=layers, activation=activations, batch_size=batch_sizes, epochs=epochs)\n",
    "search = RandomizedSearchCV(estimator=model, param_distributions=param_grid, n_iter=10, scoring='accuracy', cv=5, n_jobs=-1)\n",
    "search.fit(X_train, y_train)"
   ]
  },
  {
   "cell_type": "code",
   "execution_count": 96,
   "metadata": {},
   "outputs": [
    {
     "data": {
      "text/plain": [
       "[0.84975,\n",
       " {'layers': (45, 30, 15),\n",
       "  'epochs': 30,\n",
       "  'batch_size': 128,\n",
       "  'activation': 'relu'},\n",
       " <tensorflow.python.keras.wrappers.scikit_learn.KerasClassifier at 0x2780748a730>]"
      ]
     },
     "execution_count": 96,
     "metadata": {},
     "output_type": "execute_result"
    }
   ],
   "source": [
    "[search.best_score_, search.best_params_, search.best_estimator_]"
   ]
  },
  {
   "cell_type": "code",
   "execution_count": 97,
   "metadata": {},
   "outputs": [
    {
     "name": "stdout",
     "output_type": "stream",
     "text": [
      "Epoch 1/30\n",
      "63/63 [==============================] - 0s 2ms/step - loss: 2.0134 - accuracy: 0.7955 - val_loss: 0.5432 - val_accuracy: 0.7965\n",
      "Epoch 2/30\n",
      "63/63 [==============================] - 0s 1ms/step - loss: 0.4989 - accuracy: 0.7968 - val_loss: 0.4917 - val_accuracy: 0.7990\n",
      "Epoch 3/30\n",
      "63/63 [==============================] - 0s 916us/step - loss: 0.4693 - accuracy: 0.7983 - val_loss: 0.4796 - val_accuracy: 0.8000\n",
      "Epoch 4/30\n",
      "63/63 [==============================] - 0s 883us/step - loss: 0.4512 - accuracy: 0.8015 - val_loss: 0.4567 - val_accuracy: 0.8035\n",
      "Epoch 5/30\n",
      "63/63 [==============================] - 0s 1ms/step - loss: 0.4367 - accuracy: 0.8102 - val_loss: 0.4345 - val_accuracy: 0.8200\n",
      "Epoch 6/30\n",
      "63/63 [==============================] - 0s 1ms/step - loss: 0.4175 - accuracy: 0.8166 - val_loss: 0.4056 - val_accuracy: 0.8270\n",
      "Epoch 7/30\n",
      "63/63 [==============================] - 0s 1ms/step - loss: 0.4026 - accuracy: 0.8305 - val_loss: 0.3917 - val_accuracy: 0.8445\n",
      "Epoch 8/30\n",
      "63/63 [==============================] - 0s 896us/step - loss: 0.3902 - accuracy: 0.8363 - val_loss: 0.3829 - val_accuracy: 0.8505\n",
      "Epoch 9/30\n",
      "63/63 [==============================] - 0s 989us/step - loss: 0.3774 - accuracy: 0.8409 - val_loss: 0.3809 - val_accuracy: 0.8535\n",
      "Epoch 10/30\n",
      "63/63 [==============================] - 0s 953us/step - loss: 0.3699 - accuracy: 0.8444 - val_loss: 0.3711 - val_accuracy: 0.8575\n",
      "Epoch 11/30\n",
      "63/63 [==============================] - 0s 1ms/step - loss: 0.3658 - accuracy: 0.8459 - val_loss: 0.3893 - val_accuracy: 0.8570\n",
      "Epoch 12/30\n",
      "63/63 [==============================] - 0s 954us/step - loss: 0.3602 - accuracy: 0.8495 - val_loss: 0.3901 - val_accuracy: 0.8565\n",
      "Epoch 13/30\n",
      "63/63 [==============================] - 0s 968us/step - loss: 0.3569 - accuracy: 0.8514 - val_loss: 0.3990 - val_accuracy: 0.8620\n",
      "Epoch 14/30\n",
      "63/63 [==============================] - 0s 885us/step - loss: 0.3536 - accuracy: 0.8530 - val_loss: 0.4040 - val_accuracy: 0.8610\n",
      "Epoch 15/30\n",
      "63/63 [==============================] - 0s 1ms/step - loss: 0.3540 - accuracy: 0.8526 - val_loss: 0.3953 - val_accuracy: 0.8585\n",
      "Epoch 16/30\n",
      "63/63 [==============================] - 0s 971us/step - loss: 0.3495 - accuracy: 0.8549 - val_loss: 0.3980 - val_accuracy: 0.8590\n",
      "Epoch 17/30\n",
      "63/63 [==============================] - 0s 1ms/step - loss: 0.3457 - accuracy: 0.8566 - val_loss: 0.4057 - val_accuracy: 0.8645\n",
      "Epoch 18/30\n",
      "63/63 [==============================] - 0s 935us/step - loss: 0.3459 - accuracy: 0.8559 - val_loss: 0.4000 - val_accuracy: 0.8630\n",
      "Epoch 19/30\n",
      "63/63 [==============================] - 0s 858us/step - loss: 0.3428 - accuracy: 0.8577 - val_loss: 0.4086 - val_accuracy: 0.8505\n",
      "Epoch 20/30\n",
      "63/63 [==============================] - 0s 941us/step - loss: 0.3427 - accuracy: 0.8600 - val_loss: 0.4079 - val_accuracy: 0.8575\n",
      "Epoch 21/30\n",
      "63/63 [==============================] - 0s 805us/step - loss: 0.3407 - accuracy: 0.8597 - val_loss: 0.4182 - val_accuracy: 0.8520\n",
      "Epoch 22/30\n",
      "63/63 [==============================] - 0s 1ms/step - loss: 0.3440 - accuracy: 0.8577 - val_loss: 0.4070 - val_accuracy: 0.8565\n",
      "Epoch 23/30\n",
      "63/63 [==============================] - 0s 890us/step - loss: 0.3385 - accuracy: 0.8596 - val_loss: 0.3927 - val_accuracy: 0.8585\n",
      "Epoch 24/30\n",
      "63/63 [==============================] - 0s 1ms/step - loss: 0.3389 - accuracy: 0.8602 - val_loss: 0.4086 - val_accuracy: 0.8580\n",
      "Epoch 25/30\n",
      "63/63 [==============================] - 0s 938us/step - loss: 0.3349 - accuracy: 0.8616 - val_loss: 0.4240 - val_accuracy: 0.8635\n",
      "Epoch 26/30\n",
      "63/63 [==============================] - 0s 1ms/step - loss: 0.3494 - accuracy: 0.8585 - val_loss: 0.4240 - val_accuracy: 0.8440\n",
      "Epoch 27/30\n",
      "63/63 [==============================] - 0s 953us/step - loss: 0.3501 - accuracy: 0.8580 - val_loss: 0.4207 - val_accuracy: 0.8620\n",
      "Epoch 28/30\n",
      "63/63 [==============================] - 0s 937us/step - loss: 0.3453 - accuracy: 0.8649 - val_loss: 0.4199 - val_accuracy: 0.8610\n",
      "Epoch 29/30\n",
      "63/63 [==============================] - 0s 953us/step - loss: 0.3452 - accuracy: 0.8622 - val_loss: 0.3904 - val_accuracy: 0.8595\n",
      "Epoch 30/30\n",
      "63/63 [==============================] - 0s 985us/step - loss: 0.3385 - accuracy: 0.8634 - val_loss: 0.3888 - val_accuracy: 0.8630\n"
     ]
    }
   ],
   "source": [
    "tuned_model = search.best_estimator_\n",
    "tuned_model_history = tuned_model.fit(X_train, y_train, validation_data=(X_test, y_test), verbose=True)"
   ]
  },
  {
   "cell_type": "code",
   "execution_count": 98,
   "metadata": {},
   "outputs": [
    {
     "name": "stdout",
     "output_type": "stream",
     "text": [
      "              precision    recall  f1-score   support\n",
      "\n",
      "           0       0.88      0.96      0.92      1595\n",
      "           1       0.74      0.50      0.60       405\n",
      "\n",
      "    accuracy                           0.86      2000\n",
      "   macro avg       0.81      0.73      0.76      2000\n",
      "weighted avg       0.85      0.86      0.85      2000\n",
      "\n"
     ]
    }
   ],
   "source": [
    "# Model Performance on TEST SET\n",
    "\n",
    "#loss_test, accuracy_test = tuned_classifier.evaluate(X_test, y_test)\n",
    "#print(f'Test Loss : {loss_test}')\n",
    "#print(f'Test Accuracy : {accuracy_test}')\n",
    "\n",
    "test_pred_prob = tuned_model.predict(X_test)\n",
    "test_pred = np.where(test_pred_prob > 0.5, 1, 0)\n",
    "print(classification_report(y_test, test_pred))"
   ]
  },
  {
   "cell_type": "code",
   "execution_count": 99,
   "metadata": {},
   "outputs": [
    {
     "name": "stdout",
     "output_type": "stream",
     "text": [
      "WARNING:tensorflow:Network returning invalid probability values. The last layer might not normalize predictions into probabilities (like softmax or sigmoid would).\n",
      "              precision    recall  f1-score   support\n",
      "\n",
      "           0       0.88      0.96      0.92      6368\n",
      "           1       0.77      0.48      0.59      1632\n",
      "\n",
      "    accuracy                           0.86      8000\n",
      "   macro avg       0.82      0.72      0.76      8000\n",
      "weighted avg       0.86      0.86      0.85      8000\n",
      "\n"
     ]
    }
   ],
   "source": [
    "# Model Performance on TRAINING SET\n",
    "\n",
    "train_pred_prob = tuned_model.predict_proba(X_train)[:, 1]\n",
    "train_pred = np.where(train_pred_prob > 0.5, 1, 0)\n",
    "print(classification_report(y_train, train_pred))"
   ]
  },
  {
   "cell_type": "code",
   "execution_count": null,
   "metadata": {},
   "outputs": [],
   "source": []
  }
 ],
 "metadata": {
  "kernelspec": {
   "display_name": "Python 3 (ipykernel)",
   "language": "python",
   "name": "python3"
  },
  "language_info": {
   "codemirror_mode": {
    "name": "ipython",
    "version": 3
   },
   "file_extension": ".py",
   "mimetype": "text/x-python",
   "name": "python",
   "nbconvert_exporter": "python",
   "pygments_lexer": "ipython3",
   "version": "3.9.7"
  }
 },
 "nbformat": 4,
 "nbformat_minor": 4
}
