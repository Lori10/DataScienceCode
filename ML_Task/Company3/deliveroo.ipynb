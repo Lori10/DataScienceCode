{
 "cells": [
  {
   "cell_type": "markdown",
   "id": "d24480e0",
   "metadata": {},
   "source": [
    " #                                         MODELLING PREPARATION TIME"
   ]
  },
  {
   "cell_type": "markdown",
   "id": "d55c0d8b",
   "metadata": {},
   "source": [
    "# 1. Introduction\n",
    "The purpose of this notebook is to deliver a preparation time model which could be used to help the restaurants to plan the preparation of orders and to make sure riders arrive at the restaurants at the right time, not too early and not too late. If the model underestimates the preparation time, the riders will be at the restaurant to early resulting in inefficcieny; if the model overestimates the preparation time - the prepared order will unnecessarily wait at the restaurant for the rider to arrive, impacting negatively the customer experience since the customer will not be receiving fresh food.\n",
    "I will approach this problem as a regression problem because the target is quantitative and continuous.\n",
    "\n",
    "\n",
    "In this notebook I will first explore the data to better understand the problem and identify cases when the data needs cleaning. Then I will construct features, build a baseline model and then a more sophisticated model to see if it improves the prep time estimation. In the end I will propose potential future work with the purpose of improving the prep time estimation and I will also discuss the business impact that this model will have."
   ]
  },
  {
   "cell_type": "code",
   "execution_count": 1,
   "id": "0d9ec27e",
   "metadata": {},
   "outputs": [],
   "source": [
    "import pandas as pd\n",
    "import numpy as np\n",
    "import datetime\n",
    "import seaborn as sns\n",
    "from sklearn.linear_model import LinearRegression\n",
    "from sklearn.linear_model import Ridge\n",
    "from sklearn.ensemble import RandomForestRegressor\n",
    "import matplotlib.pyplot as plt\n",
    "from utils import *"
   ]
  },
  {
   "cell_type": "code",
   "execution_count": 2,
   "id": "6d650dad",
   "metadata": {},
   "outputs": [],
   "source": [
    "import warnings\n",
    "warnings.filterwarnings('ignore')\n",
    "%matplotlib inline\n",
    "%load_ext autoreload"
   ]
  },
  {
   "cell_type": "markdown",
   "id": "1446e0b4",
   "metadata": {},
   "source": [
    "# 2. Data Loading\n",
    "In this section I load the data and check the size of the dataset and the information contained in the 2 files: `orders.csv` and `restaurants.csv`.\n",
    "The `orders.csv` file contains data for 32384 orders and the `restaurants.csv` file contains information for 1697 restaurants. The information in the 2 files is connected with the `restaurant_id` column which appears in both files. The dataset is small with 32394 data points.\n"
   ]
  },
  {
   "cell_type": "code",
   "execution_count": 3,
   "id": "8c982e80",
   "metadata": {},
   "outputs": [],
   "source": [
    "orders_path = '/Users/Mira/Downloads/Deliveroo Hiring - Test for Machine Learning Engineering/orders.csv.gz'\n",
    "restaurants_path = '/Users/Mira/Downloads/Deliveroo Hiring - Test for Machine Learning Engineering/restaurants.csv.gz'\n",
    "\n",
    "orders = load_data(orders_path, parse_dates=['order_acknowledged_at','order_ready_at'])\n",
    "restaurants = load_data(restaurants_path)"
   ]
  },
  {
   "cell_type": "code",
   "execution_count": 4,
   "id": "cbb22bb7",
   "metadata": {},
   "outputs": [
    {
     "data": {
      "text/plain": [
       "((32394, 6), (1697, 4))"
      ]
     },
     "execution_count": 4,
     "metadata": {},
     "output_type": "execute_result"
    }
   ],
   "source": [
    "orders.shape, restaurants.shape"
   ]
  },
  {
   "cell_type": "code",
   "execution_count": 5,
   "id": "3600550a",
   "metadata": {},
   "outputs": [
    {
     "data": {
      "text/html": [
       "<div>\n",
       "<style scoped>\n",
       "    .dataframe tbody tr th:only-of-type {\n",
       "        vertical-align: middle;\n",
       "    }\n",
       "\n",
       "    .dataframe tbody tr th {\n",
       "        vertical-align: top;\n",
       "    }\n",
       "\n",
       "    .dataframe thead th {\n",
       "        text-align: right;\n",
       "    }\n",
       "</style>\n",
       "<table border=\"1\" class=\"dataframe\">\n",
       "  <thead>\n",
       "    <tr style=\"text-align: right;\">\n",
       "      <th></th>\n",
       "      <th>order_acknowledged_at</th>\n",
       "      <th>order_ready_at</th>\n",
       "      <th>order_value_gbp</th>\n",
       "      <th>restaurant_id</th>\n",
       "      <th>number_of_items</th>\n",
       "      <th>prep_time_seconds</th>\n",
       "    </tr>\n",
       "  </thead>\n",
       "  <tbody>\n",
       "    <tr>\n",
       "      <th>0</th>\n",
       "      <td>2015-06-01 12:28:28.952789+01:00</td>\n",
       "      <td>2015-06-01 14:12:09.474896+01:00</td>\n",
       "      <td>59.90</td>\n",
       "      <td>1326</td>\n",
       "      <td>2</td>\n",
       "      <td>6220</td>\n",
       "    </tr>\n",
       "    <tr>\n",
       "      <th>1</th>\n",
       "      <td>2015-06-06 17:06:24.434807+01:00</td>\n",
       "      <td>2015-06-06 17:16:27.520253+01:00</td>\n",
       "      <td>24.00</td>\n",
       "      <td>1326</td>\n",
       "      <td>8</td>\n",
       "      <td>603</td>\n",
       "    </tr>\n",
       "    <tr>\n",
       "      <th>2</th>\n",
       "      <td>2015-06-08 14:56:15.503204+01:00</td>\n",
       "      <td>2015-06-08 15:03:39.397496+01:00</td>\n",
       "      <td>15.25</td>\n",
       "      <td>1326</td>\n",
       "      <td>3</td>\n",
       "      <td>443</td>\n",
       "    </tr>\n",
       "    <tr>\n",
       "      <th>3</th>\n",
       "      <td>2015-06-12 15:12:20.497925+01:00</td>\n",
       "      <td>2015-06-12 15:23:30.064683+01:00</td>\n",
       "      <td>28.05</td>\n",
       "      <td>1326</td>\n",
       "      <td>8</td>\n",
       "      <td>669</td>\n",
       "    </tr>\n",
       "    <tr>\n",
       "      <th>4</th>\n",
       "      <td>2015-06-01 13:07:10.794050+01:00</td>\n",
       "      <td>2015-06-01 14:02:25.104517+01:00</td>\n",
       "      <td>56.30</td>\n",
       "      <td>255</td>\n",
       "      <td>7</td>\n",
       "      <td>3314</td>\n",
       "    </tr>\n",
       "  </tbody>\n",
       "</table>\n",
       "</div>"
      ],
      "text/plain": [
       "              order_acknowledged_at                    order_ready_at  \\\n",
       "0  2015-06-01 12:28:28.952789+01:00  2015-06-01 14:12:09.474896+01:00   \n",
       "1  2015-06-06 17:06:24.434807+01:00  2015-06-06 17:16:27.520253+01:00   \n",
       "2  2015-06-08 14:56:15.503204+01:00  2015-06-08 15:03:39.397496+01:00   \n",
       "3  2015-06-12 15:12:20.497925+01:00  2015-06-12 15:23:30.064683+01:00   \n",
       "4  2015-06-01 13:07:10.794050+01:00  2015-06-01 14:02:25.104517+01:00   \n",
       "\n",
       "   order_value_gbp  restaurant_id  number_of_items  prep_time_seconds  \n",
       "0            59.90           1326                2               6220  \n",
       "1            24.00           1326                8                603  \n",
       "2            15.25           1326                3                443  \n",
       "3            28.05           1326                8                669  \n",
       "4            56.30            255                7               3314  "
      ]
     },
     "execution_count": 5,
     "metadata": {},
     "output_type": "execute_result"
    }
   ],
   "source": [
    "orders.head()"
   ]
  },
  {
   "cell_type": "code",
   "execution_count": 6,
   "id": "f8b175f1",
   "metadata": {},
   "outputs": [],
   "source": [
    "# compute prep time in minutes because it's easier to read \n",
    "orders['prep_time_minutes'] = round(orders['prep_time_seconds'] / 60, 2)"
   ]
  },
  {
   "cell_type": "code",
   "execution_count": 7,
   "id": "7fd239d6",
   "metadata": {},
   "outputs": [
    {
     "data": {
      "text/html": [
       "<div>\n",
       "<style scoped>\n",
       "    .dataframe tbody tr th:only-of-type {\n",
       "        vertical-align: middle;\n",
       "    }\n",
       "\n",
       "    .dataframe tbody tr th {\n",
       "        vertical-align: top;\n",
       "    }\n",
       "\n",
       "    .dataframe thead th {\n",
       "        text-align: right;\n",
       "    }\n",
       "</style>\n",
       "<table border=\"1\" class=\"dataframe\">\n",
       "  <thead>\n",
       "    <tr style=\"text-align: right;\">\n",
       "      <th></th>\n",
       "      <th>order_acknowledged_at</th>\n",
       "      <th>order_ready_at</th>\n",
       "      <th>order_value_gbp</th>\n",
       "      <th>restaurant_id</th>\n",
       "      <th>number_of_items</th>\n",
       "      <th>prep_time_seconds</th>\n",
       "      <th>prep_time_minutes</th>\n",
       "    </tr>\n",
       "  </thead>\n",
       "  <tbody>\n",
       "    <tr>\n",
       "      <th>0</th>\n",
       "      <td>2015-06-01 12:28:28.952789+01:00</td>\n",
       "      <td>2015-06-01 14:12:09.474896+01:00</td>\n",
       "      <td>59.90</td>\n",
       "      <td>1326</td>\n",
       "      <td>2</td>\n",
       "      <td>6220</td>\n",
       "      <td>103.67</td>\n",
       "    </tr>\n",
       "    <tr>\n",
       "      <th>1</th>\n",
       "      <td>2015-06-06 17:06:24.434807+01:00</td>\n",
       "      <td>2015-06-06 17:16:27.520253+01:00</td>\n",
       "      <td>24.00</td>\n",
       "      <td>1326</td>\n",
       "      <td>8</td>\n",
       "      <td>603</td>\n",
       "      <td>10.05</td>\n",
       "    </tr>\n",
       "    <tr>\n",
       "      <th>2</th>\n",
       "      <td>2015-06-08 14:56:15.503204+01:00</td>\n",
       "      <td>2015-06-08 15:03:39.397496+01:00</td>\n",
       "      <td>15.25</td>\n",
       "      <td>1326</td>\n",
       "      <td>3</td>\n",
       "      <td>443</td>\n",
       "      <td>7.38</td>\n",
       "    </tr>\n",
       "    <tr>\n",
       "      <th>3</th>\n",
       "      <td>2015-06-12 15:12:20.497925+01:00</td>\n",
       "      <td>2015-06-12 15:23:30.064683+01:00</td>\n",
       "      <td>28.05</td>\n",
       "      <td>1326</td>\n",
       "      <td>8</td>\n",
       "      <td>669</td>\n",
       "      <td>11.15</td>\n",
       "    </tr>\n",
       "    <tr>\n",
       "      <th>4</th>\n",
       "      <td>2015-06-01 13:07:10.794050+01:00</td>\n",
       "      <td>2015-06-01 14:02:25.104517+01:00</td>\n",
       "      <td>56.30</td>\n",
       "      <td>255</td>\n",
       "      <td>7</td>\n",
       "      <td>3314</td>\n",
       "      <td>55.23</td>\n",
       "    </tr>\n",
       "  </tbody>\n",
       "</table>\n",
       "</div>"
      ],
      "text/plain": [
       "              order_acknowledged_at                    order_ready_at  \\\n",
       "0  2015-06-01 12:28:28.952789+01:00  2015-06-01 14:12:09.474896+01:00   \n",
       "1  2015-06-06 17:06:24.434807+01:00  2015-06-06 17:16:27.520253+01:00   \n",
       "2  2015-06-08 14:56:15.503204+01:00  2015-06-08 15:03:39.397496+01:00   \n",
       "3  2015-06-12 15:12:20.497925+01:00  2015-06-12 15:23:30.064683+01:00   \n",
       "4  2015-06-01 13:07:10.794050+01:00  2015-06-01 14:02:25.104517+01:00   \n",
       "\n",
       "   order_value_gbp  restaurant_id  number_of_items  prep_time_seconds  \\\n",
       "0            59.90           1326                2               6220   \n",
       "1            24.00           1326                8                603   \n",
       "2            15.25           1326                3                443   \n",
       "3            28.05           1326                8                669   \n",
       "4            56.30            255                7               3314   \n",
       "\n",
       "   prep_time_minutes  \n",
       "0             103.67  \n",
       "1              10.05  \n",
       "2               7.38  \n",
       "3              11.15  \n",
       "4              55.23  "
      ]
     },
     "execution_count": 7,
     "metadata": {},
     "output_type": "execute_result"
    }
   ],
   "source": [
    "orders.head()"
   ]
  },
  {
   "cell_type": "code",
   "execution_count": 8,
   "id": "7179d511",
   "metadata": {},
   "outputs": [
    {
     "data": {
      "text/html": [
       "<div>\n",
       "<style scoped>\n",
       "    .dataframe tbody tr th:only-of-type {\n",
       "        vertical-align: middle;\n",
       "    }\n",
       "\n",
       "    .dataframe tbody tr th {\n",
       "        vertical-align: top;\n",
       "    }\n",
       "\n",
       "    .dataframe thead th {\n",
       "        text-align: right;\n",
       "    }\n",
       "</style>\n",
       "<table border=\"1\" class=\"dataframe\">\n",
       "  <thead>\n",
       "    <tr style=\"text-align: right;\">\n",
       "      <th></th>\n",
       "      <th>restaurant_id</th>\n",
       "      <th>country</th>\n",
       "      <th>city</th>\n",
       "      <th>type_of_food</th>\n",
       "    </tr>\n",
       "  </thead>\n",
       "  <tbody>\n",
       "    <tr>\n",
       "      <th>0</th>\n",
       "      <td>3</td>\n",
       "      <td>UK</td>\n",
       "      <td>London</td>\n",
       "      <td>thai</td>\n",
       "    </tr>\n",
       "    <tr>\n",
       "      <th>1</th>\n",
       "      <td>5</td>\n",
       "      <td>UK</td>\n",
       "      <td>London</td>\n",
       "      <td>italian</td>\n",
       "    </tr>\n",
       "    <tr>\n",
       "      <th>2</th>\n",
       "      <td>7</td>\n",
       "      <td>UK</td>\n",
       "      <td>London</td>\n",
       "      <td>italian</td>\n",
       "    </tr>\n",
       "    <tr>\n",
       "      <th>3</th>\n",
       "      <td>8</td>\n",
       "      <td>UK</td>\n",
       "      <td>London</td>\n",
       "      <td>chinese</td>\n",
       "    </tr>\n",
       "    <tr>\n",
       "      <th>4</th>\n",
       "      <td>9</td>\n",
       "      <td>France</td>\n",
       "      <td>Paris</td>\n",
       "      <td>korean</td>\n",
       "    </tr>\n",
       "  </tbody>\n",
       "</table>\n",
       "</div>"
      ],
      "text/plain": [
       "   restaurant_id country    city type_of_food\n",
       "0              3      UK  London         thai\n",
       "1              5      UK  London      italian\n",
       "2              7      UK  London      italian\n",
       "3              8      UK  London      chinese\n",
       "4              9  France   Paris       korean"
      ]
     },
     "execution_count": 8,
     "metadata": {},
     "output_type": "execute_result"
    }
   ],
   "source": [
    "restaurants.head()"
   ]
  },
  {
   "cell_type": "markdown",
   "id": "92ff556d",
   "metadata": {},
   "source": [
    "# 3. Exploratory Data Analysis\n",
    "In this section I will further explore the dataset with the purpose of performing cleaning procedures or data transformations to improve the quality of the data and to better understand the nature of the data and the underlying relationships. Some takeaways from EDA are:\n",
    "- `prep_time_seconds` can take extreme values between 0 and 70 hours. I removed 10% of the data (the top 5% and bottom 5% of the values), bringing the range of values from 1.9 to 50 minutes. 1.9 minutes sounds reasonable in cases when the order might be sth that doesn't require any cooking of preparation, e.g. a drink or a packaged sandwich, and 50 minutes sounds reasonable for big orders during busy times. \n",
    "\n",
    "- There are 1669 different restaurants\n",
    "- 50% of the orders have a value lower that 21.5 gbp, have 3 items or less and it takes 13.6 minutes or less to prepare. The distribution of the target and some of the predictors is skewed.\n",
    "\n",
    "- There are for 4 markets in 4 countries, UK being the biggest one, with 82.14% of all the restaurants and 93.45% of all orders. France tends to have a lower prep time compare to other countries. The vast majority of the cities are in the UK, with London being the biggest one. There are many cities with very few data points.\n",
    "\n",
    "- There are 82 types of food. Some of them are very infrequent. I decided to put all types of food with less than 30 orders in a new category `others`, resulting in 45 types of food.\n",
    " \n",
    "-  I extracted hour of the day and day of the week from `order_acknowledged_at`. Wednesday tends to have lower prep time, while during the weekend the prep time seems to be higher. During the day the hours before lunch time 11-12 seems to have higher prep times."
   ]
  },
  {
   "cell_type": "code",
   "execution_count": 9,
   "id": "decb0a42",
   "metadata": {},
   "outputs": [
    {
     "data": {
      "text/plain": [
       "order_acknowledged_at    0\n",
       "order_ready_at           0\n",
       "order_value_gbp          0\n",
       "restaurant_id            0\n",
       "number_of_items          0\n",
       "prep_time_seconds        0\n",
       "prep_time_minutes        0\n",
       "dtype: int64"
      ]
     },
     "execution_count": 9,
     "metadata": {},
     "output_type": "execute_result"
    }
   ],
   "source": [
    "orders.replace([np.inf, -np.inf], np.nan).isnull().sum()"
   ]
  },
  {
   "cell_type": "code",
   "execution_count": 10,
   "id": "a11287a2",
   "metadata": {},
   "outputs": [
    {
     "data": {
      "text/plain": [
       "restaurant_id    0\n",
       "country          0\n",
       "city             0\n",
       "type_of_food     0\n",
       "dtype: int64"
      ]
     },
     "execution_count": 10,
     "metadata": {},
     "output_type": "execute_result"
    }
   ],
   "source": [
    "restaurants.replace([np.inf, -np.inf], np.nan).isnull().sum()"
   ]
  },
  {
   "cell_type": "markdown",
   "id": "2f6852d5",
   "metadata": {},
   "source": [
    "There are no missing values in the data."
   ]
  },
  {
   "cell_type": "code",
   "execution_count": 11,
   "id": "76365e39",
   "metadata": {},
   "outputs": [
    {
     "data": {
      "text/plain": [
       "3       1\n",
       "10      1\n",
       "12      1\n",
       "13      1\n",
       "14      1\n",
       "       ..\n",
       "3620    1\n",
       "3576    1\n",
       "3544    1\n",
       "3537    1\n",
       "3622    1\n",
       "Name: restaurant_id, Length: 1697, dtype: int64"
      ]
     },
     "execution_count": 11,
     "metadata": {},
     "output_type": "execute_result"
    }
   ],
   "source": [
    "# every restaurant_id appears only once so the restaurants are unique\n",
    "restaurants['restaurant_id'].value_counts().sort_values()"
   ]
  },
  {
   "cell_type": "markdown",
   "id": "782ea40e",
   "metadata": {},
   "source": [
    "#### Check for outliers"
   ]
  },
  {
   "cell_type": "code",
   "execution_count": 12,
   "id": "547e3c3b",
   "metadata": {},
   "outputs": [
    {
     "data": {
      "text/html": [
       "<div>\n",
       "<style scoped>\n",
       "    .dataframe tbody tr th:only-of-type {\n",
       "        vertical-align: middle;\n",
       "    }\n",
       "\n",
       "    .dataframe tbody tr th {\n",
       "        vertical-align: top;\n",
       "    }\n",
       "\n",
       "    .dataframe thead th {\n",
       "        text-align: right;\n",
       "    }\n",
       "</style>\n",
       "<table border=\"1\" class=\"dataframe\">\n",
       "  <thead>\n",
       "    <tr style=\"text-align: right;\">\n",
       "      <th></th>\n",
       "      <th>order_value_gbp</th>\n",
       "      <th>restaurant_id</th>\n",
       "      <th>number_of_items</th>\n",
       "      <th>prep_time_seconds</th>\n",
       "      <th>prep_time_minutes</th>\n",
       "    </tr>\n",
       "  </thead>\n",
       "  <tbody>\n",
       "    <tr>\n",
       "      <th>count</th>\n",
       "      <td>32394.000000</td>\n",
       "      <td>32394.000000</td>\n",
       "      <td>32394.000000</td>\n",
       "      <td>32394.000000</td>\n",
       "      <td>32394.000000</td>\n",
       "    </tr>\n",
       "    <tr>\n",
       "      <th>mean</th>\n",
       "      <td>26.547303</td>\n",
       "      <td>1290.555535</td>\n",
       "      <td>4.025715</td>\n",
       "      <td>1299.993857</td>\n",
       "      <td>21.666550</td>\n",
       "    </tr>\n",
       "    <tr>\n",
       "      <th>std</th>\n",
       "      <td>19.263851</td>\n",
       "      <td>960.295504</td>\n",
       "      <td>2.392063</td>\n",
       "      <td>4404.573191</td>\n",
       "      <td>73.409556</td>\n",
       "    </tr>\n",
       "    <tr>\n",
       "      <th>min</th>\n",
       "      <td>0.500000</td>\n",
       "      <td>3.000000</td>\n",
       "      <td>1.000000</td>\n",
       "      <td>0.000000</td>\n",
       "      <td>0.000000</td>\n",
       "    </tr>\n",
       "    <tr>\n",
       "      <th>25%</th>\n",
       "      <td>16.700000</td>\n",
       "      <td>408.000000</td>\n",
       "      <td>3.000000</td>\n",
       "      <td>518.000000</td>\n",
       "      <td>8.630000</td>\n",
       "    </tr>\n",
       "    <tr>\n",
       "      <th>50%</th>\n",
       "      <td>21.400000</td>\n",
       "      <td>1160.000000</td>\n",
       "      <td>3.000000</td>\n",
       "      <td>820.000000</td>\n",
       "      <td>13.670000</td>\n",
       "    </tr>\n",
       "    <tr>\n",
       "      <th>75%</th>\n",
       "      <td>30.250000</td>\n",
       "      <td>2117.000000</td>\n",
       "      <td>5.000000</td>\n",
       "      <td>1227.000000</td>\n",
       "      <td>20.450000</td>\n",
       "    </tr>\n",
       "    <tr>\n",
       "      <th>max</th>\n",
       "      <td>711.000000</td>\n",
       "      <td>3622.000000</td>\n",
       "      <td>38.000000</td>\n",
       "      <td>255499.000000</td>\n",
       "      <td>4258.320000</td>\n",
       "    </tr>\n",
       "  </tbody>\n",
       "</table>\n",
       "</div>"
      ],
      "text/plain": [
       "       order_value_gbp  restaurant_id  number_of_items  prep_time_seconds  \\\n",
       "count     32394.000000   32394.000000     32394.000000       32394.000000   \n",
       "mean         26.547303    1290.555535         4.025715        1299.993857   \n",
       "std          19.263851     960.295504         2.392063        4404.573191   \n",
       "min           0.500000       3.000000         1.000000           0.000000   \n",
       "25%          16.700000     408.000000         3.000000         518.000000   \n",
       "50%          21.400000    1160.000000         3.000000         820.000000   \n",
       "75%          30.250000    2117.000000         5.000000        1227.000000   \n",
       "max         711.000000    3622.000000        38.000000      255499.000000   \n",
       "\n",
       "       prep_time_minutes  \n",
       "count       32394.000000  \n",
       "mean           21.666550  \n",
       "std            73.409556  \n",
       "min             0.000000  \n",
       "25%             8.630000  \n",
       "50%            13.670000  \n",
       "75%            20.450000  \n",
       "max          4258.320000  "
      ]
     },
     "execution_count": 12,
     "metadata": {},
     "output_type": "execute_result"
    }
   ],
   "source": [
    "orders.describe()"
   ]
  },
  {
   "cell_type": "code",
   "execution_count": 13,
   "id": "b1c901d6",
   "metadata": {
    "scrolled": true
   },
   "outputs": [
    {
     "data": {
      "text/plain": [
       "(50.35699999999997, 127.23349999999999)"
      ]
     },
     "execution_count": 13,
     "metadata": {},
     "output_type": "execute_result"
    }
   ],
   "source": [
    "orders['prep_time_minutes'].quantile(0.95), orders['prep_time_minutes'].quantile(0.99)"
   ]
  },
  {
   "cell_type": "code",
   "execution_count": 14,
   "id": "5142d519",
   "metadata": {},
   "outputs": [
    {
     "data": {
      "text/plain": [
       "(1.93, 0.17)"
      ]
     },
     "execution_count": 14,
     "metadata": {},
     "output_type": "execute_result"
    }
   ],
   "source": [
    "orders['prep_time_minutes'].quantile(0.05), orders['prep_time_minutes'].quantile(0.01)"
   ]
  },
  {
   "cell_type": "markdown",
   "id": "8ab7888c",
   "metadata": {},
   "source": [
    "From the descriptive table above it seems that there are outliers in the `prep_time_seconds` because the values vary between min 0 seconds and max 70.9 hours. The large values maybe are somehow explainable (maybe the system allows to make order a day in advance or so). However, I do not have access to any additional data that can help explain the outliers.\n",
    "\n",
    "I checked the 99% and 95% percentile for `prep_time_seconds`. The 99% is 127.2 minutes which does not sound reasonable. The 95% outlier is 50.3 minutes and it seems more reasonable as a max value for example for big orders or very busy times. So I decided to cut the data at the 95% percentile (drop data points for which the prep time is more than 50.3 minutes).\n",
    "\n",
    "Also the `prep_time_seconds` takes very small values (sometimes 0 seconds) which sounds unreasonably small. I decided to remove data points for which prep time is too small. The 1% and 5% percentiles are 0.16 and 1.9 minutes. While 0.16 minutes does not sound realistic, 1.9 minutes could be reasonable for same cases, e.g. if the order is a pre-prepared sandwich and the food simply needs to be put in a bag or if the order is just a bottled drink. So I decided to drop data points for which prep time is less than 1.9 minutes.  "
   ]
  },
  {
   "cell_type": "code",
   "execution_count": 15,
   "id": "d8c4fed5",
   "metadata": {},
   "outputs": [
    {
     "data": {
      "text/plain": [
       "<AxesSubplot:>"
      ]
     },
     "execution_count": 15,
     "metadata": {},
     "output_type": "execute_result"
    },
    {
     "data": {
      "image/png": "[encoded data removed]",
      "text/plain": [
       "<Figure size 432x288 with 1 Axes>"
      ]
     },
     "metadata": {
      "needs_background": "light"
     },
     "output_type": "display_data"
    }
   ],
   "source": [
    "# the histogram of prep_time_seconds before removing outliers\n",
    "orders['prep_time_minutes'].hist(bins=100)"
   ]
  },
  {
   "cell_type": "code",
   "execution_count": 16,
   "id": "18982cf8",
   "metadata": {},
   "outputs": [],
   "source": [
    "perc_95 = orders['prep_time_seconds'].quantile(0.95)\n",
    "perc_5 = orders['prep_time_seconds'].quantile(0.05)"
   ]
  },
  {
   "cell_type": "code",
   "execution_count": 17,
   "id": "afe5b19f",
   "metadata": {},
   "outputs": [],
   "source": [
    "orders = orders.query('prep_time_seconds <= @perc_95 and prep_time_seconds >= @perc_5')"
   ]
  },
  {
   "cell_type": "code",
   "execution_count": 18,
   "id": "5623bf02",
   "metadata": {},
   "outputs": [
    {
     "data": {
      "text/html": [
       "<div>\n",
       "<style scoped>\n",
       "    .dataframe tbody tr th:only-of-type {\n",
       "        vertical-align: middle;\n",
       "    }\n",
       "\n",
       "    .dataframe tbody tr th {\n",
       "        vertical-align: top;\n",
       "    }\n",
       "\n",
       "    .dataframe thead th {\n",
       "        text-align: right;\n",
       "    }\n",
       "</style>\n",
       "<table border=\"1\" class=\"dataframe\">\n",
       "  <thead>\n",
       "    <tr style=\"text-align: right;\">\n",
       "      <th></th>\n",
       "      <th>order_value_gbp</th>\n",
       "      <th>restaurant_id</th>\n",
       "      <th>number_of_items</th>\n",
       "      <th>prep_time_seconds</th>\n",
       "      <th>prep_time_minutes</th>\n",
       "    </tr>\n",
       "  </thead>\n",
       "  <tbody>\n",
       "    <tr>\n",
       "      <th>count</th>\n",
       "      <td>29158.000000</td>\n",
       "      <td>29158.000000</td>\n",
       "      <td>29158.000000</td>\n",
       "      <td>29158.000000</td>\n",
       "      <td>29158.000000</td>\n",
       "    </tr>\n",
       "    <tr>\n",
       "      <th>mean</th>\n",
       "      <td>26.103653</td>\n",
       "      <td>1265.371116</td>\n",
       "      <td>4.006791</td>\n",
       "      <td>920.363297</td>\n",
       "      <td>15.339380</td>\n",
       "    </tr>\n",
       "    <tr>\n",
       "      <th>std</th>\n",
       "      <td>15.862025</td>\n",
       "      <td>957.215330</td>\n",
       "      <td>2.303532</td>\n",
       "      <td>527.106528</td>\n",
       "      <td>8.785118</td>\n",
       "    </tr>\n",
       "    <tr>\n",
       "      <th>min</th>\n",
       "      <td>1.100000</td>\n",
       "      <td>3.000000</td>\n",
       "      <td>1.000000</td>\n",
       "      <td>116.000000</td>\n",
       "      <td>1.930000</td>\n",
       "    </tr>\n",
       "    <tr>\n",
       "      <th>25%</th>\n",
       "      <td>16.850000</td>\n",
       "      <td>408.000000</td>\n",
       "      <td>3.000000</td>\n",
       "      <td>549.000000</td>\n",
       "      <td>9.150000</td>\n",
       "    </tr>\n",
       "    <tr>\n",
       "      <th>50%</th>\n",
       "      <td>21.500000</td>\n",
       "      <td>1108.500000</td>\n",
       "      <td>3.000000</td>\n",
       "      <td>820.000000</td>\n",
       "      <td>13.670000</td>\n",
       "    </tr>\n",
       "    <tr>\n",
       "      <th>75%</th>\n",
       "      <td>30.300000</td>\n",
       "      <td>2106.000000</td>\n",
       "      <td>5.000000</td>\n",
       "      <td>1177.000000</td>\n",
       "      <td>19.620000</td>\n",
       "    </tr>\n",
       "    <tr>\n",
       "      <th>max</th>\n",
       "      <td>357.900000</td>\n",
       "      <td>3622.000000</td>\n",
       "      <td>38.000000</td>\n",
       "      <td>3021.000000</td>\n",
       "      <td>50.350000</td>\n",
       "    </tr>\n",
       "  </tbody>\n",
       "</table>\n",
       "</div>"
      ],
      "text/plain": [
       "       order_value_gbp  restaurant_id  number_of_items  prep_time_seconds  \\\n",
       "count     29158.000000   29158.000000     29158.000000       29158.000000   \n",
       "mean         26.103653    1265.371116         4.006791         920.363297   \n",
       "std          15.862025     957.215330         2.303532         527.106528   \n",
       "min           1.100000       3.000000         1.000000         116.000000   \n",
       "25%          16.850000     408.000000         3.000000         549.000000   \n",
       "50%          21.500000    1108.500000         3.000000         820.000000   \n",
       "75%          30.300000    2106.000000         5.000000        1177.000000   \n",
       "max         357.900000    3622.000000        38.000000        3021.000000   \n",
       "\n",
       "       prep_time_minutes  \n",
       "count       29158.000000  \n",
       "mean           15.339380  \n",
       "std             8.785118  \n",
       "min             1.930000  \n",
       "25%             9.150000  \n",
       "50%            13.670000  \n",
       "75%            19.620000  \n",
       "max            50.350000  "
      ]
     },
     "execution_count": 18,
     "metadata": {},
     "output_type": "execute_result"
    }
   ],
   "source": [
    "# print the descriptive table again to make sure outliers were removed\n",
    "orders.describe()"
   ]
  },
  {
   "cell_type": "code",
   "execution_count": 19,
   "id": "216b3f18",
   "metadata": {},
   "outputs": [
    {
     "data": {
      "text/plain": [
       "<AxesSubplot:>"
      ]
     },
     "execution_count": 19,
     "metadata": {},
     "output_type": "execute_result"
    },
    {
     "data": {
      "image/png": "[encoded data removed]",
      "text/plain": [
       "<Figure size 432x288 with 1 Axes>"
      ]
     },
     "metadata": {
      "needs_background": "light"
     },
     "output_type": "display_data"
    }
   ],
   "source": [
    "# the histogram of prep_time_seconds after removing outliers\n",
    "orders['prep_time_minutes'].hist(bins=100)"
   ]
  },
  {
   "cell_type": "markdown",
   "id": "c48284cf",
   "metadata": {},
   "source": [
    "From the table above we can see that 50% of the orders have a value lower that 21.5 gbp, have 3 items or less and it takes 13.6 minutes or less to prepare. The mean is higher than the median meaning that the distribution of order value, number of items and prep time is skewed. This should be taken into account later at the modeling stage."
   ]
  },
  {
   "cell_type": "code",
   "execution_count": 20,
   "id": "d158e249",
   "metadata": {},
   "outputs": [],
   "source": [
    "# merge the orders dataframe and restaurants dataframe in order to have access to all the data in one place\n",
    "orders = orders.merge(restaurants, left_on='restaurant_id', right_on='restaurant_id')"
   ]
  },
  {
   "cell_type": "code",
   "execution_count": 21,
   "id": "5ebf616f",
   "metadata": {},
   "outputs": [
    {
     "data": {
      "text/plain": [
       "0"
      ]
     },
     "execution_count": 21,
     "metadata": {},
     "output_type": "execute_result"
    }
   ],
   "source": [
    "# check there are no missing values in the orders dataframe after merging\n",
    "orders.isnull().sum().sum()"
   ]
  },
  {
   "cell_type": "markdown",
   "id": "60b9da90",
   "metadata": {},
   "source": [
    "#### Check countries"
   ]
  },
  {
   "cell_type": "markdown",
   "id": "d1413290",
   "metadata": {},
   "source": [
    "The UK is the biggest market with the highest number of restaurants (82.14% of all the restaurants) and the highest number of orders (93.45% of all orders). Apart from from UK, there are 3 other markets: France, Germany, Ireland."
   ]
  },
  {
   "cell_type": "code",
   "execution_count": 22,
   "id": "d4f39e30",
   "metadata": {
    "scrolled": true
   },
   "outputs": [
    {
     "data": {
      "text/html": [
       "<div>\n",
       "<style scoped>\n",
       "    .dataframe tbody tr th:only-of-type {\n",
       "        vertical-align: middle;\n",
       "    }\n",
       "\n",
       "    .dataframe tbody tr th {\n",
       "        vertical-align: top;\n",
       "    }\n",
       "\n",
       "    .dataframe thead th {\n",
       "        text-align: right;\n",
       "    }\n",
       "</style>\n",
       "<table border=\"1\" class=\"dataframe\">\n",
       "  <thead>\n",
       "    <tr style=\"text-align: right;\">\n",
       "      <th></th>\n",
       "      <th>n_restaurants</th>\n",
       "      <th>n_orders</th>\n",
       "    </tr>\n",
       "    <tr>\n",
       "      <th>country</th>\n",
       "      <th></th>\n",
       "      <th></th>\n",
       "    </tr>\n",
       "  </thead>\n",
       "  <tbody>\n",
       "    <tr>\n",
       "      <th>France</th>\n",
       "      <td>9.35</td>\n",
       "      <td>4.38</td>\n",
       "    </tr>\n",
       "    <tr>\n",
       "      <th>Germany</th>\n",
       "      <td>5.39</td>\n",
       "      <td>1.04</td>\n",
       "    </tr>\n",
       "    <tr>\n",
       "      <th>Ireland</th>\n",
       "      <td>3.12</td>\n",
       "      <td>1.13</td>\n",
       "    </tr>\n",
       "    <tr>\n",
       "      <th>UK</th>\n",
       "      <td>82.14</td>\n",
       "      <td>93.45</td>\n",
       "    </tr>\n",
       "  </tbody>\n",
       "</table>\n",
       "</div>"
      ],
      "text/plain": [
       "         n_restaurants  n_orders\n",
       "country                         \n",
       "France            9.35      4.38\n",
       "Germany           5.39      1.04\n",
       "Ireland           3.12      1.13\n",
       "UK               82.14     93.45"
      ]
     },
     "execution_count": 22,
     "metadata": {},
     "output_type": "execute_result"
    }
   ],
   "source": [
    "total_restaurants = len(orders['restaurant_id'].unique())\n",
    "total_orders = len(orders)\n",
    "orders.groupby('country').apply(lambda x: pd.Series([round(100*len(x['restaurant_id'].unique())/total_restaurants,2), \n",
    "                                                     round(100*len(x)/total_orders,2)], \n",
    "                                                    index=['n_restaurants', 'n_orders']))"
   ]
  },
  {
   "cell_type": "code",
   "execution_count": 23,
   "id": "3a12db2d",
   "metadata": {
    "scrolled": true
   },
   "outputs": [
    {
     "data": {
      "text/plain": [
       "<AxesSubplot:xlabel='country', ylabel='prep_time_minutes'>"
      ]
     },
     "execution_count": 23,
     "metadata": {},
     "output_type": "execute_result"
    },
    {
     "data": {
      "image/png": "[encoded data removed]",
      "text/plain": [
       "<Figure size 432x288 with 1 Axes>"
      ]
     },
     "metadata": {
      "needs_background": "light"
     },
     "output_type": "display_data"
    }
   ],
   "source": [
    "sns.boxplot(x='country', y='prep_time_minutes', data=orders)"
   ]
  },
  {
   "cell_type": "markdown",
   "id": "1491542c",
   "metadata": {},
   "source": [
    "From the boxplot above we can see that France tends to have lower prep time (median less than 10 minutes). For the other countries prep time tends to vary between 10-20 minutes. However there seem to be longs tails and there are around 25% of orders with prep time between around 30 and 50 minutes. This information should be taken into account at modelling stage."
   ]
  },
  {
   "cell_type": "markdown",
   "id": "ba3cf043",
   "metadata": {},
   "source": [
    "#### Check cities"
   ]
  },
  {
   "cell_type": "code",
   "execution_count": 24,
   "id": "f62fb886",
   "metadata": {
    "scrolled": true
   },
   "outputs": [
    {
     "data": {
      "text/html": [
       "<div>\n",
       "<style scoped>\n",
       "    .dataframe tbody tr th:only-of-type {\n",
       "        vertical-align: middle;\n",
       "    }\n",
       "\n",
       "    .dataframe tbody tr th {\n",
       "        vertical-align: top;\n",
       "    }\n",
       "\n",
       "    .dataframe thead th {\n",
       "        text-align: right;\n",
       "    }\n",
       "</style>\n",
       "<table border=\"1\" class=\"dataframe\">\n",
       "  <thead>\n",
       "    <tr style=\"text-align: right;\">\n",
       "      <th></th>\n",
       "      <th></th>\n",
       "      <th>n_restaurants</th>\n",
       "      <th>n_orders</th>\n",
       "    </tr>\n",
       "    <tr>\n",
       "      <th>country</th>\n",
       "      <th>city</th>\n",
       "      <th></th>\n",
       "      <th></th>\n",
       "    </tr>\n",
       "  </thead>\n",
       "  <tbody>\n",
       "    <tr>\n",
       "      <th>France</th>\n",
       "      <th>Paris</th>\n",
       "      <td>156</td>\n",
       "      <td>1278</td>\n",
       "    </tr>\n",
       "    <tr>\n",
       "      <th rowspan=\"2\" valign=\"top\">Germany</th>\n",
       "      <th>Berlin</th>\n",
       "      <td>76</td>\n",
       "      <td>285</td>\n",
       "    </tr>\n",
       "    <tr>\n",
       "      <th>München</th>\n",
       "      <td>14</td>\n",
       "      <td>18</td>\n",
       "    </tr>\n",
       "    <tr>\n",
       "      <th>Ireland</th>\n",
       "      <th>Dublin</th>\n",
       "      <td>52</td>\n",
       "      <td>330</td>\n",
       "    </tr>\n",
       "    <tr>\n",
       "      <th rowspan=\"18\" valign=\"top\">UK</th>\n",
       "      <th>Birmingham</th>\n",
       "      <td>49</td>\n",
       "      <td>257</td>\n",
       "    </tr>\n",
       "    <tr>\n",
       "      <th>Brighton</th>\n",
       "      <td>40</td>\n",
       "      <td>612</td>\n",
       "    </tr>\n",
       "    <tr>\n",
       "      <th>Bristol</th>\n",
       "      <td>15</td>\n",
       "      <td>77</td>\n",
       "    </tr>\n",
       "    <tr>\n",
       "      <th>Cambridge</th>\n",
       "      <td>17</td>\n",
       "      <td>160</td>\n",
       "    </tr>\n",
       "    <tr>\n",
       "      <th>Cardiff</th>\n",
       "      <td>4</td>\n",
       "      <td>5</td>\n",
       "    </tr>\n",
       "    <tr>\n",
       "      <th>Cheltenham</th>\n",
       "      <td>8</td>\n",
       "      <td>10</td>\n",
       "    </tr>\n",
       "    <tr>\n",
       "      <th>Edinburgh</th>\n",
       "      <td>37</td>\n",
       "      <td>387</td>\n",
       "    </tr>\n",
       "    <tr>\n",
       "      <th>Glasgow</th>\n",
       "      <td>31</td>\n",
       "      <td>165</td>\n",
       "    </tr>\n",
       "    <tr>\n",
       "      <th>Guildford</th>\n",
       "      <td>8</td>\n",
       "      <td>100</td>\n",
       "    </tr>\n",
       "    <tr>\n",
       "      <th>Leeds</th>\n",
       "      <td>23</td>\n",
       "      <td>203</td>\n",
       "    </tr>\n",
       "    <tr>\n",
       "      <th>Leicester</th>\n",
       "      <td>8</td>\n",
       "      <td>9</td>\n",
       "    </tr>\n",
       "    <tr>\n",
       "      <th>Liverpool</th>\n",
       "      <td>20</td>\n",
       "      <td>145</td>\n",
       "    </tr>\n",
       "    <tr>\n",
       "      <th>London</th>\n",
       "      <td>983</td>\n",
       "      <td>23406</td>\n",
       "    </tr>\n",
       "    <tr>\n",
       "      <th>Manchester</th>\n",
       "      <td>70</td>\n",
       "      <td>881</td>\n",
       "    </tr>\n",
       "    <tr>\n",
       "      <th>Nottingham</th>\n",
       "      <td>22</td>\n",
       "      <td>210</td>\n",
       "    </tr>\n",
       "    <tr>\n",
       "      <th>Oxford</th>\n",
       "      <td>23</td>\n",
       "      <td>502</td>\n",
       "    </tr>\n",
       "    <tr>\n",
       "      <th>Reading</th>\n",
       "      <td>11</td>\n",
       "      <td>116</td>\n",
       "    </tr>\n",
       "    <tr>\n",
       "      <th>Southampton</th>\n",
       "      <td>2</td>\n",
       "      <td>2</td>\n",
       "    </tr>\n",
       "  </tbody>\n",
       "</table>\n",
       "</div>"
      ],
      "text/plain": [
       "                     n_restaurants  n_orders\n",
       "country city                                \n",
       "France  Paris                  156      1278\n",
       "Germany Berlin                  76       285\n",
       "        München                 14        18\n",
       "Ireland Dublin                  52       330\n",
       "UK      Birmingham              49       257\n",
       "        Brighton                40       612\n",
       "        Bristol                 15        77\n",
       "        Cambridge               17       160\n",
       "        Cardiff                  4         5\n",
       "        Cheltenham               8        10\n",
       "        Edinburgh               37       387\n",
       "        Glasgow                 31       165\n",
       "        Guildford                8       100\n",
       "        Leeds                   23       203\n",
       "        Leicester                8         9\n",
       "        Liverpool               20       145\n",
       "        London                 983     23406\n",
       "        Manchester              70       881\n",
       "        Nottingham              22       210\n",
       "        Oxford                  23       502\n",
       "        Reading                 11       116\n",
       "        Southampton              2         2"
      ]
     },
     "execution_count": 24,
     "metadata": {},
     "output_type": "execute_result"
    }
   ],
   "source": [
    "orders.groupby(['country', 'city']).apply(lambda x: pd.Series([len(x['restaurant_id'].unique()), len(x)], \n",
    "                                                    index=['n_restaurants', 'n_orders']))"
   ]
  },
  {
   "cell_type": "markdown",
   "id": "4e7c4f4e",
   "metadata": {},
   "source": [
    "The biggest cities in terms of number of restaurants and number of orders are London and Paris\n",
    "There are some cities e.g. Southampton that have very few restaurants and orders and this information should \n",
    "probably be taken into account at modelling stage because there might not be enough data points (orders) for those cities."
   ]
  },
  {
   "cell_type": "code",
   "execution_count": 25,
   "id": "14585814",
   "metadata": {
    "scrolled": true
   },
   "outputs": [
    {
     "data": {
      "text/plain": [
       "London         23406\n",
       "Paris           1278\n",
       "Manchester       881\n",
       "Brighton         612\n",
       "Oxford           502\n",
       "Edinburgh        387\n",
       "Dublin           330\n",
       "Berlin           285\n",
       "Birmingham       257\n",
       "Nottingham       210\n",
       "Leeds            203\n",
       "Glasgow          165\n",
       "Cambridge        160\n",
       "Liverpool        145\n",
       "Reading          116\n",
       "Guildford        100\n",
       "Bristol           77\n",
       "München           18\n",
       "Cheltenham        10\n",
       "Leicester          9\n",
       "Cardiff            5\n",
       "Southampton        2\n",
       "Name: city, dtype: int64"
      ]
     },
     "execution_count": 25,
     "metadata": {},
     "output_type": "execute_result"
    }
   ],
   "source": [
    "orders['city'].value_counts()"
   ]
  },
  {
   "cell_type": "code",
   "execution_count": 26,
   "id": "7e870fba",
   "metadata": {},
   "outputs": [
    {
     "data": {
      "text/plain": [
       "<AxesSubplot:>"
      ]
     },
     "execution_count": 26,
     "metadata": {},
     "output_type": "execute_result"
    },
    {
     "data": {
      "image/png": "[encoded data removed]",
      "text/plain": [
       "<Figure size 432x288 with 1 Axes>"
      ]
     },
     "metadata": {
      "needs_background": "light"
     },
     "output_type": "display_data"
    }
   ],
   "source": [
    "orders['city'].value_counts().plot.bar()"
   ]
  },
  {
   "cell_type": "code",
   "execution_count": 27,
   "id": "71cedb10",
   "metadata": {
    "scrolled": true
   },
   "outputs": [
    {
     "data": {
      "image/png": "[encoded data removed]",
      "text/plain": [
       "<Figure size 432x288 with 1 Axes>"
      ]
     },
     "metadata": {
      "needs_background": "light"
     },
     "output_type": "display_data"
    }
   ],
   "source": [
    "sns.boxplot(x='city', y='prep_time_minutes', data=orders)\n",
    "_ = plt.xticks(rotation=45)"
   ]
  },
  {
   "cell_type": "markdown",
   "id": "b2a67be4",
   "metadata": {},
   "source": [
    "From the boxplot above we can see that Paris tends to have lower prep time, which we already observed earlier in the countries plot (Paris is the only city in France). Southhampton tends to have higher prep times, however it has only 2 data points. Cheltenham seems to have a small variation in prep time, however it has very few orders. \n",
    "For most of the cities prep time seems to vary between 10 and 20 minutes. \n",
    "\n",
    "It seems that the city may not give more additional information if we already know the country since for France for example we have only 1 city and most of the cities have similar range (apart from cities with very few data points). I decided to create a new category `other` for cities with very few orders (less than 18):München, Cheltenham, Leicester, Cardiff, Southampton.      "
   ]
  },
  {
   "cell_type": "markdown",
   "id": "ca250edb",
   "metadata": {},
   "source": [
    "#### Check types of food"
   ]
  },
  {
   "cell_type": "code",
   "execution_count": 28,
   "id": "a0c29aab",
   "metadata": {
    "scrolled": true
   },
   "outputs": [
    {
     "data": {
      "text/plain": [
       "italian              4324\n",
       "burgers              3716\n",
       "thai                 2686\n",
       "american             2152\n",
       "japanese             1634\n",
       "                     ... \n",
       "french lebanese         2\n",
       "steakhouse              2\n",
       "delicatessen            2\n",
       "thaï / brunch           2\n",
       "japanese peruvian       1\n",
       "Name: type_of_food, Length: 82, dtype: int64"
      ]
     },
     "execution_count": 28,
     "metadata": {},
     "output_type": "execute_result"
    }
   ],
   "source": [
    "orders['type_of_food'].value_counts()"
   ]
  },
  {
   "cell_type": "code",
   "execution_count": 29,
   "id": "8e0e8ed0",
   "metadata": {},
   "outputs": [
    {
     "data": {
      "text/plain": [
       "<AxesSubplot:>"
      ]
     },
     "execution_count": 29,
     "metadata": {},
     "output_type": "execute_result"
    },
    {
     "data": {
      "image/png": "[encoded data removed]",
      "text/plain": [
       "<Figure size 432x288 with 1 Axes>"
      ]
     },
     "metadata": {
      "needs_background": "light"
     },
     "output_type": "display_data"
    }
   ],
   "source": [
    "orders['type_of_food'].value_counts().hist(bins=200)\n",
    "# plt.xlim(0,200)"
   ]
  },
  {
   "cell_type": "markdown",
   "id": "47b11b78",
   "metadata": {},
   "source": [
    "There are 82 different types of food. Given that many of them are quite infrequent, they should probably be grouped into a smaller number of categories."
   ]
  },
  {
   "cell_type": "code",
   "execution_count": 30,
   "id": "e49ef024",
   "metadata": {
    "scrolled": true
   },
   "outputs": [
    {
     "data": {
      "text/plain": [
       "type_of_food\n",
       "(30, 5000]      44\n",
       "(0, 30]         38\n",
       "dtype: int64"
      ]
     },
     "execution_count": 30,
     "metadata": {},
     "output_type": "execute_result"
    }
   ],
   "source": [
    "bins = [0, 30,  5000]\n",
    "pd.DataFrame(pd.cut(orders['type_of_food'].value_counts(), bins)).value_counts()"
   ]
  },
  {
   "cell_type": "markdown",
   "id": "d86d5c23",
   "metadata": {},
   "source": [
    "I decided to group together the most infrequent types of food. The types of food for which there are less than 30 orders I will put them in a new category `other`"
   ]
  },
  {
   "cell_type": "code",
   "execution_count": 31,
   "id": "14166acc",
   "metadata": {
    "scrolled": true
   },
   "outputs": [],
   "source": [
    "other_types_of_food = orders['type_of_food'].value_counts().to_frame('count').query('count < 30').index"
   ]
  },
  {
   "cell_type": "code",
   "execution_count": 32,
   "id": "f838c8fe",
   "metadata": {
    "scrolled": true
   },
   "outputs": [
    {
     "data": {
      "text/plain": [
       "{'burritos': 'burritos',\n",
       " 'chinese': 'chinese',\n",
       " 'healthy': 'healthy',\n",
       " 'dessert': 'dessert',\n",
       " 'thai': 'thai',\n",
       " 'american': 'american',\n",
       " 'french': 'french',\n",
       " 'persian': 'persian',\n",
       " 'sandwiches': 'other',\n",
       " 'mediterranean': 'mediterranean',\n",
       " 'british': 'british',\n",
       " 'italian': 'italian',\n",
       " 'spanish': 'spanish',\n",
       " 'lebanese': 'lebanese',\n",
       " 'japanese': 'japanese',\n",
       " 'burgers': 'burgers',\n",
       " 'mexican': 'mexican',\n",
       " 'chicken': 'chicken',\n",
       " 'gluten free': 'other',\n",
       " 'deli': 'deli',\n",
       " 'turkish': 'turkish',\n",
       " 'vietnamese': 'vietnamese',\n",
       " 'argentinian': 'argentinian',\n",
       " 'modern british': 'modern british',\n",
       " 'bakery': 'bakery',\n",
       " 'korean': 'korean',\n",
       " 'pan asian': 'pan asian',\n",
       " 'european': 'european',\n",
       " 'indonesian': 'other',\n",
       " 'indian': 'indian',\n",
       " 'ramen': 'ramen',\n",
       " 'australian': 'australian',\n",
       " 'bbq': 'bbq',\n",
       " 'sweet treats': 'other',\n",
       " 'greek': 'greek',\n",
       " 'peruvian': 'peruvian',\n",
       " 'international': 'international',\n",
       " 'north african': 'other',\n",
       " 'juices': 'juices',\n",
       " 'vegan': 'other',\n",
       " 'irish': 'other',\n",
       " 'middle eastern': 'middle eastern',\n",
       " 'rotisserie': 'rotisserie',\n",
       " 'brazilian': 'brazilian',\n",
       " 'fish and chips': 'fish and chips',\n",
       " 'caribbean': 'caribbean',\n",
       " 'creole': 'other',\n",
       " 'pizza': 'pizza',\n",
       " 'seafood': 'seafood',\n",
       " 'ethiopian': 'other',\n",
       " 'sans gluten / brunch': 'other',\n",
       " 'delicatessen': 'other',\n",
       " 'latin american': 'latin american',\n",
       " 'south indian': 'south indian',\n",
       " 'sichuan chinese': 'other',\n",
       " 'lebanese moroccan': 'other',\n",
       " 'georgian': 'other',\n",
       " 'bistro': 'other',\n",
       " 'thaï / brunch': 'other',\n",
       " 'sushi': 'sushi',\n",
       " 'taiwanese': 'other',\n",
       " 'malaysian': 'other',\n",
       " 'french lebanese': 'other',\n",
       " 'south african': 'other',\n",
       " 'portuguese': 'other',\n",
       " 'diner': 'other',\n",
       " 'scandinavian': 'other',\n",
       " 'austrian': 'other',\n",
       " 'german': 'other',\n",
       " 'bagels': 'other',\n",
       " 'nepalese': 'other',\n",
       " 'spanish tapas': 'other',\n",
       " 'scottish': 'other',\n",
       " 'asian fusion': 'other',\n",
       " 'american / brunch': 'other',\n",
       " 'kosher': 'other',\n",
       " 'creperie': 'other',\n",
       " 'russian': 'other',\n",
       " 'steakhouse': 'other',\n",
       " 'south american': 'other',\n",
       " 'japanese peruvian': 'other',\n",
       " 'ice cream': 'other'}"
      ]
     },
     "execution_count": 32,
     "metadata": {},
     "output_type": "execute_result"
    }
   ],
   "source": [
    "types_of_food_dict = {f: 'other' if f in other_types_of_food else f for f in orders['type_of_food'].unique()}\n",
    "types_of_food_dict"
   ]
  },
  {
   "cell_type": "code",
   "execution_count": 33,
   "id": "b4c7a67e",
   "metadata": {
    "scrolled": true
   },
   "outputs": [],
   "source": [
    "orders['type_of_food'] = orders['type_of_food'].map(types_of_food_dict)"
   ]
  },
  {
   "cell_type": "code",
   "execution_count": 34,
   "id": "ab134550",
   "metadata": {},
   "outputs": [
    {
     "data": {
      "text/plain": [
       "45"
      ]
     },
     "execution_count": 34,
     "metadata": {},
     "output_type": "execute_result"
    }
   ],
   "source": [
    "# Now we have 45 types of food instead of 82\n",
    "len(orders['type_of_food'].unique())"
   ]
  },
  {
   "cell_type": "markdown",
   "id": "14897258",
   "metadata": {},
   "source": [
    "#### Check hour of the day and day of week"
   ]
  },
  {
   "cell_type": "markdown",
   "id": "5f63252e",
   "metadata": {},
   "source": [
    "I decided to get the hour and day of the week and explore how does the distribution of prep time for different days of the week and different hours of the day."
   ]
  },
  {
   "cell_type": "code",
   "execution_count": 35,
   "id": "b66d3c3e",
   "metadata": {},
   "outputs": [],
   "source": [
    "orders['hour'] = [i.hour for i in orders['order_acknowledged_at']]\n",
    "orders['day_of_week'] = [i.weekday() for i in orders['order_acknowledged_at']]"
   ]
  },
  {
   "cell_type": "code",
   "execution_count": 36,
   "id": "d7bed1ad",
   "metadata": {},
   "outputs": [
    {
     "data": {
      "text/plain": [
       "<AxesSubplot:xlabel='day_of_week', ylabel='prep_time_minutes'>"
      ]
     },
     "execution_count": 36,
     "metadata": {},
     "output_type": "execute_result"
    },
    {
     "data": {
      "image/png": "[encoded data removed]",
      "text/plain": [
       "<Figure size 432x288 with 1 Axes>"
      ]
     },
     "metadata": {
      "needs_background": "light"
     },
     "output_type": "display_data"
    }
   ],
   "source": [
    "sns.boxplot(x='day_of_week', y='prep_time_minutes', data=orders)"
   ]
  },
  {
   "cell_type": "markdown",
   "id": "f25e751c",
   "metadata": {},
   "source": [
    "In the box plot above 0 is Monday and 6 is Sunday. We can see that Wednesday has a slightly lower median and during the weekend (Friday, Saturday and Sunday) the median is a bit higher compared to other weekdays. The day of the week seems to give some information regarding prep time, so it should probably used as a feature during modelling. "
   ]
  },
  {
   "cell_type": "code",
   "execution_count": 37,
   "id": "50945ac9",
   "metadata": {},
   "outputs": [
    {
     "data": {
      "text/plain": [
       "<AxesSubplot:xlabel='hour', ylabel='prep_time_minutes'>"
      ]
     },
     "execution_count": 37,
     "metadata": {},
     "output_type": "execute_result"
    },
    {
     "data": {
      "image/png": "[encoded data removed]",
      "text/plain": [
       "<Figure size 432x288 with 1 Axes>"
      ]
     },
     "metadata": {
      "needs_background": "light"
     },
     "output_type": "display_data"
    }
   ],
   "source": [
    "sns.boxplot(x='hour', y='prep_time_minutes', data=orders)"
   ]
  },
  {
   "cell_type": "markdown",
   "id": "28d84d84",
   "metadata": {},
   "source": [
    "The hours of the day with the highest prep time seems to be 11 and 12, just before lunch time, when it takes between 35 and 45 minutes to prep an order. This might be because the restaurant might be busier during those hours and it might take them longer to prep the orders. The time of the day with the lowest prep time is 23, and that might be because the restaurants might be less busy so late in the night. The hour of the day seems to contain information about the prep time, so it should probably be used as a feature at modelling stage."
   ]
  },
  {
   "cell_type": "markdown",
   "id": "b0899820",
   "metadata": {},
   "source": [
    "# 4. Feature engineering\n",
    "In this section I work on feature engineering of categorical features and numerical features. \n",
    "- The categorical features include: `restaurant_id`, `type_of_food`, `day_of_week`, `hour`, `country`. The categorical features will be one-hot encoded. I decided not to use `city` as a feature since from the EDA the city does not seem to add new information on top of the country.\n",
    "- Numerical features are `number_of_items` and `order_value_gbp` which were already in the original data.\n",
    "\n",
    "Engineering new features is a good idea because it gives us the opportunity to extract useful information which at first might not be obvious or clear; for example the hour of the day or day of the week which is contained in the timestamps. If we wouldn't extract those features, the models would not be able to make use of some additional information which might be useful in predicting the preparation time."
   ]
  },
  {
   "cell_type": "markdown",
   "id": "13ebb912",
   "metadata": {},
   "source": [
    "### OneHotEncoding of categorical features"
   ]
  },
  {
   "cell_type": "code",
   "execution_count": 38,
   "id": "9217e0d7",
   "metadata": {
    "scrolled": true
   },
   "outputs": [],
   "source": [
    "orders = one_hot_encode(orders, 'day_of_week')\n",
    "orders = one_hot_encode(orders, 'hour')\n",
    "orders = one_hot_encode(orders, 'country')\n",
    "orders = one_hot_encode(orders, 'type_of_food')\n",
    "orders = one_hot_encode(orders, 'restaurant_id')"
   ]
  },
  {
   "cell_type": "markdown",
   "id": "5ef1ed0a",
   "metadata": {},
   "source": [
    "# 4. Modelling\n",
    "In this section I will model `prep_time_minutes` using the features in the previous section. \n",
    "- I split the data into train set and test set\n",
    "- I use as baseline the average prep time in minutes in train set\n",
    "- Initally I model the data using a simple model: Linear regression. I log transform the target because from the EDA we saw that the distribution of `prep_time_minutes` is skewed\n",
    "- The error of the model could go in two directions: the real prep time is longer than the estimated time or the real prep time is shorter than the estimated time. In both cases the error will have a negative business impact and for each case we should have metrics than quantify the impact. However at this stage I focused on a ML model metric and I chose as evaluation metric RMSE (root mean squared error) because it's regression problem. I decided not to go for Mean Squared Error because the squared error is not easily interpretable. Another option would be Mean Absolute Error. However, RMSE penalises more the cases when the error is large (because it squares the error) and less the cases when the error is small. This is desirable since a small error of for example a couple of minutes is not expected to impact the delivery system as much as an error of let's say 15 minutes.\n",
    "- I regularise the linear regression using L2 regularisation.\n",
    "- I try different sets of features with LR .\n",
    "- Then I move on to more complex models: Random Forest."
   ]
  },
  {
   "cell_type": "code",
   "execution_count": 39,
   "id": "49faf58b",
   "metadata": {
    "scrolled": true
   },
   "outputs": [
    {
     "data": {
      "text/plain": [
       "Index(['order_acknowledged_at', 'order_ready_at', 'order_value_gbp',\n",
       "       'restaurant_id', 'number_of_items', 'prep_time_seconds',\n",
       "       'prep_time_minutes', 'country', 'city', 'type_of_food', 'hour',\n",
       "       'day_of_week', 'is_day_of_week_1', 'is_day_of_week_2',\n",
       "       'is_day_of_week_3', 'is_day_of_week_4', 'is_day_of_week_5',\n",
       "       'is_day_of_week_6', 'is_hour_11', 'is_hour_12', 'is_hour_13',\n",
       "       'is_hour_14', 'is_hour_15', 'is_hour_16', 'is_hour_17', 'is_hour_18',\n",
       "       'is_hour_19', 'is_hour_20', 'is_hour_21', 'is_hour_22'],\n",
       "      dtype='object')"
      ]
     },
     "execution_count": 39,
     "metadata": {},
     "output_type": "execute_result"
    }
   ],
   "source": [
    "orders.columns[:30]"
   ]
  },
  {
   "cell_type": "code",
   "execution_count": 40,
   "id": "996e33d3",
   "metadata": {
    "scrolled": true
   },
   "outputs": [],
   "source": [
    "features = orders.drop(['order_acknowledged_at', 'order_ready_at', 'prep_time_seconds', \n",
    "                       'prep_time_minutes', 'country', 'city', 'type_of_food', 'hour', 'day_of_week', \n",
    "                       'restaurant_id'], axis=1)\n",
    "target = orders[['prep_time_minutes']]"
   ]
  },
  {
   "cell_type": "code",
   "execution_count": 41,
   "id": "7a2968ce",
   "metadata": {},
   "outputs": [],
   "source": [
    "X_train, X_test, y_train, y_test = split_data(features, target, test_size=0.33)"
   ]
  },
  {
   "cell_type": "markdown",
   "id": "d7a1cea0",
   "metadata": {},
   "source": [
    "### 4.1 Baseline\n",
    "I will use as baseline the average prep time in the train set which is 15.33 minutes"
   ]
  },
  {
   "cell_type": "code",
   "execution_count": 42,
   "id": "64d19f56",
   "metadata": {
    "scrolled": false
   },
   "outputs": [
    {
     "data": {
      "text/plain": [
       "15.33"
      ]
     },
     "execution_count": 42,
     "metadata": {},
     "output_type": "execute_result"
    }
   ],
   "source": [
    "# the average prep time in the train set\n",
    "baseline = round(y_train['prep_time_minutes'].mean(), 2)\n",
    "baseline"
   ]
  },
  {
   "cell_type": "code",
   "execution_count": 43,
   "id": "42ca02ba",
   "metadata": {},
   "outputs": [
    {
     "data": {
      "text/plain": [
       "8.79"
      ]
     },
     "execution_count": 43,
     "metadata": {},
     "output_type": "execute_result"
    }
   ],
   "source": [
    "# RMSE for the baseline in the test set is 8.79 minutes\n",
    "compute_error([baseline] * len(y_test), y_test)"
   ]
  },
  {
   "cell_type": "markdown",
   "id": "0ea58275",
   "metadata": {},
   "source": [
    "### 4.2 Linear Regression\n",
    "Given that the dataset is small, I started the modelling with a simple liner model. Because distribution of the prep time was skewed (as observed in the EDA) I did a log transform of the prep time and modelled that. At model evaluation stage I transformed the prediction back with the exponential transformation. I scaled the numerical features with a standard scaler using the mean and std in the train set."
   ]
  },
  {
   "cell_type": "code",
   "execution_count": 44,
   "id": "275c3a95",
   "metadata": {},
   "outputs": [],
   "source": [
    "y_train_log = np.log(y_train)"
   ]
  },
  {
   "cell_type": "code",
   "execution_count": 45,
   "id": "ce4f00b1",
   "metadata": {
    "scrolled": true
   },
   "outputs": [],
   "source": [
    "X_train_scaled, X_test_scaled = scale_data(X_train, X_test, features_to_scale=['order_value_gbp', \n",
    "                                                                               'number_of_items'])"
   ]
  },
  {
   "cell_type": "markdown",
   "id": "47d7e8f1",
   "metadata": {},
   "source": [
    "#### LR with only numerical features"
   ]
  },
  {
   "cell_type": "code",
   "execution_count": 46,
   "id": "2fdd03d3",
   "metadata": {},
   "outputs": [
    {
     "name": "stdout",
     "output_type": "stream",
     "text": [
      "Train error 8.98\n",
      "Test Error 9.23\n"
     ]
    }
   ],
   "source": [
    "columns_to_train = ['order_value_gbp', 'number_of_items']\n",
    "linear_reg = LinearRegression()\n",
    "train_model(X_train_scaled[columns_to_train], y_train_log, linear_reg)\n",
    "print('Train error', compute_error(np.exp(linear_reg.predict(X_train_scaled[columns_to_train])), y_train))\n",
    "print('Test Error', compute_error(np.exp(linear_reg.predict(X_test_scaled[columns_to_train])), y_test))"
   ]
  },
  {
   "cell_type": "markdown",
   "id": "1a5cc826",
   "metadata": {},
   "source": [
    "The RMSE of the linear regression model with only numerical features is 9.23 minutes which is worse than the RMSE of the baseline model 8.79 minutes. This is expected since the model does not have any information about the restaurant."
   ]
  },
  {
   "cell_type": "markdown",
   "id": "5ee6604c",
   "metadata": {},
   "source": [
    "#### LR with numerical features and the categorical features: `restaurant_id`, `type_of_food`,`country`,`day_of_week`, `hour`"
   ]
  },
  {
   "cell_type": "code",
   "execution_count": 47,
   "id": "e8698678",
   "metadata": {
    "scrolled": true
   },
   "outputs": [
    {
     "name": "stdout",
     "output_type": "stream",
     "text": [
      "Train error 7.24\n",
      "Test Error 7.93\n"
     ]
    }
   ],
   "source": [
    "linear_reg = LinearRegression()\n",
    "train_model(X_train_scaled, y_train_log, linear_reg)\n",
    "print('Train error', compute_error(np.exp(linear_reg.predict(X_train_scaled)), y_train))\n",
    "print('Test Error', compute_error(np.exp(linear_reg.predict(X_test_scaled)), y_test))"
   ]
  },
  {
   "cell_type": "markdown",
   "id": "7f0fc4be",
   "metadata": {},
   "source": [
    "Adding the categorical features improves the model: the error goes from 8.31 (baseline) to 7.93 minutes: 4.5% improvement in error. "
   ]
  },
  {
   "cell_type": "markdown",
   "id": "38b9f80c",
   "metadata": {},
   "source": [
    "#### LR: removing `country`\n",
    "I removed the `country` feature to see how it affects model performance."
   ]
  },
  {
   "cell_type": "code",
   "execution_count": 48,
   "id": "a0ab0ee5",
   "metadata": {},
   "outputs": [
    {
     "name": "stdout",
     "output_type": "stream",
     "text": [
      "Train error 7.24\n",
      "Test Error 7.92\n"
     ]
    }
   ],
   "source": [
    "columns_to_train = [f for f in X_train_scaled.columns if 'is_country' not in f]\n",
    "linear_reg = LinearRegression()\n",
    "train_model(X_train_scaled[columns_to_train], y_train_log, linear_reg)\n",
    "print('Train error', compute_error(np.exp(linear_reg.predict(X_train_scaled[columns_to_train])), y_train))\n",
    "print('Test Error', compute_error(np.exp(linear_reg.predict(X_test_scaled[columns_to_train])), y_test))"
   ]
  },
  {
   "cell_type": "markdown",
   "id": "38e19d6a",
   "metadata": {},
   "source": [
    "The country fetaure does not seem to impact the model a lot. The train error does not change and the test error decreases from 7.93 to 7.92: 0.12% improvement in error. I decided to drop the `country` as a feature.\n",
    "There is a bit of variance between train and test set since the train error is a bit smaller than the test error. So, to tackle the variance in the next step I add l2 regularisation to the Linear regression (Ridge regression)"
   ]
  },
  {
   "cell_type": "markdown",
   "id": "ce333194",
   "metadata": {},
   "source": [
    "### 4.3 Ridge Regression"
   ]
  },
  {
   "cell_type": "code",
   "execution_count": 49,
   "id": "f1f427e2",
   "metadata": {},
   "outputs": [
    {
     "name": "stdout",
     "output_type": "stream",
     "text": [
      "Train error 7.26\n",
      "Test error 7.85\n"
     ]
    }
   ],
   "source": [
    "columns_to_train = [f for f in X_train_scaled.columns if 'is_country' not in f]\n",
    "ridge_reg = Ridge(alpha=0.5, random_state=1)\n",
    "train_model(X_train_scaled[columns_to_train], y_train_log, ridge_reg)\n",
    "print('Train error', compute_error(np.exp(ridge_reg.predict(X_train_scaled[columns_to_train])), y_train))\n",
    "print('Test error', compute_error(np.exp(ridge_reg.predict(X_test_scaled[columns_to_train])), y_test))"
   ]
  },
  {
   "cell_type": "code",
   "execution_count": 50,
   "id": "5d2750c1",
   "metadata": {},
   "outputs": [
    {
     "name": "stdout",
     "output_type": "stream",
     "text": [
      "Train error 7.3\n",
      "Test error 7.82\n"
     ]
    }
   ],
   "source": [
    "columns_to_train = [f for f in X_train_scaled.columns if 'is_country' not in f]\n",
    "ridge_reg = Ridge(alpha=1, random_state=1)\n",
    "train_model(X_train_scaled[columns_to_train], y_train_log, ridge_reg)\n",
    "print('Train error', compute_error(np.exp(ridge_reg.predict(X_train_scaled[columns_to_train])), y_train))\n",
    "print('Test error', compute_error(np.exp(ridge_reg.predict(X_test_scaled[columns_to_train])), y_test))"
   ]
  },
  {
   "cell_type": "code",
   "execution_count": 51,
   "id": "a319cf33",
   "metadata": {},
   "outputs": [
    {
     "name": "stdout",
     "output_type": "stream",
     "text": [
      "Train error 7.93\n",
      "Test error 8.15\n"
     ]
    }
   ],
   "source": [
    "columns_to_train = [f for f in X_train_scaled.columns if 'is_country' not in f]\n",
    "ridge_reg = Ridge(alpha=50, random_state=1)\n",
    "train_model(X_train_scaled[columns_to_train], y_train_log, ridge_reg)\n",
    "print('Train error', compute_error(np.exp(ridge_reg.predict(X_train_scaled[columns_to_train])), y_train))\n",
    "print('Test error', compute_error(np.exp(ridge_reg.predict(X_test_scaled[columns_to_train])), y_test))"
   ]
  },
  {
   "cell_type": "markdown",
   "id": "688361cd",
   "metadata": {},
   "source": [
    "The regularisation parameter alpha controls the strength of regularization. Initally when increasing the value of alpha, the stronger the regularisation, the train error increases and test error decreases, meaning that the LR model with regularisation was overfitting. However, for values of alpha that are too high (e.g. 50) we can see that the train error increases and the test error increases, meaning that the model is underfitting because the regularisation is too strong.\n",
    "I run a grid search over the regularisation parameter `alpha` to see at which point we start underfitting."
   ]
  },
  {
   "cell_type": "code",
   "execution_count": 52,
   "id": "4eeb8581",
   "metadata": {},
   "outputs": [],
   "source": [
    "alphas = list(np.arange(0.1, 1, 0.3))\n",
    "alphas.extend(list(np.arange(1, 210, 10)))\n",
    "alphas = np.round(alphas, 2)\n",
    "errors = pd.DataFrame(index=alphas, columns=['train_error', 'test_error'])\n",
    "for alpha in alphas:\n",
    "    ridge_reg = Ridge(alpha=alpha, random_state=1)\n",
    "    train_model(X_train_scaled, y_train_log, ridge_reg)\n",
    "    errors.loc[alpha] = compute_error(np.exp(ridge_reg.predict(X_train_scaled)), y_train), compute_error(np.exp(ridge_reg.predict(X_test_scaled)), y_test)"
   ]
  },
  {
   "cell_type": "code",
   "execution_count": 53,
   "id": "e2bbffaa",
   "metadata": {
    "scrolled": true
   },
   "outputs": [
    {
     "data": {
      "text/html": [
       "<div>\n",
       "<style scoped>\n",
       "    .dataframe tbody tr th:only-of-type {\n",
       "        vertical-align: middle;\n",
       "    }\n",
       "\n",
       "    .dataframe tbody tr th {\n",
       "        vertical-align: top;\n",
       "    }\n",
       "\n",
       "    .dataframe thead th {\n",
       "        text-align: right;\n",
       "    }\n",
       "</style>\n",
       "<table border=\"1\" class=\"dataframe\">\n",
       "  <thead>\n",
       "    <tr style=\"text-align: right;\">\n",
       "      <th></th>\n",
       "      <th>train_error</th>\n",
       "      <th>test_error</th>\n",
       "    </tr>\n",
       "  </thead>\n",
       "  <tbody>\n",
       "    <tr>\n",
       "      <th>0.1</th>\n",
       "      <td>7.24</td>\n",
       "      <td>7.9</td>\n",
       "    </tr>\n",
       "    <tr>\n",
       "      <th>0.4</th>\n",
       "      <td>7.26</td>\n",
       "      <td>7.85</td>\n",
       "    </tr>\n",
       "    <tr>\n",
       "      <th>0.7</th>\n",
       "      <td>7.28</td>\n",
       "      <td>7.83</td>\n",
       "    </tr>\n",
       "    <tr>\n",
       "      <th>1.0</th>\n",
       "      <td>7.29</td>\n",
       "      <td>7.81</td>\n",
       "    </tr>\n",
       "    <tr>\n",
       "      <th>11.0</th>\n",
       "      <td>7.57</td>\n",
       "      <td>7.86</td>\n",
       "    </tr>\n",
       "    <tr>\n",
       "      <th>21.0</th>\n",
       "      <td>7.68</td>\n",
       "      <td>7.93</td>\n",
       "    </tr>\n",
       "    <tr>\n",
       "      <th>31.0</th>\n",
       "      <td>7.76</td>\n",
       "      <td>7.99</td>\n",
       "    </tr>\n",
       "    <tr>\n",
       "      <th>41.0</th>\n",
       "      <td>7.82</td>\n",
       "      <td>8.05</td>\n",
       "    </tr>\n",
       "    <tr>\n",
       "      <th>51.0</th>\n",
       "      <td>7.88</td>\n",
       "      <td>8.09</td>\n",
       "    </tr>\n",
       "    <tr>\n",
       "      <th>61.0</th>\n",
       "      <td>7.92</td>\n",
       "      <td>8.13</td>\n",
       "    </tr>\n",
       "    <tr>\n",
       "      <th>71.0</th>\n",
       "      <td>7.96</td>\n",
       "      <td>8.16</td>\n",
       "    </tr>\n",
       "    <tr>\n",
       "      <th>81.0</th>\n",
       "      <td>7.99</td>\n",
       "      <td>8.19</td>\n",
       "    </tr>\n",
       "    <tr>\n",
       "      <th>91.0</th>\n",
       "      <td>8.02</td>\n",
       "      <td>8.22</td>\n",
       "    </tr>\n",
       "    <tr>\n",
       "      <th>101.0</th>\n",
       "      <td>8.05</td>\n",
       "      <td>8.25</td>\n",
       "    </tr>\n",
       "    <tr>\n",
       "      <th>111.0</th>\n",
       "      <td>8.07</td>\n",
       "      <td>8.27</td>\n",
       "    </tr>\n",
       "    <tr>\n",
       "      <th>121.0</th>\n",
       "      <td>8.1</td>\n",
       "      <td>8.3</td>\n",
       "    </tr>\n",
       "    <tr>\n",
       "      <th>131.0</th>\n",
       "      <td>8.12</td>\n",
       "      <td>8.32</td>\n",
       "    </tr>\n",
       "    <tr>\n",
       "      <th>141.0</th>\n",
       "      <td>8.14</td>\n",
       "      <td>8.34</td>\n",
       "    </tr>\n",
       "    <tr>\n",
       "      <th>151.0</th>\n",
       "      <td>8.16</td>\n",
       "      <td>8.36</td>\n",
       "    </tr>\n",
       "    <tr>\n",
       "      <th>161.0</th>\n",
       "      <td>8.18</td>\n",
       "      <td>8.37</td>\n",
       "    </tr>\n",
       "    <tr>\n",
       "      <th>171.0</th>\n",
       "      <td>8.2</td>\n",
       "      <td>8.39</td>\n",
       "    </tr>\n",
       "    <tr>\n",
       "      <th>181.0</th>\n",
       "      <td>8.21</td>\n",
       "      <td>8.4</td>\n",
       "    </tr>\n",
       "    <tr>\n",
       "      <th>191.0</th>\n",
       "      <td>8.23</td>\n",
       "      <td>8.42</td>\n",
       "    </tr>\n",
       "    <tr>\n",
       "      <th>201.0</th>\n",
       "      <td>8.24</td>\n",
       "      <td>8.43</td>\n",
       "    </tr>\n",
       "  </tbody>\n",
       "</table>\n",
       "</div>"
      ],
      "text/plain": [
       "      train_error test_error\n",
       "0.1          7.24        7.9\n",
       "0.4          7.26       7.85\n",
       "0.7          7.28       7.83\n",
       "1.0          7.29       7.81\n",
       "11.0         7.57       7.86\n",
       "21.0         7.68       7.93\n",
       "31.0         7.76       7.99\n",
       "41.0         7.82       8.05\n",
       "51.0         7.88       8.09\n",
       "61.0         7.92       8.13\n",
       "71.0         7.96       8.16\n",
       "81.0         7.99       8.19\n",
       "91.0         8.02       8.22\n",
       "101.0        8.05       8.25\n",
       "111.0        8.07       8.27\n",
       "121.0         8.1        8.3\n",
       "131.0        8.12       8.32\n",
       "141.0        8.14       8.34\n",
       "151.0        8.16       8.36\n",
       "161.0        8.18       8.37\n",
       "171.0         8.2       8.39\n",
       "181.0        8.21        8.4\n",
       "191.0        8.23       8.42\n",
       "201.0        8.24       8.43"
      ]
     },
     "execution_count": 53,
     "metadata": {},
     "output_type": "execute_result"
    }
   ],
   "source": [
    "errors"
   ]
  },
  {
   "cell_type": "code",
   "execution_count": 54,
   "id": "d6fce038",
   "metadata": {},
   "outputs": [
    {
     "data": {
      "text/plain": [
       "<AxesSubplot:>"
      ]
     },
     "execution_count": 54,
     "metadata": {},
     "output_type": "execute_result"
    },
    {
     "data": {
      "image/png": "[encoded data removed]",
      "text/plain": [
       "<Figure size 432x288 with 1 Axes>"
      ]
     },
     "metadata": {
      "needs_background": "light"
     },
     "output_type": "display_data"
    }
   ],
   "source": [
    "errors.plot()"
   ]
  },
  {
   "cell_type": "markdown",
   "id": "08e53414",
   "metadata": {},
   "source": [
    "The test error is minimised for alpha=1 with RMSE 7.81 minutes (from 7.92 for LR without L2) meaning that Ridge Regression model is better than LR: 1.38% improvement in performance."
   ]
  },
  {
   "cell_type": "markdown",
   "id": "793d78a3",
   "metadata": {},
   "source": [
    "### 4.4 Random Forest\n",
    "Since the linear models did not perform very well I decided to try a more complex model. We observed skewed dictribution in the data and we have many categorical features I decided to try Random Forest Regressor. We do not need to scale the data or perform log transformations. All the numerical and categorical features engineered in the previous stages were used to train the model."
   ]
  },
  {
   "cell_type": "code",
   "execution_count": 55,
   "id": "14b83346",
   "metadata": {},
   "outputs": [
    {
     "name": "stdout",
     "output_type": "stream",
     "text": [
      "Train error oob 7.98\n",
      "Test error 7.96\n"
     ]
    }
   ],
   "source": [
    "rf_reg = RandomForestRegressor(oob_score=True, random_state=1)\n",
    "train_model(X_train, y_train, rf_reg)\n",
    "print('Train error oob', compute_error(rf_reg.oob_prediction_, y_train))\n",
    "print('Test error', compute_error(rf_reg.predict(X_test), y_test))"
   ]
  },
  {
   "cell_type": "markdown",
   "id": "f653c48c",
   "metadata": {},
   "source": [
    "The RF model has a test error of 7.96 minutes which is higher than Ridge regressior with test RMSE 7.81 minutes. The train error of RF is also high 7.98 minutes."
   ]
  },
  {
   "cell_type": "markdown",
   "id": "840739e6",
   "metadata": {},
   "source": [
    "### Feature importance"
   ]
  },
  {
   "cell_type": "code",
   "execution_count": 56,
   "id": "adaadee2",
   "metadata": {},
   "outputs": [
    {
     "data": {
      "text/html": [
       "<div>\n",
       "<style scoped>\n",
       "    .dataframe tbody tr th:only-of-type {\n",
       "        vertical-align: middle;\n",
       "    }\n",
       "\n",
       "    .dataframe tbody tr th {\n",
       "        vertical-align: top;\n",
       "    }\n",
       "\n",
       "    .dataframe thead th {\n",
       "        text-align: right;\n",
       "    }\n",
       "</style>\n",
       "<table border=\"1\" class=\"dataframe\">\n",
       "  <thead>\n",
       "    <tr style=\"text-align: right;\">\n",
       "      <th></th>\n",
       "      <th>importance</th>\n",
       "    </tr>\n",
       "  </thead>\n",
       "  <tbody>\n",
       "    <tr>\n",
       "      <th>order_value_gbp</th>\n",
       "      <td>0.176251</td>\n",
       "    </tr>\n",
       "    <tr>\n",
       "      <th>is_hour_12</th>\n",
       "      <td>0.079820</td>\n",
       "    </tr>\n",
       "    <tr>\n",
       "      <th>number_of_items</th>\n",
       "      <td>0.044572</td>\n",
       "    </tr>\n",
       "    <tr>\n",
       "      <th>is_hour_20</th>\n",
       "      <td>0.014073</td>\n",
       "    </tr>\n",
       "    <tr>\n",
       "      <th>is_hour_21</th>\n",
       "      <td>0.013428</td>\n",
       "    </tr>\n",
       "    <tr>\n",
       "      <th>...</th>\n",
       "      <td>...</td>\n",
       "    </tr>\n",
       "    <tr>\n",
       "      <th>is_restaurant_id_2771</th>\n",
       "      <td>0.000000</td>\n",
       "    </tr>\n",
       "    <tr>\n",
       "      <th>is_restaurant_id_2786</th>\n",
       "      <td>0.000000</td>\n",
       "    </tr>\n",
       "    <tr>\n",
       "      <th>is_restaurant_id_2787</th>\n",
       "      <td>0.000000</td>\n",
       "    </tr>\n",
       "    <tr>\n",
       "      <th>is_restaurant_id_2920</th>\n",
       "      <td>0.000000</td>\n",
       "    </tr>\n",
       "    <tr>\n",
       "      <th>is_restaurant_id_3622</th>\n",
       "      <td>0.000000</td>\n",
       "    </tr>\n",
       "  </tbody>\n",
       "</table>\n",
       "<p>1736 rows × 1 columns</p>\n",
       "</div>"
      ],
      "text/plain": [
       "                       importance\n",
       "order_value_gbp          0.176251\n",
       "is_hour_12               0.079820\n",
       "number_of_items          0.044572\n",
       "is_hour_20               0.014073\n",
       "is_hour_21               0.013428\n",
       "...                           ...\n",
       "is_restaurant_id_2771    0.000000\n",
       "is_restaurant_id_2786    0.000000\n",
       "is_restaurant_id_2787    0.000000\n",
       "is_restaurant_id_2920    0.000000\n",
       "is_restaurant_id_3622    0.000000\n",
       "\n",
       "[1736 rows x 1 columns]"
      ]
     },
     "execution_count": 56,
     "metadata": {},
     "output_type": "execute_result"
    }
   ],
   "source": [
    "feature_importances = pd.DataFrame(rf_reg.feature_importances_, index=rf_reg.feature_names_in_, columns=['importance'])\n",
    "feature_importances.sort_values('importance', ascending=False)"
   ]
  },
  {
   "cell_type": "code",
   "execution_count": 57,
   "id": "49033df6",
   "metadata": {
    "scrolled": false
   },
   "outputs": [
    {
     "data": {
      "text/plain": [
       "<AxesSubplot:>"
      ]
     },
     "execution_count": 57,
     "metadata": {},
     "output_type": "execute_result"
    },
    {
     "data": {
      "image/png": "[encoded data removed]",
      "text/plain": [
       "<Figure size 720x1440 with 1 Axes>"
      ]
     },
     "metadata": {
      "needs_background": "light"
     },
     "output_type": "display_data"
    }
   ],
   "source": [
    "fig, ax = plt.subplots(figsize=(10,20))\n",
    "feature_importances.sort_values('importance', ascending=True).iloc[-100:].plot.barh(ax=ax)"
   ]
  },
  {
   "cell_type": "code",
   "execution_count": 58,
   "id": "78816aa9",
   "metadata": {},
   "outputs": [
    {
     "data": {
      "text/plain": [
       "(1669,)"
      ]
     },
     "execution_count": 58,
     "metadata": {},
     "output_type": "execute_result"
    }
   ],
   "source": [
    "orders['restaurant_id'].value_counts().shape"
   ]
  },
  {
   "cell_type": "markdown",
   "id": "763937ca",
   "metadata": {},
   "source": [
    "The most important features for RF are `order_value_gbp`, `number_of_items` and hour and day of week features: more precisely the features that show whether the hour of the day is 12 (lunch time), or whether the hour of the day is 19, 20, 21 (dinner time). Most important day of week features are whether it is Friday, Saturday and Sunday. Whether the country is UK seems to be an important feature. Some type_of_food features also seem to be important (indian and dessert).\n",
    "\n",
    "\n",
    "There are features with 0 importance and all of them are `restaurant_id` features. The `restaurant_id` feature has 1669 categories, which might be too many categories for the RF model to make good use of it."
   ]
  },
  {
   "cell_type": "code",
   "execution_count": 59,
   "id": "4c7468c4",
   "metadata": {
    "scrolled": true
   },
   "outputs": [
    {
     "name": "stdout",
     "output_type": "stream",
     "text": [
      "[]\n"
     ]
    },
    {
     "data": {
      "text/html": [
       "<div>\n",
       "<style scoped>\n",
       "    .dataframe tbody tr th:only-of-type {\n",
       "        vertical-align: middle;\n",
       "    }\n",
       "\n",
       "    .dataframe tbody tr th {\n",
       "        vertical-align: top;\n",
       "    }\n",
       "\n",
       "    .dataframe thead th {\n",
       "        text-align: right;\n",
       "    }\n",
       "</style>\n",
       "<table border=\"1\" class=\"dataframe\">\n",
       "  <thead>\n",
       "    <tr style=\"text-align: right;\">\n",
       "      <th></th>\n",
       "      <th>importance</th>\n",
       "    </tr>\n",
       "  </thead>\n",
       "  <tbody>\n",
       "    <tr>\n",
       "      <th>is_restaurant_id_181</th>\n",
       "      <td>0.0</td>\n",
       "    </tr>\n",
       "    <tr>\n",
       "      <th>is_restaurant_id_358</th>\n",
       "      <td>0.0</td>\n",
       "    </tr>\n",
       "    <tr>\n",
       "      <th>is_restaurant_id_453</th>\n",
       "      <td>0.0</td>\n",
       "    </tr>\n",
       "    <tr>\n",
       "      <th>is_restaurant_id_497</th>\n",
       "      <td>0.0</td>\n",
       "    </tr>\n",
       "    <tr>\n",
       "      <th>is_restaurant_id_557</th>\n",
       "      <td>0.0</td>\n",
       "    </tr>\n",
       "    <tr>\n",
       "      <th>...</th>\n",
       "      <td>...</td>\n",
       "    </tr>\n",
       "    <tr>\n",
       "      <th>is_restaurant_id_3483</th>\n",
       "      <td>0.0</td>\n",
       "    </tr>\n",
       "    <tr>\n",
       "      <th>is_restaurant_id_3517</th>\n",
       "      <td>0.0</td>\n",
       "    </tr>\n",
       "    <tr>\n",
       "      <th>is_restaurant_id_3541</th>\n",
       "      <td>0.0</td>\n",
       "    </tr>\n",
       "    <tr>\n",
       "      <th>is_restaurant_id_3559</th>\n",
       "      <td>0.0</td>\n",
       "    </tr>\n",
       "    <tr>\n",
       "      <th>is_restaurant_id_3622</th>\n",
       "      <td>0.0</td>\n",
       "    </tr>\n",
       "  </tbody>\n",
       "</table>\n",
       "<p>89 rows × 1 columns</p>\n",
       "</div>"
      ],
      "text/plain": [
       "                       importance\n",
       "is_restaurant_id_181          0.0\n",
       "is_restaurant_id_358          0.0\n",
       "is_restaurant_id_453          0.0\n",
       "is_restaurant_id_497          0.0\n",
       "is_restaurant_id_557          0.0\n",
       "...                           ...\n",
       "is_restaurant_id_3483         0.0\n",
       "is_restaurant_id_3517         0.0\n",
       "is_restaurant_id_3541         0.0\n",
       "is_restaurant_id_3559         0.0\n",
       "is_restaurant_id_3622         0.0\n",
       "\n",
       "[89 rows x 1 columns]"
      ]
     },
     "execution_count": 59,
     "metadata": {},
     "output_type": "execute_result"
    }
   ],
   "source": [
    "# restaurant_id features with 0 importance\n",
    "print([f for f in feature_importances.query('importance == 0').index if 'is_restaurant_id' not in f])\n",
    "feature_importances.query('importance == 0')"
   ]
  },
  {
   "cell_type": "markdown",
   "id": "62f96123",
   "metadata": {},
   "source": [
    "# 5. Final model recommendation\n",
    "My recommendation is to go with the Linear Model with L2 regularisation model aplha=1. This model improves the error from 8.79 to 7.81 minutes, an incremental improvement of 11.1%. I recommend to put the model in production for testing to better understand the business impact. I suggest to randomly split the customers in 2 groups and use the baseline model with one group and the new model with the other. \n",
    "\n",
    "I expect the model to impact the customers and riders experience, so I suggest to track metrics which measure both: e.g. the acceptance rate of the riders - if it goes up in the group with the new model, the model is having a good impact; the nr of complaints from customers - if there is an increase in complaints in the group with the new model, the model is not doing well; the volume ordered by customers - if it goes up in the group with the new model, then the model is doing well."
   ]
  },
  {
   "cell_type": "markdown",
   "id": "e4f53f47",
   "metadata": {},
   "source": [
    "# 6. Next steps"
   ]
  },
  {
   "cell_type": "markdown",
   "id": "8ac794ed",
   "metadata": {},
   "source": [
    "If I had more time to work on this project, I would do some further exploration in the following directions:\n",
    "- I would investigate more thoroughly the types of food. In this notebook I created a new food category `other` where I put the types of food for which we had very little data. However, some types of food are very similar and could be aggregated in one category (for example burritos and mexican could possibly be in the same category)\n",
    "- I would investigate more the distribution of prep_time_seconds and the outliers to try and understand better the reason behind the extreme prep time values, how the dropping of outliers affects modelling and what would be a smarter way to detect outliers.\n",
    "- I would try different combinations of features in the Ridge Regression to find the optimal set of features and to better understand which features are more important\n",
    "- I would add new features that could potentially improve the model performance: for example how many orders does the restaurant have pending in an attempt to estimate how busy is the restaurant at a certain time, or using other average metrics per restaurant e.g. average nr of items per order for each restaurant etc. However, I would be careful when computing such features to make sure there is no data leakage.\n",
    "- In the RF model, many of the one hot encoded features for `restaurant_id` have 0 or very low importance. There are 1669 restaurant ids resulting in 1668 one hot encoded features, so as a next step I would look more into other ways we can better encode the restaurant id in the model e.g. using the average prep time of each restaurant in the train set as a proxy. \n"
   ]
  },
  {
   "cell_type": "markdown",
   "id": "5e723919",
   "metadata": {},
   "source": [
    "# 7. Business implications"
   ]
  },
  {
   "cell_type": "markdown",
   "id": "5ec3fd51",
   "metadata": {},
   "source": [
    "The preparation time prediction model and its peformance will have significant impact on the whole Deliveroo system and business. Having an inaccurate model will affect the business negatively in several different ways. It's very important that the model does not over-estimate nor under-estimate the preparation time. Underestimation of the prep time will result in riders wasting time by waiting at the restaurants for orders to be completed, time that could have been used by riders to pick up and deliver other orders. This might result in an increase of riders dissatisfaction. \n",
    "\n",
    "In case of prep time overestimation, the riders will not be at the restaurants in time to pick up the order but instead they will arrive late, leaving the prepared order waiting at the restaurant. This means it will take longer for the order to reach the customer starting from the moment the order was made and the customer will not receive very fresh/warm food. Customer satisfaction will go down affecting customer rentention and some customers might complain and even ask for refund if the service and the food they received was not satisactory. \n",
    "A good prep time prediction might also help to estimate how many riders will be busy and how many riders will be free at a certain moment and planning accordingly. \n",
    "\n",
    "A good prep time prediction model will overall improve customer and riders experience and the experience of all the parties involved as well as make the whole Deliveroo system more efficient. "
   ]
  }
 ],
 "metadata": {
  "kernelspec": {
   "display_name": "Python 3 (ipykernel)",
   "language": "python",
   "name": "python3"
  },
  "language_info": {
   "codemirror_mode": {
    "name": "ipython",
    "version": 3
   },
   "file_extension": ".py",
   "mimetype": "text/x-python",
   "name": "python",
   "nbconvert_exporter": "python",
   "pygments_lexer": "ipython3",
   "version": "3.9.7"
  }
 },
 "nbformat": 4,
 "nbformat_minor": 5
}
